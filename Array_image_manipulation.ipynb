{
 "cells": [
  {
   "cell_type": "markdown",
   "metadata": {
    "id": "_a2hajcA99-K",
    "tags": []
   },
   "source": [
    "\n",
    "\n",
    "# Introduction to Numpy & Scikit Image\n",
    "\n",
    "\n",
    "**Resources:**\n",
    "\n",
    "* [SciPy](https://scipy.org)\n",
    "* [Scipy Lectures](https://scipy-lectures.org)\n",
    "* [NumPy](https://numpy.org)"
   ]
  },
  {
   "cell_type": "markdown",
   "metadata": {
    "id": "rxFVsb07k-1M"
   },
   "source": [
    "# SciPy ecosystem\n",
    "[SciPy.org](https://scipy.org)\n"
   ]
  },
  {
   "cell_type": "markdown",
   "metadata": {
    "id": "21DziKTsxMHl"
   },
   "source": [
    "# NumPy"
   ]
  },
  {
   "cell_type": "code",
   "execution_count": 1,
   "metadata": {
    "ExecuteTime": {
     "end_time": "2023-04-19T14:26:01.590261Z",
     "start_time": "2023-04-19T14:26:01.585134Z"
    },
    "id": "LJnBBLmG132q"
   },
   "outputs": [],
   "source": [
    "# Within IPython notebook, add multiple print capabilities\n",
    "from IPython.core.interactiveshell import InteractiveShell\n",
    "InteractiveShell.ast_node_interactivity = \"all\""
   ]
  },
  {
   "cell_type": "markdown",
   "metadata": {
    "id": "omaIgYI0xdrt"
   },
   "source": [
    "## NumPy arrays\n",
    "\n",
    "An array can contain:\n",
    "* Values of an experiment/simulation at discrete time steps\n",
    "* A signal recorded by a measurement device, e.g. sound wave\n",
    "* The pixels of an image, grey-level or colour\n",
    "* 3-D data measured at different X-Y-Z positions, e.g. MRI scan\n",
    "* …"
   ]
  },
  {
   "cell_type": "code",
   "execution_count": 2,
   "metadata": {
    "ExecuteTime": {
     "end_time": "2023-04-19T14:26:13.201949Z",
     "start_time": "2023-04-19T14:26:13.116925Z"
    },
    "id": "Rxfd_QZkxYqh"
   },
   "outputs": [],
   "source": [
    "import numpy as np\n",
    "a = np.array([0, 1, 2, 3])"
   ]
  },
  {
   "cell_type": "code",
   "execution_count": 3,
   "metadata": {
    "ExecuteTime": {
     "end_time": "2023-04-19T14:26:14.800003Z",
     "start_time": "2023-04-19T14:26:14.792325Z"
    }
   },
   "outputs": [
    {
     "data": {
      "text/plain": [
       "(4,)"
      ]
     },
     "execution_count": 3,
     "metadata": {},
     "output_type": "execute_result"
    }
   ],
   "source": [
    "np.shape(a)"
   ]
  },
  {
   "cell_type": "markdown",
   "metadata": {
    "id": "mjM8bWObyyKJ"
   },
   "source": [
    "### NumPy is memory efficient container that provides fast numerical operations"
   ]
  },
  {
   "cell_type": "code",
   "execution_count": 4,
   "metadata": {
    "ExecuteTime": {
     "end_time": "2023-04-19T14:27:02.379215Z",
     "start_time": "2023-04-19T14:26:39.720962Z"
    },
    "colab": {
     "base_uri": "https://localhost:8080/"
    },
    "id": "-isSwwYPy-LY",
    "outputId": "4380b1d0-6657-4d59-8ab0-6d5f33526d16"
   },
   "outputs": [
    {
     "name": "stdout",
     "output_type": "stream",
     "text": [
      "188 µs ± 65.6 ns per loop (mean ± std. dev. of 7 runs, 10,000 loops each)\n",
      "911 ns ± 26.1 ns per loop (mean ± std. dev. of 7 runs, 1,000,000 loops each)\n"
     ]
    }
   ],
   "source": [
    "L = range(1000)\n",
    "%timeit [i**2 for i in L]\n",
    "\n",
    "a = np.arange(1000)\n",
    "%timeit a**2"
   ]
  },
  {
   "cell_type": "code",
   "execution_count": 5,
   "metadata": {
    "ExecuteTime": {
     "end_time": "2023-04-19T14:27:02.690760Z",
     "start_time": "2023-04-19T14:27:02.641581Z"
    }
   },
   "outputs": [
    {
     "data": {
      "text/plain": [
       "range(0, 1000)"
      ]
     },
     "execution_count": 5,
     "metadata": {},
     "output_type": "execute_result"
    },
    {
     "data": {
      "text/plain": [
       "array([  0,   1,   2,   3,   4,   5,   6,   7,   8,   9,  10,  11,  12,\n",
       "        13,  14,  15,  16,  17,  18,  19,  20,  21,  22,  23,  24,  25,\n",
       "        26,  27,  28,  29,  30,  31,  32,  33,  34,  35,  36,  37,  38,\n",
       "        39,  40,  41,  42,  43,  44,  45,  46,  47,  48,  49,  50,  51,\n",
       "        52,  53,  54,  55,  56,  57,  58,  59,  60,  61,  62,  63,  64,\n",
       "        65,  66,  67,  68,  69,  70,  71,  72,  73,  74,  75,  76,  77,\n",
       "        78,  79,  80,  81,  82,  83,  84,  85,  86,  87,  88,  89,  90,\n",
       "        91,  92,  93,  94,  95,  96,  97,  98,  99, 100, 101, 102, 103,\n",
       "       104, 105, 106, 107, 108, 109, 110, 111, 112, 113, 114, 115, 116,\n",
       "       117, 118, 119, 120, 121, 122, 123, 124, 125, 126, 127, 128, 129,\n",
       "       130, 131, 132, 133, 134, 135, 136, 137, 138, 139, 140, 141, 142,\n",
       "       143, 144, 145, 146, 147, 148, 149, 150, 151, 152, 153, 154, 155,\n",
       "       156, 157, 158, 159, 160, 161, 162, 163, 164, 165, 166, 167, 168,\n",
       "       169, 170, 171, 172, 173, 174, 175, 176, 177, 178, 179, 180, 181,\n",
       "       182, 183, 184, 185, 186, 187, 188, 189, 190, 191, 192, 193, 194,\n",
       "       195, 196, 197, 198, 199, 200, 201, 202, 203, 204, 205, 206, 207,\n",
       "       208, 209, 210, 211, 212, 213, 214, 215, 216, 217, 218, 219, 220,\n",
       "       221, 222, 223, 224, 225, 226, 227, 228, 229, 230, 231, 232, 233,\n",
       "       234, 235, 236, 237, 238, 239, 240, 241, 242, 243, 244, 245, 246,\n",
       "       247, 248, 249, 250, 251, 252, 253, 254, 255, 256, 257, 258, 259,\n",
       "       260, 261, 262, 263, 264, 265, 266, 267, 268, 269, 270, 271, 272,\n",
       "       273, 274, 275, 276, 277, 278, 279, 280, 281, 282, 283, 284, 285,\n",
       "       286, 287, 288, 289, 290, 291, 292, 293, 294, 295, 296, 297, 298,\n",
       "       299, 300, 301, 302, 303, 304, 305, 306, 307, 308, 309, 310, 311,\n",
       "       312, 313, 314, 315, 316, 317, 318, 319, 320, 321, 322, 323, 324,\n",
       "       325, 326, 327, 328, 329, 330, 331, 332, 333, 334, 335, 336, 337,\n",
       "       338, 339, 340, 341, 342, 343, 344, 345, 346, 347, 348, 349, 350,\n",
       "       351, 352, 353, 354, 355, 356, 357, 358, 359, 360, 361, 362, 363,\n",
       "       364, 365, 366, 367, 368, 369, 370, 371, 372, 373, 374, 375, 376,\n",
       "       377, 378, 379, 380, 381, 382, 383, 384, 385, 386, 387, 388, 389,\n",
       "       390, 391, 392, 393, 394, 395, 396, 397, 398, 399, 400, 401, 402,\n",
       "       403, 404, 405, 406, 407, 408, 409, 410, 411, 412, 413, 414, 415,\n",
       "       416, 417, 418, 419, 420, 421, 422, 423, 424, 425, 426, 427, 428,\n",
       "       429, 430, 431, 432, 433, 434, 435, 436, 437, 438, 439, 440, 441,\n",
       "       442, 443, 444, 445, 446, 447, 448, 449, 450, 451, 452, 453, 454,\n",
       "       455, 456, 457, 458, 459, 460, 461, 462, 463, 464, 465, 466, 467,\n",
       "       468, 469, 470, 471, 472, 473, 474, 475, 476, 477, 478, 479, 480,\n",
       "       481, 482, 483, 484, 485, 486, 487, 488, 489, 490, 491, 492, 493,\n",
       "       494, 495, 496, 497, 498, 499, 500, 501, 502, 503, 504, 505, 506,\n",
       "       507, 508, 509, 510, 511, 512, 513, 514, 515, 516, 517, 518, 519,\n",
       "       520, 521, 522, 523, 524, 525, 526, 527, 528, 529, 530, 531, 532,\n",
       "       533, 534, 535, 536, 537, 538, 539, 540, 541, 542, 543, 544, 545,\n",
       "       546, 547, 548, 549, 550, 551, 552, 553, 554, 555, 556, 557, 558,\n",
       "       559, 560, 561, 562, 563, 564, 565, 566, 567, 568, 569, 570, 571,\n",
       "       572, 573, 574, 575, 576, 577, 578, 579, 580, 581, 582, 583, 584,\n",
       "       585, 586, 587, 588, 589, 590, 591, 592, 593, 594, 595, 596, 597,\n",
       "       598, 599, 600, 601, 602, 603, 604, 605, 606, 607, 608, 609, 610,\n",
       "       611, 612, 613, 614, 615, 616, 617, 618, 619, 620, 621, 622, 623,\n",
       "       624, 625, 626, 627, 628, 629, 630, 631, 632, 633, 634, 635, 636,\n",
       "       637, 638, 639, 640, 641, 642, 643, 644, 645, 646, 647, 648, 649,\n",
       "       650, 651, 652, 653, 654, 655, 656, 657, 658, 659, 660, 661, 662,\n",
       "       663, 664, 665, 666, 667, 668, 669, 670, 671, 672, 673, 674, 675,\n",
       "       676, 677, 678, 679, 680, 681, 682, 683, 684, 685, 686, 687, 688,\n",
       "       689, 690, 691, 692, 693, 694, 695, 696, 697, 698, 699, 700, 701,\n",
       "       702, 703, 704, 705, 706, 707, 708, 709, 710, 711, 712, 713, 714,\n",
       "       715, 716, 717, 718, 719, 720, 721, 722, 723, 724, 725, 726, 727,\n",
       "       728, 729, 730, 731, 732, 733, 734, 735, 736, 737, 738, 739, 740,\n",
       "       741, 742, 743, 744, 745, 746, 747, 748, 749, 750, 751, 752, 753,\n",
       "       754, 755, 756, 757, 758, 759, 760, 761, 762, 763, 764, 765, 766,\n",
       "       767, 768, 769, 770, 771, 772, 773, 774, 775, 776, 777, 778, 779,\n",
       "       780, 781, 782, 783, 784, 785, 786, 787, 788, 789, 790, 791, 792,\n",
       "       793, 794, 795, 796, 797, 798, 799, 800, 801, 802, 803, 804, 805,\n",
       "       806, 807, 808, 809, 810, 811, 812, 813, 814, 815, 816, 817, 818,\n",
       "       819, 820, 821, 822, 823, 824, 825, 826, 827, 828, 829, 830, 831,\n",
       "       832, 833, 834, 835, 836, 837, 838, 839, 840, 841, 842, 843, 844,\n",
       "       845, 846, 847, 848, 849, 850, 851, 852, 853, 854, 855, 856, 857,\n",
       "       858, 859, 860, 861, 862, 863, 864, 865, 866, 867, 868, 869, 870,\n",
       "       871, 872, 873, 874, 875, 876, 877, 878, 879, 880, 881, 882, 883,\n",
       "       884, 885, 886, 887, 888, 889, 890, 891, 892, 893, 894, 895, 896,\n",
       "       897, 898, 899, 900, 901, 902, 903, 904, 905, 906, 907, 908, 909,\n",
       "       910, 911, 912, 913, 914, 915, 916, 917, 918, 919, 920, 921, 922,\n",
       "       923, 924, 925, 926, 927, 928, 929, 930, 931, 932, 933, 934, 935,\n",
       "       936, 937, 938, 939, 940, 941, 942, 943, 944, 945, 946, 947, 948,\n",
       "       949, 950, 951, 952, 953, 954, 955, 956, 957, 958, 959, 960, 961,\n",
       "       962, 963, 964, 965, 966, 967, 968, 969, 970, 971, 972, 973, 974,\n",
       "       975, 976, 977, 978, 979, 980, 981, 982, 983, 984, 985, 986, 987,\n",
       "       988, 989, 990, 991, 992, 993, 994, 995, 996, 997, 998, 999])"
      ]
     },
     "execution_count": 5,
     "metadata": {},
     "output_type": "execute_result"
    }
   ],
   "source": [
    "L\n",
    "a"
   ]
  },
  {
   "cell_type": "markdown",
   "metadata": {
    "id": "6z2ic525zjbM"
   },
   "source": [
    "### Reference documentation\n",
    "On the web: http://docs.scipy.org/"
   ]
  },
  {
   "cell_type": "code",
   "execution_count": 6,
   "metadata": {
    "ExecuteTime": {
     "end_time": "2023-04-19T14:27:29.351478Z",
     "start_time": "2023-04-19T14:27:29.309418Z"
    },
    "collapsed": true,
    "id": "nPEYL-zEzrOh",
    "jupyter": {
     "outputs_hidden": true
    },
    "tags": []
   },
   "outputs": [],
   "source": [
    "# Interactive help\n",
    "np.array?"
   ]
  },
  {
   "cell_type": "code",
   "execution_count": 7,
   "metadata": {
    "ExecuteTime": {
     "end_time": "2023-04-19T14:27:39.157319Z",
     "start_time": "2023-04-19T14:27:38.088210Z"
    },
    "collapsed": true,
    "id": "LGQzsRkTz6Jt",
    "jupyter": {
     "outputs_hidden": true
    },
    "tags": []
   },
   "outputs": [
    {
     "name": "stdout",
     "output_type": "stream",
     "text": [
      "Search results for 'create array'\n",
      "---------------------------------\n",
      "numpy.memmap\n",
      "    Create a memory-map to an array stored in a *binary* file on disk.\n",
      "numpy.char.array\n",
      "    Create a `chararray`.\n",
      "numpy.diagflat\n",
      "    Create a two-dimensional array with the flattened input as a diagonal.\n",
      "numpy.fromiter\n",
      "    Create a new 1-dimensional array from an iterable object.\n",
      "numpy.partition\n",
      "    Return a partitioned copy of an array.\n",
      "numpy.from_dlpack\n",
      "    Create a NumPy array from an object implementing the ``__dlpack__``\n",
      "numpy.rec.fromarrays\n",
      "    Create a record array from a (flat) list of arrays\n",
      "numpy.ctypeslib.as_array\n",
      "    Create a numpy array from a ctypes array or POINTER.\n",
      "numpy.ma.diagflat\n",
      "    Create a two-dimensional array with the flattened input as a diagonal.\n",
      "numpy.ma.make_mask\n",
      "    Create a boolean mask from an array.\n",
      "numpy.rec.fromfile\n",
      "    Create an array from binary file data\n",
      "numpy.rec.fromstring\n",
      "    Create a record array from binary data\n",
      "numpy.lib.Arrayterator\n",
      "    Buffered iterator for big arrays.\n",
      "numpy.rec.fromrecords\n",
      "    Create a recarray from a list of records in text form.\n",
      "numpy.ctypeslib.as_ctypes\n",
      "    Create and return a ctypes object from a numpy array.  Actually\n",
      "numpy.ma.mrecords.fromarrays\n",
      "    Creates a mrecarray from a (flat) list of masked arrays.\n",
      "numpy.ma.mvoid.__new__\n",
      "    Create a new masked array from scratch.\n",
      "numpy.ma.MaskedArray.__new__\n",
      "    Create a new masked array from scratch.\n",
      "numpy.ma.mrecords.fromtextfile\n",
      "    Creates a mrecarray from data stored in the file `filename`.\n",
      "numpy.array\n",
      "    array(object, dtype=None, *, copy=True, order='K', subok=False, ndmin=0,\n",
      "numpy.asarray\n",
      "    Convert the input to an array.\n",
      "numpy.ndarray\n",
      "    ndarray(shape, dtype=float, buffer=None, offset=0,\n",
      "numpy.recarray\n",
      "    Construct an ndarray that allows field access using attributes.\n",
      "numpy.chararray\n",
      "    chararray(shape, itemsize=1, unicode=False, buffer=None, offset=0,\n",
      "numpy.exp\n",
      "    Calculate the exponential of all elements in the input array.\n",
      "numpy.pad\n",
      "    Pad an array.\n",
      "numpy.asanyarray\n",
      "    Convert the input to an ndarray, but pass ndarray subclasses through.\n",
      "numpy.cbrt\n",
      "    Return the cube-root of an array, element-wise.\n",
      "numpy.copy\n",
      "    Return an array copy of the given object.\n",
      "numpy.diag\n",
      "    Extract a diagonal or construct a diagonal array.\n",
      "numpy.exp2\n",
      "    Calculate `2**p` for all `p` in the input array.\n",
      "numpy.fmax\n",
      "    Element-wise maximum of array elements.\n",
      "numpy.fmin\n",
      "    Element-wise minimum of array elements.\n",
      "numpy.load\n",
      "    Load arrays or pickled objects from ``.npy``, ``.npz`` or pickled files.\n",
      "numpy.modf\n",
      "    Return the fractional and integral parts of an array, element-wise.\n",
      "numpy.rint\n",
      "    Round elements of the array to the nearest integer.\n",
      "numpy.sort\n",
      "    Return a sorted copy of an array.\n",
      "numpy.sqrt\n",
      "    Return the non-negative square-root of an array, element-wise.\n",
      "numpy.void\n",
      "    Create a new structured or unstructured void scalar.\n",
      "numpy.array_equiv\n",
      "    Returns True if input arrays are shape consistent and all elements equal.\n",
      "numpy.dtype\n",
      "    Create a data type object.\n",
      "numpy.expm1\n",
      "    Calculate ``exp(x) - 1`` for all elements in the array.\n",
      "numpy.isnan\n",
      "    Test element-wise for NaN and return result as a boolean array.\n",
      "numpy.isnat\n",
      "    Test element-wise for NaT (not a time) and return result as a boolean array.\n",
      "numpy.log10\n",
      "    Return the base 10 logarithm of the input array, element-wise.\n",
      "numpy.log1p\n",
      "    Return the natural logarithm of one plus the input array, element-wise.\n",
      "numpy.power\n",
      "    First array elements raised to powers from second array, element-wise.\n",
      "numpy.ufunc\n",
      "    Functions that operate element by element on whole arrays.\n",
      "numpy.choose\n",
      "    Construct an array from an index array and a list of arrays to choose from.\n",
      "numpy.nditer\n",
      "    Efficient multi-dimensional iterator object to iterate over arrays.\n",
      "numpy.maximum\n",
      "    Element-wise maximum of array elements.\n",
      "numpy.minimum\n",
      "    Element-wise minimum of array elements.\n",
      "numpy.meshgrid\n",
      "    Return coordinate matrices from coordinate vectors.\n",
      "numpy.swapaxes\n",
      "    Interchange two axes of an array.\n",
      "numpy.full_like\n",
      "    Return a full array with the same shape and type as a given array.\n",
      "numpy.ones_like\n",
      "    Return an array of ones with the same shape and type as a given array.\n",
      "numpy.rec.array\n",
      "    Construct a record array from a wide-variety of objects.\n",
      "numpy.bitwise_or\n",
      "    Compute the bit-wise OR of two arrays element-wise.\n",
      "numpy.datetime64\n",
      "    If created from a 64-bit integer, it represents an offset from\n",
      "numpy.empty_like\n",
      "    Return a new array with the same shape and type as a given array.\n",
      "numpy.frombuffer\n",
      "    Interpret a buffer as a 1-dimensional array.\n",
      "numpy.zeros_like\n",
      "    Return an array of zeros with the same shape and type as a given array.\n",
      "numpy.asarray_chkfinite\n",
      "    Convert the input to an array, checking for NaNs or Infs.\n",
      "numpy.bitwise_and\n",
      "    Compute the bit-wise AND of two arrays element-wise.\n",
      "numpy.bitwise_xor\n",
      "    Compute the bit-wise XOR of two arrays element-wise.\n",
      "numpy.float_power\n",
      "    First array elements raised to powers from second array, element-wise.\n",
      "numpy.diag_indices\n",
      "    Return the indices to access the main diagonal of an array.\n",
      "numpy.ma.exp\n",
      "    Calculate the exponential of all elements in the input array.\n",
      "numpy.nested_iters\n",
      "    Create nditers for use in nested loops\n",
      "numpy.ma.mrecords.MaskedRecords.__new__\n",
      "    Create a new masked array from scratch.\n",
      "numpy.ma.sqrt\n",
      "    Return the non-negative square-root of an array, element-wise.\n",
      "numpy.ma.log10\n",
      "    Return the base 10 logarithm of the input array, element-wise.\n",
      "numpy.chararray.tolist\n",
      "    a.tolist()\n",
      "numpy.put_along_axis\n",
      "    Put values into the destination array by matching 1d index and data slices.\n",
      "numpy.ma.choose\n",
      "    Use an index array to construct a new array from a list of choices.\n",
      "numpy.ma.maximum\n",
      "    Element-wise maximum of array elements.\n",
      "numpy.ma.minimum\n",
      "    Element-wise minimum of array elements.\n",
      "numpy.savez_compressed\n",
      "    Save several arrays into a single file in compressed ``.npz`` format.\n",
      "numpy.matlib.rand\n",
      "    Return a matrix of random values with given shape.\n",
      "numpy.datetime_as_string\n",
      "    Convert an array of datetimes into an array of strings.\n",
      "numpy.ma.ones_like\n",
      "    Return an array of ones with the same shape and type as a given array.\n",
      "numpy.ma.bitwise_or\n",
      "    Compute the bit-wise OR of two arrays element-wise.\n",
      "numpy.ma.frombuffer\n",
      "    Interpret a buffer as a 1-dimensional array.\n",
      "numpy.ma.zeros_like\n",
      "    Return an array of zeros with the same shape and type as a given array.\n",
      "numpy.ma.bitwise_and\n",
      "    Compute the bit-wise AND of two arrays element-wise.\n",
      "numpy.ma.bitwise_xor\n",
      "    Compute the bit-wise XOR of two arrays element-wise.\n",
      "numpy.ma.make_mask_none\n",
      "    Return a boolean mask of the given shape, filled with False.\n",
      "numpy.ma.tests.test_subclassing.MSubArray.__new__\n",
      "    Create a new masked array from scratch.\n",
      "numpy.ma.tests.test_subclassing.SubMaskedArray.__new__\n",
      "    Create a new masked array from scratch.\n",
      "numpy.ma.mrecords.fromrecords\n",
      "    Creates a MaskedRecords from a list of records.\n",
      "numpy.abs\n",
      "    Calculate the absolute value element-wise.\n",
      "numpy.add\n",
      "    Add arguments element-wise.\n",
      "numpy.cos\n",
      "    Cosine element-wise.\n",
      "numpy.log\n",
      "    Natural logarithm, element-wise.\n",
      "numpy.lib.recfunctions.require_fields\n",
      "    Casts a structured array to a new dtype using assignment by field-name.\n",
      "numpy.mod\n",
      "    Returns the element-wise remainder of division.\n",
      "numpy.sin\n",
      "    Trigonometric sine, element-wise.\n",
      "numpy.tan\n",
      "    Compute tangent element-wise.\n",
      "numpy.ceil\n",
      "    Return the ceiling of the input, element-wise.\n",
      "numpy.conj\n",
      "    Return the complex conjugate, element-wise.\n",
      "numpy.cosh\n",
      "    Hyperbolic cosine, element-wise.\n",
      "numpy.fabs\n",
      "    Compute the absolute values element-wise.\n",
      "numpy.fmod\n",
      "    Returns the element-wise remainder of division.\n",
      "numpy.less\n",
      "    Return the truth value of (x1 < x2) element-wise.\n",
      "numpy.log2\n",
      "    Base-2 logarithm of `x`.\n",
      "numpy.sign\n",
      "    Returns an element-wise indication of the sign of a number.\n",
      "numpy.sinh\n",
      "    Hyperbolic sine, element-wise.\n",
      "numpy.tanh\n",
      "    Compute hyperbolic tangent element-wise.\n",
      "numpy.equal\n",
      "    Return (x1 == x2) element-wise.\n",
      "numpy.floor\n",
      "    Return the floor of the input, element-wise.\n",
      "numpy.frexp\n",
      "    Decompose the elements of x into mantissa and twos exponent.\n",
      "numpy.hypot\n",
      "    Given the \"legs\" of a right triangle, return its hypotenuse.\n",
      "numpy.isinf\n",
      "    Test element-wise for positive or negative infinity.\n",
      "numpy.ldexp\n",
      "    Returns x1 * 2**x2, element-wise.\n",
      "numpy.trunc\n",
      "    Return the truncated value of the input, element-wise.\n",
      "numpy.arccos\n",
      "    Trigonometric inverse cosine, element-wise.\n",
      "numpy.arcsin\n",
      "    Inverse sine, element-wise.\n",
      "numpy.arctan\n",
      "    Trigonometric inverse tangent, element-wise.\n",
      "numpy.around\n",
      "    Evenly round to the given number of decimals.\n",
      "numpy.divide\n",
      "    Divide arguments element-wise.\n",
      "numpy.divmod\n",
      "    Return element-wise quotient and remainder simultaneously.\n",
      "numpy.source\n",
      "    Print or write to a file the source code for a NumPy object.\n",
      "numpy.square\n",
      "    Return the element-wise square of the input.\n",
      "numpy.arccosh\n",
      "    Inverse hyperbolic cosine, element-wise.\n",
      "numpy.arcsinh\n",
      "    Inverse hyperbolic sine element-wise.\n",
      "numpy.arctan2\n",
      "    Element-wise arc tangent of ``x1/x2`` choosing the quadrant correctly.\n",
      "numpy.arctanh\n",
      "    Inverse hyperbolic tangent element-wise.\n",
      "numpy.deg2rad\n",
      "    Convert angles from degrees to radians.\n",
      "numpy.degrees\n",
      "    Convert angles from radians to degrees.\n",
      "numpy.greater\n",
      "    Return the truth value of (x1 > x2) element-wise.\n",
      "numpy.rad2deg\n",
      "    Convert angles from radians to degrees.\n",
      "numpy.radians\n",
      "    Convert angles from degrees to radians.\n",
      "numpy.signbit\n",
      "    Returns element-wise True where signbit is set (less than zero).\n",
      "numpy.spacing\n",
      "    Return the distance between x and the nearest adjacent number.\n",
      "numpy.copysign\n",
      "    Change the sign of x1 to that of x2, element-wise.\n",
      "numpy.diagonal\n",
      "    Return specified diagonals.\n",
      "numpy.isfinite\n",
      "    Test element-wise for finiteness (not infinity and not Not a Number).\n",
      "numpy.multiply\n",
      "    Multiply arguments element-wise.\n",
      "numpy.negative\n",
      "    Numerical negative, element-wise.\n",
      "numpy.subtract\n",
      "    Subtract arguments, element-wise.\n",
      "numpy.heaviside\n",
      "    Compute the Heaviside step function.\n",
      "numpy.logaddexp\n",
      "    Logarithm of the sum of exponentiations of the inputs.\n",
      "numpy.nextafter\n",
      "    Return the next floating-point value after x1 towards x2, element-wise.\n",
      "numpy.not_equal\n",
      "    Return (x1 != x2) element-wise.\n",
      "numpy.left_shift\n",
      "    Shift the bits of an integer to the left.\n",
      "numpy.less_equal\n",
      "    Return the truth value of (x1 <= x2) element-wise.\n",
      "numpy.logaddexp2\n",
      "    Logarithm of the sum of exponentiations of the inputs in base-2.\n",
      "numpy.logical_or\n",
      "    Compute the truth value of x1 OR x2 element-wise.\n",
      "numpy.nan_to_num\n",
      "    Replace NaN with zero and infinity with large finite numbers (default\n",
      "numpy.reciprocal\n",
      "    Return the reciprocal of the argument, element-wise.\n",
      "numpy.bitwise_not\n",
      "    Compute bit-wise inversion, or bit-wise NOT, element-wise.\n",
      "numpy.einsum_path\n",
      "    Evaluates the lowest cost contraction order for an einsum expression by\n",
      "numpy.histogram2d\n",
      "    Compute the bi-dimensional histogram of two data samples.\n",
      "numpy.logical_and\n",
      "    Compute the truth value of x1 AND x2 element-wise.\n",
      "numpy.logical_not\n",
      "    Compute the truth value of NOT x element-wise.\n",
      "numpy.logical_xor\n",
      "    Compute the truth value of x1 XOR x2, element-wise.\n",
      "numpy.right_shift\n",
      "    Shift the bits of an integer to the right.\n",
      "numpy.ma.abs\n",
      "    Calculate the absolute value element-wise.\n",
      "numpy.ma.add\n",
      "    Add arguments element-wise.\n",
      "numpy.ma.cos\n",
      "    Cosine element-wise.\n",
      "numpy.floor_divide\n",
      "    Return the largest integer smaller or equal to the division of the inputs.\n",
      "numpy.ma.log\n",
      "    Natural logarithm, element-wise.\n",
      "numpy.ma.mod\n",
      "    Returns the element-wise remainder of division.\n",
      "numpy.ma.sin\n",
      "    Trigonometric sine, element-wise.\n",
      "numpy.ma.tan\n",
      "    Compute tangent element-wise.\n",
      "numpy.ma.ceil\n",
      "    Return the ceiling of the input, element-wise.\n",
      "numpy.fft.ifft\n",
      "    Compute the one-dimensional inverse discrete Fourier Transform.\n",
      "numpy.ma.cosh\n",
      "    Hyperbolic cosine, element-wise.\n",
      "numpy.ma.fabs\n",
      "    Compute the absolute values element-wise.\n",
      "numpy.ma.fmod\n",
      "    Returns the element-wise remainder of division.\n",
      "numpy.greater_equal\n",
      "    Return the truth value of (x1 >= x2) element-wise.\n",
      "numpy.ma.less\n",
      "    Return the truth value of (x1 < x2) element-wise.\n",
      "numpy.ma.log2\n",
      "    Base-2 logarithm of `x`.\n",
      "numpy.ma.sinh\n",
      "    Hyperbolic sine, element-wise.\n",
      "numpy.ma.tanh\n",
      "    Compute hyperbolic tangent element-wise.\n",
      "numpy.ma.tests.test_subclassing.SubArray\n",
      "    ndarray(shape, dtype=float, buffer=None, offset=0,\n",
      "numpy.busdaycalendar\n",
      "    A business day calendar object that efficiently stores information\n",
      "numpy.fft.ifftn\n",
      "    Compute the N-dimensional inverse discrete Fourier Transform.\n",
      "numpy.ma.equal\n",
      "    Return (x1 == x2) element-wise.\n",
      "numpy.ma.floor\n",
      "    Return the floor of the input, element-wise.\n",
      "numpy.ma.hypot\n",
      "    Given the \"legs\" of a right triangle, return its hypotenuse.\n",
      "numpy.ma.arccos\n",
      "    Trigonometric inverse cosine, element-wise.\n",
      "numpy.ma.arcsin\n",
      "    Inverse sine, element-wise.\n",
      "numpy.ma.arctan\n",
      "    Trigonometric inverse tangent, element-wise.\n",
      "numpy.ma.divide\n",
      "    Divide arguments element-wise.\n",
      "numpy.lib.recfunctions.unstructured_to_structured\n",
      "    Converts an n-D unstructured array into an (n-1)-D structured array.\n",
      "numpy.ma.arccosh\n",
      "    Inverse hyperbolic cosine, element-wise.\n",
      "numpy.ma.arcsinh\n",
      "    Inverse hyperbolic sine element-wise.\n",
      "numpy.ma.arctan2\n",
      "    Element-wise arc tangent of ``x1/x2`` choosing the quadrant correctly.\n",
      "numpy.ma.arctanh\n",
      "    Inverse hyperbolic tangent element-wise.\n",
      "numpy.ma.greater\n",
      "    Return the truth value of (x1 > x2) element-wise.\n",
      "numpy.ma.multiply\n",
      "    Multiply arguments element-wise.\n",
      "numpy.ma.negative\n",
      "    Numerical negative, element-wise.\n",
      "numpy.ma.subtract\n",
      "    Subtract arguments, element-wise.\n",
      "numpy.ma.conjugate\n",
      "    Return the complex conjugate, element-wise.\n",
      "numpy.ma.not_equal\n",
      "    Return (x1 != x2) element-wise.\n",
      "numpy.ma.remainder\n",
      "    Returns the element-wise remainder of division.\n",
      "numpy.ma.empty_like\n",
      "    empty_like(prototype, dtype=None, order='K', subok=True, shape=None)\n",
      "numpy.ma.less_equal\n",
      "    Return the truth value of (x1 <= x2) element-wise.\n",
      "numpy.ma.logical_or\n",
      "    Compute the truth value of x1 OR x2 element-wise.\n",
      "numpy.ma.logical_and\n",
      "    Compute the truth value of x1 AND x2 element-wise.\n",
      "numpy.ma.logical_not\n",
      "    Compute the truth value of NOT x element-wise.\n",
      "numpy.ma.logical_xor\n",
      "    Compute the truth value of x1 XOR x2, element-wise.\n",
      "numpy.ma.true_divide\n",
      "    Divide arguments element-wise.\n",
      "numpy.ma.floor_divide\n",
      "    Return the largest integer smaller or equal to the division of the inputs.\n",
      "numpy.ma.greater_equal\n",
      "    Return the truth value of (x1 >= x2) element-wise.\n",
      "numpy.ma.tests.test_subclassing.ComplicatedSubArray\n",
      "    ndarray(shape, dtype=float, buffer=None, offset=0,\n",
      "numpy.random.RandomState.rand\n",
      "    Random values in a given shape.\n",
      "numpy.random.Generator.permuted\n",
      "    Randomly permute `x` along axis `axis`."
     ]
    }
   ],
   "source": [
    "# Looking for some stuff\n",
    "np.lookfor('create array') "
   ]
  },
  {
   "cell_type": "code",
   "execution_count": 8,
   "metadata": {
    "ExecuteTime": {
     "end_time": "2023-04-19T14:27:56.441726Z",
     "start_time": "2023-04-19T14:27:56.397997Z"
    },
    "id": "KoaEdrtu0IZL"
   },
   "outputs": [],
   "source": [
    "# Looking for something when some parts of the word are known\n",
    "np.con*?"
   ]
  },
  {
   "cell_type": "markdown",
   "metadata": {
    "id": "7df4nf3N01j4"
   },
   "source": [
    "### Manual creation of arrays"
   ]
  },
  {
   "cell_type": "markdown",
   "metadata": {
    "id": "g38RFzmI1Pq0"
   },
   "source": [
    "#### 1D"
   ]
  },
  {
   "cell_type": "code",
   "execution_count": 9,
   "metadata": {
    "ExecuteTime": {
     "end_time": "2023-04-19T14:28:12.487266Z",
     "start_time": "2023-04-19T14:28:12.440686Z"
    },
    "colab": {
     "base_uri": "https://localhost:8080/"
    },
    "id": "UAKQlq2t1AUB",
    "outputId": "e03770aa-c08a-4239-8398-f2837a462f56"
   },
   "outputs": [
    {
     "name": "stdout",
     "output_type": "stream",
     "text": [
      "Array  [0 1 2 3]\n",
      "\n",
      "Number of dimension  1\n",
      "\n",
      "Shape of the array  (4,)\n",
      "\n",
      "Lenght of array  4\n"
     ]
    }
   ],
   "source": [
    "# Create 1D array\n",
    "a = np.array([0, 1, 2, 3])\n",
    "print(\"Array \", a)\n",
    "\n",
    "# Print dimensions of array\n",
    "print(\"\\nNumber of dimension \", a.ndim)\n",
    "\n",
    "# Print shape of array\n",
    "print(\"\\nShape of the array \", a.shape)\n",
    "\n",
    "# Print the lenght of the array\n",
    "print(\"\\nLenght of array \", len(a))\n"
   ]
  },
  {
   "cell_type": "markdown",
   "metadata": {
    "id": "58MxBexc2igs"
   },
   "source": [
    "#### 2D, 3D..."
   ]
  },
  {
   "cell_type": "code",
   "execution_count": 10,
   "metadata": {
    "ExecuteTime": {
     "end_time": "2023-04-19T14:28:24.063632Z",
     "start_time": "2023-04-19T14:28:24.041996Z"
    },
    "colab": {
     "base_uri": "https://localhost:8080/"
    },
    "id": "srqagUuu2lu1",
    "outputId": "b68bde63-2a69-4fa1-89f4-559f3dda404f"
   },
   "outputs": [
    {
     "name": "stdout",
     "output_type": "stream",
     "text": [
      "2x3array \n",
      " [[0 1 2]\n",
      " [3 4 5]]\n",
      "\n",
      "2x3 array dimensions  2\n",
      "\n",
      "2x3 array shape  (2, 3)\n",
      "\n",
      "Lenght of 2x3 array  2\n",
      "\n",
      "Lenght (first dimension) of 2x3 array  3\n",
      "\n",
      "Lenght (second dimension) of 2x3 array  3\n"
     ]
    },
    {
     "data": {
      "text/plain": [
       "array([0, 1, 2])"
      ]
     },
     "execution_count": 10,
     "metadata": {},
     "output_type": "execute_result"
    },
    {
     "data": {
      "text/plain": [
       "array([3, 4, 5])"
      ]
     },
     "execution_count": 10,
     "metadata": {},
     "output_type": "execute_result"
    }
   ],
   "source": [
    "# Create 2x3 array\n",
    "b = np.array([[0, 1, 2], [3, 4, 5]]) \n",
    "print(\"2x3array \\n\", b)\n",
    "\n",
    "# Print array dimensions\n",
    "print(\"\\n2x3 array dimensions \", b.ndim)\n",
    "\n",
    "#Print array shape\n",
    "print(\"\\n2x3 array shape \", b.shape)\n",
    "\n",
    "# Print length of 2x3 array (the first dimension)\n",
    "print(\"\\nLenght of 2x3 array \", len(b))\n",
    "print(\"\\nLenght (first dimension) of 2x3 array \", len(b[0]))\n",
    "print(\"\\nLenght (second dimension) of 2x3 array \", len(b[1]))\n",
    "\n",
    "b[0]\n",
    "b[1]"
   ]
  },
  {
   "cell_type": "code",
   "execution_count": 11,
   "metadata": {
    "ExecuteTime": {
     "end_time": "2023-04-19T14:28:26.501249Z",
     "start_time": "2023-04-19T14:28:26.495783Z"
    },
    "colab": {
     "base_uri": "https://localhost:8080/"
    },
    "id": "vF1xb1FW2wWS",
    "outputId": "95ebbbf6-4063-4220-862f-83d326705e90"
   },
   "outputs": [
    {
     "name": "stdout",
     "output_type": "stream",
     "text": [
      "3x2x3 array \n",
      " [[[ 0  1  2]\n",
      "  [ 3  4  5]]\n",
      "\n",
      " [[ 6  7  8]\n",
      "  [ 9 10 11]]\n",
      "\n",
      " [[12 13 14]\n",
      "  [15 16 17]]]\n",
      "\n",
      "3x2x3 array dimensions  3\n",
      "\n",
      "3x2x3 array shape  (3, 2, 3)\n",
      "\n",
      "First dimension of 3x2x3 array  2\n",
      "\n",
      "Second dimension of 3x2x3 array  2\n",
      "\n",
      "Third dimension of 3x2x3 array  2\n",
      "\n",
      "First dimension \n",
      " [[0 1 2]\n",
      " [3 4 5]]\n",
      "\n",
      "First dimension \n",
      " [[ 6  7  8]\n",
      " [ 9 10 11]]\n",
      "\n",
      "First dimension \n",
      " [[12 13 14]\n",
      " [15 16 17]]\n"
     ]
    }
   ],
   "source": [
    "# Create 3x2x3 array\n",
    "b = np.array([[[0, 1, 2], [3, 4, 5]], \n",
    "              [[6, 7, 8], [9, 10, 11]], \n",
    "              [[12, 13, 14], [15, 16, 17]]]) \n",
    "print(\"3x2x3 array \\n\", b)\n",
    "\n",
    "# Print array dimensions\n",
    "print(\"\\n3x2x3 array dimensions \", b.ndim)\n",
    "\n",
    "#Print array shape\n",
    "print(\"\\n3x2x3 array shape \", b.shape)\n",
    "\n",
    "# Print length of 3x2x3 array (the first dimension)\n",
    "print(\"\\nFirst dimension of 3x2x3 array \", len(b[0]))\n",
    "print(\"\\nSecond dimension of 3x2x3 array \", len(b[1]))\n",
    "print(\"\\nThird dimension of 3x2x3 array \", len(b[2]))\n",
    "\n",
    "print(\"\\nFirst dimension \\n\", b[0])\n",
    "print(\"\\nFirst dimension \\n\", b[1])\n",
    "print(\"\\nFirst dimension \\n\", b[2])"
   ]
  },
  {
   "cell_type": "markdown",
   "metadata": {
    "id": "x0Svpviz-voT"
   },
   "source": [
    "### Creating arrays"
   ]
  },
  {
   "cell_type": "markdown",
   "metadata": {
    "id": "dcb4RLIw-zQc"
   },
   "source": [
    "#### np.arange: enter data evenly spaced\n",
    "Return evenly spaced values within a given interval.\n",
    "\n",
    "Values are generated within the half-open interval ``[start, stop)``\n",
    "(in other words, the interval including `start` but excluding `stop`).\n",
    "For integer arguments the function is equivalent to the Python built-in\n",
    "`range` function, but returns an ndarray rather than a list.\n",
    "\n",
    "When using a non-integer step, such as 0.1, the results will often not\n",
    "be consistent.  It is better to use `numpy.linspace` for these cases."
   ]
  },
  {
   "cell_type": "code",
   "execution_count": 13,
   "metadata": {
    "ExecuteTime": {
     "end_time": "2023-04-19T14:29:05.237207Z",
     "start_time": "2023-04-19T14:29:05.213536Z"
    },
    "colab": {
     "base_uri": "https://localhost:8080/"
    },
    "id": "7jD1yQVz_HKf",
    "outputId": "07df97b7-b8f8-4e04-9d7e-ead81d2bba42"
   },
   "outputs": [
    {
     "data": {
      "text/plain": [
       "array([0, 1, 2, 3, 4, 5, 6, 7, 8, 9])"
      ]
     },
     "execution_count": 13,
     "metadata": {},
     "output_type": "execute_result"
    },
    {
     "name": "stdout",
     "output_type": "stream",
     "text": [
      "\n"
     ]
    },
    {
     "data": {
      "text/plain": [
       "array([0, 2, 4, 6, 8])"
      ]
     },
     "execution_count": 13,
     "metadata": {},
     "output_type": "execute_result"
    }
   ],
   "source": [
    "a = np.arange(10) # 0 .. n-1 \n",
    "a\n",
    "\n",
    "print(\"\")\n",
    "\n",
    "b = np.arange(0, 10, 2) # start, end (exclusive), step\n",
    "b"
   ]
  },
  {
   "cell_type": "markdown",
   "metadata": {
    "id": "k8jX8tND_hE4"
   },
   "source": [
    "#### np.linspace: enter data by points\n",
    "Return evenly spaced numbers over a specified interval.\n",
    "\n",
    "Returns num evenly spaced samples, calculated over the interval `[start, stop]`.\n",
    "\n",
    "The endpoint of the interval can optionally be excluded."
   ]
  },
  {
   "cell_type": "code",
   "execution_count": 14,
   "metadata": {
    "ExecuteTime": {
     "end_time": "2023-04-19T14:29:09.403741Z",
     "start_time": "2023-04-19T14:29:09.359607Z"
    },
    "colab": {
     "base_uri": "https://localhost:8080/"
    },
    "id": "K0JaDGQ__tZ3",
    "outputId": "ba4486c9-201f-45af-b26a-6ad0c570cc6d"
   },
   "outputs": [
    {
     "data": {
      "text/plain": [
       "array([0. , 0.2, 0.4, 0.6, 0.8, 1. ])"
      ]
     },
     "execution_count": 14,
     "metadata": {},
     "output_type": "execute_result"
    },
    {
     "name": "stdout",
     "output_type": "stream",
     "text": [
      "\n"
     ]
    },
    {
     "data": {
      "text/plain": [
       "array([0. , 0.2, 0.4, 0.6, 0.8])"
      ]
     },
     "execution_count": 14,
     "metadata": {},
     "output_type": "execute_result"
    },
    {
     "name": "stdout",
     "output_type": "stream",
     "text": [
      "\n"
     ]
    },
    {
     "data": {
      "text/plain": [
       "array([0.  , 0.25, 0.5 , 0.75, 1.  ])"
      ]
     },
     "execution_count": 14,
     "metadata": {},
     "output_type": "execute_result"
    }
   ],
   "source": [
    "c = np.linspace(0, 1, 6)   # start, end, num-points\n",
    "c\n",
    "\n",
    "print(\"\")\n",
    "\n",
    "d = np.linspace(0, 1, 5, endpoint=False)\n",
    "d\n",
    "\n",
    "print(\"\")\n",
    "\n",
    "e = np.linspace(0, 1, 5, endpoint=True)\n",
    "e"
   ]
  },
  {
   "cell_type": "markdown",
   "metadata": {
    "id": "Q5iV5pGDBScG"
   },
   "source": [
    "### Other common array creation functions"
   ]
  },
  {
   "cell_type": "markdown",
   "metadata": {
    "id": "De3i-v6gBezO"
   },
   "source": [
    "#### np.ones"
   ]
  },
  {
   "cell_type": "code",
   "execution_count": 15,
   "metadata": {
    "ExecuteTime": {
     "end_time": "2023-04-19T14:29:28.655142Z",
     "start_time": "2023-04-19T14:29:28.600156Z"
    },
    "colab": {
     "base_uri": "https://localhost:8080/"
    },
    "id": "K-Vq7b2hnr2Z",
    "outputId": "c68967e4-bed9-441b-88c6-d9a7dd058706"
   },
   "outputs": [
    {
     "name": "stdout",
     "output_type": "stream",
     "text": [
      "2D array filled with ones\n"
     ]
    },
    {
     "data": {
      "text/plain": [
       "array([[1., 1., 1.],\n",
       "       [1., 1., 1.],\n",
       "       [1., 1., 1.]])"
      ]
     },
     "execution_count": 15,
     "metadata": {},
     "output_type": "execute_result"
    },
    {
     "name": "stdout",
     "output_type": "stream",
     "text": [
      "\n",
      "\n",
      "3D array filled with ones\n"
     ]
    },
    {
     "data": {
      "text/plain": [
       "array([[[1., 1., 1.],\n",
       "        [1., 1., 1.],\n",
       "        [1., 1., 1.]],\n",
       "\n",
       "       [[1., 1., 1.],\n",
       "        [1., 1., 1.],\n",
       "        [1., 1., 1.]],\n",
       "\n",
       "       [[1., 1., 1.],\n",
       "        [1., 1., 1.],\n",
       "        [1., 1., 1.]]])"
      ]
     },
     "execution_count": 15,
     "metadata": {},
     "output_type": "execute_result"
    }
   ],
   "source": [
    "# Creates an array filled with ones, passing a tuple of the size\n",
    "print(\"2D array filled with ones\")\n",
    "a = np.ones((3, 3)) \n",
    "a\n",
    "\n",
    "print(\"\\n\\n3D array filled with ones\")\n",
    "\n",
    "b = np.ones((3, 3, 3))\n",
    "b"
   ]
  },
  {
   "cell_type": "markdown",
   "metadata": {
    "id": "TgXQ9Bd1Bph_"
   },
   "source": [
    "#### np.zeros"
   ]
  },
  {
   "cell_type": "code",
   "execution_count": 16,
   "metadata": {
    "ExecuteTime": {
     "end_time": "2023-04-19T14:29:59.345123Z",
     "start_time": "2023-04-19T14:29:59.294467Z"
    },
    "colab": {
     "base_uri": "https://localhost:8080/"
    },
    "id": "XVxxMga46T-B",
    "outputId": "e0479bb2-4260-49f9-c8a1-3e51105b5438"
   },
   "outputs": [
    {
     "data": {
      "text/plain": [
       "array([[0., 0.],\n",
       "       [0., 0.]])"
      ]
     },
     "execution_count": 16,
     "metadata": {},
     "output_type": "execute_result"
    }
   ],
   "source": [
    "# Fill up an array with zeros\n",
    "b = np.zeros((2, 2))\n",
    "b"
   ]
  },
  {
   "cell_type": "markdown",
   "metadata": {
    "id": "XaZrdgwTBwZ5"
   },
   "source": [
    "#### np.eye"
   ]
  },
  {
   "cell_type": "code",
   "execution_count": 17,
   "metadata": {
    "ExecuteTime": {
     "end_time": "2023-04-19T14:30:08.811904Z",
     "start_time": "2023-04-19T14:30:08.759998Z"
    },
    "colab": {
     "base_uri": "https://localhost:8080/"
    },
    "id": "oznCuhy68n4b",
    "outputId": "c839ab53-aa31-4bdd-c959-78f758c0eb33"
   },
   "outputs": [
    {
     "data": {
      "text/plain": [
       "array([[1., 0., 0., 0., 0.],\n",
       "       [0., 1., 0., 0., 0.],\n",
       "       [0., 0., 1., 0., 0.],\n",
       "       [0., 0., 0., 1., 0.],\n",
       "       [0., 0., 0., 0., 1.]])"
      ]
     },
     "execution_count": 17,
     "metadata": {},
     "output_type": "execute_result"
    }
   ],
   "source": [
    "# Returns a 2-D array with ones on the diagonal and zeros elsewhere\n",
    "c = np.eye(5)\n",
    "c"
   ]
  },
  {
   "cell_type": "markdown",
   "metadata": {
    "id": "j7kPI0FpB0MU"
   },
   "source": [
    "#### np.diag\n",
    "Extract a diagonal or construct a diagonal array."
   ]
  },
  {
   "cell_type": "code",
   "execution_count": 18,
   "metadata": {
    "ExecuteTime": {
     "end_time": "2023-04-19T14:30:15.316037Z",
     "start_time": "2023-04-19T14:30:15.268850Z"
    },
    "colab": {
     "base_uri": "https://localhost:8080/"
    },
    "id": "bmSwAPWM8s2o",
    "outputId": "4f672ccc-82cb-4277-c9ee-49419884c444"
   },
   "outputs": [
    {
     "data": {
      "text/plain": [
       "array([[1, 0, 0, 0, 0],\n",
       "       [0, 1, 0, 0, 0],\n",
       "       [0, 0, 1, 0, 0],\n",
       "       [0, 0, 0, 1, 0],\n",
       "       [0, 0, 0, 0, 1]])"
      ]
     },
     "execution_count": 18,
     "metadata": {},
     "output_type": "execute_result"
    }
   ],
   "source": [
    "d = np.diag(np.array([1, 1, 1, 1, 1]))\n",
    "d"
   ]
  },
  {
   "cell_type": "markdown",
   "metadata": {
    "id": "KC_Ls8KqB3Ud"
   },
   "source": [
    "#### np.random"
   ]
  },
  {
   "cell_type": "code",
   "execution_count": 19,
   "metadata": {
    "ExecuteTime": {
     "end_time": "2023-04-19T14:30:38.114890Z",
     "start_time": "2023-04-19T14:30:38.065408Z"
    },
    "colab": {
     "base_uri": "https://localhost:8080/"
    },
    "id": "S7jfAQeM8uKJ",
    "outputId": "fb3d7636-0626-471e-cbfb-771e03d0c437"
   },
   "outputs": [
    {
     "data": {
      "text/plain": [
       "array([0.7245321 , 0.08853205, 0.90377895, 0.11924332])"
      ]
     },
     "execution_count": 19,
     "metadata": {},
     "output_type": "execute_result"
    },
    {
     "name": "stdout",
     "output_type": "stream",
     "text": [
      "\n",
      " [ 1.38372724 -2.29460648  0.93541456 -0.29012217]\n"
     ]
    }
   ],
   "source": [
    "# Random set between 0-1\n",
    "a = np.random.rand(4)       \n",
    "a  \n",
    "\n",
    "# Random with Gaussian distribution\n",
    "b = np.random.randn(4)    \n",
    "print(\"\\n\", b)   "
   ]
  },
  {
   "cell_type": "markdown",
   "metadata": {
    "id": "CLL5f7Ov7QO9",
    "jp-MarkdownHeadingCollapsed": true,
    "tags": []
   },
   "source": [
    "## Understanding arrays: k3d\n",
    "\n",
    "We will install the **k3d** library, which allows to visualize arrays in 3D.\n"
   ]
  },
  {
   "cell_type": "code",
   "execution_count": 20,
   "metadata": {
    "ExecuteTime": {
     "end_time": "2023-04-19T14:31:37.146294Z",
     "start_time": "2023-04-19T14:31:28.931059Z"
    },
    "id": "fld2LbKO7Yds"
   },
   "outputs": [
    {
     "name": "stdout",
     "output_type": "stream",
     "text": [
      "Collecting k3d\r\n",
      "  Downloading k3d-2.15.2-py3-none-any.whl (23.0 MB)\r\n",
      "\u001b[2K     \u001b[90m━━━━━━━━━━━━━━━━━━━━━━━━━━━━━━━━━━━━━━━━\u001b[0m \u001b[32m23.0/23.0 MB\u001b[0m \u001b[31m8.2 MB/s\u001b[0m eta \u001b[36m0:00:00\u001b[0m00:01\u001b[0m00:01\u001b[0m\r\n",
      "\u001b[?25hRequirement already satisfied: traitlets in /Users/erictak/miniconda3/lib/python3.10/site-packages (from k3d) (5.7.1)\r\n",
      "Requirement already satisfied: numpy in /Users/erictak/miniconda3/lib/python3.10/site-packages (from k3d) (1.24.2)\r\n",
      "Collecting msgpack\r\n",
      "  Downloading msgpack-1.0.5-cp310-cp310-macosx_10_9_x86_64.whl (74 kB)\r\n",
      "\u001b[2K     \u001b[90m━━━━━━━━━━━━━━━━━━━━━━━━━━━━━━━━━━━━━━━━\u001b[0m \u001b[32m74.7/74.7 kB\u001b[0m \u001b[31m4.8 MB/s\u001b[0m eta \u001b[36m0:00:00\u001b[0m\r\n",
      "\u001b[?25hCollecting traittypes\r\n",
      "  Using cached traittypes-0.2.1-py2.py3-none-any.whl (8.6 kB)\r\n",
      "Requirement already satisfied: ipywidgets<9.0.0,>=7.0.0 in /Users/erictak/miniconda3/lib/python3.10/site-packages (from k3d) (8.0.4)\r\n",
      "Requirement already satisfied: widgetsnbextension~=4.0 in /Users/erictak/miniconda3/lib/python3.10/site-packages (from ipywidgets<9.0.0,>=7.0.0->k3d) (4.0.5)\r\n",
      "Requirement already satisfied: ipykernel>=4.5.1 in /Users/erictak/miniconda3/lib/python3.10/site-packages (from ipywidgets<9.0.0,>=7.0.0->k3d) (6.19.2)\r\n",
      "Requirement already satisfied: ipython>=6.1.0 in /Users/erictak/miniconda3/lib/python3.10/site-packages (from ipywidgets<9.0.0,>=7.0.0->k3d) (8.12.0)\r\n",
      "Requirement already satisfied: jupyterlab-widgets~=3.0 in /Users/erictak/miniconda3/lib/python3.10/site-packages (from ipywidgets<9.0.0,>=7.0.0->k3d) (3.0.5)\r\n",
      "Requirement already satisfied: appnope in /Users/erictak/miniconda3/lib/python3.10/site-packages (from ipykernel>=4.5.1->ipywidgets<9.0.0,>=7.0.0->k3d) (0.1.2)\r\n",
      "Requirement already satisfied: psutil in /Users/erictak/miniconda3/lib/python3.10/site-packages (from ipykernel>=4.5.1->ipywidgets<9.0.0,>=7.0.0->k3d) (5.9.4)\r\n",
      "Requirement already satisfied: debugpy>=1.0 in /Users/erictak/miniconda3/lib/python3.10/site-packages (from ipykernel>=4.5.1->ipywidgets<9.0.0,>=7.0.0->k3d) (1.5.1)\r\n",
      "Requirement already satisfied: comm>=0.1.1 in /Users/erictak/miniconda3/lib/python3.10/site-packages (from ipykernel>=4.5.1->ipywidgets<9.0.0,>=7.0.0->k3d) (0.1.2)\r\n",
      "Requirement already satisfied: matplotlib-inline>=0.1 in /Users/erictak/miniconda3/lib/python3.10/site-packages (from ipykernel>=4.5.1->ipywidgets<9.0.0,>=7.0.0->k3d) (0.1.6)\r\n",
      "Requirement already satisfied: nest-asyncio in /Users/erictak/miniconda3/lib/python3.10/site-packages (from ipykernel>=4.5.1->ipywidgets<9.0.0,>=7.0.0->k3d) (1.5.6)\r\n",
      "Requirement already satisfied: packaging in /Users/erictak/miniconda3/lib/python3.10/site-packages (from ipykernel>=4.5.1->ipywidgets<9.0.0,>=7.0.0->k3d) (23.0)\r\n",
      "Requirement already satisfied: jupyter-client>=6.1.12 in /Users/erictak/miniconda3/lib/python3.10/site-packages (from ipykernel>=4.5.1->ipywidgets<9.0.0,>=7.0.0->k3d) (8.1.0)\r\n",
      "Requirement already satisfied: tornado>=6.1 in /Users/erictak/miniconda3/lib/python3.10/site-packages (from ipykernel>=4.5.1->ipywidgets<9.0.0,>=7.0.0->k3d) (6.2)\r\n",
      "Requirement already satisfied: pyzmq>=17 in /Users/erictak/miniconda3/lib/python3.10/site-packages (from ipykernel>=4.5.1->ipywidgets<9.0.0,>=7.0.0->k3d) (23.2.0)\r\n",
      "Requirement already satisfied: jedi>=0.16 in /Users/erictak/miniconda3/lib/python3.10/site-packages (from ipython>=6.1.0->ipywidgets<9.0.0,>=7.0.0->k3d) (0.18.1)\r\n",
      "Requirement already satisfied: stack-data in /Users/erictak/miniconda3/lib/python3.10/site-packages (from ipython>=6.1.0->ipywidgets<9.0.0,>=7.0.0->k3d) (0.2.0)\r\n",
      "Requirement already satisfied: prompt-toolkit!=3.0.37,<3.1.0,>=3.0.30 in /Users/erictak/miniconda3/lib/python3.10/site-packages (from ipython>=6.1.0->ipywidgets<9.0.0,>=7.0.0->k3d) (3.0.36)\r\n",
      "Requirement already satisfied: pexpect>4.3 in /Users/erictak/miniconda3/lib/python3.10/site-packages (from ipython>=6.1.0->ipywidgets<9.0.0,>=7.0.0->k3d) (4.8.0)\r\n",
      "Requirement already satisfied: decorator in /Users/erictak/miniconda3/lib/python3.10/site-packages (from ipython>=6.1.0->ipywidgets<9.0.0,>=7.0.0->k3d) (5.1.1)\r\n",
      "Requirement already satisfied: pickleshare in /Users/erictak/miniconda3/lib/python3.10/site-packages (from ipython>=6.1.0->ipywidgets<9.0.0,>=7.0.0->k3d) (0.7.5)\r\n",
      "Requirement already satisfied: pygments>=2.4.0 in /Users/erictak/miniconda3/lib/python3.10/site-packages (from ipython>=6.1.0->ipywidgets<9.0.0,>=7.0.0->k3d) (2.14.0)\r\n",
      "Requirement already satisfied: backcall in /Users/erictak/miniconda3/lib/python3.10/site-packages (from ipython>=6.1.0->ipywidgets<9.0.0,>=7.0.0->k3d) (0.2.0)\r\n",
      "Requirement already satisfied: parso<0.9.0,>=0.8.0 in /Users/erictak/miniconda3/lib/python3.10/site-packages (from jedi>=0.16->ipython>=6.1.0->ipywidgets<9.0.0,>=7.0.0->k3d) (0.8.3)\r\n",
      "Requirement already satisfied: python-dateutil>=2.8.2 in /Users/erictak/miniconda3/lib/python3.10/site-packages (from jupyter-client>=6.1.12->ipykernel>=4.5.1->ipywidgets<9.0.0,>=7.0.0->k3d) (2.8.2)\r\n",
      "Requirement already satisfied: jupyter-core!=5.0.*,>=4.12 in /Users/erictak/miniconda3/lib/python3.10/site-packages (from jupyter-client>=6.1.12->ipykernel>=4.5.1->ipywidgets<9.0.0,>=7.0.0->k3d) (5.3.0)\r\n",
      "Requirement already satisfied: ptyprocess>=0.5 in /Users/erictak/miniconda3/lib/python3.10/site-packages (from pexpect>4.3->ipython>=6.1.0->ipywidgets<9.0.0,>=7.0.0->k3d) (0.7.0)\r\n",
      "Requirement already satisfied: wcwidth in /Users/erictak/miniconda3/lib/python3.10/site-packages (from prompt-toolkit!=3.0.37,<3.1.0,>=3.0.30->ipython>=6.1.0->ipywidgets<9.0.0,>=7.0.0->k3d) (0.2.5)\r\n",
      "Requirement already satisfied: pure-eval in /Users/erictak/miniconda3/lib/python3.10/site-packages (from stack-data->ipython>=6.1.0->ipywidgets<9.0.0,>=7.0.0->k3d) (0.2.2)\r\n",
      "Requirement already satisfied: executing in /Users/erictak/miniconda3/lib/python3.10/site-packages (from stack-data->ipython>=6.1.0->ipywidgets<9.0.0,>=7.0.0->k3d) (0.8.3)\r\n",
      "Requirement already satisfied: asttokens in /Users/erictak/miniconda3/lib/python3.10/site-packages (from stack-data->ipython>=6.1.0->ipywidgets<9.0.0,>=7.0.0->k3d) (2.0.5)\r\n",
      "Requirement already satisfied: platformdirs>=2.5 in /Users/erictak/miniconda3/lib/python3.10/site-packages (from jupyter-core!=5.0.*,>=4.12->jupyter-client>=6.1.12->ipykernel>=4.5.1->ipywidgets<9.0.0,>=7.0.0->k3d) (2.5.2)\r\n",
      "Requirement already satisfied: six>=1.5 in /Users/erictak/miniconda3/lib/python3.10/site-packages (from python-dateutil>=2.8.2->jupyter-client>=6.1.12->ipykernel>=4.5.1->ipywidgets<9.0.0,>=7.0.0->k3d) (1.16.0)\r\n",
      "Installing collected packages: msgpack, traittypes, k3d\r\n",
      "Successfully installed k3d-2.15.2 msgpack-1.0.5 traittypes-0.2.1\r\n"
     ]
    }
   ],
   "source": [
    "# Install in your environment (venv or conda)\n",
    "!pip install k3d\n",
    "#!conda install -c conda-forge k3d"
   ]
  },
  {
   "cell_type": "code",
   "execution_count": 24,
   "metadata": {
    "ExecuteTime": {
     "end_time": "2023-04-19T14:32:50.334987Z",
     "start_time": "2023-04-19T14:32:50.318304Z"
    },
    "id": "EatK6Y1E8MJ-"
   },
   "outputs": [
    {
     "data": {
      "application/vnd.jupyter.widget-view+json": {
       "model_id": "e7be9466bfa243f58160f4898bcdb4cd",
       "version_major": 2,
       "version_minor": 0
      },
      "text/plain": [
       "Output()"
      ]
     },
     "metadata": {},
     "output_type": "display_data"
    }
   ],
   "source": [
    "%matplotlib inline\n",
    "import numpy as np\n",
    "import k3d\n",
    "\n",
    "plot = k3d.plot()\n",
    "\n",
    "b = np.ones((1, 1, 1))\n",
    "\n",
    "line = k3d.voxels(b, width=1, scaling = [1, 1, 1])\n",
    "\n",
    "# iadd method, iterates over voxel\n",
    "plot += line\n",
    "plot.display()"
   ]
  },
  {
   "cell_type": "code",
   "execution_count": 27,
   "metadata": {},
   "outputs": [
    {
     "ename": "AttributeError",
     "evalue": "'Line' object has no attribute 'display'",
     "output_type": "error",
     "traceback": [
      "\u001b[0;31m---------------------------------------------------------------------------\u001b[0m",
      "\u001b[0;31mAttributeError\u001b[0m                            Traceback (most recent call last)",
      "Cell \u001b[0;32mIn[27], line 6\u001b[0m\n\u001b[1;32m      1\u001b[0m \u001b[38;5;28;01mimport\u001b[39;00m \u001b[38;5;21;01mk3d\u001b[39;00m\n\u001b[1;32m      3\u001b[0m plot \u001b[38;5;241m=\u001b[39m k3d\u001b[38;5;241m.\u001b[39mline([[\u001b[38;5;241m0\u001b[39m, \u001b[38;5;241m0\u001b[39m, \u001b[38;5;241m0\u001b[39m],\n\u001b[1;32m      4\u001b[0m                  [\u001b[38;5;241m1\u001b[39m, \u001b[38;5;241m1\u001b[39m, \u001b[38;5;241m1\u001b[39m]])\n\u001b[0;32m----> 6\u001b[0m \u001b[43mplot\u001b[49m\u001b[38;5;241;43m.\u001b[39;49m\u001b[43mdisplay\u001b[49m()\n",
      "\u001b[0;31mAttributeError\u001b[0m: 'Line' object has no attribute 'display'"
     ]
    }
   ],
   "source": [
    "import k3d\n",
    "\n",
    "plot = k3d.line([[0, 0, 0],\n",
    "                 [1, 1, 1]])\n",
    "\n",
    "plot.display()"
   ]
  },
  {
   "cell_type": "code",
   "execution_count": 29,
   "metadata": {
    "ExecuteTime": {
     "end_time": "2023-04-19T14:35:03.269920Z",
     "start_time": "2023-04-19T14:35:03.215387Z"
    },
    "id": "OaSxkxs7JvqZ"
   },
   "outputs": [
    {
     "data": {
      "application/vnd.jupyter.widget-view+json": {
       "model_id": "f71bd61cd0404d0c9e4c6bc18cf52b90",
       "version_major": 2,
       "version_minor": 0
      },
      "text/plain": [
       "Output()"
      ]
     },
     "metadata": {},
     "output_type": "display_data"
    }
   ],
   "source": [
    "%matplotlib inline\n",
    "import numpy as np\n",
    "import k3d\n",
    "\n",
    "plot = k3d.plot()\n",
    "\n",
    "b = np.array([[[18, 1, 2], [3, 4, 5]], \n",
    "              [[6, 7, 8], [9, 10, 11]], \n",
    "              [[12, 13, 14], [15, 16, 17]]])\n",
    "\n",
    "voxel = k3d.voxels(b, width=1, scaling = [1, 1, 1])\n",
    "\n",
    "# iadd method, iterates over voxel\n",
    "plot += voxel\n",
    "plot.display()"
   ]
  },
  {
   "cell_type": "markdown",
   "metadata": {
    "id": "FnySBjCGKN9d"
   },
   "source": [
    "### In class exercise: 3D representations\n",
    "\n",
    "Try to add and represent another dimension to make a 3x3x3 array using k3d"
   ]
  },
  {
   "cell_type": "code",
   "execution_count": 31,
   "metadata": {
    "id": "S0CrFZx-KsqU"
   },
   "outputs": [
    {
     "data": {
      "application/vnd.jupyter.widget-view+json": {
       "model_id": "dbb0ec03323a47f099f2f611e84cb0e0",
       "version_major": 2,
       "version_minor": 0
      },
      "text/plain": [
       "Output()"
      ]
     },
     "metadata": {},
     "output_type": "display_data"
    }
   ],
   "source": [
    "%matplotlib inline\n",
    "import numpy as np\n",
    "import k3d\n",
    "\n",
    "plot = k3d.plot()\n",
    "\n",
    "b = np.array([[[18, 1, 2], [3, 4, 5], [3, 4, 5]], \n",
    "              [[6, 7, 8], [9, 10, 11], [3, 4, 5]], \n",
    "              [[12, 13, 14], [15, 16, 17], [3, 4, 5]]])\n",
    "\n",
    "voxel = k3d.voxels(b, width=1, scaling = [1, 1, 1])\n",
    "\n",
    "# iadd method, iterates over voxel\n",
    "plot += voxel\n",
    "plot.display()"
   ]
  },
  {
   "cell_type": "code",
   "execution_count": 32,
   "metadata": {},
   "outputs": [
    {
     "data": {
      "text/plain": [
       "(3, 3, 3)"
      ]
     },
     "execution_count": 32,
     "metadata": {},
     "output_type": "execute_result"
    }
   ],
   "source": [
    "b.shape"
   ]
  },
  {
   "cell_type": "markdown",
   "metadata": {
    "id": "hH9MRPGWOkjR"
   },
   "source": [
    "## NumPy data types\n",
    "\n",
    "NumPy has five main type of datatypes. But always the default data for any function (np.zeros, etc.) is floating point:\n",
    "\n",
    "* Integer\n",
    "* Float\n",
    "* Boolean\n",
    "* Complex\n",
    "* String\n"
   ]
  },
  {
   "cell_type": "code",
   "execution_count": null,
   "metadata": {
    "colab": {
     "base_uri": "https://localhost:8080/"
    },
    "id": "m4Af9UXsxecQ",
    "outputId": "6aeb6aa0-281a-4a68-bf17-7fe8fe559fa0"
   },
   "outputs": [],
   "source": [
    "# Integer\n",
    "a = np.array([1, 2, 3])\n",
    "a.dtype"
   ]
  },
  {
   "cell_type": "code",
   "execution_count": null,
   "metadata": {
    "colab": {
     "base_uri": "https://localhost:8080/"
    },
    "id": "tXVGSpdKxeaF",
    "outputId": "9e4ae236-e3d8-4434-b4b0-43128ded921b"
   },
   "outputs": [],
   "source": [
    "# Float\n",
    "b = np.array([1., 2., 3.])\n",
    "b.dtype"
   ]
  },
  {
   "cell_type": "code",
   "execution_count": null,
   "metadata": {
    "colab": {
     "base_uri": "https://localhost:8080/"
    },
    "id": "_QT6MuKyxeW-",
    "outputId": "57e92e61-0d2c-4478-d47d-371425b210d9"
   },
   "outputs": [],
   "source": [
    "# Changing data type\n",
    "c = np.array([1, 2, 3], dtype=float)\n",
    "c.dtype"
   ]
  },
  {
   "cell_type": "code",
   "execution_count": null,
   "metadata": {
    "colab": {
     "base_uri": "https://localhost:8080/"
    },
    "id": "2ig4A8kqxyx9",
    "outputId": "ca7fe5ae-1dc9-4d47-c11d-c384e4dcd154"
   },
   "outputs": [],
   "source": [
    "# Complex\n",
    "d = np.array([1+2j, 3+4j, 5+6*1j])\n",
    "d.dtype"
   ]
  },
  {
   "cell_type": "code",
   "execution_count": null,
   "metadata": {
    "colab": {
     "base_uri": "https://localhost:8080/"
    },
    "id": "NXSN6ImxyCKo",
    "outputId": "4a24e0f4-65f2-46e4-a80d-330bc352ea0f"
   },
   "outputs": [],
   "source": [
    "# Bool\n",
    "e = np.array([True, False, False, True])\n",
    "e.dtype"
   ]
  },
  {
   "cell_type": "code",
   "execution_count": null,
   "metadata": {
    "colab": {
     "base_uri": "https://localhost:8080/"
    },
    "id": "ileivbA4yEDN",
    "outputId": "17dbf4dd-7e7f-4be5-8174-5a2d50f63913"
   },
   "outputs": [],
   "source": [
    "# Strings (containing max the letters of the longest word)\n",
    "f = np.array(['Bonjoursdfsdfsdfds', 'Hello', 'Hallo'])\n",
    "f.dtype      \n"
   ]
  },
  {
   "cell_type": "markdown",
   "metadata": {
    "id": "uhJ6kdvfykOb"
   },
   "source": [
    "## Basic array visualization with Matplotlib\n",
    "\n"
   ]
  },
  {
   "cell_type": "code",
   "execution_count": null,
   "metadata": {
    "id": "ZvE8uEHPz5PU"
   },
   "outputs": [],
   "source": [
    "%matplotlib inline  "
   ]
  },
  {
   "cell_type": "code",
   "execution_count": null,
   "metadata": {
    "id": "ClvxhBisz5MN"
   },
   "outputs": [],
   "source": [
    "import matplotlib.pyplot as plt"
   ]
  },
  {
   "cell_type": "markdown",
   "metadata": {
    "id": "wYn9wtZs3wPI"
   },
   "source": [
    "### 1D array plotting"
   ]
  },
  {
   "cell_type": "code",
   "execution_count": null,
   "metadata": {
    "colab": {
     "base_uri": "https://localhost:8080/",
     "height": 282
    },
    "id": "o6LPNZCTyt6v",
    "outputId": "9f9e0d7e-3d53-453f-fde7-748e614c3ab0"
   },
   "outputs": [],
   "source": [
    "# Create a linear array from 0 to 3, with 20 steps\n",
    "x = np.linspace(0, 3, 20)\n",
    "\n",
    "# Create a linear array from 0 to 9, with 20 steps\n",
    "y = np.linspace(0, 9, 20)\n",
    "\n",
    "# Plot the line x, y\n",
    "plt.plot(x,y)       \n",
    "\n",
    "# Plot the dots x, y\n",
    "plt.plot(x,y, 'o')    "
   ]
  },
  {
   "cell_type": "code",
   "execution_count": null,
   "metadata": {},
   "outputs": [],
   "source": [
    "x"
   ]
  },
  {
   "cell_type": "code",
   "execution_count": null,
   "metadata": {},
   "outputs": [],
   "source": [
    "y"
   ]
  },
  {
   "cell_type": "markdown",
   "metadata": {
    "id": "rBO0S7-Y4SyL"
   },
   "source": [
    "### 2D array plotting\n",
    "Due to their structure, 2D arrays needs to be plotted as images. There is no need to panic. Let's go step by step."
   ]
  },
  {
   "cell_type": "code",
   "execution_count": null,
   "metadata": {},
   "outputs": [],
   "source": [
    "# Let's create a Gaussian image of 30x30\n",
    "image = np.random.randn(30, 30)"
   ]
  },
  {
   "cell_type": "code",
   "execution_count": null,
   "metadata": {
    "collapsed": true,
    "jupyter": {
     "outputs_hidden": true
    },
    "tags": []
   },
   "outputs": [],
   "source": [
    "image"
   ]
  },
  {
   "cell_type": "code",
   "execution_count": null,
   "metadata": {
    "colab": {
     "base_uri": "https://localhost:8080/",
     "height": 283
    },
    "id": "56tKC5vG4cxa",
    "outputId": "9539d94a-9cd6-48ab-869b-842c02b8aaa4"
   },
   "outputs": [],
   "source": [
    "# Let's create a Gaussian image of 30x30\n",
    "image = np.random.randn(30, 30)\n",
    "\n",
    "# Let's plot the image with imshow, and select a colormap\n",
    "plt.imshow(image, cmap=plt.cm.gray)    \n",
    "\n",
    "# Let's add a colorbar as an index\n",
    "plt.colorbar()  "
   ]
  },
  {
   "cell_type": "code",
   "execution_count": null,
   "metadata": {},
   "outputs": [],
   "source": []
  },
  {
   "cell_type": "markdown",
   "metadata": {
    "id": "cG2JtGYy7IbF"
   },
   "source": [
    "#### Where can I find more color maps?\n",
    "\n",
    "You can find a complete source of colormaps [here](https://matplotlib.org/3.1.1/gallery/color/colormap_reference.html)"
   ]
  },
  {
   "cell_type": "markdown",
   "metadata": {
    "id": "znj0f0e570Nh"
   },
   "source": [
    "### In class exercise: change the colormap\n",
    "\n",
    "Change the colormap in the image to be visualized with one of the available matplotlib colormaps."
   ]
  },
  {
   "cell_type": "code",
   "execution_count": null,
   "metadata": {
    "id": "UXpCQZf0yuLA"
   },
   "outputs": [],
   "source": [
    "# Let's create a Gaussian image of 30x30\n",
    "image = np.random.randn(30, 30)\n",
    "\n",
    "# Let's plot the image with imshow, and select a colormap\n",
    "plt.imshow(image, cmap=plt.cm.viridis)    \n",
    "\n",
    "# Let's add a colorbar as an index\n",
    "plt.colorbar() "
   ]
  },
  {
   "cell_type": "markdown",
   "metadata": {
    "id": "UJmYaAuy_m0S"
   },
   "source": [
    "## NumPy indexing\n",
    "\n",
    "Another recap from the previous sessions. Remember that indices always in NumPy begin at O.\n",
    "\n",
    "![alt text](https://scipy-lectures.org/_images/numpy_indexing.png)"
   ]
  },
  {
   "cell_type": "markdown",
   "metadata": {
    "id": "vn1Xi7DoGjAi"
   },
   "source": [
    "### Access items of array"
   ]
  },
  {
   "cell_type": "code",
   "execution_count": null,
   "metadata": {
    "colab": {
     "base_uri": "https://localhost:8080/",
     "height": 35
    },
    "id": "bkkIIHO3yuH2",
    "outputId": "9b6da06d-d49f-474f-97f8-70fe501c26fd"
   },
   "outputs": [],
   "source": [
    "a = np.arange(11)\n",
    "a"
   ]
  },
  {
   "cell_type": "code",
   "execution_count": null,
   "metadata": {
    "colab": {
     "base_uri": "https://localhost:8080/",
     "height": 35
    },
    "id": "7CXd2PoHyuEs",
    "outputId": "30c47a8c-8562-4f5f-cd94-043cbf0a570b"
   },
   "outputs": [],
   "source": [
    "a[0], a[2], a[-1]"
   ]
  },
  {
   "cell_type": "markdown",
   "metadata": {
    "id": "TLVdiyLKG4vk"
   },
   "source": [
    "### Reverse a sequence"
   ]
  },
  {
   "cell_type": "code",
   "execution_count": null,
   "metadata": {
    "colab": {
     "base_uri": "https://localhost:8080/",
     "height": 35
    },
    "id": "Atje-VRPyuCd",
    "outputId": "ad1ecd24-8ee4-4617-a3da-fae2271e7bc0"
   },
   "outputs": [],
   "source": [
    "a[::-1]"
   ]
  },
  {
   "cell_type": "markdown",
   "metadata": {
    "id": "hQ02eFb0HC5I"
   },
   "source": [
    "### Multidimensional arrays\n",
    "\n",
    "Indexes in multidimensional arrays are tupes of integers.\n",
    "\n",
    "In 2D, the first dimension corresponds to rows, the second to columns.\n",
    "F\n",
    "or multidimensional `a` or `a[0]` is interpreted by taking all elements in the unspecified dimensions."
   ]
  },
  {
   "cell_type": "markdown",
   "metadata": {
    "id": "0t6GSGcRJF3z"
   },
   "source": [
    "#### Indexing"
   ]
  },
  {
   "cell_type": "code",
   "execution_count": null,
   "metadata": {
    "colab": {
     "base_uri": "https://localhost:8080/",
     "height": 72
    },
    "id": "fno7qXUNyuA1",
    "outputId": "2a3d307b-e6c5-4fdc-d9c3-aaa091088d64"
   },
   "outputs": [],
   "source": [
    "a = np.diag(np.arange(3))\n",
    "a"
   ]
  },
  {
   "cell_type": "code",
   "execution_count": null,
   "metadata": {
    "colab": {
     "base_uri": "https://localhost:8080/",
     "height": 35
    },
    "id": "3sNpHgqsH9rj",
    "outputId": "e85ff05a-c5a4-41b6-c7c2-7d179d896e3c"
   },
   "outputs": [],
   "source": [
    "# Second line, second column\n",
    "a[2, 1]"
   ]
  },
  {
   "cell_type": "code",
   "execution_count": null,
   "metadata": {
    "colab": {
     "base_uri": "https://localhost:8080/",
     "height": 72
    },
    "id": "zHDywLQ6IGD7",
    "outputId": "cf3467a5-9a64-45b2-b4b2-1ab274d7b9e8"
   },
   "outputs": [],
   "source": [
    "# Change for number 99 in Third line, Second column\n",
    "a[2, 1] = 99 \n",
    "a"
   ]
  },
  {
   "cell_type": "code",
   "execution_count": null,
   "metadata": {
    "colab": {
     "base_uri": "https://localhost:8080/",
     "height": 35
    },
    "id": "UF43IBNFIU8t",
    "outputId": "fe48048d-cecb-4ff6-d7ee-2685561f634a"
   },
   "outputs": [],
   "source": [
    "# Retrieve second line\n",
    "a[1]"
   ]
  },
  {
   "cell_type": "markdown",
   "metadata": {
    "id": "mK0iebYJJIgB"
   },
   "source": [
    "#### Slicing\n",
    "By default, the three slice components are not required: by default, start is 0, end is the last and step is 1"
   ]
  },
  {
   "cell_type": "code",
   "execution_count": null,
   "metadata": {
    "colab": {
     "base_uri": "https://localhost:8080/",
     "height": 35
    },
    "id": "yFlbsrfpJBMY",
    "outputId": "e5eb81a8-8a01-4d4a-be4d-6678d036d262"
   },
   "outputs": [],
   "source": [
    "a = np.arange(11)\n",
    "a"
   ]
  },
  {
   "cell_type": "code",
   "execution_count": null,
   "metadata": {
    "colab": {
     "base_uri": "https://localhost:8080/",
     "height": 35
    },
    "id": "J5nHuJBvJXgk",
    "outputId": "84227555-eaf3-4d0d-87a9-3dcf2945385b"
   },
   "outputs": [],
   "source": [
    "# [start:end:step]\n",
    "a[0:11:2] "
   ]
  },
  {
   "cell_type": "code",
   "execution_count": null,
   "metadata": {
    "colab": {
     "base_uri": "https://localhost:8080/",
     "height": 35
    },
    "id": "bk3T4W3aJiV7",
    "outputId": "0a245362-933c-456f-a5ec-46d9cc26e5ba"
   },
   "outputs": [],
   "source": [
    "# The last index is never included!!!!!\n",
    "a[:10]"
   ]
  },
  {
   "cell_type": "code",
   "execution_count": null,
   "metadata": {
    "colab": {
     "base_uri": "https://localhost:8080/",
     "height": 108
    },
    "id": "7q4OX6QYJxBM",
    "outputId": "d69ec486-bc0b-498a-8fe5-825413e9d020"
   },
   "outputs": [],
   "source": [
    "# By default, start is 0, end is the last and step is 1.\n",
    "a[1:3]\n",
    "print(\"\\n\")\n",
    "a[::2]\n",
    "print(\"\\n\")\n",
    "a[3:]"
   ]
  },
  {
   "cell_type": "code",
   "execution_count": null,
   "metadata": {
    "colab": {
     "base_uri": "https://localhost:8080/",
     "height": 72
    },
    "id": "85oFjNNeLddf",
    "outputId": "50f7f13e-7dca-45b1-9106-4f8f91657040"
   },
   "outputs": [],
   "source": [
    "# Combination of assignment and slicing\n",
    "a[1:4] = -4\n",
    "a\n",
    "print(\"\\n\")\n",
    "a[::4] = 99\n",
    "a"
   ]
  },
  {
   "cell_type": "markdown",
   "metadata": {
    "id": "ftZ5TSvFMNbA"
   },
   "source": [
    "## Copies vs. views\n",
    "\n",
    "A slicing operation creates a view on the original array, which is just a way of accessing array data. Thus the original array is not copied in memory. You can use \n",
    "\n",
    "`np.may_share_memory()` to check if two arrays share the same memory block. Note however, that this uses heuristics and may give you false positives."
   ]
  },
  {
   "cell_type": "code",
   "execution_count": null,
   "metadata": {
    "colab": {
     "base_uri": "https://localhost:8080/",
     "height": 35
    },
    "id": "8GzHgbAGOwpq",
    "outputId": "51cb159e-2f9f-4db4-f3b9-9a2f50876082"
   },
   "outputs": [],
   "source": [
    "a = np.arange(10)\n",
    "a"
   ]
  },
  {
   "cell_type": "code",
   "execution_count": null,
   "metadata": {
    "colab": {
     "base_uri": "https://localhost:8080/",
     "height": 35
    },
    "id": "5G4etoGlO3ri",
    "outputId": "e2f2091f-3bdb-4686-b982-89c4be425797"
   },
   "outputs": [],
   "source": [
    "b = a[::2]\n",
    "b"
   ]
  },
  {
   "cell_type": "code",
   "execution_count": null,
   "metadata": {
    "colab": {
     "base_uri": "https://localhost:8080/",
     "height": 35
    },
    "id": "thqBGoNNO7QM",
    "outputId": "dd19b579-13f2-4933-a489-74e459bece7d"
   },
   "outputs": [],
   "source": [
    "np.may_share_memory(a, b)"
   ]
  },
  {
   "cell_type": "code",
   "execution_count": null,
   "metadata": {
    "colab": {
     "base_uri": "https://localhost:8080/",
     "height": 35
    },
    "id": "lcd0otSTPAPA",
    "outputId": "60b47877-ef21-4190-a569-3754ce2da6eb"
   },
   "outputs": [],
   "source": [
    "# When we change an index in the view\n",
    "b[0] = 12\n",
    "b"
   ]
  },
  {
   "cell_type": "code",
   "execution_count": null,
   "metadata": {
    "colab": {
     "base_uri": "https://localhost:8080/",
     "height": 35
    },
    "id": "X0nrJBJePGKB",
    "outputId": "da6e368b-d5a6-4825-da62-25f74b30b3ec"
   },
   "outputs": [],
   "source": [
    "# The original is modified as well\n",
    "a"
   ]
  },
  {
   "cell_type": "code",
   "execution_count": null,
   "metadata": {
    "colab": {
     "base_uri": "https://localhost:8080/",
     "height": 35
    },
    "id": "1Mlj0HoGPMu_",
    "outputId": "38963681-e7e3-4beb-8562-c795da237f08"
   },
   "outputs": [],
   "source": [
    "# We need to create a copy() to put changes that are not reflected in the original\n",
    "d = a.copy()\n",
    "d"
   ]
  },
  {
   "cell_type": "code",
   "execution_count": null,
   "metadata": {
    "colab": {
     "base_uri": "https://localhost:8080/",
     "height": 35
    },
    "id": "pCNnkSjZPYAN",
    "outputId": "2a030a3f-7ec4-414a-f912-b6b89723fc42"
   },
   "outputs": [],
   "source": [
    "d[0] = 0\n",
    "d"
   ]
  },
  {
   "cell_type": "code",
   "execution_count": null,
   "metadata": {},
   "outputs": [],
   "source": [
    "a"
   ]
  },
  {
   "cell_type": "code",
   "execution_count": null,
   "metadata": {
    "colab": {
     "base_uri": "https://localhost:8080/",
     "height": 35
    },
    "id": "lF8RvgnbPbGY",
    "outputId": "f54fd43f-7867-4d94-a888-a9f50f52f661"
   },
   "outputs": [],
   "source": [
    "# The copy is in a different memory allocation\n",
    "np.may_share_memory(a, d)"
   ]
  },
  {
   "cell_type": "markdown",
   "metadata": {
    "id": "Y9-A4vihPnYa"
   },
   "source": [
    "## Fancy or Advanced array indexing\n",
    "NumPy arrays can be indexed with slices, but as well with boolean or integer arrays (masks). This method creates copies rather than views."
   ]
  },
  {
   "cell_type": "markdown",
   "metadata": {
    "id": "lZnesr5oP33v"
   },
   "source": [
    "### Mask with boolean array"
   ]
  },
  {
   "cell_type": "code",
   "execution_count": null,
   "metadata": {
    "colab": {
     "base_uri": "https://localhost:8080/",
     "height": 35
    },
    "id": "4Gropd5mQdeN",
    "outputId": "dec6c208-aae9-4fa3-a1f3-7d9a5322db17"
   },
   "outputs": [],
   "source": [
    "# We start with getting a seed and a random integer array\n",
    "np.random.seed(3)\n",
    "a = np.random.randint(0, 21, 15)\n",
    "a"
   ]
  },
  {
   "cell_type": "code",
   "execution_count": null,
   "metadata": {
    "colab": {
     "base_uri": "https://localhost:8080/",
     "height": 54
    },
    "id": "iif5rTnlRJq_",
    "outputId": "9acc60d8-f4d9-4d4f-cdc5-faf98d432cf6"
   },
   "outputs": [],
   "source": [
    "# Create a Boolean array when the residuals of a/3 are 0\n",
    "a % 3 == 0"
   ]
  },
  {
   "cell_type": "code",
   "execution_count": null,
   "metadata": {
    "colab": {
     "base_uri": "https://localhost:8080/",
     "height": 35
    },
    "id": "FPqTfbBsRX0T",
    "outputId": "a9051c8b-f644-4bfd-a4d7-6b03a2e675bb"
   },
   "outputs": [],
   "source": [
    "# Create a Boolean mask when the residuals of a/3 are 0\n",
    "mask = (a % 3 == 0)\n",
    "\n",
    "# Extract a sub-array with the mask\n",
    "extract_from_a = a[mask] # or,  a[a%3==0]\n",
    "extract_from_a           "
   ]
  },
  {
   "cell_type": "markdown",
   "metadata": {
    "id": "N69Cv2l7QT4q"
   },
   "source": [
    "### Mask with integer array"
   ]
  },
  {
   "cell_type": "code",
   "execution_count": null,
   "metadata": {
    "colab": {
     "base_uri": "https://localhost:8080/",
     "height": 35
    },
    "id": "2zIBMf87R3B_",
    "outputId": "490d0c22-1d96-4f06-d547-a47d5f4d2b5e"
   },
   "outputs": [],
   "source": [
    "a = np.arange(0, 100, 10)\n",
    "a"
   ]
  },
  {
   "cell_type": "code",
   "execution_count": null,
   "metadata": {
    "colab": {
     "base_uri": "https://localhost:8080/",
     "height": 35
    },
    "id": "EvyXBT0-R6_z",
    "outputId": "06328cad-ebea-441c-b21a-1c61592c5555"
   },
   "outputs": [],
   "source": [
    "# Indexing by position\n",
    "# [2, 3, 2, 4, 2] is a Python list\n",
    "b = a[[2, 3, 2, 4, 2]]\n",
    "b"
   ]
  },
  {
   "cell_type": "code",
   "execution_count": null,
   "metadata": {
    "colab": {
     "base_uri": "https://localhost:8080/",
     "height": 35
    },
    "id": "UhEilXvsShhD",
    "outputId": "3bd8a878-2de5-44ac-d149-a08637f280ef"
   },
   "outputs": [],
   "source": []
  },
  {
   "cell_type": "markdown",
   "metadata": {
    "id": "5JSAWHgTSrgx"
   },
   "source": [
    "Some more fancy indexing:\n",
    "\n",
    "![alt text](https://scipy-lectures.org/_images/numpy_fancy_indexing.png)"
   ]
  },
  {
   "cell_type": "code",
   "execution_count": null,
   "metadata": {},
   "outputs": [],
   "source": [
    "0\n",
    "1\n",
    "2\n",
    "3"
   ]
  },
  {
   "cell_type": "code",
   "execution_count": null,
   "metadata": {},
   "outputs": [],
   "source": [
    "# Let's create a Gaussian image of 30x30\n",
    "image = np.random.randn(10, 15)"
   ]
  },
  {
   "cell_type": "code",
   "execution_count": null,
   "metadata": {},
   "outputs": [],
   "source": [
    "image"
   ]
  },
  {
   "cell_type": "code",
   "execution_count": null,
   "metadata": {},
   "outputs": [],
   "source": [
    "def print_elems(arr):\n",
    "    nrows = arr.shape[0]\n",
    "    ncols = arr.shape[1]\n",
    "    for i in range(nrows):\n",
    "        for j in range(ncols):\n",
    "            print(arr[i,j])"
   ]
  },
  {
   "cell_type": "code",
   "execution_count": null,
   "metadata": {},
   "outputs": [],
   "source": [
    "image[0][0]"
   ]
  },
  {
   "cell_type": "code",
   "execution_count": null,
   "metadata": {},
   "outputs": [],
   "source": [
    "print_elems(image)"
   ]
  },
  {
   "cell_type": "code",
   "execution_count": null,
   "metadata": {},
   "outputs": [],
   "source": [
    "image.shape[1]"
   ]
  },
  {
   "cell_type": "code",
   "execution_count": null,
   "metadata": {},
   "outputs": [],
   "source": [
    "image[0]"
   ]
  },
  {
   "cell_type": "code",
   "execution_count": null,
   "metadata": {},
   "outputs": [],
   "source": []
  },
  {
   "cell_type": "markdown",
   "metadata": {
    "id": "ahd5rpqz6rbX"
   },
   "source": [
    "## For what do we use all this??\n",
    "\n",
    "See this [amazing visual presentation](http://jalammar.github.io/visual-numpy/):\n",
    "\n",
    "* For matrix computation\n",
    "* Data representation\n",
    "* Audio\n",
    "* Image\n",
    "* Text\n",
    "\n"
   ]
  },
  {
   "cell_type": "markdown",
   "metadata": {
    "id": "XrA3YsGkQVY4"
   },
   "source": [
    "# Basic image manipulation in Python: NumPy and Scipy\n",
    "\n",
    "Image can be understood as a 2D numerical array. Or 3D such as RGB, or MRI, etc. From now on, we will understand **image==np.array**\n",
    "\n",
    "We will be using basically `numpy` for basic array manipulation and `scipy` with its `ndimage` submodule dedicated for image processing of n-dimensional images.\n"
   ]
  },
  {
   "cell_type": "markdown",
   "metadata": {
    "id": "LkhJPhoBNmdK"
   },
   "source": [
    "## Common tasks in image processing\n",
    "\n",
    "* Input/Output, displaying images\n",
    "* Basic manipulations: cropping, flipping, rotating, …\n",
    "* Image filtering: denoising, sharpening\n",
    "* Image segmentation: labeling pixels corresponding to different objects\n",
    "* Classification\n",
    "* Feature extraction\n",
    "* Registration\n",
    "* …"
   ]
  },
  {
   "cell_type": "code",
   "execution_count": null,
   "metadata": {
    "id": "b2dFbTf3OwkD"
   },
   "outputs": [],
   "source": [
    "%matplotlib inline"
   ]
  },
  {
   "cell_type": "markdown",
   "metadata": {
    "id": "8k4sZMGjN50s"
   },
   "source": [
    "## Opening and writing to image files"
   ]
  },
  {
   "cell_type": "code",
   "execution_count": null,
   "metadata": {
    "tags": []
   },
   "outputs": [],
   "source": [
    "!pip install imageio"
   ]
  },
  {
   "cell_type": "code",
   "execution_count": null,
   "metadata": {
    "colab": {
     "base_uri": "https://localhost:8080/",
     "height": 286
    },
    "id": "pScF0XDi0ps3",
    "outputId": "c032e96d-4e09-4b62-dd1e-8e7bf9bde50b"
   },
   "outputs": [],
   "source": [
    "import imageio\n",
    "from scipy import misc\n",
    "\n",
    "f = misc.face()\n",
    "imageio.imwrite('face.png', f)\n",
    "\n",
    "import matplotlib.pyplot as plt\n",
    "plt.imshow(f)\n",
    "plt.show()"
   ]
  },
  {
   "cell_type": "code",
   "execution_count": null,
   "metadata": {
    "collapsed": true,
    "jupyter": {
     "outputs_hidden": true
    },
    "tags": []
   },
   "outputs": [],
   "source": [
    "imageio.show_formats()"
   ]
  },
  {
   "cell_type": "markdown",
   "metadata": {
    "id": "9o8PEqBiP7HZ"
   },
   "source": [
    "### Go from image to numpy array"
   ]
  },
  {
   "cell_type": "code",
   "execution_count": null,
   "metadata": {
    "colab": {
     "base_uri": "https://localhost:8080/"
    },
    "id": "BOPb6HZvkD6y",
    "outputId": "4d1b9645-ee9b-497e-f986-2561aab55822"
   },
   "outputs": [],
   "source": [
    "face = imageio.imread('face.jpg')\n",
    "type(face)      \n",
    "\n",
    "print(\"\\n\", face.shape, face.dtype)\n",
    "\n"
   ]
  },
  {
   "cell_type": "code",
   "execution_count": null,
   "metadata": {
    "tags": []
   },
   "outputs": [],
   "source": [
    "face"
   ]
  },
  {
   "cell_type": "code",
   "execution_count": null,
   "metadata": {},
   "outputs": [],
   "source": [
    "def rgb_splitter(image):\n",
    "    rgb_list = ['Reds','Greens','Blues']\n",
    "    fig, ax = plt.subplots(1, 3, figsize=(15,5), sharey = True)\n",
    "    for i in range(3):\n",
    "        ax[i].imshow(image[:,:,i], cmap = rgb_list[i])\n",
    "        ax[i].set_title(rgb_list[i], fontsize = 15)"
   ]
  },
  {
   "cell_type": "code",
   "execution_count": null,
   "metadata": {},
   "outputs": [],
   "source": [
    "plt.imshow(face[:,:,1], cmap=plt.cm.gray)"
   ]
  },
  {
   "cell_type": "code",
   "execution_count": null,
   "metadata": {},
   "outputs": [],
   "source": [
    "rgb_splitter(face)"
   ]
  },
  {
   "cell_type": "code",
   "execution_count": null,
   "metadata": {},
   "outputs": [],
   "source": [
    "face_c = face.copy()"
   ]
  },
  {
   "cell_type": "code",
   "execution_count": null,
   "metadata": {},
   "outputs": [],
   "source": [
    "face_c[:,:,1] = 150"
   ]
  },
  {
   "cell_type": "code",
   "execution_count": null,
   "metadata": {},
   "outputs": [],
   "source": [
    "rgb_splitter(face_c)"
   ]
  },
  {
   "cell_type": "code",
   "execution_count": null,
   "metadata": {},
   "outputs": [],
   "source": [
    "plt.imshow(face_c)"
   ]
  },
  {
   "cell_type": "markdown",
   "metadata": {
    "id": "DkRBZjtdTlN0"
   },
   "source": [
    "### Slicing the image"
   ]
  },
  {
   "cell_type": "code",
   "execution_count": null,
   "metadata": {},
   "outputs": [],
   "source": [
    "face2 = face[400:500, 570:670]"
   ]
  },
  {
   "cell_type": "code",
   "execution_count": null,
   "metadata": {},
   "outputs": [],
   "source": [
    "print(\"\\n\", face2.shape, face2.dtype)"
   ]
  },
  {
   "cell_type": "code",
   "execution_count": null,
   "metadata": {
    "colab": {
     "base_uri": "https://localhost:8080/",
     "height": 236
    },
    "id": "uylqeNZgQLvq",
    "outputId": "bc7b82c7-bc1d-499d-9dfb-b11d1e66ed9e"
   },
   "outputs": [],
   "source": [
    "import matplotlib.pyplot as plt\n",
    "plt.imshow(face2)\n",
    "plt.show()"
   ]
  },
  {
   "cell_type": "markdown",
   "metadata": {
    "id": "SMaB9-2tTvf1"
   },
   "source": [
    "## Displaying images\n",
    "We can pass the image as gray, so that we use it for basic image processing"
   ]
  },
  {
   "cell_type": "code",
   "execution_count": null,
   "metadata": {
    "colab": {
     "base_uri": "https://localhost:8080/",
     "height": 286
    },
    "id": "1rAM0pk5T17x",
    "outputId": "38993c24-217e-461e-e6d2-0f8fdf6a1dcb"
   },
   "outputs": [],
   "source": [
    "f = misc.face(gray=True)  \n",
    "import matplotlib.pyplot as plt\n",
    "plt.imshow(f, cmap=plt.cm.gray)        \n"
   ]
  },
  {
   "cell_type": "code",
   "execution_count": null,
   "metadata": {},
   "outputs": [],
   "source": [
    "f.shape"
   ]
  },
  {
   "cell_type": "markdown",
   "metadata": {
    "id": "k0V05U6KqwfY"
   },
   "source": [
    "We can alter the data by clipping it. Either using plt.imshow() or np.clip(). This will alter the contrast for us."
   ]
  },
  {
   "cell_type": "code",
   "execution_count": null,
   "metadata": {},
   "outputs": [],
   "source": [
    "def convert_to_gray(image):\n",
    "    # Y = red * 0.3 + green * 0.59 + blue * 0.11\n"
   ]
  },
  {
   "cell_type": "code",
   "execution_count": null,
   "metadata": {},
   "outputs": [],
   "source": [
    "def convert_to_gray_vect(image):\n",
    "    # Y = red * 0.3 + green * 0.59 + blue * 0.11\n"
   ]
  },
  {
   "cell_type": "code",
   "execution_count": null,
   "metadata": {},
   "outputs": [],
   "source": [
    "face_grey = convert_to_gray_vect(face)"
   ]
  },
  {
   "cell_type": "code",
   "execution_count": null,
   "metadata": {},
   "outputs": [],
   "source": [
    "plt.imshow(face_grey, cmap=plt.cm.gray)"
   ]
  },
  {
   "cell_type": "code",
   "execution_count": null,
   "metadata": {},
   "outputs": [],
   "source": [
    "face_grey"
   ]
  },
  {
   "cell_type": "code",
   "execution_count": null,
   "metadata": {},
   "outputs": [],
   "source": [
    "face_grey2 = convert_to_gray(face)\n",
    "face_grey2"
   ]
  },
  {
   "cell_type": "code",
   "execution_count": null,
   "metadata": {},
   "outputs": [],
   "source": [
    "np.zeros([f.shape[0],f.shape[1]])"
   ]
  },
  {
   "cell_type": "code",
   "execution_count": null,
   "metadata": {},
   "outputs": [],
   "source": []
  },
  {
   "cell_type": "code",
   "execution_count": null,
   "metadata": {},
   "outputs": [],
   "source": [
    "Y = red * 0.33 + green * 0.59 + blue * 0.11"
   ]
  },
  {
   "cell_type": "markdown",
   "metadata": {},
   "source": [
    "### Contrast"
   ]
  },
  {
   "cell_type": "code",
   "execution_count": null,
   "metadata": {},
   "outputs": [],
   "source": []
  },
  {
   "cell_type": "code",
   "execution_count": null,
   "metadata": {},
   "outputs": [],
   "source": []
  },
  {
   "cell_type": "code",
   "execution_count": null,
   "metadata": {},
   "outputs": [],
   "source": []
  },
  {
   "cell_type": "code",
   "execution_count": null,
   "metadata": {},
   "outputs": [],
   "source": []
  },
  {
   "cell_type": "code",
   "execution_count": null,
   "metadata": {},
   "outputs": [],
   "source": []
  },
  {
   "cell_type": "code",
   "execution_count": null,
   "metadata": {
    "colab": {
     "base_uri": "https://localhost:8080/",
     "height": 265
    },
    "id": "0oFhZhXTUUoj",
    "outputId": "55614935-46ac-4cf3-91ba-147f45875804"
   },
   "outputs": [],
   "source": [
    "f_contrast = np.clip(f, 220, 230)\n",
    "\n",
    "plt.imshow(f_contrast, cmap=plt.cm.gray)        \n",
    "\n",
    "# Remove axes and ticks\n",
    "plt.axis('off')\n"
   ]
  },
  {
   "cell_type": "code",
   "execution_count": null,
   "metadata": {},
   "outputs": [],
   "source": [
    "f_contrast.max()"
   ]
  },
  {
   "cell_type": "raw",
   "metadata": {},
   "source": []
  },
  {
   "cell_type": "code",
   "execution_count": null,
   "metadata": {},
   "outputs": [],
   "source": [
    "f_contrast"
   ]
  },
  {
   "cell_type": "code",
   "execution_count": null,
   "metadata": {
    "colab": {
     "base_uri": "https://localhost:8080/",
     "height": 265
    },
    "id": "kNdQrKybrVlK",
    "outputId": "084ff304-3c1c-46cd-f77e-75113dfc4f9d"
   },
   "outputs": [],
   "source": [
    "plt.imshow(f, cmap=plt.cm.gray, vmin=30, vmax=200)        \n",
    "\n",
    "# Remove axes and ticks\n",
    "plt.axis('off')"
   ]
  },
  {
   "cell_type": "markdown",
   "metadata": {
    "id": "a2TubNAKVPO5"
   },
   "source": [
    "## Basic manipulations\n",
    "Since we are working with arrays, we can perform basic slicing array operation manipulations over the image"
   ]
  },
  {
   "cell_type": "code",
   "execution_count": 2,
   "metadata": {
    "colab": {
     "base_uri": "https://localhost:8080/"
    },
    "id": "3tBSq2VjVENb",
    "outputId": "e38ebcee-75ce-4817-9e02-74f90c921f17"
   },
   "outputs": [
    {
     "ename": "NameError",
     "evalue": "name 'misc' is not defined",
     "output_type": "error",
     "traceback": [
      "\u001b[0;31m---------------------------------------------------------------------------\u001b[0m",
      "\u001b[0;31mNameError\u001b[0m                                 Traceback (most recent call last)",
      "Input \u001b[0;32mIn [2]\u001b[0m, in \u001b[0;36m<cell line: 2>\u001b[0;34m()\u001b[0m\n\u001b[1;32m      1\u001b[0m \u001b[38;5;66;03m# Retrieve a pixel value\u001b[39;00m\n\u001b[0;32m----> 2\u001b[0m face \u001b[38;5;241m=\u001b[39m \u001b[43mmisc\u001b[49m\u001b[38;5;241m.\u001b[39mface(gray\u001b[38;5;241m=\u001b[39m\u001b[38;5;28;01mTrue\u001b[39;00m)\n\u001b[1;32m      3\u001b[0m face[\u001b[38;5;241m0\u001b[39m, \u001b[38;5;241m40\u001b[39m]\n",
      "\u001b[0;31mNameError\u001b[0m: name 'misc' is not defined"
     ]
    }
   ],
   "source": [
    "# Retrieve a pixel value\n",
    "face = misc.face(gray=True)\n",
    "face[0, 40]"
   ]
  },
  {
   "cell_type": "code",
   "execution_count": 3,
   "metadata": {
    "colab": {
     "base_uri": "https://localhost:8080/",
     "height": 374
    },
    "id": "wi3oKWEBVZmc",
    "outputId": "8a948f09-4e35-4111-a634-bc16a3de91e4"
   },
   "outputs": [
    {
     "ename": "NameError",
     "evalue": "name 'face' is not defined",
     "output_type": "error",
     "traceback": [
      "\u001b[0;31m---------------------------------------------------------------------------\u001b[0m",
      "\u001b[0;31mNameError\u001b[0m                                 Traceback (most recent call last)",
      "Input \u001b[0;32mIn [3]\u001b[0m, in \u001b[0;36m<cell line: 3>\u001b[0;34m()\u001b[0m\n\u001b[1;32m      1\u001b[0m \u001b[38;5;66;03m# Slice an image\u001b[39;00m\n\u001b[1;32m      2\u001b[0m plt\u001b[38;5;241m.\u001b[39mfigure(figsize\u001b[38;5;241m=\u001b[39m(\u001b[38;5;241m6\u001b[39m, \u001b[38;5;241m6\u001b[39m))\n\u001b[0;32m----> 3\u001b[0m plt\u001b[38;5;241m.\u001b[39mimshow(\u001b[43mface\u001b[49m[\u001b[38;5;241m10\u001b[39m:\u001b[38;5;241m100\u001b[39m, \u001b[38;5;241m20\u001b[39m:\u001b[38;5;241m100\u001b[39m], cmap\u001b[38;5;241m=\u001b[39mplt\u001b[38;5;241m.\u001b[39mcm\u001b[38;5;241m.\u001b[39mgray)\n\u001b[1;32m      4\u001b[0m plt\u001b[38;5;241m.\u001b[39maxis(\u001b[38;5;124m'\u001b[39m\u001b[38;5;124moff\u001b[39m\u001b[38;5;124m'\u001b[39m)\n\u001b[1;32m      6\u001b[0m plt\u001b[38;5;241m.\u001b[39mshow()\n",
      "\u001b[0;31mNameError\u001b[0m: name 'face' is not defined"
     ]
    },
    {
     "data": {
      "text/plain": [
       "<Figure size 432x432 with 0 Axes>"
      ]
     },
     "metadata": {},
     "output_type": "display_data"
    }
   ],
   "source": [
    "# Slice an image\n",
    "plt.figure(figsize=(6, 6))\n",
    "plt.imshow(face[10:100, 20:100], cmap=plt.cm.gray)\n",
    "plt.axis('off')\n",
    "\n",
    "plt.show()"
   ]
  },
  {
   "cell_type": "code",
   "execution_count": null,
   "metadata": {},
   "outputs": [],
   "source": [
    "face[100:120]"
   ]
  },
  {
   "cell_type": "code",
   "execution_count": null,
   "metadata": {
    "colab": {
     "base_uri": "https://localhost:8080/",
     "height": 299
    },
    "id": "M9AHTm5FVd1T",
    "outputId": "71f909e7-001e-494f-f9ca-85c01e0261af"
   },
   "outputs": [],
   "source": [
    "# Apply a mask\n",
    "fm = face.copy()\n",
    "fm[250:350,525:750] = 255\n",
    "\n",
    "plt.figure(figsize=(6, 6))\n",
    "plt.imshow(fm, cmap=plt.cm.gray)\n",
    "plt.axis('off')\n",
    "\n",
    "plt.show()"
   ]
  },
  {
   "cell_type": "markdown",
   "metadata": {
    "id": "sNbx1yIhWHw_"
   },
   "source": [
    "## Statistical information\n",
    "\n",
    "We can as well retrieve statistical information from the image"
   ]
  },
  {
   "cell_type": "code",
   "execution_count": null,
   "metadata": {
    "colab": {
     "base_uri": "https://localhost:8080/"
    },
    "id": "nkmnmNjGVyuK",
    "outputId": "655cd3b5-4fb6-4859-d319-5550b0172bb8"
   },
   "outputs": [],
   "source": [
    "face = misc.face(gray=True)\n",
    "\n",
    "print(\"Mean \", face.mean(), \"| Max \", face.max(), \"| Min \", face.min())\n"
   ]
  },
  {
   "cell_type": "markdown",
   "metadata": {
    "id": "FvEhwxiFWUbn"
   },
   "source": [
    "## Geometrical transformation\n",
    "\n",
    "We can as well transform the images, which is extremely important for data augmentation for instance."
   ]
  },
  {
   "cell_type": "markdown",
   "metadata": {
    "id": "KSHxWBMwuDq0"
   },
   "source": [
    "### Cropping"
   ]
  },
  {
   "cell_type": "code",
   "execution_count": null,
   "metadata": {
    "colab": {
     "base_uri": "https://localhost:8080/",
     "height": 299
    },
    "id": "Q6_IMfMEWMyD",
    "outputId": "0f04efe7-7f5a-4157-92b2-6d07c51a74c2"
   },
   "outputs": [],
   "source": [
    "import numpy as np\n",
    "import scipy.misc\n",
    "from scipy import ndimage\n",
    "import matplotlib.pyplot as plt\n",
    "\n",
    "face = scipy.misc.face(gray=True)\n",
    "\n",
    "lx, ly = face.shape\n",
    "\n",
    "# Cropping (using floor division, dumping decimals after operation)\n",
    "crop_face = face[lx//5:-lx//4, ly//5:-ly//4]\n",
    "\n",
    "plt.figure(figsize=(6, 6))\n",
    "plt.imshow(crop_face, cmap=plt.cm.gray)\n",
    "plt.axis('off')\n",
    "\n",
    "plt.show()"
   ]
  },
  {
   "cell_type": "code",
   "execution_count": null,
   "metadata": {},
   "outputs": [],
   "source": [
    "crop_face.shape"
   ]
  },
  {
   "cell_type": "markdown",
   "metadata": {
    "id": "Fn5DEeL1upV7"
   },
   "source": [
    "## Flipping"
   ]
  },
  {
   "cell_type": "code",
   "execution_count": null,
   "metadata": {
    "colab": {
     "base_uri": "https://localhost:8080/",
     "height": 299
    },
    "id": "mQV6_LwAu3q7",
    "outputId": "1ce9a54d-66c5-4500-a855-a120e76b2251"
   },
   "outputs": [],
   "source": [
    "import numpy as np\n",
    "import scipy.misc\n",
    "from scipy import ndimage\n",
    "import matplotlib.pyplot as plt\n",
    "\n",
    "face = scipy.misc.face(gray=True)\n",
    "\n",
    "# Up-down flip\n",
    "flip_ud_face = np.flipud(face)\n",
    "\n",
    "plt.figure(figsize=(6, 6))\n",
    "plt.imshow(flip_ud_face, cmap=plt.cm.gray)\n",
    "plt.axis('off')\n",
    "\n",
    "plt.show()"
   ]
  },
  {
   "cell_type": "code",
   "execution_count": null,
   "metadata": {},
   "outputs": [],
   "source": []
  },
  {
   "cell_type": "code",
   "execution_count": null,
   "metadata": {
    "colab": {
     "base_uri": "https://localhost:8080/",
     "height": 299
    },
    "id": "gg2EUXO1vFxx",
    "outputId": "5616c555-63c4-4d31-ec5d-e7896db335a3"
   },
   "outputs": [],
   "source": [
    "import numpy as np\n",
    "import scipy.misc\n",
    "from scipy import ndimage\n",
    "import matplotlib.pyplot as plt\n",
    "\n",
    "face = scipy.misc.face(gray=True)\n",
    "\n",
    "# Left right flip\n",
    "flip_ud_face = np.flip(face, axis=1)\n",
    "\n",
    "plt.figure(figsize=(6, 6))\n",
    "plt.imshow(flip_ud_face, cmap=plt.cm.gray)\n",
    "plt.axis('off')\n",
    "\n",
    "plt.show()"
   ]
  },
  {
   "cell_type": "markdown",
   "metadata": {
    "id": "XemuGzH_vYMQ"
   },
   "source": [
    "### Rotation\n"
   ]
  },
  {
   "cell_type": "code",
   "execution_count": null,
   "metadata": {
    "colab": {
     "base_uri": "https://localhost:8080/",
     "height": 374
    },
    "id": "gbCButZFvbv1",
    "outputId": "79c151a6-f724-47fb-c4e3-f39500d947be"
   },
   "outputs": [],
   "source": [
    "import numpy as np\n",
    "import scipy.misc\n",
    "from scipy import ndimage\n",
    "import matplotlib.pyplot as plt\n",
    "\n",
    "face = scipy.misc.face(gray=True)\n",
    "\n",
    "# Rotation\n",
    "rotate_face = ndimage.rotate(face, 45)\n",
    "\n",
    "plt.figure(figsize=(6, 6))\n",
    "plt.imshow(rotate_face, cmap=plt.cm.gray)\n",
    "plt.axis('off')\n",
    "\n",
    "plt.show()"
   ]
  },
  {
   "cell_type": "code",
   "execution_count": null,
   "metadata": {
    "colab": {
     "base_uri": "https://localhost:8080/",
     "height": 299
    },
    "id": "q4GkG3q9vpK7",
    "outputId": "eefe320f-d109-438e-c90f-777f0c52ca5b"
   },
   "outputs": [],
   "source": [
    "import numpy as np\n",
    "import scipy.misc\n",
    "from scipy import ndimage\n",
    "import matplotlib.pyplot as plt\n",
    "\n",
    "face = scipy.misc.face(gray=True)\n",
    "\n",
    "# Rotation\n",
    "rotate_face = ndimage.rotate(face, 45, reshape=False)\n",
    "\n",
    "plt.figure(figsize=(6, 6))\n",
    "plt.imshow(rotate_face, cmap=plt.cm.gray)\n",
    "plt.axis('off')\n",
    "\n",
    "plt.show()"
   ]
  },
  {
   "cell_type": "markdown",
   "metadata": {
    "id": "d0InJ02fWlHC"
   },
   "source": [
    "## Image filtering"
   ]
  },
  {
   "cell_type": "markdown",
   "metadata": {
    "id": "mwom--DKWt8J"
   },
   "source": [
    "### Blurring/smoothing"
   ]
  },
  {
   "cell_type": "code",
   "execution_count": null,
   "metadata": {
    "colab": {
     "base_uri": "https://localhost:8080/",
     "height": 299
    },
    "id": "p6NOfU3sv9ap",
    "outputId": "64a7edc8-82c1-4f7a-9102-4cca74b58033"
   },
   "outputs": [],
   "source": [
    "import scipy.misc\n",
    "from scipy import ndimage\n",
    "import matplotlib.pyplot as plt\n",
    "\n",
    "face = scipy.misc.face(gray=True)\n",
    "blurred_face = ndimage.gaussian_filter(face, sigma=3)\n",
    "\n",
    "plt.figure(figsize=(6, 6))\n",
    "plt.imshow(blurred_face, cmap=plt.cm.gray)\n",
    "plt.axis('off')\n",
    "\n",
    "plt.show()"
   ]
  },
  {
   "cell_type": "code",
   "execution_count": null,
   "metadata": {
    "colab": {
     "base_uri": "https://localhost:8080/",
     "height": 299
    },
    "id": "GaI2LtCOwIks",
    "outputId": "37808886-7717-4695-ec9b-ce2c89de89fb"
   },
   "outputs": [],
   "source": [
    "import scipy.misc\n",
    "from scipy import ndimage\n",
    "import matplotlib.pyplot as plt\n",
    "\n",
    "face = scipy.misc.face(gray=True)\n",
    "local_mean = ndimage.uniform_filter(face, size=11)\n",
    "\n",
    "plt.figure(figsize=(6, 6))\n",
    "plt.imshow(blurred_face, cmap=plt.cm.gray)\n",
    "plt.axis('off')\n",
    "\n",
    "plt.show()"
   ]
  },
  {
   "cell_type": "markdown",
   "metadata": {
    "id": "aZT0mIwTW5is"
   },
   "source": [
    "### Sharpening\n",
    "\n"
   ]
  },
  {
   "cell_type": "code",
   "execution_count": null,
   "metadata": {
    "colab": {
     "base_uri": "https://localhost:8080/",
     "height": 299
    },
    "id": "hRuWYwUhW7Z7",
    "outputId": "2cf77d50-7c05-4fd7-81a8-18dd548da768"
   },
   "outputs": [],
   "source": [
    "import scipy.misc\n",
    "from scipy import ndimage\n",
    "import matplotlib.pyplot as plt\n",
    "\n",
    "f = scipy.misc.face(gray=True).astype(float)\n",
    "\n",
    "# First we blur the image using a gaussian filter\n",
    "blurred_f = ndimage.gaussian_filter(f, 3)\n",
    "\n",
    "# Then we create another filter of the blurred image using sigma 1\n",
    "filter_blurred_f = ndimage.gaussian_filter(blurred_f, 1)\n",
    "\n",
    "# We use an approximation of the Laplacian for increasing the weights of edges\n",
    "alpha = 30\n",
    "sharpened = blurred_f + alpha * (blurred_f - filter_blurred_f)\n",
    "\n",
    "plt.figure(figsize=(6, 6))\n",
    "plt.imshow(sharpened, cmap=plt.cm.gray)\n",
    "plt.axis('off')\n",
    "\n",
    "plt.show()\n"
   ]
  },
  {
   "cell_type": "code",
   "execution_count": null,
   "metadata": {
    "colab": {
     "base_uri": "https://localhost:8080/",
     "height": 299
    },
    "id": "he88m1XQxS7J",
    "outputId": "3ed6c3e5-dd2f-4186-f1f9-9b678a50565c"
   },
   "outputs": [],
   "source": [
    "import scipy.misc\n",
    "from scipy import ndimage\n",
    "import matplotlib.pyplot as plt\n",
    "\n",
    "f = scipy.misc.face(gray=True).astype(float)\n",
    "\n",
    "# First we blur the image using a gaussian filter\n",
    "blurred_f = ndimage.gaussian_filter(f, 3)\n",
    "\n",
    "# Then we create another filter of the blurred image using sigma 1\n",
    "filter_blurred_f = ndimage.gaussian_filter(blurred_f, 1)\n",
    "\n",
    "# We use an approximation of the Laplacian for increasing the weights of edges\n",
    "alpha = 30\n",
    "edges_weights = alpha * (blurred_f - filter_blurred_f)\n",
    "\n",
    "plt.figure(figsize=(6, 6))\n",
    "plt.imshow(edges_weights, cmap=plt.cm.gray)\n",
    "plt.axis('off')\n",
    "\n",
    "plt.show()"
   ]
  },
  {
   "cell_type": "markdown",
   "metadata": {
    "id": "M1-2lgg4XCib"
   },
   "source": [
    "### Denoising"
   ]
  },
  {
   "cell_type": "code",
   "execution_count": 1,
   "metadata": {
    "colab": {
     "base_uri": "https://localhost:8080/",
     "height": 290
    },
    "id": "bzby88d4W9jz",
    "outputId": "5abc278d-0ea4-4f51-a857-3c4a7f9dc69f"
   },
   "outputs": [
    {
     "data": {
      "image/png": "[encoded data removed]",
      "text/plain": [
       "<Figure size 864x201.6 with 3 Axes>"
      ]
     },
     "metadata": {
      "needs_background": "light"
     },
     "output_type": "display_data"
    }
   ],
   "source": [
    "import numpy as np\n",
    "import scipy\n",
    "import scipy.misc\n",
    "from scipy import ndimage\n",
    "import matplotlib.pyplot as plt\n",
    "\n",
    "f = scipy.misc.face(gray=True)\n",
    "f = f[230:290, 220:320]\n",
    "\n",
    "# Create a noisy image\n",
    "noisy = f + 0.4*f.std()*np.random.random(f.shape)\n",
    "\n",
    "# Reduce the noise using a gaussian\n",
    "gauss_denoised = ndimage.gaussian_filter(noisy, 2)\n",
    "\n",
    "# Reduce the noise using a median filter\n",
    "med_denoised = ndimage.median_filter(noisy, 3)\n",
    "\n",
    "\n",
    "plt.figure(figsize=(12,2.8))\n",
    "\n",
    "plt.subplot(131)\n",
    "plt.imshow(noisy, cmap=plt.cm.gray, vmin=40, vmax=220)\n",
    "plt.axis('off')\n",
    "plt.title('noisy', fontsize=20)\n",
    "plt.subplot(132)\n",
    "plt.imshow(gauss_denoised, cmap=plt.cm.gray, vmin=40, vmax=220)\n",
    "plt.axis('off')\n",
    "plt.title('Gaussian filter', fontsize=20)\n",
    "plt.subplot(133)\n",
    "plt.imshow(med_denoised, cmap=plt.cm.gray, vmin=40, vmax=220)\n",
    "plt.axis('off')\n",
    "plt.title('Median filter', fontsize=20)\n",
    "\n",
    "plt.subplots_adjust(wspace=0.02, hspace=0.02, top=0.9, bottom=0, left=0,\n",
    "                    right=1)\n",
    "plt.show()"
   ]
  },
  {
   "cell_type": "markdown",
   "metadata": {
    "id": "Pw-kACCNYlkZ"
   },
   "source": [
    "## Feature extraction"
   ]
  },
  {
   "cell_type": "markdown",
   "metadata": {
    "id": "g5s87IAjYu6I"
   },
   "source": [
    "### Edge detection: sobel filter"
   ]
  },
  {
   "cell_type": "code",
   "execution_count": null,
   "metadata": {
    "colab": {
     "base_uri": "https://localhost:8080/",
     "height": 392
    },
    "id": "XNTBCz6c7YzF",
    "outputId": "6209f297-f77a-4d1f-fb43-ce2d2a0f9b6f"
   },
   "outputs": [],
   "source": [
    "import numpy as np\n",
    "from scipy import ndimage\n",
    "import matplotlib.pyplot as plt\n",
    "\n",
    "im = np.zeros((256, 256))\n",
    "im[64:-64, 64:-64] = 1\n",
    "\n",
    "im = ndimage.rotate(im, 15, mode='constant')\n",
    "im = ndimage.gaussian_filter(im, 8)\n",
    "\n",
    "sx = ndimage.sobel(im, axis=0, mode='constant')\n",
    "sy = ndimage.sobel(im, axis=1, mode='constant')\n",
    "sob = np.hypot(sx, sy)\n",
    "\n",
    "plt.figure(figsize=(16, 5))\n",
    "plt.subplot(141)\n",
    "plt.imshow(im, cmap=plt.cm.gray)\n",
    "plt.axis('off')\n",
    "plt.title('square', fontsize=20)\n",
    "plt.subplot(142)\n",
    "plt.imshow(sx)\n",
    "plt.axis('off')\n",
    "plt.title('Sobel (x direction)', fontsize=20)\n",
    "plt.subplot(143)\n",
    "plt.imshow(sy)\n",
    "plt.axis('off')\n",
    "plt.title('Sobel (y direction)', fontsize=20)\n",
    "plt.subplot(144)\n",
    "plt.imshow(sob)\n",
    "plt.axis('off')\n",
    "plt.title('Sobel filter', fontsize=20)\n",
    "\n",
    "\n",
    "\n",
    "plt.subplots_adjust(wspace=0.02, hspace=0.02, top=1, bottom=0, left=0, right=0.9)\n",
    "\n",
    "plt.show()"
   ]
  },
  {
   "cell_type": "markdown",
   "metadata": {
    "id": "Hy5vwL6haDtA"
   },
   "source": [
    "## In class exercise:\n",
    "\n",
    "\n",
    "* Slice/crop the image\n",
    "* Add a white mask to the image\n",
    "* Rotate tthe image\n",
    "* Flip the image\n",
    "* Apply a blurry filter\n",
    "* Apply a sobel filter\n",
    "    * Use scipy sobel and scikit image sobel over the same image. What are the differences?"
   ]
  },
  {
   "cell_type": "code",
   "execution_count": null,
   "metadata": {
    "id": "gNNikKs30WNa"
   },
   "outputs": [],
   "source": []
  }
 ],
 "metadata": {
  "accelerator": "GPU",
  "colab": {
   "collapsed_sections": [
    "hDV-_nrtqtO2",
    "g38RFzmI1Pq0"
   ],
   "name": "05_Array_image_manipulation.ipynb",
   "provenance": [],
   "toc_visible": true
  },
  "kernelspec": {
   "display_name": "Python 3 (ipykernel)",
   "language": "python",
   "name": "python3"
  },
  "language_info": {
   "codemirror_mode": {
    "name": "ipython",
    "version": 3
   },
   "file_extension": ".py",
   "mimetype": "text/x-python",
   "name": "python",
   "nbconvert_exporter": "python",
   "pygments_lexer": "ipython3",
   "version": "3.10.10"
  }
 },
 "nbformat": 4,
 "nbformat_minor": 4
}
