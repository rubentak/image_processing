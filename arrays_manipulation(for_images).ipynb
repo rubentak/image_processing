{
 "cells": [
  {
   "cell_type": "markdown",
   "metadata": {
    "id": "_a2hajcA99-K",
    "tags": []
   },
   "source": [
    "\n",
    "\n",
    "# Introduction to Numpy & Scikit Image\n",
    "\n",
    "\n",
    "**Resources:**\n",
    "\n",
    "* [SciPy](https://scipy.org)\n",
    "* [Scipy Lectures](https://scipy-lectures.org)\n",
    "* [NumPy](https://numpy.org)"
   ]
  },
  {
   "cell_type": "markdown",
   "metadata": {
    "id": "21DziKTsxMHl"
   },
   "source": [
    "# NumPy"
   ]
  },
  {
   "cell_type": "code",
   "execution_count": 3,
   "metadata": {
    "id": "LJnBBLmG132q",
    "ExecuteTime": {
     "start_time": "2023-04-19T16:33:07.062708Z",
     "end_time": "2023-04-19T16:33:07.092535Z"
    }
   },
   "outputs": [],
   "source": [
    "# Within IPython notebook, add multiple print capabilities\n",
    "from IPython.core.interactiveshell import InteractiveShell\n",
    "InteractiveShell.ast_node_interactivity = \"all\""
   ]
  },
  {
   "cell_type": "markdown",
   "metadata": {
    "id": "omaIgYI0xdrt"
   },
   "source": [
    "## NumPy arrays\n",
    "\n",
    "An array can contain:\n",
    "* Values of an experiment/simulation at discrete time steps\n",
    "* A signal recorded by a measurement device, e.g. sound wave\n",
    "* The pixels of an image, grey-level or colour\n",
    "* 3-D data measured at different X-Y-Z positions, e.g. MRI scan\n",
    "* …"
   ]
  },
  {
   "cell_type": "code",
   "execution_count": 4,
   "metadata": {
    "id": "Rxfd_QZkxYqh",
    "ExecuteTime": {
     "start_time": "2023-04-19T16:33:07.831924Z",
     "end_time": "2023-04-19T16:33:07.844626Z"
    }
   },
   "outputs": [],
   "source": [
    "import numpy as np\n",
    "a = np.array([0, 1, 2, 3])"
   ]
  },
  {
   "cell_type": "code",
   "execution_count": 5,
   "metadata": {
    "ExecuteTime": {
     "start_time": "2023-04-19T16:33:08.906971Z",
     "end_time": "2023-04-19T16:33:08.923797Z"
    }
   },
   "outputs": [
    {
     "data": {
      "text/plain": "(4,)"
     },
     "execution_count": 5,
     "metadata": {},
     "output_type": "execute_result"
    }
   ],
   "source": [
    "np.shape(a)"
   ]
  },
  {
   "cell_type": "markdown",
   "metadata": {
    "id": "mjM8bWObyyKJ"
   },
   "source": [
    "### NumPy is memory efficient container that provides fast numerical operations"
   ]
  },
  {
   "cell_type": "code",
   "execution_count": 6,
   "metadata": {
    "colab": {
     "base_uri": "https://localhost:8080/"
    },
    "id": "-isSwwYPy-LY",
    "outputId": "4380b1d0-6657-4d59-8ab0-6d5f33526d16",
    "ExecuteTime": {
     "start_time": "2023-04-19T16:33:12.394205Z",
     "end_time": "2023-04-19T16:33:35.078133Z"
    }
   },
   "outputs": [
    {
     "name": "stdout",
     "output_type": "stream",
     "text": [
      "189 µs ± 331 ns per loop (mean ± std. dev. of 7 runs, 10,000 loops each)\n",
      "908 ns ± 5.7 ns per loop (mean ± std. dev. of 7 runs, 1,000,000 loops each)\n"
     ]
    }
   ],
   "source": [
    "L = range(1000)\n",
    "%timeit [i**2 for i in L]\n",
    "\n",
    "a = np.arange(1000)\n",
    "%timeit a**2"
   ]
  },
  {
   "cell_type": "code",
   "execution_count": 7,
   "metadata": {
    "ExecuteTime": {
     "start_time": "2023-04-19T16:33:36.310831Z",
     "end_time": "2023-04-19T16:33:36.345465Z"
    }
   },
   "outputs": [
    {
     "data": {
      "text/plain": "range(0, 1000)"
     },
     "execution_count": 7,
     "metadata": {},
     "output_type": "execute_result"
    },
    {
     "data": {
      "text/plain": "array([  0,   1,   2,   3,   4,   5,   6,   7,   8,   9,  10,  11,  12,\n        13,  14,  15,  16,  17,  18,  19,  20,  21,  22,  23,  24,  25,\n        26,  27,  28,  29,  30,  31,  32,  33,  34,  35,  36,  37,  38,\n        39,  40,  41,  42,  43,  44,  45,  46,  47,  48,  49,  50,  51,\n        52,  53,  54,  55,  56,  57,  58,  59,  60,  61,  62,  63,  64,\n        65,  66,  67,  68,  69,  70,  71,  72,  73,  74,  75,  76,  77,\n        78,  79,  80,  81,  82,  83,  84,  85,  86,  87,  88,  89,  90,\n        91,  92,  93,  94,  95,  96,  97,  98,  99, 100, 101, 102, 103,\n       104, 105, 106, 107, 108, 109, 110, 111, 112, 113, 114, 115, 116,\n       117, 118, 119, 120, 121, 122, 123, 124, 125, 126, 127, 128, 129,\n       130, 131, 132, 133, 134, 135, 136, 137, 138, 139, 140, 141, 142,\n       143, 144, 145, 146, 147, 148, 149, 150, 151, 152, 153, 154, 155,\n       156, 157, 158, 159, 160, 161, 162, 163, 164, 165, 166, 167, 168,\n       169, 170, 171, 172, 173, 174, 175, 176, 177, 178, 179, 180, 181,\n       182, 183, 184, 185, 186, 187, 188, 189, 190, 191, 192, 193, 194,\n       195, 196, 197, 198, 199, 200, 201, 202, 203, 204, 205, 206, 207,\n       208, 209, 210, 211, 212, 213, 214, 215, 216, 217, 218, 219, 220,\n       221, 222, 223, 224, 225, 226, 227, 228, 229, 230, 231, 232, 233,\n       234, 235, 236, 237, 238, 239, 240, 241, 242, 243, 244, 245, 246,\n       247, 248, 249, 250, 251, 252, 253, 254, 255, 256, 257, 258, 259,\n       260, 261, 262, 263, 264, 265, 266, 267, 268, 269, 270, 271, 272,\n       273, 274, 275, 276, 277, 278, 279, 280, 281, 282, 283, 284, 285,\n       286, 287, 288, 289, 290, 291, 292, 293, 294, 295, 296, 297, 298,\n       299, 300, 301, 302, 303, 304, 305, 306, 307, 308, 309, 310, 311,\n       312, 313, 314, 315, 316, 317, 318, 319, 320, 321, 322, 323, 324,\n       325, 326, 327, 328, 329, 330, 331, 332, 333, 334, 335, 336, 337,\n       338, 339, 340, 341, 342, 343, 344, 345, 346, 347, 348, 349, 350,\n       351, 352, 353, 354, 355, 356, 357, 358, 359, 360, 361, 362, 363,\n       364, 365, 366, 367, 368, 369, 370, 371, 372, 373, 374, 375, 376,\n       377, 378, 379, 380, 381, 382, 383, 384, 385, 386, 387, 388, 389,\n       390, 391, 392, 393, 394, 395, 396, 397, 398, 399, 400, 401, 402,\n       403, 404, 405, 406, 407, 408, 409, 410, 411, 412, 413, 414, 415,\n       416, 417, 418, 419, 420, 421, 422, 423, 424, 425, 426, 427, 428,\n       429, 430, 431, 432, 433, 434, 435, 436, 437, 438, 439, 440, 441,\n       442, 443, 444, 445, 446, 447, 448, 449, 450, 451, 452, 453, 454,\n       455, 456, 457, 458, 459, 460, 461, 462, 463, 464, 465, 466, 467,\n       468, 469, 470, 471, 472, 473, 474, 475, 476, 477, 478, 479, 480,\n       481, 482, 483, 484, 485, 486, 487, 488, 489, 490, 491, 492, 493,\n       494, 495, 496, 497, 498, 499, 500, 501, 502, 503, 504, 505, 506,\n       507, 508, 509, 510, 511, 512, 513, 514, 515, 516, 517, 518, 519,\n       520, 521, 522, 523, 524, 525, 526, 527, 528, 529, 530, 531, 532,\n       533, 534, 535, 536, 537, 538, 539, 540, 541, 542, 543, 544, 545,\n       546, 547, 548, 549, 550, 551, 552, 553, 554, 555, 556, 557, 558,\n       559, 560, 561, 562, 563, 564, 565, 566, 567, 568, 569, 570, 571,\n       572, 573, 574, 575, 576, 577, 578, 579, 580, 581, 582, 583, 584,\n       585, 586, 587, 588, 589, 590, 591, 592, 593, 594, 595, 596, 597,\n       598, 599, 600, 601, 602, 603, 604, 605, 606, 607, 608, 609, 610,\n       611, 612, 613, 614, 615, 616, 617, 618, 619, 620, 621, 622, 623,\n       624, 625, 626, 627, 628, 629, 630, 631, 632, 633, 634, 635, 636,\n       637, 638, 639, 640, 641, 642, 643, 644, 645, 646, 647, 648, 649,\n       650, 651, 652, 653, 654, 655, 656, 657, 658, 659, 660, 661, 662,\n       663, 664, 665, 666, 667, 668, 669, 670, 671, 672, 673, 674, 675,\n       676, 677, 678, 679, 680, 681, 682, 683, 684, 685, 686, 687, 688,\n       689, 690, 691, 692, 693, 694, 695, 696, 697, 698, 699, 700, 701,\n       702, 703, 704, 705, 706, 707, 708, 709, 710, 711, 712, 713, 714,\n       715, 716, 717, 718, 719, 720, 721, 722, 723, 724, 725, 726, 727,\n       728, 729, 730, 731, 732, 733, 734, 735, 736, 737, 738, 739, 740,\n       741, 742, 743, 744, 745, 746, 747, 748, 749, 750, 751, 752, 753,\n       754, 755, 756, 757, 758, 759, 760, 761, 762, 763, 764, 765, 766,\n       767, 768, 769, 770, 771, 772, 773, 774, 775, 776, 777, 778, 779,\n       780, 781, 782, 783, 784, 785, 786, 787, 788, 789, 790, 791, 792,\n       793, 794, 795, 796, 797, 798, 799, 800, 801, 802, 803, 804, 805,\n       806, 807, 808, 809, 810, 811, 812, 813, 814, 815, 816, 817, 818,\n       819, 820, 821, 822, 823, 824, 825, 826, 827, 828, 829, 830, 831,\n       832, 833, 834, 835, 836, 837, 838, 839, 840, 841, 842, 843, 844,\n       845, 846, 847, 848, 849, 850, 851, 852, 853, 854, 855, 856, 857,\n       858, 859, 860, 861, 862, 863, 864, 865, 866, 867, 868, 869, 870,\n       871, 872, 873, 874, 875, 876, 877, 878, 879, 880, 881, 882, 883,\n       884, 885, 886, 887, 888, 889, 890, 891, 892, 893, 894, 895, 896,\n       897, 898, 899, 900, 901, 902, 903, 904, 905, 906, 907, 908, 909,\n       910, 911, 912, 913, 914, 915, 916, 917, 918, 919, 920, 921, 922,\n       923, 924, 925, 926, 927, 928, 929, 930, 931, 932, 933, 934, 935,\n       936, 937, 938, 939, 940, 941, 942, 943, 944, 945, 946, 947, 948,\n       949, 950, 951, 952, 953, 954, 955, 956, 957, 958, 959, 960, 961,\n       962, 963, 964, 965, 966, 967, 968, 969, 970, 971, 972, 973, 974,\n       975, 976, 977, 978, 979, 980, 981, 982, 983, 984, 985, 986, 987,\n       988, 989, 990, 991, 992, 993, 994, 995, 996, 997, 998, 999])"
     },
     "execution_count": 7,
     "metadata": {},
     "output_type": "execute_result"
    }
   ],
   "source": [
    "L\n",
    "a"
   ]
  },
  {
   "cell_type": "markdown",
   "metadata": {
    "id": "6z2ic525zjbM"
   },
   "source": [
    "### Documentation\n",
    "On the web: http://docs.scipy.org/"
   ]
  },
  {
   "cell_type": "code",
   "execution_count": 8,
   "metadata": {
    "collapsed": true,
    "id": "nPEYL-zEzrOh",
    "jupyter": {
     "outputs_hidden": true
    },
    "tags": [],
    "ExecuteTime": {
     "start_time": "2023-04-19T16:34:19.048217Z",
     "end_time": "2023-04-19T16:34:19.073506Z"
    }
   },
   "outputs": [],
   "source": [
    "# Interactive help\n",
    "np.array?"
   ]
  },
  {
   "cell_type": "code",
   "execution_count": 9,
   "metadata": {
    "collapsed": true,
    "id": "LGQzsRkTz6Jt",
    "jupyter": {
     "outputs_hidden": true
    },
    "tags": [],
    "ExecuteTime": {
     "start_time": "2023-04-19T16:34:20.049145Z",
     "end_time": "2023-04-19T16:34:20.654550Z"
    }
   },
   "outputs": [
    {
     "name": "stdout",
     "output_type": "stream",
     "text": [
      "Search results for 'create array'\n",
      "---------------------------------\n",
      "numpy.memmap\n",
      "    Create a memory-map to an array stored in a *binary* file on disk.\n",
      "numpy.char.array\n",
      "    Create a `chararray`.\n",
      "numpy.diagflat\n",
      "    Create a two-dimensional array with the flattened input as a diagonal.\n",
      "numpy.fromiter\n",
      "    Create a new 1-dimensional array from an iterable object.\n",
      "numpy.partition\n",
      "    Return a partitioned copy of an array.\n",
      "numpy.from_dlpack\n",
      "    Create a NumPy array from an object implementing the ``__dlpack__``\n",
      "numpy.rec.fromarrays\n",
      "    Create a record array from a (flat) list of arrays\n",
      "numpy.ctypeslib.as_array\n",
      "    Create a numpy array from a ctypes array or POINTER.\n",
      "numpy.ma.diagflat\n",
      "    Create a two-dimensional array with the flattened input as a diagonal.\n",
      "numpy.ma.make_mask\n",
      "    Create a boolean mask from an array.\n",
      "numpy.rec.fromfile\n",
      "    Create an array from binary file data\n",
      "numpy.rec.fromstring\n",
      "    Create a record array from binary data\n",
      "numpy.lib.Arrayterator\n",
      "    Buffered iterator for big arrays.\n",
      "numpy.rec.fromrecords\n",
      "    Create a recarray from a list of records in text form.\n",
      "numpy.ctypeslib.as_ctypes\n",
      "    Create and return a ctypes object from a numpy array.  Actually\n",
      "numpy.ma.mrecords.fromarrays\n",
      "    Creates a mrecarray from a (flat) list of masked arrays.\n",
      "numpy.ma.mvoid.__new__\n",
      "    Create a new masked array from scratch.\n",
      "numpy.ma.MaskedArray.__new__\n",
      "    Create a new masked array from scratch.\n",
      "numpy.ma.mrecords.fromtextfile\n",
      "    Creates a mrecarray from data stored in the file `filename`.\n",
      "numpy.array\n",
      "    array(object, dtype=None, *, copy=True, order='K', subok=False, ndmin=0,\n",
      "numpy.asarray\n",
      "    Convert the input to an array.\n",
      "numpy.ndarray\n",
      "    ndarray(shape, dtype=float, buffer=None, offset=0,\n",
      "numpy.recarray\n",
      "    Construct an ndarray that allows field access using attributes.\n",
      "numpy.chararray\n",
      "    chararray(shape, itemsize=1, unicode=False, buffer=None, offset=0,\n",
      "numpy.exp\n",
      "    Calculate the exponential of all elements in the input array.\n",
      "numpy.pad\n",
      "    Pad an array.\n",
      "numpy.asanyarray\n",
      "    Convert the input to an ndarray, but pass ndarray subclasses through.\n",
      "numpy.cbrt\n",
      "    Return the cube-root of an array, element-wise.\n",
      "numpy.copy\n",
      "    Return an array copy of the given object.\n",
      "numpy.diag\n",
      "    Extract a diagonal or construct a diagonal array.\n",
      "numpy.exp2\n",
      "    Calculate `2**p` for all `p` in the input array.\n",
      "numpy.fmax\n",
      "    Element-wise maximum of array elements.\n",
      "numpy.fmin\n",
      "    Element-wise minimum of array elements.\n",
      "numpy.load\n",
      "    Load arrays or pickled objects from ``.npy``, ``.npz`` or pickled files.\n",
      "numpy.modf\n",
      "    Return the fractional and integral parts of an array, element-wise.\n",
      "numpy.rint\n",
      "    Round elements of the array to the nearest integer.\n",
      "numpy.sort\n",
      "    Return a sorted copy of an array.\n",
      "numpy.sqrt\n",
      "    Return the non-negative square-root of an array, element-wise.\n",
      "numpy.void\n",
      "    Create a new structured or unstructured void scalar.\n",
      "numpy.array_equiv\n",
      "    Returns True if input arrays are shape consistent and all elements equal.\n",
      "numpy.dtype\n",
      "    Create a data type object.\n",
      "numpy.expm1\n",
      "    Calculate ``exp(x) - 1`` for all elements in the array.\n",
      "numpy.isnan\n",
      "    Test element-wise for NaN and return result as a boolean array.\n",
      "numpy.isnat\n",
      "    Test element-wise for NaT (not a time) and return result as a boolean array.\n",
      "numpy.log10\n",
      "    Return the base 10 logarithm of the input array, element-wise.\n",
      "numpy.log1p\n",
      "    Return the natural logarithm of one plus the input array, element-wise.\n",
      "numpy.power\n",
      "    First array elements raised to powers from second array, element-wise.\n",
      "numpy.ufunc\n",
      "    Functions that operate element by element on whole arrays.\n",
      "numpy.choose\n",
      "    Construct an array from an index array and a list of arrays to choose from.\n",
      "numpy.nditer\n",
      "    Efficient multi-dimensional iterator object to iterate over arrays.\n",
      "numpy.maximum\n",
      "    Element-wise maximum of array elements.\n",
      "numpy.minimum\n",
      "    Element-wise minimum of array elements.\n",
      "numpy.meshgrid\n",
      "    Return coordinate matrices from coordinate vectors.\n",
      "numpy.swapaxes\n",
      "    Interchange two axes of an array.\n",
      "numpy.full_like\n",
      "    Return a full array with the same shape and type as a given array.\n",
      "numpy.ones_like\n",
      "    Return an array of ones with the same shape and type as a given array.\n",
      "numpy.rec.array\n",
      "    Construct a record array from a wide-variety of objects.\n",
      "numpy.bitwise_or\n",
      "    Compute the bit-wise OR of two arrays element-wise.\n",
      "numpy.datetime64\n",
      "    If created from a 64-bit integer, it represents an offset from\n",
      "numpy.empty_like\n",
      "    Return a new array with the same shape and type as a given array.\n",
      "numpy.frombuffer\n",
      "    Interpret a buffer as a 1-dimensional array.\n",
      "numpy.zeros_like\n",
      "    Return an array of zeros with the same shape and type as a given array.\n",
      "numpy.asarray_chkfinite\n",
      "    Convert the input to an array, checking for NaNs or Infs.\n",
      "numpy.bitwise_and\n",
      "    Compute the bit-wise AND of two arrays element-wise.\n",
      "numpy.bitwise_xor\n",
      "    Compute the bit-wise XOR of two arrays element-wise.\n",
      "numpy.float_power\n",
      "    First array elements raised to powers from second array, element-wise.\n",
      "numpy.diag_indices\n",
      "    Return the indices to access the main diagonal of an array.\n",
      "numpy.ma.exp\n",
      "    Calculate the exponential of all elements in the input array.\n",
      "numpy.nested_iters\n",
      "    Create nditers for use in nested loops\n",
      "numpy.ma.mrecords.MaskedRecords.__new__\n",
      "    Create a new masked array from scratch.\n",
      "numpy.ma.sqrt\n",
      "    Return the non-negative square-root of an array, element-wise.\n",
      "numpy.ma.log10\n",
      "    Return the base 10 logarithm of the input array, element-wise.\n",
      "numpy.chararray.tolist\n",
      "    a.tolist()\n",
      "numpy.put_along_axis\n",
      "    Put values into the destination array by matching 1d index and data slices.\n",
      "numpy.ma.choose\n",
      "    Use an index array to construct a new array from a list of choices.\n",
      "numpy.ma.maximum\n",
      "    Element-wise maximum of array elements.\n",
      "numpy.ma.minimum\n",
      "    Element-wise minimum of array elements.\n",
      "numpy.savez_compressed\n",
      "    Save several arrays into a single file in compressed ``.npz`` format.\n",
      "numpy.matlib.rand\n",
      "    Return a matrix of random values with given shape.\n",
      "numpy.datetime_as_string\n",
      "    Convert an array of datetimes into an array of strings.\n",
      "numpy.ma.ones_like\n",
      "    Return an array of ones with the same shape and type as a given array.\n",
      "numpy.ma.bitwise_or\n",
      "    Compute the bit-wise OR of two arrays element-wise.\n",
      "numpy.ma.frombuffer\n",
      "    Interpret a buffer as a 1-dimensional array.\n",
      "numpy.ma.zeros_like\n",
      "    Return an array of zeros with the same shape and type as a given array.\n",
      "numpy.ma.bitwise_and\n",
      "    Compute the bit-wise AND of two arrays element-wise.\n",
      "numpy.ma.bitwise_xor\n",
      "    Compute the bit-wise XOR of two arrays element-wise.\n",
      "numpy.ma.make_mask_none\n",
      "    Return a boolean mask of the given shape, filled with False.\n",
      "numpy.ma.tests.test_subclassing.MSubArray.__new__\n",
      "    Create a new masked array from scratch.\n",
      "numpy.ma.tests.test_subclassing.SubMaskedArray.__new__\n",
      "    Create a new masked array from scratch.\n",
      "numpy.ma.mrecords.fromrecords\n",
      "    Creates a MaskedRecords from a list of records.\n",
      "numpy.abs\n",
      "    Calculate the absolute value element-wise.\n",
      "numpy.add\n",
      "    Add arguments element-wise.\n",
      "numpy.cos\n",
      "    Cosine element-wise.\n",
      "numpy.log\n",
      "    Natural logarithm, element-wise.\n",
      "numpy.lib.recfunctions.require_fields\n",
      "    Casts a structured array to a new dtype using assignment by field-name.\n",
      "numpy.mod\n",
      "    Returns the element-wise remainder of division.\n",
      "numpy.sin\n",
      "    Trigonometric sine, element-wise.\n",
      "numpy.tan\n",
      "    Compute tangent element-wise.\n",
      "numpy.ceil\n",
      "    Return the ceiling of the input, element-wise.\n",
      "numpy.conj\n",
      "    Return the complex conjugate, element-wise.\n",
      "numpy.cosh\n",
      "    Hyperbolic cosine, element-wise.\n",
      "numpy.fabs\n",
      "    Compute the absolute values element-wise.\n",
      "numpy.fmod\n",
      "    Returns the element-wise remainder of division.\n",
      "numpy.less\n",
      "    Return the truth value of (x1 < x2) element-wise.\n",
      "numpy.log2\n",
      "    Base-2 logarithm of `x`.\n",
      "numpy.sign\n",
      "    Returns an element-wise indication of the sign of a number.\n",
      "numpy.sinh\n",
      "    Hyperbolic sine, element-wise.\n",
      "numpy.tanh\n",
      "    Compute hyperbolic tangent element-wise.\n",
      "numpy.equal\n",
      "    Return (x1 == x2) element-wise.\n",
      "numpy.floor\n",
      "    Return the floor of the input, element-wise.\n",
      "numpy.frexp\n",
      "    Decompose the elements of x into mantissa and twos exponent.\n",
      "numpy.hypot\n",
      "    Given the \"legs\" of a right triangle, return its hypotenuse.\n",
      "numpy.isinf\n",
      "    Test element-wise for positive or negative infinity.\n",
      "numpy.ldexp\n",
      "    Returns x1 * 2**x2, element-wise.\n",
      "numpy.trunc\n",
      "    Return the truncated value of the input, element-wise.\n",
      "numpy.arccos\n",
      "    Trigonometric inverse cosine, element-wise.\n",
      "numpy.arcsin\n",
      "    Inverse sine, element-wise.\n",
      "numpy.arctan\n",
      "    Trigonometric inverse tangent, element-wise.\n",
      "numpy.around\n",
      "    Evenly round to the given number of decimals.\n",
      "numpy.divide\n",
      "    Divide arguments element-wise.\n",
      "numpy.divmod\n",
      "    Return element-wise quotient and remainder simultaneously.\n",
      "numpy.source\n",
      "    Print or write to a file the source code for a NumPy object.\n",
      "numpy.square\n",
      "    Return the element-wise square of the input.\n",
      "numpy.arccosh\n",
      "    Inverse hyperbolic cosine, element-wise.\n",
      "numpy.arcsinh\n",
      "    Inverse hyperbolic sine element-wise.\n",
      "numpy.arctan2\n",
      "    Element-wise arc tangent of ``x1/x2`` choosing the quadrant correctly.\n",
      "numpy.arctanh\n",
      "    Inverse hyperbolic tangent element-wise.\n",
      "numpy.deg2rad\n",
      "    Convert angles from degrees to radians.\n",
      "numpy.degrees\n",
      "    Convert angles from radians to degrees.\n",
      "numpy.greater\n",
      "    Return the truth value of (x1 > x2) element-wise.\n",
      "numpy.rad2deg\n",
      "    Convert angles from radians to degrees.\n",
      "numpy.radians\n",
      "    Convert angles from degrees to radians.\n",
      "numpy.signbit\n",
      "    Returns element-wise True where signbit is set (less than zero).\n",
      "numpy.spacing\n",
      "    Return the distance between x and the nearest adjacent number.\n",
      "numpy.copysign\n",
      "    Change the sign of x1 to that of x2, element-wise.\n",
      "numpy.diagonal\n",
      "    Return specified diagonals.\n",
      "numpy.isfinite\n",
      "    Test element-wise for finiteness (not infinity and not Not a Number).\n",
      "numpy.multiply\n",
      "    Multiply arguments element-wise.\n",
      "numpy.negative\n",
      "    Numerical negative, element-wise.\n",
      "numpy.subtract\n",
      "    Subtract arguments, element-wise.\n",
      "numpy.heaviside\n",
      "    Compute the Heaviside step function.\n",
      "numpy.logaddexp\n",
      "    Logarithm of the sum of exponentiations of the inputs.\n",
      "numpy.nextafter\n",
      "    Return the next floating-point value after x1 towards x2, element-wise.\n",
      "numpy.not_equal\n",
      "    Return (x1 != x2) element-wise.\n",
      "numpy.left_shift\n",
      "    Shift the bits of an integer to the left.\n",
      "numpy.less_equal\n",
      "    Return the truth value of (x1 <= x2) element-wise.\n",
      "numpy.logaddexp2\n",
      "    Logarithm of the sum of exponentiations of the inputs in base-2.\n",
      "numpy.logical_or\n",
      "    Compute the truth value of x1 OR x2 element-wise.\n",
      "numpy.nan_to_num\n",
      "    Replace NaN with zero and infinity with large finite numbers (default\n",
      "numpy.reciprocal\n",
      "    Return the reciprocal of the argument, element-wise.\n",
      "numpy.bitwise_not\n",
      "    Compute bit-wise inversion, or bit-wise NOT, element-wise.\n",
      "numpy.einsum_path\n",
      "    Evaluates the lowest cost contraction order for an einsum expression by\n",
      "numpy.histogram2d\n",
      "    Compute the bi-dimensional histogram of two data samples.\n",
      "numpy.logical_and\n",
      "    Compute the truth value of x1 AND x2 element-wise.\n",
      "numpy.logical_not\n",
      "    Compute the truth value of NOT x element-wise.\n",
      "numpy.logical_xor\n",
      "    Compute the truth value of x1 XOR x2, element-wise.\n",
      "numpy.right_shift\n",
      "    Shift the bits of an integer to the right.\n",
      "numpy.ma.abs\n",
      "    Calculate the absolute value element-wise.\n",
      "numpy.ma.add\n",
      "    Add arguments element-wise.\n",
      "numpy.ma.cos\n",
      "    Cosine element-wise.\n",
      "numpy.floor_divide\n",
      "    Return the largest integer smaller or equal to the division of the inputs.\n",
      "numpy.ma.log\n",
      "    Natural logarithm, element-wise.\n",
      "numpy.ma.mod\n",
      "    Returns the element-wise remainder of division.\n",
      "numpy.ma.sin\n",
      "    Trigonometric sine, element-wise.\n",
      "numpy.ma.tan\n",
      "    Compute tangent element-wise.\n",
      "numpy.ma.ceil\n",
      "    Return the ceiling of the input, element-wise.\n",
      "numpy.fft.ifft\n",
      "    Compute the one-dimensional inverse discrete Fourier Transform.\n",
      "numpy.ma.cosh\n",
      "    Hyperbolic cosine, element-wise.\n",
      "numpy.ma.fabs\n",
      "    Compute the absolute values element-wise.\n",
      "numpy.ma.fmod\n",
      "    Returns the element-wise remainder of division.\n",
      "numpy.greater_equal\n",
      "    Return the truth value of (x1 >= x2) element-wise.\n",
      "numpy.ma.less\n",
      "    Return the truth value of (x1 < x2) element-wise.\n",
      "numpy.ma.log2\n",
      "    Base-2 logarithm of `x`.\n",
      "numpy.ma.sinh\n",
      "    Hyperbolic sine, element-wise.\n",
      "numpy.ma.tanh\n",
      "    Compute hyperbolic tangent element-wise.\n",
      "numpy.ma.tests.test_subclassing.SubArray\n",
      "    ndarray(shape, dtype=float, buffer=None, offset=0,\n",
      "numpy.busdaycalendar\n",
      "    A business day calendar object that efficiently stores information\n",
      "numpy.fft.ifftn\n",
      "    Compute the N-dimensional inverse discrete Fourier Transform.\n",
      "numpy.ma.equal\n",
      "    Return (x1 == x2) element-wise.\n",
      "numpy.ma.floor\n",
      "    Return the floor of the input, element-wise.\n",
      "numpy.ma.hypot\n",
      "    Given the \"legs\" of a right triangle, return its hypotenuse.\n",
      "numpy.ma.arccos\n",
      "    Trigonometric inverse cosine, element-wise.\n",
      "numpy.ma.arcsin\n",
      "    Inverse sine, element-wise.\n",
      "numpy.ma.arctan\n",
      "    Trigonometric inverse tangent, element-wise.\n",
      "numpy.ma.divide\n",
      "    Divide arguments element-wise.\n",
      "numpy.lib.recfunctions.unstructured_to_structured\n",
      "    Converts an n-D unstructured array into an (n-1)-D structured array.\n",
      "numpy.ma.arccosh\n",
      "    Inverse hyperbolic cosine, element-wise.\n",
      "numpy.ma.arcsinh\n",
      "    Inverse hyperbolic sine element-wise.\n",
      "numpy.ma.arctan2\n",
      "    Element-wise arc tangent of ``x1/x2`` choosing the quadrant correctly.\n",
      "numpy.ma.arctanh\n",
      "    Inverse hyperbolic tangent element-wise.\n",
      "numpy.ma.greater\n",
      "    Return the truth value of (x1 > x2) element-wise.\n",
      "numpy.ma.multiply\n",
      "    Multiply arguments element-wise.\n",
      "numpy.ma.negative\n",
      "    Numerical negative, element-wise.\n",
      "numpy.ma.subtract\n",
      "    Subtract arguments, element-wise.\n",
      "numpy.ma.conjugate\n",
      "    Return the complex conjugate, element-wise.\n",
      "numpy.ma.not_equal\n",
      "    Return (x1 != x2) element-wise.\n",
      "numpy.ma.remainder\n",
      "    Returns the element-wise remainder of division.\n",
      "numpy.ma.empty_like\n",
      "    empty_like(prototype, dtype=None, order='K', subok=True, shape=None)\n",
      "numpy.ma.less_equal\n",
      "    Return the truth value of (x1 <= x2) element-wise.\n",
      "numpy.ma.logical_or\n",
      "    Compute the truth value of x1 OR x2 element-wise.\n",
      "numpy.ma.logical_and\n",
      "    Compute the truth value of x1 AND x2 element-wise.\n",
      "numpy.ma.logical_not\n",
      "    Compute the truth value of NOT x element-wise.\n",
      "numpy.ma.logical_xor\n",
      "    Compute the truth value of x1 XOR x2, element-wise.\n",
      "numpy.ma.true_divide\n",
      "    Divide arguments element-wise.\n",
      "numpy.ma.floor_divide\n",
      "    Return the largest integer smaller or equal to the division of the inputs.\n",
      "numpy.ma.greater_equal\n",
      "    Return the truth value of (x1 >= x2) element-wise.\n",
      "numpy.ma.tests.test_subclassing.ComplicatedSubArray\n",
      "    ndarray(shape, dtype=float, buffer=None, offset=0,\n",
      "numpy.random.RandomState.rand\n",
      "    Random values in a given shape.\n",
      "numpy.random.Generator.permuted\n",
      "    Randomly permute `x` along axis `axis`."
     ]
    }
   ],
   "source": [
    "# Looking for some stuff\n",
    "np.lookfor('create array') "
   ]
  },
  {
   "cell_type": "code",
   "execution_count": 10,
   "metadata": {
    "id": "KoaEdrtu0IZL",
    "ExecuteTime": {
     "start_time": "2023-04-19T16:34:21.995394Z",
     "end_time": "2023-04-19T16:34:22.022374Z"
    }
   },
   "outputs": [],
   "source": [
    "# Looking for something when some parts of the word are known\n",
    "np.con*?"
   ]
  },
  {
   "cell_type": "markdown",
   "metadata": {
    "id": "7df4nf3N01j4"
   },
   "source": [
    "### Manual creation of arrays"
   ]
  },
  {
   "cell_type": "markdown",
   "metadata": {
    "id": "g38RFzmI1Pq0"
   },
   "source": [
    "#### 1D"
   ]
  },
  {
   "cell_type": "code",
   "execution_count": 11,
   "metadata": {
    "colab": {
     "base_uri": "https://localhost:8080/"
    },
    "id": "UAKQlq2t1AUB",
    "outputId": "e03770aa-c08a-4239-8398-f2837a462f56",
    "ExecuteTime": {
     "start_time": "2023-04-19T16:34:41.831414Z",
     "end_time": "2023-04-19T16:34:41.870496Z"
    }
   },
   "outputs": [
    {
     "name": "stdout",
     "output_type": "stream",
     "text": [
      "Array  [0 1 2 3]\n",
      "\n",
      "Number of dimension  1\n",
      "\n",
      "Shape of the array  (4,)\n",
      "\n",
      "Lenght of array  4\n"
     ]
    }
   ],
   "source": [
    "# Create 1D array\n",
    "a = np.array([0, 1, 2, 3])\n",
    "print(\"Array \", a)\n",
    "\n",
    "# Print dimensions of array\n",
    "print(\"\\nNumber of dimension \", a.ndim)\n",
    "\n",
    "# Print shape of array\n",
    "print(\"\\nShape of the array \", a.shape)\n",
    "\n",
    "# Print the lenght of the array\n",
    "print(\"\\nLenght of array \", len(a))\n"
   ]
  },
  {
   "cell_type": "markdown",
   "metadata": {
    "id": "58MxBexc2igs"
   },
   "source": [
    "#### 2D, 3D..."
   ]
  },
  {
   "cell_type": "code",
   "execution_count": 12,
   "metadata": {
    "colab": {
     "base_uri": "https://localhost:8080/"
    },
    "id": "srqagUuu2lu1",
    "outputId": "b68bde63-2a69-4fa1-89f4-559f3dda404f",
    "ExecuteTime": {
     "start_time": "2023-04-19T16:34:57.904187Z",
     "end_time": "2023-04-19T16:34:57.924631Z"
    }
   },
   "outputs": [
    {
     "name": "stdout",
     "output_type": "stream",
     "text": [
      "2x3array \n",
      " [[0 1 2]\n",
      " [3 4 5]]\n",
      "\n",
      "2x3 array dimensions  2\n",
      "\n",
      "2x3 array shape  (2, 3)\n",
      "\n",
      "Lenght of 2x3 array  2\n",
      "\n",
      "Lenght (first dimension) of 2x3 array  3\n",
      "\n",
      "Lenght (second dimension) of 2x3 array  3\n"
     ]
    },
    {
     "data": {
      "text/plain": "array([0, 1, 2])"
     },
     "execution_count": 12,
     "metadata": {},
     "output_type": "execute_result"
    },
    {
     "data": {
      "text/plain": "array([3, 4, 5])"
     },
     "execution_count": 12,
     "metadata": {},
     "output_type": "execute_result"
    }
   ],
   "source": [
    "# Create 2x3 array\n",
    "b = np.array([[0, 1, 2], [3, 4, 5]]) \n",
    "print(\"2x3array \\n\", b)\n",
    "\n",
    "# Print array dimensions\n",
    "print(\"\\n2x3 array dimensions \", b.ndim)\n",
    "\n",
    "#Print array shape\n",
    "print(\"\\n2x3 array shape \", b.shape)\n",
    "\n",
    "# Print length of 2x3 array (the first dimension)\n",
    "print(\"\\nLenght of 2x3 array \", len(b))\n",
    "print(\"\\nLenght (first dimension) of 2x3 array \", len(b[0]))\n",
    "print(\"\\nLenght (second dimension) of 2x3 array \", len(b[1]))\n",
    "\n",
    "b[0]\n",
    "b[1]"
   ]
  },
  {
   "cell_type": "code",
   "execution_count": 13,
   "metadata": {
    "colab": {
     "base_uri": "https://localhost:8080/"
    },
    "id": "vF1xb1FW2wWS",
    "outputId": "95ebbbf6-4063-4220-862f-83d326705e90",
    "ExecuteTime": {
     "start_time": "2023-04-19T16:34:58.772054Z",
     "end_time": "2023-04-19T16:34:58.798404Z"
    }
   },
   "outputs": [
    {
     "name": "stdout",
     "output_type": "stream",
     "text": [
      "3x2x3 array \n",
      " [[[ 0  1  2]\n",
      "  [ 3  4  5]]\n",
      "\n",
      " [[ 6  7  8]\n",
      "  [ 9 10 11]]\n",
      "\n",
      " [[12 13 14]\n",
      "  [15 16 17]]]\n",
      "\n",
      "3x2x3 array dimensions  3\n",
      "\n",
      "3x2x3 array shape  (3, 2, 3)\n",
      "\n",
      "First dimension of 3x2x3 array  2\n",
      "\n",
      "Second dimension of 3x2x3 array  2\n",
      "\n",
      "Third dimension of 3x2x3 array  2\n",
      "\n",
      "First dimension \n",
      " [[0 1 2]\n",
      " [3 4 5]]\n",
      "\n",
      "First dimension \n",
      " [[ 6  7  8]\n",
      " [ 9 10 11]]\n",
      "\n",
      "First dimension \n",
      " [[12 13 14]\n",
      " [15 16 17]]\n"
     ]
    }
   ],
   "source": [
    "# Create 3x2x3 array\n",
    "b = np.array([[[0, 1, 2], [3, 4, 5]], \n",
    "              [[6, 7, 8], [9, 10, 11]], \n",
    "              [[12, 13, 14], [15, 16, 17]]]) \n",
    "print(\"3x2x3 array \\n\", b)\n",
    "\n",
    "# Print array dimensions\n",
    "print(\"\\n3x2x3 array dimensions \", b.ndim)\n",
    "\n",
    "#Print array shape\n",
    "print(\"\\n3x2x3 array shape \", b.shape)\n",
    "\n",
    "# Print length of 3x2x3 array (the first dimension)\n",
    "print(\"\\nFirst dimension of 3x2x3 array \", len(b[0]))\n",
    "print(\"\\nSecond dimension of 3x2x3 array \", len(b[1]))\n",
    "print(\"\\nThird dimension of 3x2x3 array \", len(b[2]))\n",
    "\n",
    "print(\"\\nFirst dimension \\n\", b[0])\n",
    "print(\"\\nFirst dimension \\n\", b[1])\n",
    "print(\"\\nFirst dimension \\n\", b[2])"
   ]
  },
  {
   "cell_type": "markdown",
   "metadata": {
    "id": "x0Svpviz-voT"
   },
   "source": [
    "### Creating arrays"
   ]
  },
  {
   "cell_type": "markdown",
   "metadata": {
    "id": "dcb4RLIw-zQc"
   },
   "source": [
    "#### np.arange: enter data evenly spaced\n",
    "Return evenly spaced values within a given interval.\n",
    "\n",
    "Values are generated within the half-open interval ``[start, stop)``\n",
    "(in other words, the interval including `start` but excluding `stop`).\n",
    "For integer arguments the function is equivalent to the Python built-in\n",
    "`range` function, but returns an ndarray rather than a list.\n",
    "\n",
    "When using a non-integer step, such as 0.1, the results will often not\n",
    "be consistent.  It is better to use `numpy.linspace` for these cases."
   ]
  },
  {
   "cell_type": "code",
   "execution_count": 14,
   "metadata": {
    "colab": {
     "base_uri": "https://localhost:8080/"
    },
    "id": "7jD1yQVz_HKf",
    "outputId": "07df97b7-b8f8-4e04-9d7e-ead81d2bba42",
    "ExecuteTime": {
     "start_time": "2023-04-19T16:47:35.150535Z",
     "end_time": "2023-04-19T16:47:35.186714Z"
    }
   },
   "outputs": [
    {
     "data": {
      "text/plain": "array([0, 1, 2, 3, 4, 5, 6, 7, 8, 9])"
     },
     "execution_count": 14,
     "metadata": {},
     "output_type": "execute_result"
    },
    {
     "name": "stdout",
     "output_type": "stream",
     "text": [
      "\n"
     ]
    },
    {
     "data": {
      "text/plain": "array([0, 2, 4, 6, 8])"
     },
     "execution_count": 14,
     "metadata": {},
     "output_type": "execute_result"
    }
   ],
   "source": [
    "a = np.arange(10) # 0 .. n-1 \n",
    "a\n",
    "\n",
    "print(\"\")\n",
    "\n",
    "b = np.arange(0, 10, 2) # start, end (exclusive), step\n",
    "b"
   ]
  },
  {
   "cell_type": "markdown",
   "metadata": {
    "id": "k8jX8tND_hE4"
   },
   "source": [
    "#### np.linspace: enter data by points\n",
    "Return evenly spaced numbers over a specified interval.\n",
    "\n",
    "Returns num evenly spaced samples, calculated over the interval `[start, stop]`.\n",
    "\n",
    "The endpoint of the interval can optionally be excluded."
   ]
  },
  {
   "cell_type": "code",
   "execution_count": 15,
   "metadata": {
    "colab": {
     "base_uri": "https://localhost:8080/"
    },
    "id": "K0JaDGQ__tZ3",
    "outputId": "ba4486c9-201f-45af-b26a-6ad0c570cc6d",
    "ExecuteTime": {
     "start_time": "2023-04-19T16:47:35.841187Z",
     "end_time": "2023-04-19T16:47:35.887152Z"
    }
   },
   "outputs": [
    {
     "data": {
      "text/plain": "array([0. , 0.2, 0.4, 0.6, 0.8, 1. ])"
     },
     "execution_count": 15,
     "metadata": {},
     "output_type": "execute_result"
    },
    {
     "name": "stdout",
     "output_type": "stream",
     "text": [
      "\n"
     ]
    },
    {
     "data": {
      "text/plain": "array([0. , 0.2, 0.4, 0.6, 0.8])"
     },
     "execution_count": 15,
     "metadata": {},
     "output_type": "execute_result"
    },
    {
     "name": "stdout",
     "output_type": "stream",
     "text": [
      "\n"
     ]
    },
    {
     "data": {
      "text/plain": "array([0.  , 0.25, 0.5 , 0.75, 1.  ])"
     },
     "execution_count": 15,
     "metadata": {},
     "output_type": "execute_result"
    }
   ],
   "source": [
    "c = np.linspace(0, 1, 6)   # start, end, num-points\n",
    "c\n",
    "\n",
    "print(\"\")\n",
    "\n",
    "d = np.linspace(0, 1, 5, endpoint=False)\n",
    "d\n",
    "\n",
    "print(\"\")\n",
    "\n",
    "e = np.linspace(0, 1, 5, endpoint=True)\n",
    "e"
   ]
  },
  {
   "cell_type": "markdown",
   "metadata": {
    "id": "Q5iV5pGDBScG"
   },
   "source": [
    "### Other common array creation functions"
   ]
  },
  {
   "cell_type": "markdown",
   "metadata": {
    "id": "De3i-v6gBezO"
   },
   "source": [
    "#### np.ones"
   ]
  },
  {
   "cell_type": "code",
   "execution_count": 16,
   "metadata": {
    "colab": {
     "base_uri": "https://localhost:8080/"
    },
    "id": "K-Vq7b2hnr2Z",
    "outputId": "c68967e4-bed9-441b-88c6-d9a7dd058706",
    "ExecuteTime": {
     "start_time": "2023-04-19T16:47:37.182545Z",
     "end_time": "2023-04-19T16:47:37.204337Z"
    }
   },
   "outputs": [
    {
     "name": "stdout",
     "output_type": "stream",
     "text": [
      "2D array filled with ones\n"
     ]
    },
    {
     "data": {
      "text/plain": "array([[1., 1., 1.],\n       [1., 1., 1.],\n       [1., 1., 1.]])"
     },
     "execution_count": 16,
     "metadata": {},
     "output_type": "execute_result"
    },
    {
     "name": "stdout",
     "output_type": "stream",
     "text": [
      "\n",
      "\n",
      "3D array filled with ones\n"
     ]
    },
    {
     "data": {
      "text/plain": "array([[[1., 1., 1.],\n        [1., 1., 1.],\n        [1., 1., 1.]],\n\n       [[1., 1., 1.],\n        [1., 1., 1.],\n        [1., 1., 1.]],\n\n       [[1., 1., 1.],\n        [1., 1., 1.],\n        [1., 1., 1.]]])"
     },
     "execution_count": 16,
     "metadata": {},
     "output_type": "execute_result"
    }
   ],
   "source": [
    "# Creates an array filled with ones, passing a tuple of the size\n",
    "print(\"2D array filled with ones\")\n",
    "a = np.ones((3, 3)) \n",
    "a\n",
    "\n",
    "print(\"\\n\\n3D array filled with ones\")\n",
    "\n",
    "b = np.ones((3, 3, 3))\n",
    "b"
   ]
  },
  {
   "cell_type": "markdown",
   "metadata": {
    "id": "TgXQ9Bd1Bph_"
   },
   "source": [
    "#### np.zeros"
   ]
  },
  {
   "cell_type": "code",
   "execution_count": 17,
   "metadata": {
    "colab": {
     "base_uri": "https://localhost:8080/"
    },
    "id": "XVxxMga46T-B",
    "outputId": "e0479bb2-4260-49f9-c8a1-3e51105b5438",
    "ExecuteTime": {
     "start_time": "2023-04-19T16:47:38.146703Z",
     "end_time": "2023-04-19T16:47:38.168497Z"
    }
   },
   "outputs": [
    {
     "data": {
      "text/plain": "array([[0., 0.],\n       [0., 0.]])"
     },
     "execution_count": 17,
     "metadata": {},
     "output_type": "execute_result"
    }
   ],
   "source": [
    "# Fill up an array with zeros\n",
    "b = np.zeros((2, 2))\n",
    "b"
   ]
  },
  {
   "cell_type": "markdown",
   "metadata": {
    "id": "XaZrdgwTBwZ5"
   },
   "source": [
    "#### np.eye"
   ]
  },
  {
   "cell_type": "code",
   "execution_count": 18,
   "metadata": {
    "colab": {
     "base_uri": "https://localhost:8080/"
    },
    "id": "oznCuhy68n4b",
    "outputId": "c839ab53-aa31-4bdd-c959-78f758c0eb33",
    "ExecuteTime": {
     "start_time": "2023-04-19T16:47:39.006512Z",
     "end_time": "2023-04-19T16:47:39.027719Z"
    }
   },
   "outputs": [
    {
     "data": {
      "text/plain": "array([[1., 0., 0., 0., 0.],\n       [0., 1., 0., 0., 0.],\n       [0., 0., 1., 0., 0.],\n       [0., 0., 0., 1., 0.],\n       [0., 0., 0., 0., 1.]])"
     },
     "execution_count": 18,
     "metadata": {},
     "output_type": "execute_result"
    }
   ],
   "source": [
    "# Returns a 2-D array with ones on the diagonal and zeros elsewhere\n",
    "c = np.eye(5)\n",
    "c"
   ]
  },
  {
   "cell_type": "markdown",
   "metadata": {
    "id": "j7kPI0FpB0MU"
   },
   "source": [
    "#### np.diag\n",
    "Extract a diagonal or construct a diagonal array."
   ]
  },
  {
   "cell_type": "code",
   "execution_count": 19,
   "metadata": {
    "colab": {
     "base_uri": "https://localhost:8080/"
    },
    "id": "bmSwAPWM8s2o",
    "outputId": "4f672ccc-82cb-4277-c9ee-49419884c444",
    "ExecuteTime": {
     "start_time": "2023-04-19T16:47:41.366630Z",
     "end_time": "2023-04-19T16:47:41.398474Z"
    }
   },
   "outputs": [
    {
     "data": {
      "text/plain": "array([[1, 0, 0, 0, 0],\n       [0, 1, 0, 0, 0],\n       [0, 0, 1, 0, 0],\n       [0, 0, 0, 1, 0],\n       [0, 0, 0, 0, 1]])"
     },
     "execution_count": 19,
     "metadata": {},
     "output_type": "execute_result"
    }
   ],
   "source": [
    "d = np.diag(np.array([1, 1, 1, 1, 1]))\n",
    "d"
   ]
  },
  {
   "cell_type": "markdown",
   "metadata": {
    "id": "KC_Ls8KqB3Ud"
   },
   "source": [
    "#### np.random"
   ]
  },
  {
   "cell_type": "code",
   "execution_count": 20,
   "metadata": {
    "colab": {
     "base_uri": "https://localhost:8080/"
    },
    "id": "S7jfAQeM8uKJ",
    "outputId": "fb3d7636-0626-471e-cbfb-771e03d0c437",
    "ExecuteTime": {
     "start_time": "2023-04-19T16:47:42.298912Z",
     "end_time": "2023-04-19T16:47:42.319519Z"
    }
   },
   "outputs": [
    {
     "data": {
      "text/plain": "array([0.81366289, 0.82378444, 0.43997805, 0.32562928])"
     },
     "execution_count": 20,
     "metadata": {},
     "output_type": "execute_result"
    },
    {
     "name": "stdout",
     "output_type": "stream",
     "text": [
      "\n",
      " [-1.10637923 -0.23751494  0.27588458 -1.83669581]\n"
     ]
    }
   ],
   "source": [
    "# Random set between 0-1\n",
    "a = np.random.rand(4)       \n",
    "a  \n",
    "\n",
    "# Random with Gaussian distribution\n",
    "b = np.random.randn(4)    \n",
    "print(\"\\n\", b)   "
   ]
  },
  {
   "cell_type": "markdown",
   "metadata": {
    "id": "CLL5f7Ov7QO9",
    "jp-MarkdownHeadingCollapsed": true,
    "tags": []
   },
   "source": [
    "## Understanding arrays: k3d\n",
    "\n",
    "We will install the **k3d** library, which allows to visualize arrays in 3D.\n",
    "\n",
    "The following visualisations can best be done in a jupiter notebook. In PyCharm, the visualisations are not shown.\n"
   ]
  },
  {
   "cell_type": "code",
   "execution_count": 21,
   "metadata": {
    "id": "fld2LbKO7Yds",
    "ExecuteTime": {
     "start_time": "2023-04-19T16:47:43.007880Z",
     "end_time": "2023-04-19T16:47:46.662981Z"
    }
   },
   "outputs": [
    {
     "name": "stdout",
     "output_type": "stream",
     "text": [
      "Requirement already satisfied: k3d in /Users/erictak/miniconda3/lib/python3.10/site-packages (2.15.2)\r\n",
      "Requirement already satisfied: traitlets in /Users/erictak/miniconda3/lib/python3.10/site-packages (from k3d) (5.7.1)\r\n",
      "Requirement already satisfied: msgpack in /Users/erictak/miniconda3/lib/python3.10/site-packages (from k3d) (1.0.5)\r\n",
      "Requirement already satisfied: traittypes in /Users/erictak/miniconda3/lib/python3.10/site-packages (from k3d) (0.2.1)\r\n",
      "Requirement already satisfied: numpy in /Users/erictak/miniconda3/lib/python3.10/site-packages (from k3d) (1.24.2)\r\n",
      "Requirement already satisfied: ipywidgets<9.0.0,>=7.0.0 in /Users/erictak/miniconda3/lib/python3.10/site-packages (from k3d) (8.0.4)\r\n",
      "Requirement already satisfied: ipykernel>=4.5.1 in /Users/erictak/miniconda3/lib/python3.10/site-packages (from ipywidgets<9.0.0,>=7.0.0->k3d) (6.19.2)\r\n",
      "Requirement already satisfied: ipython>=6.1.0 in /Users/erictak/miniconda3/lib/python3.10/site-packages (from ipywidgets<9.0.0,>=7.0.0->k3d) (8.12.0)\r\n",
      "Requirement already satisfied: jupyterlab-widgets~=3.0 in /Users/erictak/miniconda3/lib/python3.10/site-packages (from ipywidgets<9.0.0,>=7.0.0->k3d) (3.0.5)\r\n",
      "Requirement already satisfied: widgetsnbextension~=4.0 in /Users/erictak/miniconda3/lib/python3.10/site-packages (from ipywidgets<9.0.0,>=7.0.0->k3d) (4.0.5)\r\n",
      "Requirement already satisfied: pyzmq>=17 in /Users/erictak/miniconda3/lib/python3.10/site-packages (from ipykernel>=4.5.1->ipywidgets<9.0.0,>=7.0.0->k3d) (23.2.0)\r\n",
      "Requirement already satisfied: matplotlib-inline>=0.1 in /Users/erictak/miniconda3/lib/python3.10/site-packages (from ipykernel>=4.5.1->ipywidgets<9.0.0,>=7.0.0->k3d) (0.1.6)\r\n",
      "Requirement already satisfied: psutil in /Users/erictak/miniconda3/lib/python3.10/site-packages (from ipykernel>=4.5.1->ipywidgets<9.0.0,>=7.0.0->k3d) (5.9.4)\r\n",
      "Requirement already satisfied: tornado>=6.1 in /Users/erictak/miniconda3/lib/python3.10/site-packages (from ipykernel>=4.5.1->ipywidgets<9.0.0,>=7.0.0->k3d) (6.2)\r\n",
      "Requirement already satisfied: jupyter-client>=6.1.12 in /Users/erictak/miniconda3/lib/python3.10/site-packages (from ipykernel>=4.5.1->ipywidgets<9.0.0,>=7.0.0->k3d) (8.1.0)\r\n",
      "Requirement already satisfied: nest-asyncio in /Users/erictak/miniconda3/lib/python3.10/site-packages (from ipykernel>=4.5.1->ipywidgets<9.0.0,>=7.0.0->k3d) (1.5.6)\r\n",
      "Requirement already satisfied: packaging in /Users/erictak/miniconda3/lib/python3.10/site-packages (from ipykernel>=4.5.1->ipywidgets<9.0.0,>=7.0.0->k3d) (23.0)\r\n",
      "Requirement already satisfied: appnope in /Users/erictak/miniconda3/lib/python3.10/site-packages (from ipykernel>=4.5.1->ipywidgets<9.0.0,>=7.0.0->k3d) (0.1.2)\r\n",
      "Requirement already satisfied: debugpy>=1.0 in /Users/erictak/miniconda3/lib/python3.10/site-packages (from ipykernel>=4.5.1->ipywidgets<9.0.0,>=7.0.0->k3d) (1.5.1)\r\n",
      "Requirement already satisfied: comm>=0.1.1 in /Users/erictak/miniconda3/lib/python3.10/site-packages (from ipykernel>=4.5.1->ipywidgets<9.0.0,>=7.0.0->k3d) (0.1.2)\r\n",
      "Requirement already satisfied: pexpect>4.3 in /Users/erictak/miniconda3/lib/python3.10/site-packages (from ipython>=6.1.0->ipywidgets<9.0.0,>=7.0.0->k3d) (4.8.0)\r\n",
      "Requirement already satisfied: backcall in /Users/erictak/miniconda3/lib/python3.10/site-packages (from ipython>=6.1.0->ipywidgets<9.0.0,>=7.0.0->k3d) (0.2.0)\r\n",
      "Requirement already satisfied: pickleshare in /Users/erictak/miniconda3/lib/python3.10/site-packages (from ipython>=6.1.0->ipywidgets<9.0.0,>=7.0.0->k3d) (0.7.5)\r\n",
      "Requirement already satisfied: prompt-toolkit!=3.0.37,<3.1.0,>=3.0.30 in /Users/erictak/miniconda3/lib/python3.10/site-packages (from ipython>=6.1.0->ipywidgets<9.0.0,>=7.0.0->k3d) (3.0.36)\r\n",
      "Requirement already satisfied: jedi>=0.16 in /Users/erictak/miniconda3/lib/python3.10/site-packages (from ipython>=6.1.0->ipywidgets<9.0.0,>=7.0.0->k3d) (0.18.1)\r\n",
      "Requirement already satisfied: pygments>=2.4.0 in /Users/erictak/miniconda3/lib/python3.10/site-packages (from ipython>=6.1.0->ipywidgets<9.0.0,>=7.0.0->k3d) (2.14.0)\r\n",
      "Requirement already satisfied: decorator in /Users/erictak/miniconda3/lib/python3.10/site-packages (from ipython>=6.1.0->ipywidgets<9.0.0,>=7.0.0->k3d) (5.1.1)\r\n",
      "Requirement already satisfied: stack-data in /Users/erictak/miniconda3/lib/python3.10/site-packages (from ipython>=6.1.0->ipywidgets<9.0.0,>=7.0.0->k3d) (0.2.0)\r\n",
      "Requirement already satisfied: parso<0.9.0,>=0.8.0 in /Users/erictak/miniconda3/lib/python3.10/site-packages (from jedi>=0.16->ipython>=6.1.0->ipywidgets<9.0.0,>=7.0.0->k3d) (0.8.3)\r\n",
      "Requirement already satisfied: python-dateutil>=2.8.2 in /Users/erictak/miniconda3/lib/python3.10/site-packages (from jupyter-client>=6.1.12->ipykernel>=4.5.1->ipywidgets<9.0.0,>=7.0.0->k3d) (2.8.2)\r\n",
      "Requirement already satisfied: jupyter-core!=5.0.*,>=4.12 in /Users/erictak/miniconda3/lib/python3.10/site-packages (from jupyter-client>=6.1.12->ipykernel>=4.5.1->ipywidgets<9.0.0,>=7.0.0->k3d) (5.3.0)\r\n",
      "Requirement already satisfied: ptyprocess>=0.5 in /Users/erictak/miniconda3/lib/python3.10/site-packages (from pexpect>4.3->ipython>=6.1.0->ipywidgets<9.0.0,>=7.0.0->k3d) (0.7.0)\r\n",
      "Requirement already satisfied: wcwidth in /Users/erictak/miniconda3/lib/python3.10/site-packages (from prompt-toolkit!=3.0.37,<3.1.0,>=3.0.30->ipython>=6.1.0->ipywidgets<9.0.0,>=7.0.0->k3d) (0.2.5)\r\n",
      "Requirement already satisfied: executing in /Users/erictak/miniconda3/lib/python3.10/site-packages (from stack-data->ipython>=6.1.0->ipywidgets<9.0.0,>=7.0.0->k3d) (0.8.3)\r\n",
      "Requirement already satisfied: asttokens in /Users/erictak/miniconda3/lib/python3.10/site-packages (from stack-data->ipython>=6.1.0->ipywidgets<9.0.0,>=7.0.0->k3d) (2.0.5)\r\n",
      "Requirement already satisfied: pure-eval in /Users/erictak/miniconda3/lib/python3.10/site-packages (from stack-data->ipython>=6.1.0->ipywidgets<9.0.0,>=7.0.0->k3d) (0.2.2)\r\n",
      "Requirement already satisfied: platformdirs>=2.5 in /Users/erictak/miniconda3/lib/python3.10/site-packages (from jupyter-core!=5.0.*,>=4.12->jupyter-client>=6.1.12->ipykernel>=4.5.1->ipywidgets<9.0.0,>=7.0.0->k3d) (2.5.2)\r\n",
      "Requirement already satisfied: six>=1.5 in /Users/erictak/miniconda3/lib/python3.10/site-packages (from python-dateutil>=2.8.2->jupyter-client>=6.1.12->ipykernel>=4.5.1->ipywidgets<9.0.0,>=7.0.0->k3d) (1.16.0)\r\n"
     ]
    }
   ],
   "source": [
    "# Install in your environment (venv or conda)\n",
    "!pip install k3d\n",
    "#!conda install -c conda-forge k3d"
   ]
  },
  {
   "cell_type": "code",
   "execution_count": 22,
   "metadata": {
    "id": "EatK6Y1E8MJ-",
    "ExecuteTime": {
     "start_time": "2023-04-19T16:47:46.663574Z",
     "end_time": "2023-04-19T16:47:47.075692Z"
    }
   },
   "outputs": [
    {
     "name": "stderr",
     "output_type": "stream",
     "text": [
      "/Users/erictak/miniconda3/lib/python3.10/site-packages/traittypes/traittypes.py:97: UserWarning: Given trait value dtype \"float64\" does not match required type \"uint8\". A coerced copy has been created.\n",
      "  warnings.warn(\n"
     ]
    },
    {
     "data": {
      "text/plain": "Output()",
      "application/vnd.jupyter.widget-view+json": {
       "version_major": 2,
       "version_minor": 0,
       "model_id": "be5ea4445c794a4985fab560e852d97b"
      }
     },
     "metadata": {},
     "output_type": "display_data"
    }
   ],
   "source": [
    "%matplotlib inline\n",
    "import numpy as np\n",
    "import k3d\n",
    "\n",
    "plot = k3d.plot()\n",
    "\n",
    "b = np.ones((1, 1, 1))\n",
    "\n",
    "line = k3d.voxels(b, width=1, scaling = [1, 1, 1])\n",
    "\n",
    "# iadd method, iterates over voxel\n",
    "plot += line\n",
    "plot.display()"
   ]
  },
  {
   "cell_type": "code",
   "execution_count": 25,
   "metadata": {},
   "outputs": [
    {
     "ename": "AttributeError",
     "evalue": "'Line' object has no attribute 'display'",
     "output_type": "error",
     "traceback": [
      "\u001B[0;31m---------------------------------------------------------------------------\u001B[0m",
      "\u001B[0;31mAttributeError\u001B[0m                            Traceback (most recent call last)",
      "Cell \u001B[0;32mIn[25], line 6\u001B[0m\n\u001B[1;32m      1\u001B[0m \u001B[38;5;28;01mimport\u001B[39;00m \u001B[38;5;21;01mk3d\u001B[39;00m\n\u001B[1;32m      3\u001B[0m plot \u001B[38;5;241m=\u001B[39m k3d\u001B[38;5;241m.\u001B[39mline([[\u001B[38;5;241m0\u001B[39m, \u001B[38;5;241m0\u001B[39m, \u001B[38;5;241m0\u001B[39m],\n\u001B[1;32m      4\u001B[0m                  [\u001B[38;5;241m1\u001B[39m, \u001B[38;5;241m1\u001B[39m, \u001B[38;5;241m1\u001B[39m]])\n\u001B[0;32m----> 6\u001B[0m \u001B[43mplot\u001B[49m\u001B[38;5;241;43m.\u001B[39;49m\u001B[43mdisplay\u001B[49m()\n",
      "\u001B[0;31mAttributeError\u001B[0m: 'Line' object has no attribute 'display'"
     ]
    }
   ],
   "source": [
    "import k3d\n",
    "\n",
    "plot = k3d.line([[0, 0, 0],\n",
    "                 [1, 1, 1]])\n",
    "\n",
    "plot.display()"
   ]
  },
  {
   "cell_type": "code",
   "execution_count": 26,
   "metadata": {
    "id": "OaSxkxs7JvqZ",
    "ExecuteTime": {
     "start_time": "2023-04-19T16:49:54.898364Z",
     "end_time": "2023-04-19T16:49:54.918504Z"
    }
   },
   "outputs": [
    {
     "name": "stderr",
     "output_type": "stream",
     "text": [
      "/Users/erictak/miniconda3/lib/python3.10/site-packages/traittypes/traittypes.py:97: UserWarning: Given trait value dtype \"int64\" does not match required type \"uint8\". A coerced copy has been created.\n",
      "  warnings.warn(\n"
     ]
    },
    {
     "data": {
      "text/plain": "Output()",
      "application/vnd.jupyter.widget-view+json": {
       "version_major": 2,
       "version_minor": 0,
       "model_id": "689a03231b39404cb8a5889ccfcb64a1"
      }
     },
     "metadata": {},
     "output_type": "display_data"
    }
   ],
   "source": [
    "%matplotlib inline\n",
    "import numpy as np\n",
    "import k3d\n",
    "\n",
    "plot = k3d.plot()\n",
    "\n",
    "b = np.array([[[18, 1, 2], [3, 4, 5]], \n",
    "              [[6, 7, 8], [9, 10, 11]], \n",
    "              [[12, 13, 14], [15, 16, 17]]])\n",
    "\n",
    "voxel = k3d.voxels(b, width=1, scaling = [1, 1, 1])\n",
    "\n",
    "# iadd method, iterates over voxel\n",
    "plot += voxel\n",
    "plot.display()"
   ]
  },
  {
   "cell_type": "markdown",
   "metadata": {
    "id": "FnySBjCGKN9d"
   },
   "source": [
    "### In class exercise: 3D representations\n",
    "\n",
    "Try to add and represent another dimension to make a 3x3x3 array using k3d"
   ]
  },
  {
   "cell_type": "code",
   "execution_count": 27,
   "metadata": {
    "id": "S0CrFZx-KsqU",
    "ExecuteTime": {
     "start_time": "2023-04-19T16:49:56.077864Z",
     "end_time": "2023-04-19T16:49:56.100598Z"
    }
   },
   "outputs": [
    {
     "data": {
      "text/plain": "Output()",
      "application/vnd.jupyter.widget-view+json": {
       "version_major": 2,
       "version_minor": 0,
       "model_id": "6e078ae6f1c94e9690fac6c70f4df9c2"
      }
     },
     "metadata": {},
     "output_type": "display_data"
    }
   ],
   "source": [
    "%matplotlib inline\n",
    "\n",
    "plot = k3d.plot()\n",
    "\n",
    "b = np.array([[[18, 1, 2], [3, 4, 5], [3, 4, 5]], \n",
    "              [[6, 7, 8], [9, 10, 11], [3, 4, 5]], \n",
    "              [[12, 13, 14], [15, 16, 17], [3, 4, 5]]])\n",
    "\n",
    "voxel = k3d.voxels(b, width=1, scaling = [1, 1, 1])\n",
    "\n",
    "# iadd method, iterates over voxel\n",
    "plot += voxel\n",
    "plot.display()"
   ]
  },
  {
   "cell_type": "code",
   "execution_count": 28,
   "metadata": {
    "ExecuteTime": {
     "start_time": "2023-04-19T16:49:56.719459Z",
     "end_time": "2023-04-19T16:49:56.746219Z"
    }
   },
   "outputs": [
    {
     "data": {
      "text/plain": "(3, 3, 3)"
     },
     "execution_count": 28,
     "metadata": {},
     "output_type": "execute_result"
    }
   ],
   "source": [
    "b.shape"
   ]
  },
  {
   "cell_type": "markdown",
   "metadata": {
    "id": "hH9MRPGWOkjR"
   },
   "source": [
    "## NumPy data types\n",
    "\n",
    "NumPy has five main type of datatypes. But always the default data for any function (np.zeros, etc.) is floating point:\n",
    "\n",
    "* Integer\n",
    "* Float\n",
    "* Boolean\n",
    "* Complex\n",
    "* String\n"
   ]
  },
  {
   "cell_type": "code",
   "execution_count": 29,
   "metadata": {
    "colab": {
     "base_uri": "https://localhost:8080/"
    },
    "id": "m4Af9UXsxecQ",
    "outputId": "6aeb6aa0-281a-4a68-bf17-7fe8fe559fa0",
    "ExecuteTime": {
     "start_time": "2023-04-19T16:49:57.450808Z",
     "end_time": "2023-04-19T16:49:57.465755Z"
    }
   },
   "outputs": [
    {
     "data": {
      "text/plain": "dtype('int64')"
     },
     "execution_count": 29,
     "metadata": {},
     "output_type": "execute_result"
    }
   ],
   "source": [
    "# Integer\n",
    "a = np.array([1, 2, 3])\n",
    "a.dtype"
   ]
  },
  {
   "cell_type": "code",
   "execution_count": 30,
   "metadata": {
    "colab": {
     "base_uri": "https://localhost:8080/"
    },
    "id": "tXVGSpdKxeaF",
    "outputId": "9e4ae236-e3d8-4434-b4b0-43128ded921b",
    "ExecuteTime": {
     "start_time": "2023-04-19T16:49:57.754340Z",
     "end_time": "2023-04-19T16:49:57.771514Z"
    }
   },
   "outputs": [
    {
     "data": {
      "text/plain": "dtype('float64')"
     },
     "execution_count": 30,
     "metadata": {},
     "output_type": "execute_result"
    }
   ],
   "source": [
    "# Float\n",
    "b = np.array([1., 2., 3.])\n",
    "b.dtype"
   ]
  },
  {
   "cell_type": "code",
   "execution_count": 31,
   "metadata": {
    "colab": {
     "base_uri": "https://localhost:8080/"
    },
    "id": "_QT6MuKyxeW-",
    "outputId": "57e92e61-0d2c-4478-d47d-371425b210d9",
    "ExecuteTime": {
     "start_time": "2023-04-19T16:49:58.011966Z",
     "end_time": "2023-04-19T16:49:58.029187Z"
    }
   },
   "outputs": [
    {
     "data": {
      "text/plain": "dtype('float64')"
     },
     "execution_count": 31,
     "metadata": {},
     "output_type": "execute_result"
    }
   ],
   "source": [
    "# Changing data type\n",
    "c = np.array([1, 2, 3], dtype=float)\n",
    "c.dtype"
   ]
  },
  {
   "cell_type": "code",
   "execution_count": 32,
   "metadata": {
    "colab": {
     "base_uri": "https://localhost:8080/"
    },
    "id": "2ig4A8kqxyx9",
    "outputId": "ca7fe5ae-1dc9-4d47-c11d-c384e4dcd154",
    "ExecuteTime": {
     "start_time": "2023-04-19T16:49:58.241064Z",
     "end_time": "2023-04-19T16:49:58.255822Z"
    }
   },
   "outputs": [
    {
     "data": {
      "text/plain": "dtype('complex128')"
     },
     "execution_count": 32,
     "metadata": {},
     "output_type": "execute_result"
    }
   ],
   "source": [
    "# Complex\n",
    "d = np.array([1+2j, 3+4j, 5+6*1j])\n",
    "d.dtype"
   ]
  },
  {
   "cell_type": "code",
   "execution_count": 33,
   "metadata": {
    "colab": {
     "base_uri": "https://localhost:8080/"
    },
    "id": "NXSN6ImxyCKo",
    "outputId": "4a24e0f4-65f2-46e4-a80d-330bc352ea0f",
    "ExecuteTime": {
     "start_time": "2023-04-19T16:49:58.476326Z",
     "end_time": "2023-04-19T16:49:58.493685Z"
    }
   },
   "outputs": [
    {
     "data": {
      "text/plain": "dtype('bool')"
     },
     "execution_count": 33,
     "metadata": {},
     "output_type": "execute_result"
    }
   ],
   "source": [
    "# Bool\n",
    "e = np.array([True, False, False, True])\n",
    "e.dtype"
   ]
  },
  {
   "cell_type": "code",
   "execution_count": 34,
   "metadata": {
    "colab": {
     "base_uri": "https://localhost:8080/"
    },
    "id": "ileivbA4yEDN",
    "outputId": "17dbf4dd-7e7f-4be5-8174-5a2d50f63913",
    "ExecuteTime": {
     "start_time": "2023-04-19T16:49:58.719390Z",
     "end_time": "2023-04-19T16:49:58.742103Z"
    }
   },
   "outputs": [
    {
     "data": {
      "text/plain": "dtype('<U18')"
     },
     "execution_count": 34,
     "metadata": {},
     "output_type": "execute_result"
    }
   ],
   "source": [
    "# Strings (containing max the letters of the longest word)\n",
    "f = np.array(['Bonjoursdfsdfsdfds', 'Hello', 'Hallo'])\n",
    "f.dtype      \n"
   ]
  },
  {
   "cell_type": "markdown",
   "metadata": {
    "id": "uhJ6kdvfykOb"
   },
   "source": [
    "## Basic array visualization with Matplotlib\n",
    "\n"
   ]
  },
  {
   "cell_type": "code",
   "execution_count": 35,
   "metadata": {
    "id": "ZvE8uEHPz5PU",
    "ExecuteTime": {
     "start_time": "2023-04-19T16:49:59.205205Z",
     "end_time": "2023-04-19T16:49:59.219554Z"
    }
   },
   "outputs": [],
   "source": [
    "%matplotlib inline  "
   ]
  },
  {
   "cell_type": "code",
   "execution_count": 36,
   "metadata": {
    "id": "ClvxhBisz5MN",
    "ExecuteTime": {
     "start_time": "2023-04-19T16:49:59.462515Z",
     "end_time": "2023-04-19T16:49:59.490269Z"
    }
   },
   "outputs": [],
   "source": [
    "import matplotlib.pyplot as plt"
   ]
  },
  {
   "cell_type": "markdown",
   "metadata": {
    "id": "wYn9wtZs3wPI"
   },
   "source": [
    "### 1D array plotting"
   ]
  },
  {
   "cell_type": "code",
   "execution_count": 37,
   "metadata": {
    "colab": {
     "base_uri": "https://localhost:8080/",
     "height": 282
    },
    "id": "o6LPNZCTyt6v",
    "outputId": "9f9e0d7e-3d53-453f-fde7-748e614c3ab0",
    "ExecuteTime": {
     "start_time": "2023-04-19T16:49:59.916648Z",
     "end_time": "2023-04-19T16:50:00.031276Z"
    }
   },
   "outputs": [
    {
     "data": {
      "text/plain": "[<matplotlib.lines.Line2D at 0x7fbd12e86ce0>]"
     },
     "execution_count": 37,
     "metadata": {},
     "output_type": "execute_result"
    },
    {
     "data": {
      "text/plain": "[<matplotlib.lines.Line2D at 0x7fbd12e97be0>]"
     },
     "execution_count": 37,
     "metadata": {},
     "output_type": "execute_result"
    },
    {
     "data": {
      "text/plain": "<Figure size 640x480 with 1 Axes>",
      "image/png": "[encoded data removed]"
     },
     "metadata": {},
     "output_type": "display_data"
    }
   ],
   "source": [
    "# Create a linear array from 0 to 3, with 20 steps\n",
    "x = np.linspace(0, 3, 20)\n",
    "\n",
    "# Create a linear array from 0 to 9, with 20 steps\n",
    "y = np.linspace(0, 9, 20)\n",
    "\n",
    "# Plot the line x, y\n",
    "plt.plot(x,y)       \n",
    "\n",
    "# Plot the dots x, y\n",
    "plt.plot(x,y, 'o')    "
   ]
  },
  {
   "cell_type": "code",
   "execution_count": 38,
   "metadata": {
    "ExecuteTime": {
     "start_time": "2023-04-19T16:50:00.147349Z",
     "end_time": "2023-04-19T16:50:00.159923Z"
    }
   },
   "outputs": [
    {
     "data": {
      "text/plain": "array([0.        , 0.15789474, 0.31578947, 0.47368421, 0.63157895,\n       0.78947368, 0.94736842, 1.10526316, 1.26315789, 1.42105263,\n       1.57894737, 1.73684211, 1.89473684, 2.05263158, 2.21052632,\n       2.36842105, 2.52631579, 2.68421053, 2.84210526, 3.        ])"
     },
     "execution_count": 38,
     "metadata": {},
     "output_type": "execute_result"
    }
   ],
   "source": [
    "x"
   ]
  },
  {
   "cell_type": "code",
   "execution_count": 39,
   "metadata": {
    "ExecuteTime": {
     "start_time": "2023-04-19T16:50:00.424788Z",
     "end_time": "2023-04-19T16:50:00.447036Z"
    }
   },
   "outputs": [
    {
     "data": {
      "text/plain": "array([0.        , 0.47368421, 0.94736842, 1.42105263, 1.89473684,\n       2.36842105, 2.84210526, 3.31578947, 3.78947368, 4.26315789,\n       4.73684211, 5.21052632, 5.68421053, 6.15789474, 6.63157895,\n       7.10526316, 7.57894737, 8.05263158, 8.52631579, 9.        ])"
     },
     "execution_count": 39,
     "metadata": {},
     "output_type": "execute_result"
    }
   ],
   "source": [
    "y"
   ]
  },
  {
   "cell_type": "markdown",
   "metadata": {
    "id": "rBO0S7-Y4SyL"
   },
   "source": [
    "### 2D array plotting\n",
    "Due to their structure, 2D arrays needs to be plotted as images. There is no need to panic. Let's go step by step."
   ]
  },
  {
   "cell_type": "code",
   "execution_count": 40,
   "metadata": {
    "ExecuteTime": {
     "start_time": "2023-04-19T16:50:00.866598Z",
     "end_time": "2023-04-19T16:50:00.884207Z"
    }
   },
   "outputs": [],
   "source": [
    "# Let's create a Gaussian image of 30x30\n",
    "image = np.random.randn(30, 30)"
   ]
  },
  {
   "cell_type": "code",
   "execution_count": 41,
   "metadata": {
    "collapsed": true,
    "jupyter": {
     "outputs_hidden": true
    },
    "tags": [],
    "ExecuteTime": {
     "start_time": "2023-04-19T16:50:01.121062Z",
     "end_time": "2023-04-19T16:50:01.136271Z"
    }
   },
   "outputs": [
    {
     "data": {
      "text/plain": "array([[ 1.92003803e+00,  1.26631434e-01, -2.03757106e-01,\n        -4.93638642e-01,  1.78797700e-01,  9.44001409e-01,\n        -7.44020406e-01, -2.96064628e-01, -7.20496861e-01,\n         4.85319608e-01, -2.23842832e+00,  3.26723902e-01,\n         1.14640821e+00, -3.30736185e-01, -2.05183633e-01,\n        -6.81232473e-01, -7.24488488e-01,  4.30507093e-01,\n         6.13275305e-02, -2.90596578e-01, -1.35896218e+00,\n         6.54145935e-01, -5.61490982e-01, -1.08607082e+00,\n        -1.07663885e+00, -2.20438148e+00,  5.43068481e-01,\n         6.55930254e-01, -2.73141241e-01,  5.06641656e-01],\n       [-3.08230292e-01, -2.02257004e-02, -6.54879797e-01,\n        -6.25990291e-01, -7.26259791e-01, -6.36200340e-02,\n         1.69406802e+00, -2.33924694e-01,  1.96289635e-01,\n         5.86939108e-01,  6.71383193e-01,  1.22783130e+00,\n         1.81620687e-01, -8.20967032e-01, -7.56243386e-01,\n        -5.96381248e-01,  8.82378970e-01,  4.01961633e-01,\n         7.67826494e-01, -3.97914004e-01,  9.42515878e-01,\n        -1.88517310e+00,  4.08621512e-03, -1.95600000e-01,\n         3.32207029e+00, -3.22278870e-02, -1.76582088e+00,\n        -6.10276845e-01,  7.06587019e-01, -8.86051481e-01],\n       [ 1.32793246e+00, -1.05338392e+00,  1.93737087e-01,\n         1.69289547e+00, -1.11898336e-01, -3.04551966e+00,\n        -5.62076708e-01, -9.58479921e-01, -1.47084710e-01,\n        -1.06494964e+00, -5.08223265e-01, -1.27906377e+00,\n         7.95215099e-02, -1.49262579e+00, -1.20620932e-01,\n         8.47005310e-01, -3.72234638e-01, -2.06626258e-02,\n        -9.02011887e-01,  5.14433067e-01, -1.14015951e+00,\n        -9.36049474e-01, -1.48553428e+00,  3.98724836e-01,\n         7.76412448e-01, -4.18255232e-01,  3.30325937e-01,\n         3.69114903e-01,  1.43258115e+00, -7.11175732e-02],\n       [-7.20925815e-01, -8.37841278e-01,  2.14179431e-01,\n        -1.21492649e+00,  8.74524183e-01, -3.20288499e-01,\n        -1.99430455e+00,  4.29042140e-01,  1.49352105e-01,\n         7.20861775e-01,  1.61433089e+00,  1.46429333e-01,\n         1.41681378e+00,  1.46279936e+00, -2.18743396e+00,\n        -1.30335165e+00, -3.29821088e-01,  8.94284876e-01,\n         8.56303922e-01,  7.50052262e-01, -4.42373015e-01,\n        -8.71213052e-01,  5.34302423e-01, -8.93675262e-01,\n         1.48793019e+00,  2.55201835e-01,  7.37967006e-01,\n        -5.90720618e-01, -1.27891252e+00, -7.77912359e-02],\n       [-1.55666787e+00,  1.11300777e+00,  6.32096362e-01,\n        -1.34970205e-01, -1.05711868e-01, -6.36703927e-01,\n         3.86215964e-01, -1.99002415e-02, -6.85722529e-01,\n         1.13937978e+00,  2.30219103e-01, -4.42451509e-01,\n         7.51100703e-01, -2.91554633e+00,  1.85472354e-02,\n         6.70724299e-01,  4.51341197e-01, -2.78135619e-01,\n         3.37319568e-01,  1.48790569e+00,  1.76107746e+00,\n        -5.88461654e-01,  1.56288988e+00,  1.42861413e+00,\n         3.29146317e-01, -2.47408490e-01,  2.22430542e-01,\n        -2.43384404e+00, -3.68795845e-01, -2.13555240e+00],\n       [ 7.74752405e-01, -2.55095016e-02,  1.14984234e-01,\n        -8.12462415e-01, -7.61314595e-01,  1.16479892e+00,\n         2.61058037e-01,  6.72281288e-01, -8.41430160e-01,\n         1.55583522e+00, -2.31669711e+00, -8.92872204e-01,\n        -1.82593893e+00,  7.16984492e-01, -2.95668701e+00,\n         4.36131194e-01, -9.73163770e-01, -7.42652229e-01,\n        -1.57745319e+00, -4.99096946e-01, -1.60560478e-01,\n        -3.48906819e-01, -1.94453636e-01,  8.72063750e-01,\n         4.09237086e-01, -1.92748424e+00,  5.39196285e-01,\n        -1.66750482e+00,  3.63005251e-01, -9.43712514e-01],\n       [ 4.18404820e-02,  9.08158809e-01,  1.94670749e+00,\n        -4.86736663e-01,  9.23746043e-01,  1.67998675e+00,\n        -8.19362556e-01, -5.25138705e-01, -4.11793648e-02,\n         1.31778316e+00,  1.65094106e+00, -1.07040944e+00,\n        -2.43035246e-01, -4.94114944e-02, -1.69648594e+00,\n         1.25278705e+00, -1.18259444e+00,  7.63342995e-01,\n        -2.11643554e-01,  2.29451426e-01,  8.90916585e-01,\n        -5.41154231e-01, -8.18975478e-01, -4.08502636e-01,\n         2.59225486e-01,  9.77253418e-02,  2.25950820e-01,\n        -4.64922708e-01, -9.86366437e-01, -3.06677956e-01],\n       [ 4.23536431e-01,  9.30360086e-01,  3.00822507e-01,\n         1.83990909e-01,  1.75412168e-01, -2.50701300e+00,\n         8.61139461e-01, -1.30051432e+00, -1.62947195e-02,\n         5.95368398e-01, -6.46398701e-01,  6.88116399e-01,\n         1.54638699e+00, -1.28326832e-01,  1.31621712e+00,\n        -1.94754823e-02,  8.99059053e-01, -1.06329545e+00,\n         3.49208959e-01,  6.92519318e-01, -2.36922265e+00,\n         2.73005429e-01,  5.19435049e-01, -2.60649837e+00,\n         1.45269056e+00, -6.26968944e-01, -8.64306765e-01,\n         1.72945147e+00, -1.03045914e+00, -1.17366807e-01],\n       [-7.34668097e-01, -1.81375245e-02, -1.27026719e+00,\n         8.57853286e-01, -1.09249890e+00, -6.11685078e-01,\n         7.89307327e-01,  4.67308963e-01, -1.71579297e-01,\n        -3.39310287e-01, -6.59707547e-01, -5.81696131e-02,\n        -2.35834532e-01,  9.92874132e-01,  9.68550628e-01,\n         5.37026383e-01, -2.09329465e-01,  4.33093400e-01,\n        -7.92394231e-01, -3.41255286e-01, -7.33267251e-01,\n         1.52789342e+00, -1.13882218e+00, -2.80054137e-01,\n         1.32994197e+00,  3.74524748e-01,  6.44987276e-01,\n         1.83224969e-01,  3.91709074e-01, -1.16054058e+00],\n       [ 7.12484055e-01, -4.46854211e-01,  5.39160719e-01,\n         2.65114656e-01, -6.47273133e-01, -2.56541596e-01,\n         3.78330055e-01, -6.76474123e-01, -5.06342477e-02,\n         6.71158806e-01, -5.16504996e-01, -4.23022421e-01,\n         1.19630168e+00,  6.42379659e-01,  1.13493998e+00,\n         1.64615204e+00, -3.11004913e-01, -3.74527510e-01,\n        -7.53618212e-01,  1.18264042e+00, -1.10258019e+00,\n         7.86453334e-01, -5.04805125e-01,  1.00574901e-01,\n        -1.31073244e+00,  4.15059093e-01,  1.13711175e+00,\n         5.79952694e-01, -4.83656552e-01,  1.01007961e+00],\n       [ 4.46100259e-01, -1.44037596e+00, -4.58636875e-01,\n         1.84793691e+00, -4.24079720e-01,  2.01722245e+00,\n        -5.29443938e-01,  1.94721994e+00,  1.40208941e+00,\n         1.26975126e+00,  8.38328037e-01,  5.03962233e-01,\n        -1.95102586e+00, -2.76671048e-01,  7.31925441e-01,\n         1.02722347e+00,  4.94505826e-01,  7.21584019e-01,\n        -1.52696357e+00,  1.38774548e-01,  1.26513474e+00,\n         1.33669660e+00,  6.34381594e-01, -6.55163913e-01,\n        -1.65627303e+00, -2.28008189e-01,  1.63848898e+00,\n        -5.23723651e-01,  9.58969055e-01, -1.56535665e+00],\n       [ 9.24680072e-01, -7.68994040e-01, -7.83322156e-01,\n        -6.28710765e-02,  5.65342702e-01,  1.03138734e+00,\n         2.30344109e+00, -1.40218076e+00,  3.66522577e-02,\n        -5.05511255e-01, -8.42963593e-01, -1.09555888e+00,\n        -1.14623477e-02, -2.67293298e-01,  4.34479927e-01,\n         5.82116045e-02, -7.21825643e-01,  7.24850134e-01,\n         1.34235071e+00,  3.82645240e-01, -6.46122954e-01,\n         7.81973728e-03, -1.46661889e+00, -3.02628750e-01,\n         1.44084738e+00, -4.97380896e-01,  9.52848250e-01,\n        -3.56874099e-01, -2.79525022e-01, -3.91651193e-01],\n       [ 8.81636869e-01, -2.05056579e+00,  1.15013926e+00,\n        -1.03920343e-02, -2.06188302e-01, -7.32267625e-01,\n         1.34376948e+00,  1.48169689e+00,  1.36994381e-01,\n        -5.77383638e-01,  1.27408845e+00,  9.37768465e-01,\n        -1.37630426e+00, -3.23553040e+00,  1.52958636e+00,\n        -2.00533825e-01,  2.17905653e+00, -4.57189614e-01,\n         1.10363402e-01,  1.15308239e+00, -5.97270931e-01,\n         7.94551447e-01,  1.14379836e+00,  1.25906840e+00,\n         1.03339451e+00, -3.21336164e-01, -1.23865223e+00,\n        -1.61404666e+00,  6.65599394e-02, -1.63490456e-02],\n       [-8.73566787e-01, -4.54861955e-01, -4.32976986e-01,\n         2.26310257e-01, -1.14062172e-01,  1.48138669e-01,\n        -3.64526499e-02, -9.60681699e-01,  5.96492120e-01,\n        -1.87708728e+00, -6.27023783e-01,  3.08974803e-02,\n         4.86074341e-01, -9.29913500e-01, -9.36647796e-01,\n         1.10388721e+00, -1.49687195e+00, -3.38592739e-01,\n         1.32405785e+00,  2.11402598e+00, -1.89199547e+00,\n         9.17067208e-01, -1.67248556e+00, -7.56950543e-01,\n         5.87308915e-01, -1.49332086e-01,  1.84451011e+00,\n         1.29140414e+00,  7.06660900e-01,  3.18160981e-03],\n       [ 4.56340892e-01,  1.00175789e+00, -5.43139145e-01,\n         7.60105367e-01, -2.95303214e+00, -6.88170755e-01,\n         4.68855189e-01, -3.74560180e-01,  4.01760484e-01,\n        -2.26662758e-01,  1.43739874e-02, -1.15429296e+00,\n        -2.49806065e-01, -1.02643238e-01, -3.44306023e-01,\n         4.84538810e-02,  1.22382302e-01,  1.73959136e+00,\n        -4.92482801e-01, -5.26349431e-01, -2.53087466e-01,\n        -3.03372552e-01,  1.83139331e+00, -1.36148931e+00,\n         2.82844503e-02, -1.17606825e+00, -3.58730444e-01,\n         6.52749213e-01,  2.87024080e+00,  1.83925489e+00],\n       [-2.06269865e-01,  1.05133230e+00,  6.07357720e-01,\n         2.04069669e+00,  1.22375731e-01, -1.00973221e+00,\n        -7.29458830e-02,  8.51077128e-01,  1.91951035e-02,\n         3.22895225e-01,  8.34173281e-01, -9.83602625e-01,\n        -1.14794222e-01, -9.74782007e-01,  2.23514343e-01,\n         8.74410471e-01, -2.09681830e+00,  3.21583102e-01,\n        -1.41699477e-01, -3.05786496e-01, -1.95838802e+00,\n        -6.31936807e-01,  2.28406654e+00,  1.42805715e-01,\n         2.40900258e+00,  1.06449140e-01, -1.15261790e+00,\n        -2.16478182e-02,  5.79386507e-01,  1.47548266e+00],\n       [ 3.07320458e-01,  2.21778020e-02, -2.10667227e+00,\n         1.07890661e+00,  9.42915733e-01, -9.15045340e-01,\n        -6.30320586e-01,  2.96290374e-01,  4.20147573e-01,\n        -1.85171110e+00,  4.42885907e-01, -7.87949078e-01,\n         9.99401255e-02,  1.93806767e+00,  1.48552475e-01,\n         2.42972543e+00,  2.19518969e+00, -7.03097501e-01,\n         8.60205920e-01, -2.29381856e-01,  9.02457403e-01,\n        -4.93260013e-01,  6.53493302e-01, -1.47496002e+00,\n        -1.17936686e-01,  1.86347355e+00,  1.26730576e+00,\n         4.67240571e-01, -5.17332821e-01, -2.18810322e-01],\n       [ 1.08398155e+00, -7.32279151e-01, -3.98260510e-01,\n        -1.40244189e+00, -5.53638070e-01,  5.35598121e-01,\n        -3.46238979e-01,  7.16384073e-01, -1.60866182e-01,\n         6.25543058e-01,  1.50754922e+00, -6.86304596e-01,\n         1.72824230e+00, -1.90638173e+00, -6.65124648e-01,\n        -6.14354691e-01,  8.46709502e-01, -6.64376405e-01,\n         3.25025299e-01, -6.17844180e-01,  9.83790698e-01,\n        -5.27888199e-01,  5.07934069e-02,  1.89121995e+00,\n        -6.89414151e-01, -5.70889761e-01,  5.69955266e-01,\n         4.24093719e-01,  1.03913447e+00,  1.38250672e+00],\n       [-5.89783836e-01, -7.88255505e-02,  1.43246253e+00,\n         3.41844516e-02, -6.47578432e-01,  1.07151776e+00,\n        -5.42605914e-01, -1.35708280e+00,  7.79911962e-01,\n        -3.68288535e-01,  1.00867107e+00, -7.17861326e-01,\n         3.04805686e-01,  5.63023191e-02, -2.67601450e-02,\n        -6.70438144e-01,  2.05197983e+00, -7.25085965e-01,\n         6.39393298e-01,  1.67079137e-01,  3.34894193e-01,\n        -2.34611381e+00, -1.25154114e+00, -1.08399307e+00,\n         4.50171667e-01, -6.59414943e-01, -9.59847362e-01,\n        -1.10937797e-01,  2.35824901e-01,  3.05263117e-01],\n       [ 1.92676842e-01,  5.91234559e-01,  6.06472862e-02,\n         4.91744079e-02,  5.55550935e-01,  1.08588892e+00,\n         1.08547763e+00, -1.34988110e-01, -4.15601993e-01,\n         3.14489269e-01, -1.33886279e-01, -5.34429541e-02,\n         5.58577920e-01,  7.48792952e-01, -1.32412075e+00,\n        -4.23184684e-01,  1.14089137e+00, -2.18405838e-01,\n         5.51324357e-01,  8.02664834e-01, -2.65618091e-01,\n         1.60337256e+00,  4.61871536e-01,  1.21929493e+00,\n         1.63603729e+00,  1.42743950e+00,  5.55622565e-01,\n         9.00262378e-01, -6.55461928e-01,  1.45894664e-01],\n       [ 1.31950495e+00,  1.90741344e+00,  4.87487101e-01,\n         2.32942965e-01, -1.13007247e-01,  3.81367935e-01,\n         6.74752892e-01,  8.28830152e-01, -1.57650857e+00,\n        -5.14160201e-01, -5.24850237e-01,  6.10749575e-01,\n        -1.32133385e+00, -1.06693501e+00,  1.71670653e+00,\n        -2.02638950e+00, -3.02756554e-01, -4.23417724e-01,\n        -1.37113387e+00,  9.20246985e-01, -2.61229238e+00,\n         8.39599864e-01,  4.87910110e-01,  4.05561183e-01,\n        -1.37313177e-01, -1.27865065e+00, -1.33144231e+00,\n         7.18484074e-01, -4.93457376e-01, -1.41329450e+00],\n       [ 1.00788024e+00, -2.66079455e-01,  3.18424072e-01,\n        -1.69614689e+00,  1.99094217e+00,  1.91607941e-01,\n         1.24594299e+00,  1.20641922e+00, -1.23166368e+00,\n        -8.92466858e-01,  1.02493576e+00,  1.26971251e+00,\n        -2.24952833e-01, -1.71247896e+00,  4.17030975e-01,\n        -8.87953428e-01, -1.50894996e-01,  1.46208833e+00,\n        -3.31163221e-01, -5.60220569e-02, -7.57718746e-01,\n         2.71461685e+00, -9.20174320e-02,  2.52413162e-01,\n         8.65374060e-01, -4.63478357e-02, -4.32222613e-01,\n         1.00365203e+00,  1.03266634e-01,  9.92232552e-02],\n       [-1.93121383e+00,  4.29249522e-01,  1.05685891e+00,\n        -3.41535311e-01, -1.93013212e-01,  3.12148562e-01,\n        -8.33197814e-02,  5.13163837e-02,  2.06925236e+00,\n        -6.23277213e-02, -1.36993051e+00, -6.65753309e-02,\n         7.66800489e-01,  1.17512208e+00, -3.01695935e-01,\n        -6.23223642e-01,  4.64522637e-02, -6.36609103e-01,\n         7.96512005e-01,  1.11697149e+00, -5.21364971e-01,\n         1.62503742e-01, -1.13042963e+00,  4.47622171e-01,\n         6.79729875e-01,  7.47372029e-01, -1.18648604e+00,\n        -1.17460660e+00, -4.59670462e-01,  1.11604404e+00],\n       [-1.31027838e+00, -1.71918638e-01,  1.34426032e+00,\n         1.97899169e-01,  2.75081330e-01,  3.39029739e-01,\n         4.43252840e-01,  1.95216966e-01,  4.99114919e-01,\n        -5.32036845e-01, -2.95370632e-01,  8.87133954e-01,\n        -8.55883486e-02,  4.88063705e-01, -1.07687467e+00,\n        -1.83848845e+00, -1.26201866e-01,  1.73117488e-01,\n         1.03024709e+00,  6.21245192e-01, -4.03549599e-01,\n        -9.38709357e-01, -1.64493152e+00, -1.77449042e+00,\n        -5.57688156e-01, -6.84792126e-01, -1.16979179e-01,\n        -4.03881186e-02,  3.20664644e-01,  1.97082470e+00],\n       [-5.94327176e-02,  1.38602530e+00, -3.68860719e-02,\n         1.76121788e-02,  2.29840463e-03, -3.09884387e-01,\n         1.73050833e+00, -8.05819858e-01, -5.65741928e-01,\n         9.43788690e-01,  2.07298081e-01,  1.48365915e+00,\n        -3.18278832e-01, -1.11951349e-01,  6.56772498e-01,\n         1.75072085e+00, -1.29394496e-01, -4.08214005e-01,\n        -1.14375916e+00, -1.96241274e+00, -2.00448227e+00,\n        -5.49764011e-01, -3.39003546e-01, -8.64235497e-01,\n        -5.52262222e-01,  1.42919079e+00,  4.10764729e-01,\n         1.53902959e+00,  2.46692142e-01,  3.00702452e-01],\n       [-1.89557355e-01,  5.64629549e-01,  1.28736025e+00,\n         1.28433473e+00,  1.05337847e+00, -1.24715935e+00,\n        -1.47594588e+00, -1.11137899e+00, -9.00383550e-01,\n        -7.48127609e-01, -4.38614455e-01, -3.37251084e-01,\n         1.33048175e+00, -5.01070401e-01,  8.43793630e-01,\n         4.12979056e-01,  5.28450229e-01,  5.13959214e-01,\n        -3.23397767e-01,  6.77932180e-01, -9.64266288e-01,\n         1.23678318e+00,  3.77571416e-01,  1.09120771e+00,\n        -1.12069906e-01,  9.75142146e-02, -1.42134692e+00,\n         9.70208705e-01,  2.18092391e+00, -6.25526904e-01],\n       [ 5.63588623e-01,  6.42569659e-01, -1.39078268e+00,\n        -6.54197908e-01, -1.49751500e+00,  3.06174960e-01,\n        -1.25550001e+00,  4.23103570e-01, -2.37727308e+00,\n        -7.73133297e-01, -4.87014363e-01,  5.48209746e-01,\n         8.55840305e-02, -4.64754215e-02, -8.31656742e-02,\n         2.19294674e+00,  6.50796779e-01, -8.83346488e-02,\n        -1.46209762e-01, -6.09655820e-01,  3.82047700e-01,\n         8.90274838e-01, -1.02585524e+00, -1.58137676e+00,\n        -1.36991005e+00,  9.45166444e-01,  9.90410611e-01,\n        -1.33213134e-01, -7.93120561e-01, -2.92845121e-02],\n       [ 4.05215948e-01,  5.55632020e-01, -5.19551316e-01,\n        -1.35474223e-01,  1.47310525e+00, -6.13204955e-01,\n         5.82958286e-01, -3.25786504e-01,  5.65491312e-01,\n         1.01265498e+00,  5.29577021e-01, -1.39807955e+00,\n         1.55439318e+00,  1.12080644e+00,  5.71152187e-02,\n        -1.03613414e-01,  1.36309266e+00,  1.04028952e+00,\n        -1.62239733e+00, -5.40264054e-01, -2.06331030e+00,\n        -1.00966578e+00, -2.66024426e-01,  1.44223249e-01,\n        -1.37180483e+00,  3.23209637e-01, -9.97617718e-01,\n         3.98777627e-01, -2.20148797e+00,  2.20200320e-01],\n       [-1.96829508e-01,  1.98977834e-01, -8.54522441e-01,\n         1.47830449e-01, -4.54160102e-01,  1.67563167e+00,\n        -5.08332584e-01,  3.60813962e-01, -4.75091893e-01,\n        -5.25072972e-01,  8.48140627e-01,  1.09134733e+00,\n         2.27123685e+00, -2.63262804e-02,  6.49843740e-01,\n        -1.94171859e+00,  1.78461260e-01,  6.31974032e-02,\n        -1.25492440e+00,  6.93152138e-01, -1.73704122e+00,\n         1.24369302e+00,  1.24327413e+00, -8.36163657e-01,\n         1.47923577e+00,  9.99153509e-01,  8.20476066e-01,\n         4.31549908e-01,  1.95252595e-01,  4.76008224e-01],\n       [ 1.53131366e+00,  5.54618105e-01, -2.38573753e+00,\n        -1.83523844e+00,  7.77763032e-01, -4.23383877e-02,\n        -1.15627180e+00,  2.03972581e+00,  4.23104418e-01,\n        -1.40252755e+00, -4.12527425e-01, -2.59296013e-01,\n         9.58226456e-02, -2.23473476e+00, -3.78964287e-01,\n        -4.41360433e-01,  6.35016576e-01,  1.27611706e+00,\n         3.65814042e-01, -5.19538193e-01,  6.81065255e-01,\n         2.97768040e-01, -1.63373345e+00,  7.98561805e-01,\n        -8.61083612e-01, -3.22672755e-01,  1.51679448e+00,\n        -9.57718625e-02,  4.57074215e-01,  9.95047285e-01]])"
     },
     "execution_count": 41,
     "metadata": {},
     "output_type": "execute_result"
    }
   ],
   "source": [
    "image"
   ]
  },
  {
   "cell_type": "code",
   "execution_count": 42,
   "metadata": {
    "colab": {
     "base_uri": "https://localhost:8080/",
     "height": 283
    },
    "id": "56tKC5vG4cxa",
    "outputId": "9539d94a-9cd6-48ab-869b-842c02b8aaa4",
    "ExecuteTime": {
     "start_time": "2023-04-19T16:50:01.363069Z",
     "end_time": "2023-04-19T16:50:01.510416Z"
    }
   },
   "outputs": [
    {
     "data": {
      "text/plain": "<matplotlib.image.AxesImage at 0x7fbd12ef7520>"
     },
     "execution_count": 42,
     "metadata": {},
     "output_type": "execute_result"
    },
    {
     "data": {
      "text/plain": "<matplotlib.colorbar.Colorbar at 0x7fbd12fd0400>"
     },
     "execution_count": 42,
     "metadata": {},
     "output_type": "execute_result"
    },
    {
     "data": {
      "text/plain": "<Figure size 640x480 with 2 Axes>",
      "image/png": "[encoded data removed]"
     },
     "metadata": {},
     "output_type": "display_data"
    }
   ],
   "source": [
    "# Let's create a Gaussian image of 30x30\n",
    "image = np.random.randn(30, 30)\n",
    "\n",
    "# Let's plot the image with imshow, and select a colormap\n",
    "plt.imshow(image, cmap=plt.cm.gray)    \n",
    "\n",
    "# Let's add a colorbar as an index\n",
    "plt.colorbar()"
   ]
  },
  {
   "cell_type": "markdown",
   "metadata": {
    "id": "cG2JtGYy7IbF"
   },
   "source": [
    "You can find a complete source of colormaps [here](https://matplotlib.org/3.1.1/gallery/color/colormap_reference.html)"
   ]
  },
  {
   "cell_type": "markdown",
   "metadata": {
    "id": "znj0f0e570Nh"
   },
   "source": [
    "Changing the colormap"
   ]
  },
  {
   "cell_type": "code",
   "execution_count": 43,
   "metadata": {
    "id": "UXpCQZf0yuLA",
    "ExecuteTime": {
     "start_time": "2023-04-19T16:50:02.017485Z",
     "end_time": "2023-04-19T16:50:02.166217Z"
    }
   },
   "outputs": [
    {
     "data": {
      "text/plain": "<matplotlib.image.AxesImage at 0x7fbd18ae26e0>"
     },
     "execution_count": 43,
     "metadata": {},
     "output_type": "execute_result"
    },
    {
     "data": {
      "text/plain": "<matplotlib.colorbar.Colorbar at 0x7fbd18b07610>"
     },
     "execution_count": 43,
     "metadata": {},
     "output_type": "execute_result"
    },
    {
     "data": {
      "text/plain": "<Figure size 640x480 with 2 Axes>",
      "image/png": "[encoded data removed]"
     },
     "metadata": {},
     "output_type": "display_data"
    }
   ],
   "source": [
    "# Let's create a Gaussian image of 30x30\n",
    "image = np.random.randn(30, 30)\n",
    "\n",
    "# Let's plot the image with imshow, and select a colormap\n",
    "plt.imshow(image, cmap=plt.cm.gist_rainbow)\n",
    "\n",
    "# Let's add a colorbar as an index\n",
    "plt.colorbar() "
   ]
  },
  {
   "cell_type": "markdown",
   "metadata": {
    "id": "UJmYaAuy_m0S"
   },
   "source": [
    "## NumPy indexing\n",
    "\n",
    "Another recap from the previous sessions. Remember that indices always in NumPy begin at O.\n",
    "\n",
    "![alt text](https://scipy-lectures.org/_images/numpy_indexing.png)"
   ]
  },
  {
   "cell_type": "markdown",
   "metadata": {
    "id": "vn1Xi7DoGjAi"
   },
   "source": [
    "### Access items of array"
   ]
  },
  {
   "cell_type": "code",
   "execution_count": 44,
   "metadata": {
    "colab": {
     "base_uri": "https://localhost:8080/",
     "height": 35
    },
    "id": "bkkIIHO3yuH2",
    "outputId": "9b6da06d-d49f-474f-97f8-70fe501c26fd",
    "ExecuteTime": {
     "start_time": "2023-04-19T16:50:02.790667Z",
     "end_time": "2023-04-19T16:50:02.807759Z"
    }
   },
   "outputs": [
    {
     "data": {
      "text/plain": "array([ 0,  1,  2,  3,  4,  5,  6,  7,  8,  9, 10])"
     },
     "execution_count": 44,
     "metadata": {},
     "output_type": "execute_result"
    }
   ],
   "source": [
    "a = np.arange(11)\n",
    "a"
   ]
  },
  {
   "cell_type": "code",
   "execution_count": 45,
   "metadata": {
    "colab": {
     "base_uri": "https://localhost:8080/",
     "height": 35
    },
    "id": "7CXd2PoHyuEs",
    "outputId": "30c47a8c-8562-4f5f-cd94-043cbf0a570b",
    "ExecuteTime": {
     "start_time": "2023-04-19T16:50:03.044888Z",
     "end_time": "2023-04-19T16:50:03.069259Z"
    }
   },
   "outputs": [
    {
     "data": {
      "text/plain": "(0, 2, 10)"
     },
     "execution_count": 45,
     "metadata": {},
     "output_type": "execute_result"
    }
   ],
   "source": [
    "a[0], a[2], a[-1]"
   ]
  },
  {
   "cell_type": "markdown",
   "metadata": {
    "id": "TLVdiyLKG4vk"
   },
   "source": [
    "### Reverse a sequence"
   ]
  },
  {
   "cell_type": "code",
   "execution_count": 46,
   "metadata": {
    "colab": {
     "base_uri": "https://localhost:8080/",
     "height": 35
    },
    "id": "Atje-VRPyuCd",
    "outputId": "ad1ecd24-8ee4-4617-a3da-fae2271e7bc0",
    "ExecuteTime": {
     "start_time": "2023-04-19T16:50:03.481467Z",
     "end_time": "2023-04-19T16:50:03.505126Z"
    }
   },
   "outputs": [
    {
     "data": {
      "text/plain": "array([10,  9,  8,  7,  6,  5,  4,  3,  2,  1,  0])"
     },
     "execution_count": 46,
     "metadata": {},
     "output_type": "execute_result"
    }
   ],
   "source": [
    "a[::-1]"
   ]
  },
  {
   "cell_type": "markdown",
   "metadata": {
    "id": "hQ02eFb0HC5I"
   },
   "source": [
    "### Multidimensional arrays\n",
    "\n",
    "Indexes in multidimensional arrays are tupes of integers.\n",
    "\n",
    "In 2D, the first dimension corresponds to rows, the second to columns.\n",
    "F\n",
    "or multidimensional `a` or `a[0]` is interpreted by taking all elements in the unspecified dimensions."
   ]
  },
  {
   "cell_type": "markdown",
   "metadata": {
    "id": "0t6GSGcRJF3z"
   },
   "source": [
    "#### Indexing"
   ]
  },
  {
   "cell_type": "code",
   "execution_count": 47,
   "metadata": {
    "colab": {
     "base_uri": "https://localhost:8080/",
     "height": 72
    },
    "id": "fno7qXUNyuA1",
    "outputId": "2a3d307b-e6c5-4fdc-d9c3-aaa091088d64",
    "ExecuteTime": {
     "start_time": "2023-04-19T16:50:04.157801Z",
     "end_time": "2023-04-19T16:50:04.172812Z"
    }
   },
   "outputs": [
    {
     "data": {
      "text/plain": "array([[0, 0, 0],\n       [0, 1, 0],\n       [0, 0, 2]])"
     },
     "execution_count": 47,
     "metadata": {},
     "output_type": "execute_result"
    }
   ],
   "source": [
    "a = np.diag(np.arange(3))\n",
    "a"
   ]
  },
  {
   "cell_type": "code",
   "execution_count": 48,
   "metadata": {
    "colab": {
     "base_uri": "https://localhost:8080/",
     "height": 35
    },
    "id": "3sNpHgqsH9rj",
    "outputId": "e85ff05a-c5a4-41b6-c7c2-7d179d896e3c",
    "ExecuteTime": {
     "start_time": "2023-04-19T16:50:04.420290Z",
     "end_time": "2023-04-19T16:50:04.437954Z"
    }
   },
   "outputs": [
    {
     "data": {
      "text/plain": "0"
     },
     "execution_count": 48,
     "metadata": {},
     "output_type": "execute_result"
    }
   ],
   "source": [
    "# Second line, second column\n",
    "a[2, 1]"
   ]
  },
  {
   "cell_type": "code",
   "execution_count": 49,
   "metadata": {
    "colab": {
     "base_uri": "https://localhost:8080/",
     "height": 72
    },
    "id": "zHDywLQ6IGD7",
    "outputId": "cf3467a5-9a64-45b2-b4b2-1ab274d7b9e8",
    "ExecuteTime": {
     "start_time": "2023-04-19T16:50:04.665808Z",
     "end_time": "2023-04-19T16:50:04.681122Z"
    }
   },
   "outputs": [
    {
     "data": {
      "text/plain": "array([[ 0,  0,  0],\n       [ 0,  1,  0],\n       [ 0, 99,  2]])"
     },
     "execution_count": 49,
     "metadata": {},
     "output_type": "execute_result"
    }
   ],
   "source": [
    "# Change for number 99 in Third line, Second column\n",
    "a[2, 1] = 99 \n",
    "a"
   ]
  },
  {
   "cell_type": "code",
   "execution_count": 50,
   "metadata": {
    "colab": {
     "base_uri": "https://localhost:8080/",
     "height": 35
    },
    "id": "UF43IBNFIU8t",
    "outputId": "fe48048d-cecb-4ff6-d7ee-2685561f634a",
    "ExecuteTime": {
     "start_time": "2023-04-19T16:50:04.904553Z",
     "end_time": "2023-04-19T16:50:04.928001Z"
    }
   },
   "outputs": [
    {
     "data": {
      "text/plain": "array([0, 1, 0])"
     },
     "execution_count": 50,
     "metadata": {},
     "output_type": "execute_result"
    }
   ],
   "source": [
    "# Retrieve second line\n",
    "a[1]"
   ]
  },
  {
   "cell_type": "markdown",
   "metadata": {
    "id": "mK0iebYJJIgB"
   },
   "source": [
    "#### Slicing\n",
    "By default, the three slice components are not required: by default, start is 0, end is the last and step is 1"
   ]
  },
  {
   "cell_type": "code",
   "execution_count": 51,
   "metadata": {
    "colab": {
     "base_uri": "https://localhost:8080/",
     "height": 35
    },
    "id": "yFlbsrfpJBMY",
    "outputId": "e5eb81a8-8a01-4d4a-be4d-6678d036d262",
    "ExecuteTime": {
     "start_time": "2023-04-19T16:50:05.415484Z",
     "end_time": "2023-04-19T16:50:05.432633Z"
    }
   },
   "outputs": [
    {
     "data": {
      "text/plain": "array([ 0,  1,  2,  3,  4,  5,  6,  7,  8,  9, 10])"
     },
     "execution_count": 51,
     "metadata": {},
     "output_type": "execute_result"
    }
   ],
   "source": [
    "a = np.arange(11)\n",
    "a"
   ]
  },
  {
   "cell_type": "code",
   "execution_count": 52,
   "metadata": {
    "colab": {
     "base_uri": "https://localhost:8080/",
     "height": 35
    },
    "id": "J5nHuJBvJXgk",
    "outputId": "84227555-eaf3-4d0d-87a9-3dcf2945385b",
    "ExecuteTime": {
     "start_time": "2023-04-19T16:50:05.678990Z",
     "end_time": "2023-04-19T16:50:05.694887Z"
    }
   },
   "outputs": [
    {
     "data": {
      "text/plain": "array([ 0,  2,  4,  6,  8, 10])"
     },
     "execution_count": 52,
     "metadata": {},
     "output_type": "execute_result"
    }
   ],
   "source": [
    "# [start:end:step]\n",
    "a[0:11:2] "
   ]
  },
  {
   "cell_type": "code",
   "execution_count": 53,
   "metadata": {
    "colab": {
     "base_uri": "https://localhost:8080/",
     "height": 35
    },
    "id": "bk3T4W3aJiV7",
    "outputId": "0a245362-933c-456f-a5ec-46d9cc26e5ba",
    "ExecuteTime": {
     "start_time": "2023-04-19T16:50:05.912470Z",
     "end_time": "2023-04-19T16:50:05.928826Z"
    }
   },
   "outputs": [
    {
     "data": {
      "text/plain": "array([0, 1, 2, 3, 4, 5, 6, 7, 8, 9])"
     },
     "execution_count": 53,
     "metadata": {},
     "output_type": "execute_result"
    }
   ],
   "source": [
    "# The last index is never included!!!!!\n",
    "a[:10]"
   ]
  },
  {
   "cell_type": "code",
   "execution_count": 54,
   "metadata": {
    "colab": {
     "base_uri": "https://localhost:8080/",
     "height": 108
    },
    "id": "7q4OX6QYJxBM",
    "outputId": "d69ec486-bc0b-498a-8fe5-825413e9d020",
    "ExecuteTime": {
     "start_time": "2023-04-19T16:50:06.167260Z",
     "end_time": "2023-04-19T16:50:06.182603Z"
    }
   },
   "outputs": [
    {
     "data": {
      "text/plain": "array([1, 2])"
     },
     "execution_count": 54,
     "metadata": {},
     "output_type": "execute_result"
    },
    {
     "name": "stdout",
     "output_type": "stream",
     "text": [
      "\n",
      "\n"
     ]
    },
    {
     "data": {
      "text/plain": "array([ 0,  2,  4,  6,  8, 10])"
     },
     "execution_count": 54,
     "metadata": {},
     "output_type": "execute_result"
    },
    {
     "name": "stdout",
     "output_type": "stream",
     "text": [
      "\n",
      "\n"
     ]
    },
    {
     "data": {
      "text/plain": "array([ 3,  4,  5,  6,  7,  8,  9, 10])"
     },
     "execution_count": 54,
     "metadata": {},
     "output_type": "execute_result"
    }
   ],
   "source": [
    "# By default, start is 0, end is the last and step is 1.\n",
    "a[1:3]\n",
    "print(\"\\n\")\n",
    "a[::2]\n",
    "print(\"\\n\")\n",
    "a[3:]"
   ]
  },
  {
   "cell_type": "code",
   "execution_count": 55,
   "metadata": {
    "colab": {
     "base_uri": "https://localhost:8080/",
     "height": 72
    },
    "id": "85oFjNNeLddf",
    "outputId": "50f7f13e-7dca-45b1-9106-4f8f91657040",
    "ExecuteTime": {
     "start_time": "2023-04-19T16:50:06.405290Z",
     "end_time": "2023-04-19T16:50:06.432483Z"
    }
   },
   "outputs": [
    {
     "data": {
      "text/plain": "array([ 0, -4, -4, -4,  4,  5,  6,  7,  8,  9, 10])"
     },
     "execution_count": 55,
     "metadata": {},
     "output_type": "execute_result"
    },
    {
     "name": "stdout",
     "output_type": "stream",
     "text": [
      "\n",
      "\n"
     ]
    },
    {
     "data": {
      "text/plain": "array([99, -4, -4, -4, 99,  5,  6,  7, 99,  9, 10])"
     },
     "execution_count": 55,
     "metadata": {},
     "output_type": "execute_result"
    }
   ],
   "source": [
    "# Combination of assignment and slicing\n",
    "a[1:4] = -4\n",
    "a\n",
    "print(\"\\n\")\n",
    "a[::4] = 99\n",
    "a"
   ]
  },
  {
   "cell_type": "markdown",
   "metadata": {
    "id": "ftZ5TSvFMNbA"
   },
   "source": [
    "## Copies vs. views\n",
    "\n",
    "A slicing operation creates a view on the original array, which is just a way of accessing array data. Thus the original array is not copied in memory. You can use \n",
    "\n",
    "`np.may_share_memory()` to check if two arrays share the same memory block. Note however, that this uses heuristics and may give you false positives."
   ]
  },
  {
   "cell_type": "code",
   "execution_count": 56,
   "metadata": {
    "colab": {
     "base_uri": "https://localhost:8080/",
     "height": 35
    },
    "id": "8GzHgbAGOwpq",
    "outputId": "51cb159e-2f9f-4db4-f3b9-9a2f50876082",
    "ExecuteTime": {
     "start_time": "2023-04-19T16:50:06.842675Z",
     "end_time": "2023-04-19T16:50:06.860318Z"
    }
   },
   "outputs": [
    {
     "data": {
      "text/plain": "array([0, 1, 2, 3, 4, 5, 6, 7, 8, 9])"
     },
     "execution_count": 56,
     "metadata": {},
     "output_type": "execute_result"
    }
   ],
   "source": [
    "a = np.arange(10)\n",
    "a"
   ]
  },
  {
   "cell_type": "code",
   "execution_count": 57,
   "metadata": {
    "colab": {
     "base_uri": "https://localhost:8080/",
     "height": 35
    },
    "id": "5G4etoGlO3ri",
    "outputId": "e2f2091f-3bdb-4686-b982-89c4be425797",
    "ExecuteTime": {
     "start_time": "2023-04-19T16:50:07.064344Z",
     "end_time": "2023-04-19T16:50:07.079435Z"
    }
   },
   "outputs": [
    {
     "data": {
      "text/plain": "array([0, 2, 4, 6, 8])"
     },
     "execution_count": 57,
     "metadata": {},
     "output_type": "execute_result"
    }
   ],
   "source": [
    "b = a[::2]\n",
    "b"
   ]
  },
  {
   "cell_type": "code",
   "execution_count": 58,
   "metadata": {
    "colab": {
     "base_uri": "https://localhost:8080/",
     "height": 35
    },
    "id": "thqBGoNNO7QM",
    "outputId": "dd19b579-13f2-4933-a489-74e459bece7d",
    "ExecuteTime": {
     "start_time": "2023-04-19T16:50:07.297126Z",
     "end_time": "2023-04-19T16:50:07.311583Z"
    }
   },
   "outputs": [
    {
     "data": {
      "text/plain": "True"
     },
     "execution_count": 58,
     "metadata": {},
     "output_type": "execute_result"
    }
   ],
   "source": [
    "np.may_share_memory(a, b)"
   ]
  },
  {
   "cell_type": "code",
   "execution_count": 59,
   "metadata": {
    "colab": {
     "base_uri": "https://localhost:8080/",
     "height": 35
    },
    "id": "lcd0otSTPAPA",
    "outputId": "60b47877-ef21-4190-a569-3754ce2da6eb",
    "ExecuteTime": {
     "start_time": "2023-04-19T16:50:07.515890Z",
     "end_time": "2023-04-19T16:50:07.530478Z"
    }
   },
   "outputs": [
    {
     "data": {
      "text/plain": "array([12,  2,  4,  6,  8])"
     },
     "execution_count": 59,
     "metadata": {},
     "output_type": "execute_result"
    }
   ],
   "source": [
    "# When we change an index in the view\n",
    "b[0] = 12\n",
    "b"
   ]
  },
  {
   "cell_type": "code",
   "execution_count": 60,
   "metadata": {
    "colab": {
     "base_uri": "https://localhost:8080/",
     "height": 35
    },
    "id": "X0nrJBJePGKB",
    "outputId": "da6e368b-d5a6-4825-da62-25f74b30b3ec",
    "ExecuteTime": {
     "start_time": "2023-04-19T16:50:07.755172Z",
     "end_time": "2023-04-19T16:50:07.771442Z"
    }
   },
   "outputs": [
    {
     "data": {
      "text/plain": "array([12,  1,  2,  3,  4,  5,  6,  7,  8,  9])"
     },
     "execution_count": 60,
     "metadata": {},
     "output_type": "execute_result"
    }
   ],
   "source": [
    "# The original is modified as well\n",
    "a"
   ]
  },
  {
   "cell_type": "code",
   "execution_count": 61,
   "metadata": {
    "colab": {
     "base_uri": "https://localhost:8080/",
     "height": 35
    },
    "id": "1Mlj0HoGPMu_",
    "outputId": "38963681-e7e3-4beb-8562-c795da237f08",
    "ExecuteTime": {
     "start_time": "2023-04-19T16:50:07.955403Z",
     "end_time": "2023-04-19T16:50:07.969867Z"
    }
   },
   "outputs": [
    {
     "data": {
      "text/plain": "array([12,  1,  2,  3,  4,  5,  6,  7,  8,  9])"
     },
     "execution_count": 61,
     "metadata": {},
     "output_type": "execute_result"
    }
   ],
   "source": [
    "# We need to create a copy() to put changes that are not reflected in the original\n",
    "d = a.copy()\n",
    "d"
   ]
  },
  {
   "cell_type": "code",
   "execution_count": 62,
   "metadata": {
    "colab": {
     "base_uri": "https://localhost:8080/",
     "height": 35
    },
    "id": "pCNnkSjZPYAN",
    "outputId": "2a030a3f-7ec4-414a-f912-b6b89723fc42",
    "ExecuteTime": {
     "start_time": "2023-04-19T16:50:08.181696Z",
     "end_time": "2023-04-19T16:50:08.197061Z"
    }
   },
   "outputs": [
    {
     "data": {
      "text/plain": "array([0, 1, 2, 3, 4, 5, 6, 7, 8, 9])"
     },
     "execution_count": 62,
     "metadata": {},
     "output_type": "execute_result"
    }
   ],
   "source": [
    "d[0] = 0\n",
    "d"
   ]
  },
  {
   "cell_type": "code",
   "execution_count": 63,
   "metadata": {
    "ExecuteTime": {
     "start_time": "2023-04-19T16:50:08.400717Z",
     "end_time": "2023-04-19T16:50:08.415730Z"
    }
   },
   "outputs": [
    {
     "data": {
      "text/plain": "array([12,  1,  2,  3,  4,  5,  6,  7,  8,  9])"
     },
     "execution_count": 63,
     "metadata": {},
     "output_type": "execute_result"
    }
   ],
   "source": [
    "a"
   ]
  },
  {
   "cell_type": "code",
   "execution_count": 64,
   "metadata": {
    "colab": {
     "base_uri": "https://localhost:8080/",
     "height": 35
    },
    "id": "lF8RvgnbPbGY",
    "outputId": "f54fd43f-7867-4d94-a888-a9f50f52f661",
    "ExecuteTime": {
     "start_time": "2023-04-19T16:50:08.653798Z",
     "end_time": "2023-04-19T16:50:08.678630Z"
    }
   },
   "outputs": [
    {
     "data": {
      "text/plain": "False"
     },
     "execution_count": 64,
     "metadata": {},
     "output_type": "execute_result"
    }
   ],
   "source": [
    "# The copy is in a different memory allocation\n",
    "np.may_share_memory(a, d)"
   ]
  },
  {
   "cell_type": "markdown",
   "metadata": {
    "id": "Y9-A4vihPnYa"
   },
   "source": [
    "## Fancy or Advanced array indexing\n",
    "NumPy arrays can be indexed with slices, but as well with boolean or integer arrays (masks). This method creates copies rather than views."
   ]
  },
  {
   "cell_type": "markdown",
   "metadata": {
    "id": "lZnesr5oP33v"
   },
   "source": [
    "### Mask with boolean array"
   ]
  },
  {
   "cell_type": "code",
   "execution_count": 65,
   "metadata": {
    "colab": {
     "base_uri": "https://localhost:8080/",
     "height": 35
    },
    "id": "4Gropd5mQdeN",
    "outputId": "dec6c208-aae9-4fa3-a1f3-7d9a5322db17",
    "ExecuteTime": {
     "start_time": "2023-04-19T16:50:09.318587Z",
     "end_time": "2023-04-19T16:50:09.331305Z"
    }
   },
   "outputs": [
    {
     "data": {
      "text/plain": "array([10,  3,  8,  0, 19, 10, 11,  9, 10,  6,  0, 20, 12,  7, 14])"
     },
     "execution_count": 65,
     "metadata": {},
     "output_type": "execute_result"
    }
   ],
   "source": [
    "# We start with getting a seed and a random integer array\n",
    "np.random.seed(3)\n",
    "a = np.random.randint(0, 21, 15)\n",
    "a"
   ]
  },
  {
   "cell_type": "code",
   "execution_count": 66,
   "metadata": {
    "colab": {
     "base_uri": "https://localhost:8080/",
     "height": 54
    },
    "id": "iif5rTnlRJq_",
    "outputId": "9acc60d8-f4d9-4d4f-cdc5-faf98d432cf6",
    "ExecuteTime": {
     "start_time": "2023-04-19T16:50:09.538965Z",
     "end_time": "2023-04-19T16:50:09.555783Z"
    }
   },
   "outputs": [
    {
     "data": {
      "text/plain": "array([False,  True, False,  True, False, False, False,  True, False,\n        True,  True, False,  True, False, False])"
     },
     "execution_count": 66,
     "metadata": {},
     "output_type": "execute_result"
    }
   ],
   "source": [
    "# Create a Boolean array when the residuals of a/3 are 0\n",
    "a % 3 == 0"
   ]
  },
  {
   "cell_type": "code",
   "execution_count": 67,
   "metadata": {
    "colab": {
     "base_uri": "https://localhost:8080/",
     "height": 35
    },
    "id": "FPqTfbBsRX0T",
    "outputId": "a9051c8b-f644-4bfd-a4d7-6b03a2e675bb",
    "ExecuteTime": {
     "start_time": "2023-04-19T16:50:09.775790Z",
     "end_time": "2023-04-19T16:50:09.800882Z"
    }
   },
   "outputs": [
    {
     "data": {
      "text/plain": "array([ 3,  0,  9,  6,  0, 12])"
     },
     "execution_count": 67,
     "metadata": {},
     "output_type": "execute_result"
    }
   ],
   "source": [
    "# Create a Boolean mask when the residuals of a/3 are 0\n",
    "mask = (a % 3 == 0)\n",
    "\n",
    "# Extract a sub-array with the mask\n",
    "extract_from_a = a[mask] # or,  a[a%3==0]\n",
    "extract_from_a           "
   ]
  },
  {
   "cell_type": "markdown",
   "metadata": {
    "id": "N69Cv2l7QT4q"
   },
   "source": [
    "### Mask with integer array"
   ]
  },
  {
   "cell_type": "code",
   "execution_count": 68,
   "metadata": {
    "colab": {
     "base_uri": "https://localhost:8080/",
     "height": 35
    },
    "id": "2zIBMf87R3B_",
    "outputId": "490d0c22-1d96-4f06-d547-a47d5f4d2b5e",
    "ExecuteTime": {
     "start_time": "2023-04-19T16:50:10.203003Z",
     "end_time": "2023-04-19T16:50:10.218792Z"
    }
   },
   "outputs": [
    {
     "data": {
      "text/plain": "array([ 0, 10, 20, 30, 40, 50, 60, 70, 80, 90])"
     },
     "execution_count": 68,
     "metadata": {},
     "output_type": "execute_result"
    }
   ],
   "source": [
    "a = np.arange(0, 100, 10)\n",
    "a"
   ]
  },
  {
   "cell_type": "code",
   "execution_count": 69,
   "metadata": {
    "colab": {
     "base_uri": "https://localhost:8080/",
     "height": 35
    },
    "id": "EvyXBT0-R6_z",
    "outputId": "06328cad-ebea-441c-b21a-1c61592c5555",
    "ExecuteTime": {
     "start_time": "2023-04-19T16:50:10.466536Z",
     "end_time": "2023-04-19T16:50:10.491040Z"
    }
   },
   "outputs": [
    {
     "data": {
      "text/plain": "array([20, 30, 20, 40, 20])"
     },
     "execution_count": 69,
     "metadata": {},
     "output_type": "execute_result"
    }
   ],
   "source": [
    "# Indexing by position\n",
    "# [2, 3, 2, 4, 2] is a Python list\n",
    "b = a[[2, 3, 2, 4, 2]]\n",
    "b"
   ]
  },
  {
   "cell_type": "markdown",
   "metadata": {
    "id": "5JSAWHgTSrgx"
   },
   "source": [
    "Some more fancy indexing:\n",
    "\n",
    "![alt text](https://scipy-lectures.org/_images/numpy_fancy_indexing.png)"
   ]
  },
  {
   "cell_type": "code",
   "execution_count": 70,
   "metadata": {
    "ExecuteTime": {
     "start_time": "2023-04-19T16:50:10.913816Z",
     "end_time": "2023-04-19T16:50:10.932724Z"
    }
   },
   "outputs": [],
   "source": [
    "# Let's create a Gaussian image of 30x30\n",
    "image = np.random.randn(10, 15)"
   ]
  },
  {
   "cell_type": "code",
   "execution_count": 71,
   "metadata": {
    "ExecuteTime": {
     "start_time": "2023-04-19T16:50:11.153575Z",
     "end_time": "2023-04-19T16:50:11.171327Z"
    }
   },
   "outputs": [
    {
     "data": {
      "text/plain": "array([[-1.31386475e+00,  8.84622380e-01,  8.81318042e-01,\n         1.70957306e+00,  5.00336422e-02, -4.04677415e-01,\n        -5.45359948e-01, -1.54647732e+00,  9.82367434e-01,\n        -1.10106763e+00, -1.18504653e+00, -2.05649899e-01,\n         1.48614836e+00,  2.36716267e-01, -1.02378514e+00],\n       [-7.12993200e-01,  6.25244966e-01, -1.60513363e-01,\n        -7.68836350e-01, -2.30030722e-01,  7.45056266e-01,\n         1.97611078e+00, -1.24412333e+00, -6.26416911e-01,\n        -8.03766095e-01, -2.41908317e+00, -9.23792022e-01,\n        -1.02387576e+00,  1.12397796e+00, -1.31914233e-01],\n       [-1.62328545e+00,  6.46675452e-01, -3.56270759e-01,\n        -1.74314104e+00, -5.96649642e-01, -5.88594380e-01,\n        -8.73882298e-01,  2.97138154e-02, -2.24825777e+00,\n        -2.67761865e-01,  1.01318344e+00,  8.52797841e-01,\n         1.10818750e+00,  1.11939066e+00,  1.48754313e+00],\n       [-1.11830068e+00,  8.45833407e-01, -1.86088953e+00,\n        -6.02885104e-01, -1.91447204e+00,  1.04814751e+00,\n         1.33373782e+00, -1.97414679e-01,  1.77464503e+00,\n        -6.74727510e-01,  1.50616865e-01,  1.52945703e-01,\n        -1.06419527e+00,  4.37946611e-01,  1.93897846e+00],\n       [-1.02493087e+00,  8.99338446e-01, -1.54506852e-01,\n         1.76962730e+00,  4.83788348e-01,  6.76216400e-01,\n         6.43163281e-01,  2.49086707e-01, -1.39576350e+00,\n         1.39166291e+00, -1.37066901e+00,  2.38563192e-01,\n         6.14077088e-01, -8.37912273e-01,  1.45063214e-01],\n       [ 1.16788229e+00, -2.41044701e-02, -8.88657418e-01,\n        -2.91573775e+00, -9.71840503e-01, -5.91078738e-01,\n        -5.16417368e-01, -9.59996180e-01,  3.77295234e-01,\n        -5.74708420e-01, -1.09454334e-01,  6.79071600e-01,\n        -8.55437169e-01, -3.00206075e-01,  2.15814934e+00],\n       [ 8.74285723e-01, -1.29353663e+00, -7.97409382e-02,\n         5.64485518e-01,  1.23347104e+00,  1.48986395e-01,\n        -5.30582144e-01, -7.30526644e-01,  6.45061985e-01,\n         3.13060374e-01, -5.16647925e-01, -1.89071666e-01,\n        -4.16198015e-01,  7.24657658e-01, -6.89960677e-01],\n       [ 4.86414475e-01,  8.51518950e-01,  4.86249326e-01,\n        -8.34239851e-01,  1.34499246e+00, -6.78212679e-01,\n         4.26435074e-01, -7.53334794e-01, -1.74411025e+00,\n         2.25750266e-01,  2.87035165e-01, -7.74409606e-02,\n         2.76068497e-01, -6.48410888e-01, -7.37464837e-01],\n       [-1.68090099e-01,  1.90927681e+00,  8.14814541e-01,\n        -5.19991754e-01,  5.58713205e-01, -4.78364660e-01,\n        -4.57260787e-01,  8.59284008e-01, -5.25264645e-01,\n        -1.67563463e+00, -9.06494701e-01,  8.84152062e-02,\n         1.28007821e-01,  1.24161652e+00, -7.16025798e-01],\n       [ 7.31465736e-01,  4.25966750e-01, -1.49013772e-01,\n         8.35843902e-01,  4.92118903e-01, -8.62308487e-01,\n         1.07168393e+00, -1.22090192e+00,  5.96154331e-02,\n         2.44416199e-03,  4.24635721e-01, -7.25433480e-01,\n        -3.49433856e-02, -1.40620027e-01,  9.97088367e-01]])"
     },
     "execution_count": 71,
     "metadata": {},
     "output_type": "execute_result"
    }
   ],
   "source": [
    "image"
   ]
  },
  {
   "cell_type": "code",
   "execution_count": 72,
   "metadata": {
    "ExecuteTime": {
     "start_time": "2023-04-19T16:50:11.382913Z",
     "end_time": "2023-04-19T16:50:11.400059Z"
    }
   },
   "outputs": [],
   "source": [
    "def print_elems(arr):\n",
    "    nrows = arr.shape[0]\n",
    "    ncols = arr.shape[1]\n",
    "    for i in range(nrows):\n",
    "        for j in range(ncols):\n",
    "            print(arr[i,j])"
   ]
  },
  {
   "cell_type": "code",
   "execution_count": 73,
   "metadata": {
    "ExecuteTime": {
     "start_time": "2023-04-19T16:50:11.623157Z",
     "end_time": "2023-04-19T16:50:11.638148Z"
    }
   },
   "outputs": [
    {
     "data": {
      "text/plain": "-1.3138647533626822"
     },
     "execution_count": 73,
     "metadata": {},
     "output_type": "execute_result"
    }
   ],
   "source": [
    "image[0][0]"
   ]
  },
  {
   "cell_type": "code",
   "execution_count": 74,
   "metadata": {
    "ExecuteTime": {
     "start_time": "2023-04-19T16:50:11.850647Z",
     "end_time": "2023-04-19T16:50:11.866608Z"
    }
   },
   "outputs": [
    {
     "name": "stdout",
     "output_type": "stream",
     "text": [
      "-1.3138647533626822\n",
      "0.8846223804995846\n",
      "0.8813180422075299\n",
      "1.7095730636529485\n",
      "0.05003364217686021\n",
      "-0.40467741460089085\n",
      "-0.5453599476195304\n",
      "-1.5464773155829683\n",
      "0.9823674342581601\n",
      "-1.1010676301114757\n",
      "-1.1850465270201729\n",
      "-0.20564989942254108\n",
      "1.4861483550745902\n",
      "0.23671626722691233\n",
      "-1.0237851399264681\n",
      "-0.7129932001120494\n",
      "0.6252449661628293\n",
      "-0.1605133631869239\n",
      "-0.76883635031923\n",
      "-0.23003072227793905\n",
      "0.7450562664053708\n",
      "1.9761107831263025\n",
      "-1.244123328955937\n",
      "-0.6264169111883692\n",
      "-0.8037660945765764\n",
      "-2.4190831731786697\n",
      "-0.9237920216957886\n",
      "-1.0238757608428377\n",
      "1.1239779589574683\n",
      "-0.1319142328009009\n",
      "-1.6232854458352473\n",
      "0.6466754522701722\n",
      "-0.35627075944674486\n",
      "-1.7431410369534588\n",
      "-0.5966496416841992\n",
      "-0.5885943796882429\n",
      "-0.8738822977622994\n",
      "0.02971381536101662\n",
      "-2.248257767576606\n",
      "-0.2677618648460562\n",
      "1.0131834418864945\n",
      "0.8527978409541495\n",
      "1.1081874999349925\n",
      "1.1193906553188915\n",
      "1.4875431319925396\n",
      "-1.118300684400365\n",
      "0.845833407057182\n",
      "-1.8608895289421137\n",
      "-0.6028851040072183\n",
      "-1.9144720434058142\n",
      "1.0481475122462551\n",
      "1.3337378194424867\n",
      "-0.1974146791582499\n",
      "1.7746450314059348\n",
      "-0.6747275103117134\n",
      "0.15061686536502228\n",
      "0.15294570276248168\n",
      "-1.0641952739365244\n",
      "0.43794661128008205\n",
      "1.9389784604004943\n",
      "-1.0249308746080865\n",
      "0.8993384458408142\n",
      "-0.15450685189928748\n",
      "1.7696273032937428\n",
      "0.48378834760053036\n",
      "0.6762163998630621\n",
      "0.6431632805957185\n",
      "0.2490867067258341\n",
      "-1.395763502640675\n",
      "1.3916629077448075\n",
      "-1.3706690125520165\n",
      "0.2385631924059012\n",
      "0.6140770877540938\n",
      "-0.8379122727022941\n",
      "0.14506321410352788\n",
      "1.1678822863016418\n",
      "-0.024104470071230052\n",
      "-0.8886574178529492\n",
      "-2.915737751792712\n",
      "-0.9718405025726093\n",
      "-0.5910787384858753\n",
      "-0.516417367788474\n",
      "-0.9599961802272166\n",
      "0.37729523411320043\n",
      "-0.5747084204927051\n",
      "-0.10945433388060835\n",
      "0.679071599825507\n",
      "-0.8554371686598813\n",
      "-0.30020607451955067\n",
      "2.1581493420569187\n",
      "0.8742857226105203\n",
      "-1.2935366319217843\n",
      "-0.0797409381855717\n",
      "0.564485518294597\n",
      "1.2334710444531563\n",
      "0.14898639468099084\n",
      "-0.5305821443551044\n",
      "-0.7305266436933302\n",
      "0.6450619849839091\n",
      "0.31306037402410647\n",
      "-0.5166479247981497\n",
      "-0.1890716664357128\n",
      "-0.416198015130148\n",
      "0.7246576582394498\n",
      "-0.6899606773138658\n",
      "0.48641447526861514\n",
      "0.8515189504847083\n",
      "0.48624932610831123\n",
      "-0.8342398506717849\n",
      "1.344992456622238\n",
      "-0.6782126793411518\n",
      "0.4264350744400753\n",
      "-0.7533347935974722\n",
      "-1.744110250641094\n",
      "0.2257502662458201\n",
      "0.28703516469482443\n",
      "-0.07744096055993933\n",
      "0.27606849724284316\n",
      "-0.6484108883064816\n",
      "-0.7374648374587585\n",
      "-0.16809009862191446\n",
      "1.909276809266566\n",
      "0.8148145412513252\n",
      "-0.5199917540975635\n",
      "0.5587132048474234\n",
      "-0.4783646604432103\n",
      "-0.45726078713830676\n",
      "0.8592840082646755\n",
      "-0.5252646451556335\n",
      "-1.6756346341845954\n",
      "-0.9064947005743282\n",
      "0.08841520620200595\n",
      "0.12800782111610085\n",
      "1.2416165181585397\n",
      "-0.7160257975174191\n",
      "0.7314657358201054\n",
      "0.42596674984978417\n",
      "-0.14901377221550174\n",
      "0.8358439021819729\n",
      "0.4921189029137968\n",
      "-0.8623084869368738\n",
      "1.071683929782794\n",
      "-1.2209019198961333\n",
      "0.059615433090329545\n",
      "0.0024441619892351415\n",
      "0.4246357208598569\n",
      "-0.7254334803985123\n",
      "-0.0349433855520906\n",
      "-0.14062002701591825\n",
      "0.9970883670936515\n"
     ]
    }
   ],
   "source": [
    "print_elems(image)"
   ]
  },
  {
   "cell_type": "code",
   "execution_count": 75,
   "metadata": {
    "ExecuteTime": {
     "start_time": "2023-04-19T16:50:12.075061Z",
     "end_time": "2023-04-19T16:50:12.091025Z"
    }
   },
   "outputs": [
    {
     "data": {
      "text/plain": "15"
     },
     "execution_count": 75,
     "metadata": {},
     "output_type": "execute_result"
    }
   ],
   "source": [
    "image.shape[1]"
   ]
  },
  {
   "cell_type": "code",
   "execution_count": 76,
   "metadata": {
    "ExecuteTime": {
     "start_time": "2023-04-19T16:50:12.308167Z",
     "end_time": "2023-04-19T16:50:12.334693Z"
    }
   },
   "outputs": [
    {
     "data": {
      "text/plain": "array([-1.31386475,  0.88462238,  0.88131804,  1.70957306,  0.05003364,\n       -0.40467741, -0.54535995, -1.54647732,  0.98236743, -1.10106763,\n       -1.18504653, -0.2056499 ,  1.48614836,  0.23671627, -1.02378514])"
     },
     "execution_count": 76,
     "metadata": {},
     "output_type": "execute_result"
    }
   ],
   "source": [
    "image[0]"
   ]
  },
  {
   "cell_type": "markdown",
   "metadata": {
    "id": "ahd5rpqz6rbX"
   },
   "source": [
    "## For what do we use all this??\n",
    "\n",
    "See this [amazing visual presentation](http://jalammar.github.io/visual-numpy/):\n",
    "\n",
    "* For matrix computation\n",
    "* Data representation\n",
    "* Audio\n",
    "* Image\n",
    "* Text\n",
    "\n",
    "\n",
    "# This notebook ends here, go to the Image basic manipulation notebook for more fun!\n"
   ]
  },
  {
   "cell_type": "code",
   "execution_count": null,
   "outputs": [],
   "source": [],
   "metadata": {
    "collapsed": false
   }
  }
 ],
 "metadata": {
  "accelerator": "GPU",
  "colab": {
   "collapsed_sections": [
    "hDV-_nrtqtO2",
    "g38RFzmI1Pq0"
   ],
   "name": "05_Array_image_manipulation.ipynb",
   "provenance": [],
   "toc_visible": true
  },
  "kernelspec": {
   "display_name": "Python 3 (ipykernel)",
   "language": "python",
   "name": "python3"
  },
  "language_info": {
   "codemirror_mode": {
    "name": "ipython",
    "version": 3
   },
   "file_extension": ".py",
   "mimetype": "text/x-python",
   "name": "python",
   "nbconvert_exporter": "python",
   "pygments_lexer": "ipython3",
   "version": "3.9.12"
  }
 },
 "nbformat": 4,
 "nbformat_minor": 4
}
