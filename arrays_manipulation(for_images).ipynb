{
 "cells": [
  {
   "cell_type": "markdown",
   "metadata": {
    "id": "_a2hajcA99-K",
    "tags": []
   },
   "source": [
    "\n",
    "\n",
    "# Introduction to Numpy & Scikit Image\n",
    "\n",
    "\n",
    "**Resources:**\n",
    "\n",
    "* [SciPy](https://scipy.org)\n",
    "* [Scipy Lectures](https://scipy-lectures.org)\n",
    "* [NumPy](https://numpy.org)"
   ]
  },
  {
   "cell_type": "markdown",
   "metadata": {
    "id": "21DziKTsxMHl"
   },
   "source": [
    "# NumPy\n",
    "\n",
    "NumPy is a Python library for numerical computing. It provides a powerful array data structure, which allows you to efficiently manipulate large arrays and matrices of numeric data. NumPy also includes a range of functions for performing mathematical operations on arrays, including linear algebra, Fourier analysis, and random number generation.\n",
    "\n",
    "In addition, NumPy provides tools for working with multi-dimensional arrays, which are particularly useful in scientific computing and data analysis. It also integrates well with other Python libraries such as Pandas, Scikit-learn, and Matplotlib. Overall, NumPy is a fundamental library for scientific computing in Python and can be used for a wide range of applications, including data analysis, machine learning, image processing, and more.\n",
    "\n",
    "NumPy can be used in image processing to perform a variety of operations on images, such as\n",
    "- Reading and displaying images\n",
    "- Image manipulation\n",
    "- Filtering and convolution\n",
    "- Image segmentation\n",
    "\n"
   ]
  },
  {
   "cell_type": "code",
   "execution_count": 2,
   "metadata": {
    "id": "LJnBBLmG132q",
    "ExecuteTime": {
     "start_time": "2023-04-25T11:14:47.033602Z",
     "end_time": "2023-04-25T11:14:47.035160Z"
    }
   },
   "outputs": [],
   "source": [
    "# Within IPython notebook, add multiple print capabilities\n",
    "from IPython.core.interactiveshell import InteractiveShell\n",
    "InteractiveShell.ast_node_interactivity = \"all\""
   ]
  },
  {
   "cell_type": "markdown",
   "metadata": {
    "id": "omaIgYI0xdrt"
   },
   "source": [
    "## NumPy arrays\n",
    "\n",
    "A NumPy array is a data structure that represents a grid of values of the same data type. It is similar to a list in Python, but with additional functionality optimized for numerical operations.\n",
    "\n",
    "NumPy arrays are homogeneous, meaning that all the elements in the array must have the same data type, such as integers, floating-point numbers, or complex numbers. This allows NumPy to optimize the storage and operations on the array, resulting in faster and more efficient computation.\n",
    "\n",
    "An array can contain:\n",
    "* Values of an experiment/simulation at discrete time steps\n",
    "* A signal recorded by a measurement device, e.g. sound wave\n",
    "* The pixels of an image, grey-level or colour\n",
    "* 3-D data measured at different X-Y-Z positions, e.g. MRI scan\n",
    "* …"
   ]
  },
  {
   "cell_type": "code",
   "execution_count": 3,
   "metadata": {
    "id": "Rxfd_QZkxYqh",
    "ExecuteTime": {
     "start_time": "2023-04-25T11:14:47.036403Z",
     "end_time": "2023-04-25T11:14:47.038434Z"
    }
   },
   "outputs": [],
   "source": [
    "import numpy as np\n",
    "a = np.array([0, 1, 2, 3])"
   ]
  },
  {
   "cell_type": "code",
   "execution_count": 4,
   "metadata": {
    "ExecuteTime": {
     "start_time": "2023-04-25T11:14:47.040725Z",
     "end_time": "2023-04-25T11:14:47.048262Z"
    }
   },
   "outputs": [
    {
     "data": {
      "text/plain": "(4,)"
     },
     "execution_count": 4,
     "metadata": {},
     "output_type": "execute_result"
    }
   ],
   "source": [
    "np.shape(a)"
   ]
  },
  {
   "cell_type": "markdown",
   "metadata": {
    "id": "mjM8bWObyyKJ"
   },
   "source": [
    "### NumPy is memory efficient container that provides fast numerical operations"
   ]
  },
  {
   "cell_type": "code",
   "execution_count": 7,
   "metadata": {
    "colab": {
     "base_uri": "https://localhost:8080/"
    },
    "id": "-isSwwYPy-LY",
    "outputId": "4380b1d0-6657-4d59-8ab0-6d5f33526d16",
    "ExecuteTime": {
     "start_time": "2023-04-25T11:15:10.376524Z",
     "end_time": "2023-04-25T11:15:33.683412Z"
    }
   },
   "outputs": [
    {
     "name": "stdout",
     "output_type": "stream",
     "text": [
      "191 µs ± 1.59 µs per loop (mean ± std. dev. of 7 runs, 10,000 loops each)\n",
      "955 ns ± 6.45 ns per loop (mean ± std. dev. of 7 runs, 1,000,000 loops each)\n",
      "192 µs ± 1.36 µs per loop (mean ± std. dev. of 7 runs, 10,000 loops each)\n",
      "953 ns ± 7.57 ns per loop (mean ± std. dev. of 7 runs, 1,000,000 loops each)\n"
     ]
    }
   ],
   "source": [
    "L = range(1000)\n",
    "%timeit [i**2 for i in L]\n",
    "\n",
    "a = np.arange(1000)\n",
    "%timeit a**2"
   ]
  },
  {
   "cell_type": "markdown",
   "source": [
    " The NumPy array operation is much faster than the Python loop operation, with the NumPy operation taking only 993 ns on average and the loop operation taking 188 µs on average. This is a speedup of 190,000 times!"
   ],
   "metadata": {
    "collapsed": false
   }
  },
  {
   "cell_type": "code",
   "execution_count": 8,
   "metadata": {
    "ExecuteTime": {
     "start_time": "2023-04-25T11:15:33.683214Z",
     "end_time": "2023-04-25T11:15:33.689202Z"
    }
   },
   "outputs": [
    {
     "data": {
      "text/plain": "range(0, 1000)"
     },
     "execution_count": 8,
     "metadata": {},
     "output_type": "execute_result"
    },
    {
     "data": {
      "text/plain": "array([  0,   1,   2,   3,   4,   5,   6,   7,   8,   9,  10,  11,  12,\n        13,  14,  15,  16,  17,  18,  19,  20,  21,  22,  23,  24,  25,\n        26,  27,  28,  29,  30,  31,  32,  33,  34,  35,  36,  37,  38,\n        39,  40,  41,  42,  43,  44,  45,  46,  47,  48,  49,  50,  51,\n        52,  53,  54,  55,  56,  57,  58,  59,  60,  61,  62,  63,  64,\n        65,  66,  67,  68,  69,  70,  71,  72,  73,  74,  75,  76,  77,\n        78,  79,  80,  81,  82,  83,  84,  85,  86,  87,  88,  89,  90,\n        91,  92,  93,  94,  95,  96,  97,  98,  99, 100, 101, 102, 103,\n       104, 105, 106, 107, 108, 109, 110, 111, 112, 113, 114, 115, 116,\n       117, 118, 119, 120, 121, 122, 123, 124, 125, 126, 127, 128, 129,\n       130, 131, 132, 133, 134, 135, 136, 137, 138, 139, 140, 141, 142,\n       143, 144, 145, 146, 147, 148, 149, 150, 151, 152, 153, 154, 155,\n       156, 157, 158, 159, 160, 161, 162, 163, 164, 165, 166, 167, 168,\n       169, 170, 171, 172, 173, 174, 175, 176, 177, 178, 179, 180, 181,\n       182, 183, 184, 185, 186, 187, 188, 189, 190, 191, 192, 193, 194,\n       195, 196, 197, 198, 199, 200, 201, 202, 203, 204, 205, 206, 207,\n       208, 209, 210, 211, 212, 213, 214, 215, 216, 217, 218, 219, 220,\n       221, 222, 223, 224, 225, 226, 227, 228, 229, 230, 231, 232, 233,\n       234, 235, 236, 237, 238, 239, 240, 241, 242, 243, 244, 245, 246,\n       247, 248, 249, 250, 251, 252, 253, 254, 255, 256, 257, 258, 259,\n       260, 261, 262, 263, 264, 265, 266, 267, 268, 269, 270, 271, 272,\n       273, 274, 275, 276, 277, 278, 279, 280, 281, 282, 283, 284, 285,\n       286, 287, 288, 289, 290, 291, 292, 293, 294, 295, 296, 297, 298,\n       299, 300, 301, 302, 303, 304, 305, 306, 307, 308, 309, 310, 311,\n       312, 313, 314, 315, 316, 317, 318, 319, 320, 321, 322, 323, 324,\n       325, 326, 327, 328, 329, 330, 331, 332, 333, 334, 335, 336, 337,\n       338, 339, 340, 341, 342, 343, 344, 345, 346, 347, 348, 349, 350,\n       351, 352, 353, 354, 355, 356, 357, 358, 359, 360, 361, 362, 363,\n       364, 365, 366, 367, 368, 369, 370, 371, 372, 373, 374, 375, 376,\n       377, 378, 379, 380, 381, 382, 383, 384, 385, 386, 387, 388, 389,\n       390, 391, 392, 393, 394, 395, 396, 397, 398, 399, 400, 401, 402,\n       403, 404, 405, 406, 407, 408, 409, 410, 411, 412, 413, 414, 415,\n       416, 417, 418, 419, 420, 421, 422, 423, 424, 425, 426, 427, 428,\n       429, 430, 431, 432, 433, 434, 435, 436, 437, 438, 439, 440, 441,\n       442, 443, 444, 445, 446, 447, 448, 449, 450, 451, 452, 453, 454,\n       455, 456, 457, 458, 459, 460, 461, 462, 463, 464, 465, 466, 467,\n       468, 469, 470, 471, 472, 473, 474, 475, 476, 477, 478, 479, 480,\n       481, 482, 483, 484, 485, 486, 487, 488, 489, 490, 491, 492, 493,\n       494, 495, 496, 497, 498, 499, 500, 501, 502, 503, 504, 505, 506,\n       507, 508, 509, 510, 511, 512, 513, 514, 515, 516, 517, 518, 519,\n       520, 521, 522, 523, 524, 525, 526, 527, 528, 529, 530, 531, 532,\n       533, 534, 535, 536, 537, 538, 539, 540, 541, 542, 543, 544, 545,\n       546, 547, 548, 549, 550, 551, 552, 553, 554, 555, 556, 557, 558,\n       559, 560, 561, 562, 563, 564, 565, 566, 567, 568, 569, 570, 571,\n       572, 573, 574, 575, 576, 577, 578, 579, 580, 581, 582, 583, 584,\n       585, 586, 587, 588, 589, 590, 591, 592, 593, 594, 595, 596, 597,\n       598, 599, 600, 601, 602, 603, 604, 605, 606, 607, 608, 609, 610,\n       611, 612, 613, 614, 615, 616, 617, 618, 619, 620, 621, 622, 623,\n       624, 625, 626, 627, 628, 629, 630, 631, 632, 633, 634, 635, 636,\n       637, 638, 639, 640, 641, 642, 643, 644, 645, 646, 647, 648, 649,\n       650, 651, 652, 653, 654, 655, 656, 657, 658, 659, 660, 661, 662,\n       663, 664, 665, 666, 667, 668, 669, 670, 671, 672, 673, 674, 675,\n       676, 677, 678, 679, 680, 681, 682, 683, 684, 685, 686, 687, 688,\n       689, 690, 691, 692, 693, 694, 695, 696, 697, 698, 699, 700, 701,\n       702, 703, 704, 705, 706, 707, 708, 709, 710, 711, 712, 713, 714,\n       715, 716, 717, 718, 719, 720, 721, 722, 723, 724, 725, 726, 727,\n       728, 729, 730, 731, 732, 733, 734, 735, 736, 737, 738, 739, 740,\n       741, 742, 743, 744, 745, 746, 747, 748, 749, 750, 751, 752, 753,\n       754, 755, 756, 757, 758, 759, 760, 761, 762, 763, 764, 765, 766,\n       767, 768, 769, 770, 771, 772, 773, 774, 775, 776, 777, 778, 779,\n       780, 781, 782, 783, 784, 785, 786, 787, 788, 789, 790, 791, 792,\n       793, 794, 795, 796, 797, 798, 799, 800, 801, 802, 803, 804, 805,\n       806, 807, 808, 809, 810, 811, 812, 813, 814, 815, 816, 817, 818,\n       819, 820, 821, 822, 823, 824, 825, 826, 827, 828, 829, 830, 831,\n       832, 833, 834, 835, 836, 837, 838, 839, 840, 841, 842, 843, 844,\n       845, 846, 847, 848, 849, 850, 851, 852, 853, 854, 855, 856, 857,\n       858, 859, 860, 861, 862, 863, 864, 865, 866, 867, 868, 869, 870,\n       871, 872, 873, 874, 875, 876, 877, 878, 879, 880, 881, 882, 883,\n       884, 885, 886, 887, 888, 889, 890, 891, 892, 893, 894, 895, 896,\n       897, 898, 899, 900, 901, 902, 903, 904, 905, 906, 907, 908, 909,\n       910, 911, 912, 913, 914, 915, 916, 917, 918, 919, 920, 921, 922,\n       923, 924, 925, 926, 927, 928, 929, 930, 931, 932, 933, 934, 935,\n       936, 937, 938, 939, 940, 941, 942, 943, 944, 945, 946, 947, 948,\n       949, 950, 951, 952, 953, 954, 955, 956, 957, 958, 959, 960, 961,\n       962, 963, 964, 965, 966, 967, 968, 969, 970, 971, 972, 973, 974,\n       975, 976, 977, 978, 979, 980, 981, 982, 983, 984, 985, 986, 987,\n       988, 989, 990, 991, 992, 993, 994, 995, 996, 997, 998, 999])"
     },
     "execution_count": 8,
     "metadata": {},
     "output_type": "execute_result"
    }
   ],
   "source": [
    "L\n",
    "a"
   ]
  },
  {
   "cell_type": "markdown",
   "metadata": {
    "id": "6z2ic525zjbM"
   },
   "source": [
    "### Documentation\n",
    "http://docs.scipy.org/"
   ]
  },
  {
   "cell_type": "code",
   "execution_count": 10,
   "metadata": {
    "collapsed": true,
    "id": "nPEYL-zEzrOh",
    "jupyter": {
     "outputs_hidden": true
    },
    "tags": [],
    "ExecuteTime": {
     "start_time": "2023-04-25T11:15:42.382586Z",
     "end_time": "2023-04-25T11:15:42.399091Z"
    }
   },
   "outputs": [],
   "source": [
    "# Interactive help\n",
    "np.array?"
   ]
  },
  {
   "cell_type": "code",
   "execution_count": 11,
   "metadata": {
    "collapsed": true,
    "id": "LGQzsRkTz6Jt",
    "jupyter": {
     "outputs_hidden": true
    },
    "tags": [],
    "ExecuteTime": {
     "start_time": "2023-04-25T11:15:46.384566Z",
     "end_time": "2023-04-25T11:15:47.296635Z"
    }
   },
   "outputs": [
    {
     "name": "stdout",
     "output_type": "stream",
     "text": [
      "Search results for 'create array'\n",
      "---------------------------------\n",
      "numpy.memmap\n",
      "    Create a memory-map to an array stored in a *binary* file on disk.\n",
      "numpy.char.array\n",
      "    Create a `chararray`.\n",
      "numpy.diagflat\n",
      "    Create a two-dimensional array with the flattened input as a diagonal.\n",
      "numpy.fromiter\n",
      "    Create a new 1-dimensional array from an iterable object.\n",
      "numpy.partition\n",
      "    Return a partitioned copy of an array.\n",
      "numpy.from_dlpack\n",
      "    Create a NumPy array from an object implementing the ``__dlpack__``\n",
      "numpy.rec.fromarrays\n",
      "    Create a record array from a (flat) list of arrays\n",
      "numpy.ctypeslib.as_array\n",
      "    Create a numpy array from a ctypes array or POINTER.\n",
      "numpy.ma.diagflat\n",
      "    Create a two-dimensional array with the flattened input as a diagonal.\n",
      "numpy.ma.make_mask\n",
      "    Create a boolean mask from an array.\n",
      "numpy.rec.fromfile\n",
      "    Create an array from binary file data\n",
      "numpy.rec.fromstring\n",
      "    Create a record array from binary data\n",
      "numpy.lib.Arrayterator\n",
      "    Buffered iterator for big arrays.\n",
      "numpy.rec.fromrecords\n",
      "    Create a recarray from a list of records in text form.\n",
      "numpy.ctypeslib.as_ctypes\n",
      "    Create and return a ctypes object from a numpy array.  Actually\n",
      "numpy.ma.mrecords.fromarrays\n",
      "    Creates a mrecarray from a (flat) list of masked arrays.\n",
      "numpy.ma.mvoid.__new__\n",
      "    Create a new masked array from scratch.\n",
      "numpy.ma.MaskedArray.__new__\n",
      "    Create a new masked array from scratch.\n",
      "numpy.ma.mrecords.fromtextfile\n",
      "    Creates a mrecarray from data stored in the file `filename`.\n",
      "numpy.array\n",
      "    array(object, dtype=None, *, copy=True, order='K', subok=False, ndmin=0,\n",
      "numpy.asarray\n",
      "    Convert the input to an array.\n",
      "numpy.ndarray\n",
      "    ndarray(shape, dtype=float, buffer=None, offset=0,\n",
      "numpy.recarray\n",
      "    Construct an ndarray that allows field access using attributes.\n",
      "numpy.chararray\n",
      "    chararray(shape, itemsize=1, unicode=False, buffer=None, offset=0,\n",
      "numpy.exp\n",
      "    Calculate the exponential of all elements in the input array.\n",
      "numpy.pad\n",
      "    Pad an array.\n",
      "numpy.asanyarray\n",
      "    Convert the input to an ndarray, but pass ndarray subclasses through.\n",
      "numpy.cbrt\n",
      "    Return the cube-root of an array, element-wise.\n",
      "numpy.copy\n",
      "    Return an array copy of the given object.\n",
      "numpy.diag\n",
      "    Extract a diagonal or construct a diagonal array.\n",
      "numpy.exp2\n",
      "    Calculate `2**p` for all `p` in the input array.\n",
      "numpy.fmax\n",
      "    Element-wise maximum of array elements.\n",
      "numpy.fmin\n",
      "    Element-wise minimum of array elements.\n",
      "numpy.load\n",
      "    Load arrays or pickled objects from ``.npy``, ``.npz`` or pickled files.\n",
      "numpy.modf\n",
      "    Return the fractional and integral parts of an array, element-wise.\n",
      "numpy.rint\n",
      "    Round elements of the array to the nearest integer.\n",
      "numpy.sort\n",
      "    Return a sorted copy of an array.\n",
      "numpy.sqrt\n",
      "    Return the non-negative square-root of an array, element-wise.\n",
      "numpy.array_equiv\n",
      "    Returns True if input arrays are shape consistent and all elements equal.\n",
      "numpy.dtype\n",
      "    Create a data type object.\n",
      "numpy.expm1\n",
      "    Calculate ``exp(x) - 1`` for all elements in the array.\n",
      "numpy.isnan\n",
      "    Test element-wise for NaN and return result as a boolean array.\n",
      "numpy.isnat\n",
      "    Test element-wise for NaT (not a time) and return result as a boolean array.\n",
      "numpy.log10\n",
      "    Return the base 10 logarithm of the input array, element-wise.\n",
      "numpy.log1p\n",
      "    Return the natural logarithm of one plus the input array, element-wise.\n",
      "numpy.power\n",
      "    First array elements raised to powers from second array, element-wise.\n",
      "numpy.ufunc\n",
      "    Functions that operate element by element on whole arrays.\n",
      "numpy.choose\n",
      "    Construct an array from an index array and a list of arrays to choose from.\n",
      "numpy.nditer\n",
      "    Efficient multi-dimensional iterator object to iterate over arrays.\n",
      "numpy.maximum\n",
      "    Element-wise maximum of array elements.\n",
      "numpy.minimum\n",
      "    Element-wise minimum of array elements.\n",
      "numpy.swapaxes\n",
      "    Interchange two axes of an array.\n",
      "numpy.full_like\n",
      "    Return a full array with the same shape and type as a given array.\n",
      "numpy.ones_like\n",
      "    Return an array of ones with the same shape and type as a given array.\n",
      "numpy.bitwise_or\n",
      "    Compute the bit-wise OR of two arrays element-wise.\n",
      "numpy.rec.array\n",
      "    Construct a record array from a wide-variety of objects.\n",
      "numpy.datetime64\n",
      "    If created from a 64-bit integer, it represents an offset from\n",
      "numpy.empty_like\n",
      "    Return a new array with the same shape and type as a given array.\n",
      "numpy.frombuffer\n",
      "    Interpret a buffer as a 1-dimensional array.\n",
      "numpy.zeros_like\n",
      "    Return an array of zeros with the same shape and type as a given array.\n",
      "numpy.asarray_chkfinite\n",
      "    Convert the input to an array, checking for NaNs or Infs.\n",
      "numpy.bitwise_and\n",
      "    Compute the bit-wise AND of two arrays element-wise.\n",
      "numpy.bitwise_xor\n",
      "    Compute the bit-wise XOR of two arrays element-wise.\n",
      "numpy.float_power\n",
      "    First array elements raised to powers from second array, element-wise.\n",
      "numpy.diag_indices\n",
      "    Return the indices to access the main diagonal of an array.\n",
      "numpy.ma.exp\n",
      "    Calculate the exponential of all elements in the input array.\n",
      "numpy.nested_iters\n",
      "    Create nditers for use in nested loops\n",
      "numpy.ma.sqrt\n",
      "    Return the non-negative square-root of an array, element-wise.\n",
      "numpy.ma.mrecords.MaskedRecords.__new__\n",
      "    Create a new masked array from scratch.\n",
      "numpy.ma.log10\n",
      "    Return the base 10 logarithm of the input array, element-wise.\n",
      "numpy.chararray.tolist\n",
      "    a.tolist()\n",
      "numpy.put_along_axis\n",
      "    Put values into the destination array by matching 1d index and data slices.\n",
      "numpy.ma.choose\n",
      "    Use an index array to construct a new array from a list of choices.\n",
      "numpy.ma.maximum\n",
      "    Element-wise maximum of array elements.\n",
      "numpy.ma.minimum\n",
      "    Element-wise minimum of array elements.\n",
      "numpy.savez_compressed\n",
      "    Save several arrays into a single file in compressed ``.npz`` format.\n",
      "numpy.matlib.rand\n",
      "    Return a matrix of random values with given shape.\n",
      "numpy.datetime_as_string\n",
      "    Convert an array of datetimes into an array of strings.\n",
      "numpy.ma.ones_like\n",
      "    Return an array of ones with the same shape and type as a given array.\n",
      "numpy.ma.bitwise_or\n",
      "    Compute the bit-wise OR of two arrays element-wise.\n",
      "numpy.ma.frombuffer\n",
      "    Interpret a buffer as a 1-dimensional array.\n",
      "numpy.ma.zeros_like\n",
      "    Return an array of zeros with the same shape and type as a given array.\n",
      "numpy.ma.bitwise_and\n",
      "    Compute the bit-wise AND of two arrays element-wise.\n",
      "numpy.ma.bitwise_xor\n",
      "    Compute the bit-wise XOR of two arrays element-wise.\n",
      "numpy.ma.make_mask_none\n",
      "    Return a boolean mask of the given shape, filled with False.\n",
      "numpy.ma.tests.test_subclassing.MSubArray.__new__\n",
      "    Create a new masked array from scratch.\n",
      "numpy.core._multiarray_umath.clip\n",
      "    Clip (limit) the values in an array.\n",
      "numpy.ma.tests.test_subclassing.SubMaskedArray.__new__\n",
      "    Create a new masked array from scratch.\n",
      "numpy.ma.mrecords.fromrecords\n",
      "    Creates a MaskedRecords from a list of records.\n",
      "numpy.core._multiarray_umath.empty_like\n",
      "    Return a new array with the same shape and type as a given array.\n",
      "numpy.core._dtype._construction_repr\n",
      "    Creates a string repr of the dtype, excluding the 'dtype()' part\n",
      "numpy.abs\n",
      "    Calculate the absolute value element-wise.\n",
      "numpy.add\n",
      "    Add arguments element-wise.\n",
      "numpy.cos\n",
      "    Cosine element-wise.\n",
      "numpy.log\n",
      "    Natural logarithm, element-wise.\n",
      "numpy.mod\n",
      "    Returns the element-wise remainder of division.\n",
      "numpy.sin\n",
      "    Trigonometric sine, element-wise.\n",
      "numpy.tan\n",
      "    Compute tangent element-wise.\n",
      "numpy.ceil\n",
      "    Return the ceiling of the input, element-wise.\n",
      "numpy.conj\n",
      "    Return the complex conjugate, element-wise.\n",
      "numpy.cosh\n",
      "    Hyperbolic cosine, element-wise.\n",
      "numpy.fabs\n",
      "    Compute the absolute values element-wise.\n",
      "numpy.fmod\n",
      "    Returns the element-wise remainder of division.\n",
      "numpy.lib.recfunctions.require_fields\n",
      "    Casts a structured array to a new dtype using assignment by field-name.\n",
      "numpy.less\n",
      "    Return the truth value of (x1 < x2) element-wise.\n",
      "numpy.log2\n",
      "    Base-2 logarithm of `x`.\n",
      "numpy.sign\n",
      "    Returns an element-wise indication of the sign of a number.\n",
      "numpy.sinh\n",
      "    Hyperbolic sine, element-wise.\n",
      "numpy.tanh\n",
      "    Compute hyperbolic tangent element-wise.\n",
      "numpy.equal\n",
      "    Return (x1 == x2) element-wise.\n",
      "numpy.floor\n",
      "    Return the floor of the input, element-wise.\n",
      "numpy.frexp\n",
      "    Decompose the elements of x into mantissa and twos exponent.\n",
      "numpy.hypot\n",
      "    Given the \"legs\" of a right triangle, return its hypotenuse.\n",
      "numpy.isinf\n",
      "    Test element-wise for positive or negative infinity.\n",
      "numpy.ldexp\n",
      "    Returns x1 * 2**x2, element-wise.\n",
      "numpy.trunc\n",
      "    Return the truncated value of the input, element-wise.\n",
      "numpy.arccos\n",
      "    Trigonometric inverse cosine, element-wise.\n",
      "numpy.arcsin\n",
      "    Inverse sine, element-wise.\n",
      "numpy.arctan\n",
      "    Trigonometric inverse tangent, element-wise.\n",
      "numpy.around\n",
      "    Evenly round to the given number of decimals.\n",
      "numpy.divide\n",
      "    Divide arguments element-wise.\n",
      "numpy.divmod\n",
      "    Return element-wise quotient and remainder simultaneously.\n",
      "numpy.core._multiarray_umath.datetime_as_string\n",
      "    Convert an array of datetimes into an array of strings.\n",
      "numpy.source\n",
      "    Print or write to a file the source code for a NumPy object.\n",
      "numpy.square\n",
      "    Return the element-wise square of the input.\n",
      "numpy.arccosh\n",
      "    Inverse hyperbolic cosine, element-wise.\n",
      "numpy.arcsinh\n",
      "    Inverse hyperbolic sine element-wise.\n",
      "numpy.arctan2\n",
      "    Element-wise arc tangent of ``x1/x2`` choosing the quadrant correctly.\n",
      "numpy.arctanh\n",
      "    Inverse hyperbolic tangent element-wise.\n",
      "numpy.deg2rad\n",
      "    Convert angles from degrees to radians.\n",
      "numpy.degrees\n",
      "    Convert angles from radians to degrees.\n",
      "numpy.greater\n",
      "    Return the truth value of (x1 > x2) element-wise.\n",
      "numpy.rad2deg\n",
      "    Convert angles from radians to degrees.\n",
      "numpy.radians\n",
      "    Convert angles from degrees to radians.\n",
      "numpy.signbit\n",
      "    Returns element-wise True where signbit is set (less than zero).\n",
      "numpy.spacing\n",
      "    Return the distance between x and the nearest adjacent number.\n",
      "numpy.copysign\n",
      "    Change the sign of x1 to that of x2, element-wise.\n",
      "numpy.diagonal\n",
      "    Return specified diagonals.\n",
      "numpy.isfinite\n",
      "    Test element-wise for finiteness (not infinity and not Not a Number).\n",
      "numpy.multiply\n",
      "    Multiply arguments element-wise.\n",
      "numpy.negative\n",
      "    Numerical negative, element-wise.\n",
      "numpy.subtract\n",
      "    Subtract arguments, element-wise.\n",
      "numpy.heaviside\n",
      "    Compute the Heaviside step function.\n",
      "numpy.logaddexp\n",
      "    Logarithm of the sum of exponentiations of the inputs.\n",
      "numpy.nextafter\n",
      "    Return the next floating-point value after x1 towards x2, element-wise.\n",
      "numpy.not_equal\n",
      "    Return (x1 != x2) element-wise.\n",
      "numpy.left_shift\n",
      "    Shift the bits of an integer to the left.\n",
      "numpy.less_equal\n",
      "    Return the truth value of (x1 <= x2) element-wise.\n",
      "numpy.logaddexp2\n",
      "    Logarithm of the sum of exponentiations of the inputs in base-2.\n",
      "numpy.logical_or\n",
      "    Compute the truth value of x1 OR x2 element-wise.\n",
      "numpy.nan_to_num\n",
      "    Replace NaN with zero and infinity with large finite numbers (default\n",
      "numpy.reciprocal\n",
      "    Return the reciprocal of the argument, element-wise.\n",
      "numpy.bitwise_not\n",
      "    Compute bit-wise inversion, or bit-wise NOT, element-wise.\n",
      "numpy.einsum_path\n",
      "    Evaluates the lowest cost contraction order for an einsum expression by\n",
      "numpy.histogram2d\n",
      "    Compute the bi-dimensional histogram of two data samples.\n",
      "numpy.logical_and\n",
      "    Compute the truth value of x1 AND x2 element-wise.\n",
      "numpy.logical_not\n",
      "    Compute the truth value of NOT x element-wise.\n",
      "numpy.logical_xor\n",
      "    Compute the truth value of x1 XOR x2, element-wise.\n",
      "numpy.right_shift\n",
      "    Shift the bits of an integer to the right.\n",
      "numpy.ma.abs\n",
      "    Calculate the absolute value element-wise.\n",
      "numpy.ma.add\n",
      "    Add arguments element-wise.\n",
      "numpy.floor_divide\n",
      "    Return the largest integer smaller or equal to the division of the inputs.\n",
      "numpy.ma.cos\n",
      "    Cosine element-wise.\n",
      "numpy.ma.log\n",
      "    Natural logarithm, element-wise.\n",
      "numpy.ma.mod\n",
      "    Returns the element-wise remainder of division.\n",
      "numpy.ma.sin\n",
      "    Trigonometric sine, element-wise.\n",
      "numpy.ma.tan\n",
      "    Compute tangent element-wise.\n",
      "numpy.ma.ceil\n",
      "    Return the ceiling of the input, element-wise.\n",
      "numpy.fft.ifft\n",
      "    Compute the one-dimensional inverse discrete Fourier Transform.\n",
      "numpy.ma.cosh\n",
      "    Hyperbolic cosine, element-wise.\n",
      "numpy.ma.fabs\n",
      "    Compute the absolute values element-wise.\n",
      "numpy.greater_equal\n",
      "    Return the truth value of (x1 >= x2) element-wise.\n",
      "numpy.ma.fmod\n",
      "    Returns the element-wise remainder of division.\n",
      "numpy.ma.less\n",
      "    Return the truth value of (x1 < x2) element-wise.\n",
      "numpy.ma.log2\n",
      "    Base-2 logarithm of `x`.\n",
      "numpy.ma.sinh\n",
      "    Hyperbolic sine, element-wise.\n",
      "numpy.ma.tanh\n",
      "    Compute hyperbolic tangent element-wise.\n",
      "numpy.busdaycalendar\n",
      "    A business day calendar object that efficiently stores information\n",
      "numpy.fft.ifftn\n",
      "    Compute the N-dimensional inverse discrete Fourier Transform.\n",
      "numpy.ma.equal\n",
      "    Return (x1 == x2) element-wise.\n",
      "numpy.ma.floor\n",
      "    Return the floor of the input, element-wise.\n",
      "numpy.ma.hypot\n",
      "    Given the \"legs\" of a right triangle, return its hypotenuse.\n",
      "numpy.ma.arccos\n",
      "    Trigonometric inverse cosine, element-wise.\n",
      "numpy.ma.arcsin\n",
      "    Inverse sine, element-wise.\n",
      "numpy.ma.arctan\n",
      "    Trigonometric inverse tangent, element-wise.\n",
      "numpy.ma.tests.test_subclassing.SubArray\n",
      "    ndarray(shape, dtype=float, buffer=None, offset=0,\n",
      "numpy.ma.divide\n",
      "    Divide arguments element-wise.\n",
      "numpy.ma.arccosh\n",
      "    Inverse hyperbolic cosine, element-wise.\n",
      "numpy.ma.arcsinh\n",
      "    Inverse hyperbolic sine element-wise.\n",
      "numpy.ma.arctan2\n",
      "    Element-wise arc tangent of ``x1/x2`` choosing the quadrant correctly.\n",
      "numpy.ma.arctanh\n",
      "    Inverse hyperbolic tangent element-wise.\n",
      "numpy.lib.recfunctions.unstructured_to_structured\n",
      "    Converts an n-D unstructured array into an (n-1)-D structured array.\n",
      "numpy.ma.greater\n",
      "    Return the truth value of (x1 > x2) element-wise.\n",
      "numpy.ma.multiply\n",
      "    Multiply arguments element-wise.\n",
      "numpy.ma.negative\n",
      "    Numerical negative, element-wise.\n",
      "numpy.ma.subtract\n",
      "    Subtract arguments, element-wise.\n",
      "numpy.ma.conjugate\n",
      "    Return the complex conjugate, element-wise.\n",
      "numpy.ma.not_equal\n",
      "    Return (x1 != x2) element-wise.\n",
      "numpy.ma.remainder\n",
      "    Returns the element-wise remainder of division.\n",
      "numpy.ma.empty_like\n",
      "    empty_like(prototype, dtype=None, order='K', subok=True, shape=None)\n",
      "numpy.ma.less_equal\n",
      "    Return the truth value of (x1 <= x2) element-wise.\n",
      "numpy.ma.logical_or\n",
      "    Compute the truth value of x1 OR x2 element-wise.\n",
      "numpy.ma.logical_and\n",
      "    Compute the truth value of x1 AND x2 element-wise.\n",
      "numpy.ma.logical_not\n",
      "    Compute the truth value of NOT x element-wise.\n",
      "numpy.ma.logical_xor\n",
      "    Compute the truth value of x1 XOR x2, element-wise.\n",
      "numpy.ma.true_divide\n",
      "    Divide arguments element-wise.\n",
      "numpy.ma.floor_divide\n",
      "    Return the largest integer smaller or equal to the division of the inputs.\n",
      "numpy.ma.greater_equal\n",
      "    Return the truth value of (x1 >= x2) element-wise.\n",
      "numpy.core.tests.test_function_base.PhysicalQuantity2\n",
      "    ndarray(shape, dtype=float, buffer=None, offset=0,\n",
      "numpy.ma.tests.test_subclassing.ComplicatedSubArray\n",
      "    ndarray(shape, dtype=float, buffer=None, offset=0,\n",
      "numpy.random.RandomState.rand\n",
      "    Random values in a given shape.\n",
      "numpy.random.Generator.permuted\n",
      "    Randomly permute `x` along axis `axis`."
     ]
    }
   ],
   "source": [
    "# Looking for some stuff\n",
    "np.lookfor('create array') "
   ]
  },
  {
   "cell_type": "code",
   "execution_count": 12,
   "metadata": {
    "id": "KoaEdrtu0IZL",
    "ExecuteTime": {
     "start_time": "2023-04-25T11:15:48.401120Z",
     "end_time": "2023-04-25T11:15:48.433825Z"
    }
   },
   "outputs": [],
   "source": [
    "# Looking for something when some parts of the word are known\n",
    "np.con*?"
   ]
  },
  {
   "cell_type": "markdown",
   "metadata": {
    "id": "7df4nf3N01j4"
   },
   "source": [
    "### Manual creation of arrays\n",
    "\n",
    "we can create arrays from Python lists, using the array function."
   ]
  },
  {
   "cell_type": "markdown",
   "metadata": {
    "id": "g38RFzmI1Pq0"
   },
   "source": [
    "#### 1D"
   ]
  },
  {
   "cell_type": "code",
   "execution_count": 13,
   "metadata": {
    "colab": {
     "base_uri": "https://localhost:8080/"
    },
    "id": "UAKQlq2t1AUB",
    "outputId": "e03770aa-c08a-4239-8398-f2837a462f56",
    "ExecuteTime": {
     "start_time": "2023-04-25T11:15:58.832497Z",
     "end_time": "2023-04-25T11:15:58.838514Z"
    }
   },
   "outputs": [
    {
     "name": "stdout",
     "output_type": "stream",
     "text": [
      "Array  [0 1 2 3]\n",
      "\n",
      "Number of dimension  1\n",
      "\n",
      "Shape of the array  (4,)\n",
      "\n",
      "Lenght of array  4\n"
     ]
    }
   ],
   "source": [
    "# Create 1D array\n",
    "a = np.array([0, 1, 2, 3])\n",
    "print(\"Array \", a)\n",
    "\n",
    "# Print dimensions of array\n",
    "print(\"\\nNumber of dimension \", a.ndim)\n",
    "\n",
    "# Print shape of array\n",
    "print(\"\\nShape of the array \", a.shape)\n",
    "\n",
    "# Print the lenght of the array\n",
    "print(\"\\nLenght of array \", len(a))\n"
   ]
  },
  {
   "cell_type": "markdown",
   "metadata": {
    "id": "58MxBexc2igs"
   },
   "source": [
    "#### 2D, 3D..."
   ]
  },
  {
   "cell_type": "code",
   "execution_count": 14,
   "metadata": {
    "colab": {
     "base_uri": "https://localhost:8080/"
    },
    "id": "srqagUuu2lu1",
    "outputId": "b68bde63-2a69-4fa1-89f4-559f3dda404f",
    "ExecuteTime": {
     "start_time": "2023-04-25T11:16:00.922642Z",
     "end_time": "2023-04-25T11:16:00.934747Z"
    }
   },
   "outputs": [
    {
     "name": "stdout",
     "output_type": "stream",
     "text": [
      "2x3array \n",
      " [[0 1 2]\n",
      " [3 4 5]]\n",
      "\n",
      "2x3 array dimensions  2\n",
      "\n",
      "2x3 array shape  (2, 3)\n",
      "\n",
      "Lenght of 2x3 array  2\n",
      "\n",
      "Lenght (first dimension) of 2x3 array  3\n",
      "\n",
      "Lenght (second dimension) of 2x3 array  3\n"
     ]
    },
    {
     "data": {
      "text/plain": "array([0, 1, 2])"
     },
     "execution_count": 14,
     "metadata": {},
     "output_type": "execute_result"
    },
    {
     "data": {
      "text/plain": "array([3, 4, 5])"
     },
     "execution_count": 14,
     "metadata": {},
     "output_type": "execute_result"
    }
   ],
   "source": [
    "# Create 2x3 array\n",
    "b = np.array([[0, 1, 2], [3, 4, 5]]) \n",
    "print(\"2x3array \\n\", b)\n",
    "\n",
    "# Print array dimensions\n",
    "print(\"\\n2x3 array dimensions \", b.ndim)\n",
    "\n",
    "#Print array shape\n",
    "print(\"\\n2x3 array shape \", b.shape)\n",
    "\n",
    "# Print length of 2x3 array (the first dimension)\n",
    "print(\"\\nLenght of 2x3 array \", len(b))\n",
    "print(\"\\nLenght (first dimension) of 2x3 array \", len(b[0]))\n",
    "print(\"\\nLenght (second dimension) of 2x3 array \", len(b[1]))\n",
    "\n",
    "b[0]\n",
    "b[1]"
   ]
  },
  {
   "cell_type": "code",
   "execution_count": 15,
   "metadata": {
    "colab": {
     "base_uri": "https://localhost:8080/"
    },
    "id": "vF1xb1FW2wWS",
    "outputId": "95ebbbf6-4063-4220-862f-83d326705e90",
    "ExecuteTime": {
     "start_time": "2023-04-25T11:16:03.498218Z",
     "end_time": "2023-04-25T11:16:03.538486Z"
    }
   },
   "outputs": [
    {
     "name": "stdout",
     "output_type": "stream",
     "text": [
      "3x2x3 array \n",
      " [[[ 0  1  2]\n",
      "  [ 3  4  5]]\n",
      "\n",
      " [[ 6  7  8]\n",
      "  [ 9 10 11]]\n",
      "\n",
      " [[12 13 14]\n",
      "  [15 16 17]]]\n",
      "\n",
      "3x2x3 array dimensions  3\n",
      "\n",
      "3x2x3 array shape  (3, 2, 3)\n",
      "\n",
      "First dimension of 3x2x3 array  2\n",
      "\n",
      "Second dimension of 3x2x3 array  2\n",
      "\n",
      "Third dimension of 3x2x3 array  2\n",
      "\n",
      "First dimension \n",
      " [[0 1 2]\n",
      " [3 4 5]]\n",
      "\n",
      "First dimension \n",
      " [[ 6  7  8]\n",
      " [ 9 10 11]]\n",
      "\n",
      "First dimension \n",
      " [[12 13 14]\n",
      " [15 16 17]]\n"
     ]
    }
   ],
   "source": [
    "# Create 3x2x3 array\n",
    "b = np.array([[[0, 1, 2], [3, 4, 5]], \n",
    "              [[6, 7, 8], [9, 10, 11]], \n",
    "              [[12, 13, 14], [15, 16, 17]]]) \n",
    "print(\"3x2x3 array \\n\", b)\n",
    "\n",
    "# Print array dimensions\n",
    "print(\"\\n3x2x3 array dimensions \", b.ndim)\n",
    "\n",
    "#Print array shape\n",
    "print(\"\\n3x2x3 array shape \", b.shape)\n",
    "\n",
    "# Print length of 3x2x3 array (the first dimension)\n",
    "print(\"\\nFirst dimension of 3x2x3 array \", len(b[0]))\n",
    "print(\"\\nSecond dimension of 3x2x3 array \", len(b[1]))\n",
    "print(\"\\nThird dimension of 3x2x3 array \", len(b[2]))\n",
    "\n",
    "print(\"\\nFirst dimension \\n\", b[0])\n",
    "print(\"\\nFirst dimension \\n\", b[1])\n",
    "print(\"\\nFirst dimension \\n\", b[2])"
   ]
  },
  {
   "cell_type": "markdown",
   "metadata": {
    "id": "x0Svpviz-voT"
   },
   "source": [
    "### Creating arrays"
   ]
  },
  {
   "cell_type": "markdown",
   "metadata": {
    "id": "dcb4RLIw-zQc"
   },
   "source": [
    "#### np.arange: enter data evenly spaced\n",
    "Return evenly spaced values within a given interval.\n",
    "\n",
    "Values are generated within the half-open interval ``[start, stop)``\n",
    "(in other words, the interval including `start` but excluding `stop`).\n",
    "For integer arguments the function is equivalent to the Python built-in\n",
    "`range` function, but returns an ndarray rather than a list.\n",
    "\n",
    "When using a non-integer step, such as 0.1, the results will often not\n",
    "be consistent.  It is better to use `numpy.linspace` for these cases."
   ]
  },
  {
   "cell_type": "code",
   "execution_count": 16,
   "metadata": {
    "colab": {
     "base_uri": "https://localhost:8080/"
    },
    "id": "7jD1yQVz_HKf",
    "outputId": "07df97b7-b8f8-4e04-9d7e-ead81d2bba42",
    "ExecuteTime": {
     "start_time": "2023-04-25T11:16:10.342444Z",
     "end_time": "2023-04-25T11:16:10.385257Z"
    }
   },
   "outputs": [
    {
     "data": {
      "text/plain": "array([0, 1, 2, 3, 4, 5, 6, 7, 8, 9])"
     },
     "execution_count": 16,
     "metadata": {},
     "output_type": "execute_result"
    },
    {
     "name": "stdout",
     "output_type": "stream",
     "text": [
      "\n"
     ]
    },
    {
     "data": {
      "text/plain": "array([0, 2, 4, 6, 8])"
     },
     "execution_count": 16,
     "metadata": {},
     "output_type": "execute_result"
    }
   ],
   "source": [
    "a = np.arange(10) # 0 .. n-1 \n",
    "a\n",
    "\n",
    "print(\"\")\n",
    "\n",
    "b = np.arange(0, 10, 2) # start, end (exclusive), step\n",
    "b"
   ]
  },
  {
   "cell_type": "markdown",
   "metadata": {
    "id": "k8jX8tND_hE4"
   },
   "source": [
    "#### np.linspace: enter data by points\n",
    "Return evenly spaced numbers over a specified interval.\n",
    "\n",
    "Returns num evenly spaced samples, calculated over the interval `[start, stop]`.\n",
    "\n",
    "The endpoint of the interval can optionally be excluded."
   ]
  },
  {
   "cell_type": "code",
   "execution_count": 17,
   "metadata": {
    "colab": {
     "base_uri": "https://localhost:8080/"
    },
    "id": "K0JaDGQ__tZ3",
    "outputId": "ba4486c9-201f-45af-b26a-6ad0c570cc6d",
    "ExecuteTime": {
     "start_time": "2023-04-25T11:16:12.623405Z",
     "end_time": "2023-04-25T11:16:12.647848Z"
    }
   },
   "outputs": [
    {
     "data": {
      "text/plain": "array([0. , 0.2, 0.4, 0.6, 0.8, 1. ])"
     },
     "execution_count": 17,
     "metadata": {},
     "output_type": "execute_result"
    },
    {
     "name": "stdout",
     "output_type": "stream",
     "text": [
      "\n"
     ]
    },
    {
     "data": {
      "text/plain": "array([0. , 0.2, 0.4, 0.6, 0.8])"
     },
     "execution_count": 17,
     "metadata": {},
     "output_type": "execute_result"
    },
    {
     "name": "stdout",
     "output_type": "stream",
     "text": [
      "\n"
     ]
    },
    {
     "data": {
      "text/plain": "array([0.  , 0.25, 0.5 , 0.75, 1.  ])"
     },
     "execution_count": 17,
     "metadata": {},
     "output_type": "execute_result"
    }
   ],
   "source": [
    "c = np.linspace(0, 1, 6)   # start, end, num-points\n",
    "c\n",
    "\n",
    "print(\"\")\n",
    "\n",
    "d = np.linspace(0, 1, 5, endpoint=False)\n",
    "d\n",
    "\n",
    "print(\"\")\n",
    "\n",
    "e = np.linspace(0, 1, 5, endpoint=True)\n",
    "e"
   ]
  },
  {
   "cell_type": "markdown",
   "metadata": {
    "id": "Q5iV5pGDBScG"
   },
   "source": [
    "### Other common array creation functions"
   ]
  },
  {
   "cell_type": "markdown",
   "metadata": {
    "id": "De3i-v6gBezO"
   },
   "source": [
    "#### np.ones\n",
    "\n",
    "One would use np.ones to create a new NumPy array filled with ones. This can be useful for initializing arrays with default values or for creating masks or matrices for mathematical operations.\n",
    "\n",
    "The np.ones function allows you to specify the shape of the array as a tuple of integers representing the dimensions of the array. You can also specify the data type of the array using the dtype parameter.\n",
    "\n"
   ]
  },
  {
   "cell_type": "code",
   "execution_count": 18,
   "metadata": {
    "colab": {
     "base_uri": "https://localhost:8080/"
    },
    "id": "K-Vq7b2hnr2Z",
    "outputId": "c68967e4-bed9-441b-88c6-d9a7dd058706",
    "ExecuteTime": {
     "start_time": "2023-04-25T11:16:15.437715Z",
     "end_time": "2023-04-25T11:16:15.471546Z"
    }
   },
   "outputs": [
    {
     "name": "stdout",
     "output_type": "stream",
     "text": [
      "2D array filled with ones\n"
     ]
    },
    {
     "data": {
      "text/plain": "array([[1., 1., 1.],\n       [1., 1., 1.],\n       [1., 1., 1.]])"
     },
     "execution_count": 18,
     "metadata": {},
     "output_type": "execute_result"
    },
    {
     "name": "stdout",
     "output_type": "stream",
     "text": [
      "\n",
      "\n",
      "3D array filled with ones\n"
     ]
    },
    {
     "data": {
      "text/plain": "array([[[1., 1., 1.],\n        [1., 1., 1.],\n        [1., 1., 1.]],\n\n       [[1., 1., 1.],\n        [1., 1., 1.],\n        [1., 1., 1.]],\n\n       [[1., 1., 1.],\n        [1., 1., 1.],\n        [1., 1., 1.]]])"
     },
     "execution_count": 18,
     "metadata": {},
     "output_type": "execute_result"
    }
   ],
   "source": [
    "# Creates an array filled with ones, passing a tuple of the size\n",
    "print(\"2D array filled with ones\")\n",
    "a = np.ones((3, 3)) \n",
    "a\n",
    "\n",
    "print(\"\\n\\n3D array filled with ones\")\n",
    "\n",
    "b = np.ones((3, 3, 3))\n",
    "b"
   ]
  },
  {
   "cell_type": "markdown",
   "metadata": {
    "id": "TgXQ9Bd1Bph_"
   },
   "source": [
    "#### np.zeros"
   ]
  },
  {
   "cell_type": "code",
   "execution_count": 19,
   "metadata": {
    "colab": {
     "base_uri": "https://localhost:8080/"
    },
    "id": "XVxxMga46T-B",
    "outputId": "e0479bb2-4260-49f9-c8a1-3e51105b5438",
    "ExecuteTime": {
     "start_time": "2023-04-25T11:16:17.447193Z",
     "end_time": "2023-04-25T11:16:17.469122Z"
    }
   },
   "outputs": [
    {
     "data": {
      "text/plain": "array([[0., 0.],\n       [0., 0.]])"
     },
     "execution_count": 19,
     "metadata": {},
     "output_type": "execute_result"
    }
   ],
   "source": [
    "# Fill up an array with zeros\n",
    "b = np.zeros((2, 2))\n",
    "b"
   ]
  },
  {
   "cell_type": "markdown",
   "metadata": {
    "id": "XaZrdgwTBwZ5"
   },
   "source": [
    "#### np.eye\n",
    "\n",
    "One would use np.eye to create a new NumPy array with ones on the diagonal and zeros elsewhere, also known as an identity matrix. This can be useful for various mathematical operations, such as solving linear equations, computing matrix inverses, or transforming vectors.\n",
    "\n",
    "The np.eye function allows you to specify the shape of the identity matrix as a single integer or a tuple of integers representing the number of rows and columns of the matrix. You can also specify the data type of the matrix using the dtype parameter.\n",
    "\n"
   ]
  },
  {
   "cell_type": "code",
   "execution_count": 20,
   "metadata": {
    "colab": {
     "base_uri": "https://localhost:8080/"
    },
    "id": "oznCuhy68n4b",
    "outputId": "c839ab53-aa31-4bdd-c959-78f758c0eb33",
    "ExecuteTime": {
     "start_time": "2023-04-25T11:16:19.756175Z",
     "end_time": "2023-04-25T11:16:19.771621Z"
    }
   },
   "outputs": [
    {
     "data": {
      "text/plain": "array([[1., 0., 0., 0., 0.],\n       [0., 1., 0., 0., 0.],\n       [0., 0., 1., 0., 0.],\n       [0., 0., 0., 1., 0.],\n       [0., 0., 0., 0., 1.]])"
     },
     "execution_count": 20,
     "metadata": {},
     "output_type": "execute_result"
    }
   ],
   "source": [
    "# Returns a 2-D array with ones on the diagonal and zeros elsewhere\n",
    "c = np.eye(5)\n",
    "c"
   ]
  },
  {
   "cell_type": "markdown",
   "metadata": {
    "id": "j7kPI0FpB0MU"
   },
   "source": [
    "#### np.diag\n",
    "Extract a diagonal or construct a diagonal array."
   ]
  },
  {
   "cell_type": "code",
   "execution_count": 21,
   "metadata": {
    "colab": {
     "base_uri": "https://localhost:8080/"
    },
    "id": "bmSwAPWM8s2o",
    "outputId": "4f672ccc-82cb-4277-c9ee-49419884c444",
    "ExecuteTime": {
     "start_time": "2023-04-25T11:16:20.983940Z",
     "end_time": "2023-04-25T11:16:21.000123Z"
    }
   },
   "outputs": [
    {
     "data": {
      "text/plain": "array([[1, 0, 0, 0, 0],\n       [0, 1, 0, 0, 0],\n       [0, 0, 1, 0, 0],\n       [0, 0, 0, 1, 0],\n       [0, 0, 0, 0, 1]])"
     },
     "execution_count": 21,
     "metadata": {},
     "output_type": "execute_result"
    }
   ],
   "source": [
    "d = np.diag(np.array([1, 1, 1, 1, 1]))\n",
    "d"
   ]
  },
  {
   "cell_type": "markdown",
   "metadata": {
    "id": "KC_Ls8KqB3Ud"
   },
   "source": [
    "#### np.random"
   ]
  },
  {
   "cell_type": "code",
   "execution_count": 23,
   "metadata": {
    "colab": {
     "base_uri": "https://localhost:8080/"
    },
    "id": "S7jfAQeM8uKJ",
    "outputId": "fb3d7636-0626-471e-cbfb-771e03d0c437",
    "ExecuteTime": {
     "start_time": "2023-04-25T11:16:30.084144Z",
     "end_time": "2023-04-25T11:16:30.094047Z"
    }
   },
   "outputs": [
    {
     "data": {
      "text/plain": "array([0.1579274 , 0.24777265, 0.52403736, 0.39837183])"
     },
     "execution_count": 23,
     "metadata": {},
     "output_type": "execute_result"
    },
    {
     "name": "stdout",
     "output_type": "stream",
     "text": [
      "\n",
      " [ 1.9255105  -2.82886343  0.12852957 -2.319583  ]\n"
     ]
    }
   ],
   "source": [
    "# Random set between 0-1\n",
    "a = np.random.rand(4)       \n",
    "a  \n",
    "\n",
    "# Random with Gaussian distribution\n",
    "b = np.random.randn(4)    \n",
    "print(\"\\n\", b)   "
   ]
  },
  {
   "cell_type": "markdown",
   "metadata": {
    "id": "CLL5f7Ov7QO9",
    "jp-MarkdownHeadingCollapsed": true,
    "tags": []
   },
   "source": [
    "## Understanding arrays: k3d\n",
    "\n",
    "We will install the **k3d** library, which allows to visualize arrays in 3D.\n",
    "\n",
    "The following visualisations can best be done in a jupiter notebook. In PyCharm, the visualisations are not shown.\n"
   ]
  },
  {
   "cell_type": "code",
   "execution_count": 24,
   "metadata": {
    "id": "fld2LbKO7Yds",
    "ExecuteTime": {
     "start_time": "2023-04-25T11:16:31.332768Z",
     "end_time": "2023-04-25T11:16:34.881486Z"
    }
   },
   "outputs": [
    {
     "name": "stdout",
     "output_type": "stream",
     "text": [
      "Requirement already satisfied: k3d in /Users/erictak/miniconda3/lib/python3.10/site-packages (2.15.2)\r\n",
      "Requirement already satisfied: msgpack in /Users/erictak/miniconda3/lib/python3.10/site-packages (from k3d) (1.0.5)\r\n",
      "Requirement already satisfied: ipywidgets<9.0.0,>=7.0.0 in /Users/erictak/miniconda3/lib/python3.10/site-packages (from k3d) (8.0.4)\r\n",
      "Requirement already satisfied: numpy in /Users/erictak/miniconda3/lib/python3.10/site-packages (from k3d) (1.24.2)\r\n",
      "Requirement already satisfied: traitlets in /Users/erictak/miniconda3/lib/python3.10/site-packages (from k3d) (5.7.1)\r\n",
      "Requirement already satisfied: traittypes in /Users/erictak/miniconda3/lib/python3.10/site-packages (from k3d) (0.2.1)\r\n",
      "Requirement already satisfied: ipykernel>=4.5.1 in /Users/erictak/miniconda3/lib/python3.10/site-packages (from ipywidgets<9.0.0,>=7.0.0->k3d) (6.19.2)\r\n",
      "Requirement already satisfied: widgetsnbextension~=4.0 in /Users/erictak/miniconda3/lib/python3.10/site-packages (from ipywidgets<9.0.0,>=7.0.0->k3d) (4.0.5)\r\n",
      "Requirement already satisfied: ipython>=6.1.0 in /Users/erictak/miniconda3/lib/python3.10/site-packages (from ipywidgets<9.0.0,>=7.0.0->k3d) (8.12.0)\r\n",
      "Requirement already satisfied: jupyterlab-widgets~=3.0 in /Users/erictak/miniconda3/lib/python3.10/site-packages (from ipywidgets<9.0.0,>=7.0.0->k3d) (3.0.5)\r\n",
      "Requirement already satisfied: tornado>=6.1 in /Users/erictak/miniconda3/lib/python3.10/site-packages (from ipykernel>=4.5.1->ipywidgets<9.0.0,>=7.0.0->k3d) (6.2)\r\n",
      "Requirement already satisfied: psutil in /Users/erictak/miniconda3/lib/python3.10/site-packages (from ipykernel>=4.5.1->ipywidgets<9.0.0,>=7.0.0->k3d) (5.9.4)\r\n",
      "Requirement already satisfied: packaging in /Users/erictak/miniconda3/lib/python3.10/site-packages (from ipykernel>=4.5.1->ipywidgets<9.0.0,>=7.0.0->k3d) (23.0)\r\n",
      "Requirement already satisfied: debugpy>=1.0 in /Users/erictak/miniconda3/lib/python3.10/site-packages (from ipykernel>=4.5.1->ipywidgets<9.0.0,>=7.0.0->k3d) (1.5.1)\r\n",
      "Requirement already satisfied: nest-asyncio in /Users/erictak/miniconda3/lib/python3.10/site-packages (from ipykernel>=4.5.1->ipywidgets<9.0.0,>=7.0.0->k3d) (1.5.6)\r\n",
      "Requirement already satisfied: appnope in /Users/erictak/miniconda3/lib/python3.10/site-packages (from ipykernel>=4.5.1->ipywidgets<9.0.0,>=7.0.0->k3d) (0.1.2)\r\n",
      "Requirement already satisfied: jupyter-client>=6.1.12 in /Users/erictak/miniconda3/lib/python3.10/site-packages (from ipykernel>=4.5.1->ipywidgets<9.0.0,>=7.0.0->k3d) (8.1.0)\r\n",
      "Requirement already satisfied: matplotlib-inline>=0.1 in /Users/erictak/miniconda3/lib/python3.10/site-packages (from ipykernel>=4.5.1->ipywidgets<9.0.0,>=7.0.0->k3d) (0.1.6)\r\n",
      "Requirement already satisfied: comm>=0.1.1 in /Users/erictak/miniconda3/lib/python3.10/site-packages (from ipykernel>=4.5.1->ipywidgets<9.0.0,>=7.0.0->k3d) (0.1.2)\r\n",
      "Requirement already satisfied: pyzmq>=17 in /Users/erictak/miniconda3/lib/python3.10/site-packages (from ipykernel>=4.5.1->ipywidgets<9.0.0,>=7.0.0->k3d) (23.2.0)\r\n",
      "Requirement already satisfied: decorator in /Users/erictak/miniconda3/lib/python3.10/site-packages (from ipython>=6.1.0->ipywidgets<9.0.0,>=7.0.0->k3d) (5.1.1)\r\n",
      "Requirement already satisfied: pygments>=2.4.0 in /Users/erictak/miniconda3/lib/python3.10/site-packages (from ipython>=6.1.0->ipywidgets<9.0.0,>=7.0.0->k3d) (2.14.0)\r\n",
      "Requirement already satisfied: pexpect>4.3 in /Users/erictak/miniconda3/lib/python3.10/site-packages (from ipython>=6.1.0->ipywidgets<9.0.0,>=7.0.0->k3d) (4.8.0)\r\n",
      "Requirement already satisfied: pickleshare in /Users/erictak/miniconda3/lib/python3.10/site-packages (from ipython>=6.1.0->ipywidgets<9.0.0,>=7.0.0->k3d) (0.7.5)\r\n",
      "Requirement already satisfied: prompt-toolkit!=3.0.37,<3.1.0,>=3.0.30 in /Users/erictak/miniconda3/lib/python3.10/site-packages (from ipython>=6.1.0->ipywidgets<9.0.0,>=7.0.0->k3d) (3.0.36)\r\n",
      "Requirement already satisfied: stack-data in /Users/erictak/miniconda3/lib/python3.10/site-packages (from ipython>=6.1.0->ipywidgets<9.0.0,>=7.0.0->k3d) (0.2.0)\r\n",
      "Requirement already satisfied: jedi>=0.16 in /Users/erictak/miniconda3/lib/python3.10/site-packages (from ipython>=6.1.0->ipywidgets<9.0.0,>=7.0.0->k3d) (0.18.1)\r\n",
      "Requirement already satisfied: backcall in /Users/erictak/miniconda3/lib/python3.10/site-packages (from ipython>=6.1.0->ipywidgets<9.0.0,>=7.0.0->k3d) (0.2.0)\r\n",
      "Requirement already satisfied: parso<0.9.0,>=0.8.0 in /Users/erictak/miniconda3/lib/python3.10/site-packages (from jedi>=0.16->ipython>=6.1.0->ipywidgets<9.0.0,>=7.0.0->k3d) (0.8.3)\r\n",
      "Requirement already satisfied: python-dateutil>=2.8.2 in /Users/erictak/miniconda3/lib/python3.10/site-packages (from jupyter-client>=6.1.12->ipykernel>=4.5.1->ipywidgets<9.0.0,>=7.0.0->k3d) (2.8.2)\r\n",
      "Requirement already satisfied: jupyter-core!=5.0.*,>=4.12 in /Users/erictak/miniconda3/lib/python3.10/site-packages (from jupyter-client>=6.1.12->ipykernel>=4.5.1->ipywidgets<9.0.0,>=7.0.0->k3d) (5.3.0)\r\n",
      "Requirement already satisfied: ptyprocess>=0.5 in /Users/erictak/miniconda3/lib/python3.10/site-packages (from pexpect>4.3->ipython>=6.1.0->ipywidgets<9.0.0,>=7.0.0->k3d) (0.7.0)\r\n",
      "Requirement already satisfied: wcwidth in /Users/erictak/miniconda3/lib/python3.10/site-packages (from prompt-toolkit!=3.0.37,<3.1.0,>=3.0.30->ipython>=6.1.0->ipywidgets<9.0.0,>=7.0.0->k3d) (0.2.5)\r\n",
      "Requirement already satisfied: executing in /Users/erictak/miniconda3/lib/python3.10/site-packages (from stack-data->ipython>=6.1.0->ipywidgets<9.0.0,>=7.0.0->k3d) (0.8.3)\r\n",
      "Requirement already satisfied: asttokens in /Users/erictak/miniconda3/lib/python3.10/site-packages (from stack-data->ipython>=6.1.0->ipywidgets<9.0.0,>=7.0.0->k3d) (2.0.5)\r\n",
      "Requirement already satisfied: pure-eval in /Users/erictak/miniconda3/lib/python3.10/site-packages (from stack-data->ipython>=6.1.0->ipywidgets<9.0.0,>=7.0.0->k3d) (0.2.2)\r\n",
      "Requirement already satisfied: platformdirs>=2.5 in /Users/erictak/miniconda3/lib/python3.10/site-packages (from jupyter-core!=5.0.*,>=4.12->jupyter-client>=6.1.12->ipykernel>=4.5.1->ipywidgets<9.0.0,>=7.0.0->k3d) (2.5.2)\r\n",
      "Requirement already satisfied: six>=1.5 in /Users/erictak/miniconda3/lib/python3.10/site-packages (from python-dateutil>=2.8.2->jupyter-client>=6.1.12->ipykernel>=4.5.1->ipywidgets<9.0.0,>=7.0.0->k3d) (1.16.0)\r\n"
     ]
    }
   ],
   "source": [
    "# Install in your environment (venv or conda)\n",
    "!pip install k3d\n",
    "#!conda install -c conda-forge k3d"
   ]
  },
  {
   "cell_type": "code",
   "execution_count": 25,
   "metadata": {
    "id": "EatK6Y1E8MJ-",
    "ExecuteTime": {
     "start_time": "2023-04-25T11:16:34.882965Z",
     "end_time": "2023-04-25T11:16:34.971018Z"
    }
   },
   "outputs": [
    {
     "name": "stderr",
     "output_type": "stream",
     "text": [
      "/Users/erictak/miniconda3/lib/python3.10/site-packages/traittypes/traittypes.py:97: UserWarning: Given trait value dtype \"float64\" does not match required type \"uint8\". A coerced copy has been created.\n",
      "  warnings.warn(\n"
     ]
    },
    {
     "data": {
      "text/plain": "Output()",
      "application/vnd.jupyter.widget-view+json": {
       "version_major": 2,
       "version_minor": 0,
       "model_id": "673b78a7c46c4eeb90b739f459656ac2"
      }
     },
     "metadata": {},
     "output_type": "display_data"
    }
   ],
   "source": [
    "%matplotlib inline\n",
    "import numpy as np\n",
    "import k3d\n",
    "\n",
    "plot = k3d.plot()\n",
    "\n",
    "b = np.ones((1, 1, 1))\n",
    "\n",
    "line = k3d.voxels(b, width=1, scaling = [1, 1, 1])\n",
    "\n",
    "# iadd method, iterates over voxel\n",
    "plot += line\n",
    "plot.display()"
   ]
  },
  {
   "cell_type": "code",
   "execution_count": 26,
   "metadata": {},
   "outputs": [
    {
     "ename": "AttributeError",
     "evalue": "'Line' object has no attribute 'display'",
     "output_type": "error",
     "traceback": [
      "\u001B[0;31m---------------------------------------------------------------------------\u001B[0m",
      "\u001B[0;31mAttributeError\u001B[0m                            Traceback (most recent call last)",
      "Cell \u001B[0;32mIn[26], line 6\u001B[0m\n\u001B[1;32m      1\u001B[0m \u001B[38;5;28;01mimport\u001B[39;00m \u001B[38;5;21;01mk3d\u001B[39;00m\n\u001B[1;32m      3\u001B[0m plot \u001B[38;5;241m=\u001B[39m k3d\u001B[38;5;241m.\u001B[39mline([[\u001B[38;5;241m0\u001B[39m, \u001B[38;5;241m0\u001B[39m, \u001B[38;5;241m0\u001B[39m],\n\u001B[1;32m      4\u001B[0m                  [\u001B[38;5;241m1\u001B[39m, \u001B[38;5;241m1\u001B[39m, \u001B[38;5;241m1\u001B[39m]])\n\u001B[0;32m----> 6\u001B[0m \u001B[43mplot\u001B[49m\u001B[38;5;241;43m.\u001B[39;49m\u001B[43mdisplay\u001B[49m()\n",
      "\u001B[0;31mAttributeError\u001B[0m: 'Line' object has no attribute 'display'"
     ]
    }
   ],
   "source": [
    "import k3d\n",
    "\n",
    "plot = k3d.line([[0, 0, 0],\n",
    "                 [1, 1, 1]])\n",
    "\n",
    "plot.display()"
   ]
  },
  {
   "cell_type": "code",
   "execution_count": null,
   "metadata": {
    "id": "OaSxkxs7JvqZ",
    "ExecuteTime": {
     "start_time": "2023-04-24T17:22:10.773162Z",
     "end_time": "2023-04-24T17:22:10.811679Z"
    }
   },
   "outputs": [],
   "source": [
    "%matplotlib inline\n",
    "import numpy as np\n",
    "import k3d\n",
    "\n",
    "plot = k3d.plot()\n",
    "\n",
    "b = np.array([[[18, 1, 2], [3, 4, 5]], \n",
    "              [[6, 7, 8], [9, 10, 11]], \n",
    "              [[12, 13, 14], [15, 16, 17]]])\n",
    "\n",
    "voxel = k3d.voxels(b, width=1, scaling = [1, 1, 1])\n",
    "\n",
    "# iadd method, iterates over voxel\n",
    "plot += voxel\n",
    "plot.display()"
   ]
  },
  {
   "cell_type": "markdown",
   "metadata": {
    "id": "hH9MRPGWOkjR"
   },
   "source": [
    "## NumPy data types\n",
    "\n",
    "NumPy has five main type of datatypes. But always the default data for any function (np.zeros, etc.) is floating point:\n",
    "\n",
    "* Integer\n",
    "* Float\n",
    "* Boolean\n",
    "* Complex\n",
    "* String\n",
    "\n",
    "1. **Integer**: An integer is a whole number that can be positive, negative, or zero, but does not include decimal points or fractional parts.\n",
    "\n",
    "2. **Float**: A float, short for \"floating-point number,\" is a numerical data type that can represent decimal numbers or fractions. It can be used to store large or small numbers with a decimal point.\n",
    "\n",
    "3. **Boolean**: A boolean data type represents a binary value, which can either be true or false. It is often used in programming to make decisions or to control program flow.\n",
    "\n",
    "4. **Complex**: A complex data type is used to represent complex numbers, which consist of a real part and an imaginary part. Complex numbers are used in mathematical calculations and in some scientific and engineering applications.\n",
    "\n",
    "5. **String**: A string is a sequence of characters, such as letters, numbers, or symbols. It is often used to represent text in programming languages, and can be manipulated in various ways, such as concatenation or substring extraction.\n"
   ]
  },
  {
   "cell_type": "code",
   "execution_count": 27,
   "metadata": {
    "colab": {
     "base_uri": "https://localhost:8080/"
    },
    "id": "m4Af9UXsxecQ",
    "outputId": "6aeb6aa0-281a-4a68-bf17-7fe8fe559fa0",
    "ExecuteTime": {
     "start_time": "2023-04-25T11:16:36.882364Z",
     "end_time": "2023-04-25T11:16:36.893287Z"
    }
   },
   "outputs": [
    {
     "data": {
      "text/plain": "dtype('int64')"
     },
     "execution_count": 27,
     "metadata": {},
     "output_type": "execute_result"
    }
   ],
   "source": [
    "# Integer\n",
    "a = np.array([1, 2, 3])\n",
    "a.dtype"
   ]
  },
  {
   "cell_type": "code",
   "execution_count": 28,
   "metadata": {
    "colab": {
     "base_uri": "https://localhost:8080/"
    },
    "id": "tXVGSpdKxeaF",
    "outputId": "9e4ae236-e3d8-4434-b4b0-43128ded921b",
    "ExecuteTime": {
     "start_time": "2023-04-25T11:16:37.472870Z",
     "end_time": "2023-04-25T11:16:37.489850Z"
    }
   },
   "outputs": [
    {
     "data": {
      "text/plain": "dtype('float64')"
     },
     "execution_count": 28,
     "metadata": {},
     "output_type": "execute_result"
    }
   ],
   "source": [
    "# Float\n",
    "b = np.array([1., 2., 3.])\n",
    "b.dtype"
   ]
  },
  {
   "cell_type": "code",
   "execution_count": 29,
   "metadata": {
    "colab": {
     "base_uri": "https://localhost:8080/"
    },
    "id": "_QT6MuKyxeW-",
    "outputId": "57e92e61-0d2c-4478-d47d-371425b210d9",
    "ExecuteTime": {
     "start_time": "2023-04-25T11:16:37.734495Z",
     "end_time": "2023-04-25T11:16:37.742875Z"
    }
   },
   "outputs": [
    {
     "data": {
      "text/plain": "dtype('float64')"
     },
     "execution_count": 29,
     "metadata": {},
     "output_type": "execute_result"
    }
   ],
   "source": [
    "# Changing data type\n",
    "c = np.array([1, 2, 3], dtype=float)\n",
    "c.dtype"
   ]
  },
  {
   "cell_type": "code",
   "execution_count": 30,
   "metadata": {
    "colab": {
     "base_uri": "https://localhost:8080/"
    },
    "id": "2ig4A8kqxyx9",
    "outputId": "ca7fe5ae-1dc9-4d47-c11d-c384e4dcd154",
    "ExecuteTime": {
     "start_time": "2023-04-25T11:16:38.040356Z",
     "end_time": "2023-04-25T11:16:38.048844Z"
    }
   },
   "outputs": [
    {
     "data": {
      "text/plain": "dtype('complex128')"
     },
     "execution_count": 30,
     "metadata": {},
     "output_type": "execute_result"
    }
   ],
   "source": [
    "# Complex\n",
    "d = np.array([1+2j, 3+4j, 5+6*1j])\n",
    "d.dtype"
   ]
  },
  {
   "cell_type": "code",
   "execution_count": 31,
   "metadata": {
    "colab": {
     "base_uri": "https://localhost:8080/"
    },
    "id": "NXSN6ImxyCKo",
    "outputId": "4a24e0f4-65f2-46e4-a80d-330bc352ea0f",
    "ExecuteTime": {
     "start_time": "2023-04-25T11:16:38.662008Z",
     "end_time": "2023-04-25T11:16:38.670130Z"
    }
   },
   "outputs": [
    {
     "data": {
      "text/plain": "dtype('bool')"
     },
     "execution_count": 31,
     "metadata": {},
     "output_type": "execute_result"
    }
   ],
   "source": [
    "# Bool\n",
    "e = np.array([True, False, False, True])\n",
    "e.dtype"
   ]
  },
  {
   "cell_type": "code",
   "execution_count": 32,
   "metadata": {
    "colab": {
     "base_uri": "https://localhost:8080/"
    },
    "id": "ileivbA4yEDN",
    "outputId": "17dbf4dd-7e7f-4be5-8174-5a2d50f63913",
    "ExecuteTime": {
     "start_time": "2023-04-25T11:16:40.043366Z",
     "end_time": "2023-04-25T11:16:40.073425Z"
    }
   },
   "outputs": [
    {
     "data": {
      "text/plain": "dtype('<U18')"
     },
     "execution_count": 32,
     "metadata": {},
     "output_type": "execute_result"
    }
   ],
   "source": [
    "# Strings (containing max the letters of the longest word)\n",
    "f = np.array(['Bonjoursdfsdfsdfds', 'Hello', 'Hallo'])\n",
    "f.dtype      \n"
   ]
  },
  {
   "cell_type": "markdown",
   "metadata": {
    "id": "uhJ6kdvfykOb"
   },
   "source": [
    "## Basic array visualization with Matplotlib\n",
    "\n",
    "Matplotlib is a Python library used for creating visualizations and plotting graphs. It provides a wide range of tools for creating high-quality, publication-ready visualizations, including line plots, scatter plots, bar plots, histograms, and many more. Matplotlib is highly customizable, allowing users to control every aspect of their visualizations, from colors and fonts to axes and labels. It is widely used in the scientific and data analysis communities, as well as in education and research. Matplotlib can be used interactively within Python scripts, as well as in Jupyter notebooks and other interactive computing environments."
   ]
  },
  {
   "cell_type": "code",
   "execution_count": 33,
   "metadata": {
    "id": "ZvE8uEHPz5PU",
    "ExecuteTime": {
     "start_time": "2023-04-25T11:16:43.093272Z",
     "end_time": "2023-04-25T11:16:43.101646Z"
    }
   },
   "outputs": [],
   "source": [
    "%matplotlib inline  "
   ]
  },
  {
   "cell_type": "code",
   "execution_count": 34,
   "metadata": {
    "id": "ClvxhBisz5MN",
    "ExecuteTime": {
     "start_time": "2023-04-25T11:16:45.518768Z",
     "end_time": "2023-04-25T11:16:45.547856Z"
    }
   },
   "outputs": [],
   "source": [
    "import matplotlib.pyplot as plt"
   ]
  },
  {
   "cell_type": "markdown",
   "metadata": {
    "id": "wYn9wtZs3wPI"
   },
   "source": [
    "### 1D array plotting"
   ]
  },
  {
   "cell_type": "code",
   "execution_count": 35,
   "metadata": {
    "colab": {
     "base_uri": "https://localhost:8080/",
     "height": 282
    },
    "id": "o6LPNZCTyt6v",
    "outputId": "9f9e0d7e-3d53-453f-fde7-748e614c3ab0",
    "ExecuteTime": {
     "start_time": "2023-04-25T11:17:26.762729Z",
     "end_time": "2023-04-25T11:17:26.870411Z"
    }
   },
   "outputs": [
    {
     "data": {
      "text/plain": "[<matplotlib.lines.Line2D at 0x7ff1ca63fa60>]"
     },
     "execution_count": 35,
     "metadata": {},
     "output_type": "execute_result"
    },
    {
     "data": {
      "text/plain": "[<matplotlib.lines.Line2D at 0x7ff1ca63fe20>]"
     },
     "execution_count": 35,
     "metadata": {},
     "output_type": "execute_result"
    },
    {
     "data": {
      "text/plain": "<Figure size 640x480 with 1 Axes>",
      "image/png": "[encoded data removed]"
     },
     "metadata": {},
     "output_type": "display_data"
    }
   ],
   "source": [
    "# Create a linear array from 0 to 3, with 20 steps\n",
    "x = np.linspace(0, 3, 20)\n",
    "\n",
    "# Create a linear array from 0 to 9, with 20 steps\n",
    "y = np.linspace(0, 9, 20)\n",
    "\n",
    "# Plot the line x, y\n",
    "plt.plot(x,y)       \n",
    "\n",
    "# Plot the dots x, y\n",
    "plt.plot(x,y, 'o')    "
   ]
  },
  {
   "cell_type": "code",
   "execution_count": 36,
   "metadata": {
    "ExecuteTime": {
     "start_time": "2023-04-25T11:17:27.932624Z",
     "end_time": "2023-04-25T11:17:27.944477Z"
    }
   },
   "outputs": [
    {
     "data": {
      "text/plain": "array([0.        , 0.15789474, 0.31578947, 0.47368421, 0.63157895,\n       0.78947368, 0.94736842, 1.10526316, 1.26315789, 1.42105263,\n       1.57894737, 1.73684211, 1.89473684, 2.05263158, 2.21052632,\n       2.36842105, 2.52631579, 2.68421053, 2.84210526, 3.        ])"
     },
     "execution_count": 36,
     "metadata": {},
     "output_type": "execute_result"
    }
   ],
   "source": [
    "x"
   ]
  },
  {
   "cell_type": "code",
   "execution_count": 37,
   "metadata": {
    "ExecuteTime": {
     "start_time": "2023-04-25T11:17:30.432268Z",
     "end_time": "2023-04-25T11:17:30.456067Z"
    }
   },
   "outputs": [
    {
     "data": {
      "text/plain": "array([0.        , 0.47368421, 0.94736842, 1.42105263, 1.89473684,\n       2.36842105, 2.84210526, 3.31578947, 3.78947368, 4.26315789,\n       4.73684211, 5.21052632, 5.68421053, 6.15789474, 6.63157895,\n       7.10526316, 7.57894737, 8.05263158, 8.52631579, 9.        ])"
     },
     "execution_count": 37,
     "metadata": {},
     "output_type": "execute_result"
    }
   ],
   "source": [
    "y"
   ]
  },
  {
   "cell_type": "markdown",
   "metadata": {
    "id": "rBO0S7-Y4SyL"
   },
   "source": [
    "### 2D array plotting\n",
    "Due to their structure, 2D arrays needs to be plotted as images. There is no need to panic. Let's go step by step."
   ]
  },
  {
   "cell_type": "code",
   "execution_count": 38,
   "metadata": {
    "ExecuteTime": {
     "start_time": "2023-04-25T11:17:58.413280Z",
     "end_time": "2023-04-25T11:17:58.425999Z"
    }
   },
   "outputs": [],
   "source": [
    "# Let's create a Gaussian image of 30x30\n",
    "image = np.random.randn(30, 30)"
   ]
  },
  {
   "cell_type": "code",
   "execution_count": 39,
   "metadata": {
    "collapsed": true,
    "jupyter": {
     "outputs_hidden": true
    },
    "tags": [],
    "ExecuteTime": {
     "start_time": "2023-04-25T11:17:59.750449Z",
     "end_time": "2023-04-25T11:17:59.757242Z"
    }
   },
   "outputs": [
    {
     "data": {
      "text/plain": "array([[-1.08238214e-01, -2.09344176e+00,  7.68290698e-01,\n        -1.41182722e-01,  3.13671237e-01, -9.14480365e-01,\n         6.94664640e-01, -7.71063244e-01,  3.71546752e-01,\n        -1.35909883e+00, -6.75949709e-01, -1.02986165e+00,\n         3.40563457e-01,  2.30422111e+00, -1.37171473e+00,\n        -2.30529530e-01, -4.69675903e-01, -8.20304176e-01,\n         1.80742079e-01, -1.06357011e+00,  5.12057245e-02,\n         3.20289286e-01, -5.03599410e-01,  1.13886791e-01,\n        -2.44490212e-01, -2.57290238e-02, -4.53160379e-01,\n        -1.20667392e+00,  5.72015398e-03, -1.06974263e+00],\n       [-3.94749785e-01,  6.93185273e-01,  7.28223077e-01,\n        -7.93050440e-01,  1.81328089e+00, -4.27745640e-01,\n        -9.88963340e-01,  1.50072143e+00,  1.88820160e+00,\n         2.60167894e-01,  7.18893912e-01, -1.43500400e+00,\n        -6.26085522e-01,  2.10923889e-01, -3.31589043e-02,\n         1.98603066e+00, -1.37533464e-01,  1.33712399e+00,\n        -9.41950983e-01,  2.33563363e-01,  9.06023201e-01,\n         1.33641663e-01, -8.47357263e-01, -5.62494724e-02,\n         1.08844180e-01,  8.44377446e-01, -1.36797562e+00,\n         2.46979894e-01,  8.09276453e-01, -1.01105236e+00],\n       [-8.96305635e-01, -3.68725221e-01,  5.97967829e-02,\n        -9.81860996e-01,  9.05072139e-02, -1.34933453e+00,\n        -1.04910060e+00, -2.80029421e-01, -4.98736993e-01,\n        -1.20203550e+00,  1.20447662e+00, -1.20269983e+00,\n         3.83527133e-01,  2.75896403e+00, -2.52078403e-01,\n        -4.70267824e-02, -1.51526972e-01,  1.36365041e+00,\n         1.47242024e+00,  2.58274681e+00,  2.38408263e-01,\n         3.01651764e-01, -1.26711925e+00, -1.04044679e-02,\n        -1.09614161e+00,  1.74655978e-01,  2.27603157e-01,\n        -1.99513114e+00, -9.57219216e-02,  3.27435049e-01],\n       [ 9.54328086e-01,  3.05831057e+00, -9.03076022e-01,\n         1.09322653e+00,  4.72932907e-02,  2.21025698e-01,\n         9.16976031e-02,  9.52431099e-01, -9.46034577e-01,\n        -2.77397803e-01, -2.31988050e+00, -1.70107586e-01,\n        -1.78395395e+00, -1.38779169e+00,  1.87635391e-01,\n         5.46242881e-01,  7.64363157e-02,  5.41236715e-01,\n        -7.15028771e-01, -1.49630159e-01, -1.17779619e+00,\n        -3.66375428e-01, -6.34328745e-01, -9.67683590e-01,\n         4.17289749e-01,  1.26403972e+00, -6.61088035e-01,\n        -8.18520783e-01, -5.08318732e-01, -8.85034459e-01],\n       [-3.40718562e-01,  4.86030107e-01,  1.12238556e-01,\n        -1.73893312e-01,  4.07032107e-01,  2.70268566e-01,\n         7.03125365e-01, -1.64151146e+00,  7.45009161e-01,\n        -1.38091890e-01, -2.07232893e+00,  1.04699676e+00,\n        -2.29351699e-01, -1.12606430e+00, -3.51230876e-01,\n        -1.40726426e-01, -3.80893396e-01,  8.94029752e-01,\n         5.57649246e-01,  1.01190340e+00, -3.45097176e-01,\n         1.52699795e-01, -2.68988832e+00, -1.21260499e-01,\n        -7.86898192e-02,  1.25608961e+00,  2.29205977e+00,\n        -9.43933140e-01,  7.77075487e-01, -4.38632431e-01],\n       [ 5.76739522e-01, -8.67167408e-01, -6.07720645e-01,\n         1.11690500e+00, -1.04746316e+00,  3.36167854e-01,\n        -5.73028474e-01, -9.15999117e-01, -1.90406223e+00,\n        -1.53774680e+00, -2.06017885e-01,  1.51334462e-01,\n        -1.66501231e-01, -8.12889610e-01,  1.43615139e+00,\n        -5.75556806e-01,  2.33508229e-01,  1.68999369e+00,\n        -1.21323197e+00,  5.97857649e-01,  7.52125082e-01,\n        -2.09961538e-01, -8.62483524e-01,  1.47302216e+00,\n        -1.06755670e+00, -9.62471535e-01, -3.29110607e-01,\n        -1.51296904e+00, -5.25686487e-01, -9.62137519e-01],\n       [ 1.04879295e+00,  1.97265278e-02,  4.84092253e-01,\n         1.01615382e+00, -8.09083967e-01, -1.22603815e-01,\n        -1.81638785e-02,  4.86903624e-01, -1.23906400e+00,\n        -4.40143276e-01, -1.06757143e-01,  2.06982812e+00,\n        -3.08037130e+00, -1.11982952e+00, -4.33433884e-01,\n        -9.74706562e-01,  7.40588810e-01,  1.64147538e-02,\n         9.04768130e-01, -1.35167583e-01, -1.07299879e+00,\n        -3.93210574e-01,  6.48317807e-01, -9.10290096e-01,\n        -6.86116376e-01,  8.83256348e-01,  1.16290026e-01,\n         2.37146455e-01, -9.69536382e-01,  8.47981211e-01],\n       [-7.46038113e-02,  1.27487887e-01,  1.28164924e+00,\n        -3.02515928e-02, -1.33787969e+00,  2.93461931e-01,\n        -1.39658962e+00,  1.32721174e-01, -8.44954803e-01,\n         5.53534456e-01,  2.55001448e+00, -9.13024195e-01,\n        -4.53811089e-01,  1.75305268e+00,  3.38923126e-01,\n         5.10712147e-01, -4.57169569e-01, -2.85572230e-01,\n        -5.42391682e-01, -8.68105739e-02,  5.53380312e-01,\n        -2.17856148e+00,  6.95223761e-01,  2.91658653e+00,\n        -3.35214210e-01, -1.14605051e-03, -8.69061007e-01,\n        -8.54519412e-01,  5.33066479e-02, -1.47390512e-01],\n       [-6.30523904e-01,  3.57599721e-01,  1.57229249e-01,\n         9.61379604e-01,  2.75516486e+00, -4.87369172e-01,\n         1.16891784e+00,  2.10513395e-01, -1.13588740e+00,\n        -6.47464004e-02,  1.72295280e+00,  9.40012827e-01,\n        -1.32660345e+00,  1.82515617e+00, -9.17974738e-01,\n        -4.85631557e-01, -6.66990826e-01, -1.51614316e+00,\n        -2.18765905e+00, -8.58448061e-01, -7.70219956e-03,\n        -1.47136167e-02,  9.61277389e-01, -1.02573980e+00,\n        -7.22128153e-01, -8.75179058e-01, -4.03741969e-01,\n         4.36410923e-02,  1.11046194e-02,  9.31527661e-01],\n       [ 3.40647106e-01, -1.41607715e-01,  6.34490616e-01,\n        -2.90399340e-01,  1.23522172e+00,  1.63291583e+00,\n        -7.02923428e-01,  1.00657071e+00, -1.65114914e+00,\n        -2.79341108e-01, -4.03222928e-01, -1.34331860e+00,\n         1.56458679e-01, -2.67679622e-01,  1.57495136e-02,\n         6.19193286e-01,  7.55111059e-01,  1.07752301e+00,\n        -7.70460748e-02,  5.71815932e-01,  5.89069242e-01,\n         7.40850232e-01, -1.62592698e+00, -5.65416113e-01,\n        -1.26382020e+00, -8.19966607e-01,  5.52951888e-03,\n         2.62373307e-01,  8.80121295e-01,  2.79569493e-02],\n       [ 1.87160682e+00, -3.93213363e-01, -9.50295190e-01,\n        -5.40858970e-01, -1.22377771e+00, -1.03306475e+00,\n         9.00526354e-01, -9.06112526e-02,  1.08402447e+00,\n         1.37905800e-01, -8.74728933e-01, -1.22727856e-01,\n         6.54612082e-01, -6.18962192e-01, -6.39067216e-02,\n        -1.33660762e+00,  1.63558639e+00,  3.68550326e-01,\n        -7.88114988e-02, -4.07937822e-01, -8.61268717e-01,\n        -9.02164341e-01, -2.27263070e+00,  3.81690217e-01,\n        -1.25823892e+00,  2.05533256e+00,  1.37898892e+00,\n        -1.26969430e+00, -1.00472656e+00,  6.24887323e-01],\n       [ 2.90490430e-01, -2.44187716e+00,  1.43606681e+00,\n        -2.57711591e+00, -1.04359355e-01,  7.44450249e-02,\n        -9.09323666e-01,  4.82826432e-01,  6.90419435e-01,\n         4.98379898e-01,  7.18605864e-01,  1.08891390e+00,\n         3.51068930e-01, -2.13565880e+00,  5.76119076e-01,\n         8.64689507e-01, -1.55317465e+00,  8.65021303e-01,\n        -1.78720388e+00,  1.75948868e-01, -3.47042074e-01,\n        -2.87844736e-02, -3.82785388e-01, -2.18828124e-01,\n        -1.56963809e+00, -4.41700708e-01,  7.18265135e-01,\n        -3.02332974e-01, -1.11354943e-01,  6.06806059e-01],\n       [-6.22892626e-02,  8.25380434e-01, -8.69814188e-01,\n         4.03578795e-02,  5.41764379e-02, -6.98808550e-01,\n        -1.83096443e+00, -2.25346641e+00,  4.22180791e-01,\n         3.88140958e-01,  4.07464341e-01,  2.16269903e-01,\n        -8.09520044e-01, -8.10036873e-01,  1.34868023e+00,\n        -5.24199777e-01,  2.04504747e+00, -2.41939400e-01,\n         7.05518085e-01, -9.27908745e-01,  1.01429800e+00,\n         3.13014974e+00, -4.43769592e-01, -2.95236192e-01,\n        -1.08872169e-01, -8.52408548e-01, -7.56586528e-03,\n         2.02496108e-01,  5.07187097e-01,  5.36623847e-01],\n       [ 1.31029659e+00, -2.16344757e-01,  6.07553312e-02,\n         4.81952614e-01, -4.42593545e-01,  2.21563131e+00,\n        -8.65780926e-01, -1.10843511e-01,  3.46725943e-01,\n         1.13403194e+00,  8.05891944e-01, -1.76808610e+00,\n        -1.12987158e+00,  1.28389388e-01,  1.35324041e+00,\n         1.26764238e+00,  1.98138195e+00, -2.51166196e-01,\n         5.44983678e-01,  5.15921743e-01,  1.55842891e+00,\n        -1.36961567e+00, -2.14728222e-02,  6.85132629e-01,\n         5.33506548e-01, -9.25819462e-01, -5.23676747e-01,\n         6.29092696e-01, -3.60493749e-01, -6.71600601e-01],\n       [ 8.46228833e-01, -8.86008631e-01, -6.12018504e-01,\n         1.52988424e+00,  2.94757139e-01, -1.68419467e-01,\n        -7.84730299e-01,  3.14866420e-01, -8.43193592e-01,\n         1.08291363e+00,  3.29221637e-01, -9.67835795e-01,\n         2.11766204e+00,  1.55856870e+00,  1.16247017e+00,\n         3.06499485e-01,  4.66098926e-01,  2.35576011e-01,\n        -4.73750289e-02,  1.27057257e-01, -8.06289117e-01,\n        -1.92344509e+00, -7.43210405e-01, -9.19594057e-01,\n        -1.02907328e+00, -3.53488946e-01, -1.36754724e+00,\n        -1.66297982e+00,  1.16739874e+00,  4.83369412e-01],\n       [ 8.84495817e-01,  1.76519185e-01,  7.27143502e-02,\n        -3.44328222e-01, -4.96111540e-01, -3.30625140e-01,\n         6.63192932e-01,  2.06050725e+00, -5.33984293e-01,\n        -7.20051837e-01,  3.33619437e-01,  1.64278728e-01,\n        -2.00159797e-01, -9.65121105e-02, -5.70193661e-01,\n        -4.48542361e-01,  7.91315764e-02,  1.84702982e+00,\n         7.90385564e-01,  3.47019759e-01, -1.55019523e-01,\n         7.64029388e-01, -6.92037155e-03, -1.10943304e+00,\n         4.73498019e-01, -1.09994979e+00,  1.43402041e+00,\n         4.00484198e-01,  4.49351296e-01, -9.98146234e-01],\n       [ 6.33156101e-01, -1.18011580e+00, -6.04321522e-01,\n         1.31701063e+00, -8.62850229e-01,  4.37809864e-01,\n         1.46253891e+00,  1.58453322e+00,  1.48344456e-01,\n         8.91936655e-01,  8.62092862e-02, -6.09832046e-02,\n        -1.30261726e+00, -2.04629485e-01, -1.27701608e+00,\n        -1.56265341e+00,  1.25075802e+00, -4.59689085e-01,\n         1.10804919e+00, -9.12542929e-02, -2.01529695e+00,\n         1.67048450e+00,  9.63637027e-01,  1.59683102e-01,\n        -2.84905103e-01, -1.12599779e+00,  6.03206953e-01,\n         1.20904831e+00, -3.04401353e+00,  1.45009223e+00],\n       [ 6.41007262e-01,  1.82829967e+00, -1.53508726e+00,\n         8.34381239e-01, -1.75419105e-01, -1.61165791e-01,\n        -3.13255118e-01, -7.34413517e-01, -6.24106633e-01,\n         1.15809121e+00, -6.84924251e-01, -4.70450165e-01,\n         7.93339181e-01, -1.22077262e+00, -9.91833727e-01,\n        -3.45830618e-01,  1.52029916e-01,  5.77898853e-01,\n         8.37853415e-02, -3.92461406e-02, -9.46468740e-01,\n        -1.64729591e+00,  5.18971629e-01,  1.28980873e+00,\n        -1.31942648e+00, -4.61075906e-01, -9.79030968e-01,\n        -3.27516902e-01, -4.45469215e-01,  2.33726565e+00],\n       [-5.71322031e-01, -5.66470134e-02,  2.83975006e-01,\n         1.92321920e-01, -8.26187393e-01,  5.21712563e-01,\n        -2.63786237e-01, -1.97481172e+00,  4.93259716e-01,\n        -1.32643336e-01,  3.95903728e-02,  4.14847266e-01,\n        -9.59007623e-01, -6.61508669e-01,  5.61368556e-01,\n         2.71800151e+00, -9.69196024e-01,  8.27680284e-01,\n        -1.76541496e+00, -2.30977062e+00,  4.91490620e-01,\n        -1.48875877e-01,  5.24027587e-01,  1.51694847e-01,\n        -3.15114602e-01,  1.33461178e-01, -1.03967931e+00,\n        -5.20388606e-01, -2.51740350e-01, -1.07561852e+00],\n       [-3.90826591e-01, -1.81010265e+00, -4.13390231e-01,\n         4.96354820e-01,  1.46486289e+00, -9.30157879e-01,\n         9.44934536e-01,  1.97171739e+00, -3.12660919e-01,\n         1.52630200e+00,  6.16322583e-01, -3.66843953e-01,\n        -2.79071276e-01, -3.18058191e-01, -1.78128803e-01,\n         6.10647362e-01, -8.05475126e-01, -4.95140351e-01,\n        -1.14835594e+00,  1.56971304e+00,  1.71804546e-01,\n        -8.61293896e-01,  2.64182642e-02, -2.04681771e+00,\n        -1.18998947e+00, -1.56703672e+00,  6.77540891e-02,\n        -6.81271722e-02, -4.57232718e-01,  1.73108743e+00],\n       [-7.68658144e-01,  1.31644343e+00, -1.99075343e-01,\n        -1.67154036e-01,  6.69274056e-01,  1.54664579e+00,\n         3.64024177e-01,  1.12865115e-01, -3.80531841e-01,\n        -5.05044183e-01, -4.15757961e-01,  1.19004079e+00,\n        -1.64700792e-01, -3.66733140e-01, -1.85358499e+00,\n         5.85235283e-02, -4.66686037e-01,  9.77204744e-01,\n         1.38833175e+00, -1.29354808e+00,  1.33159616e+00,\n        -2.39386699e+00, -2.10584619e-01,  5.10941567e-01,\n         5.81592656e-01, -1.03212161e+00,  3.57866705e-01,\n        -1.50921288e-01, -1.40374463e+00, -5.24062891e-01],\n       [-1.58145876e-01,  2.09816064e+00, -1.62142552e+00,\n         1.61012260e+00, -8.62842293e-01,  7.23102992e-01,\n        -4.90223361e-01, -5.00076411e-01, -2.64236323e-01,\n        -2.20127896e+00,  4.32603553e-01,  3.77930103e-02,\n         4.34183656e-01,  1.07181182e-01,  1.13299237e-01,\n        -2.33399797e+00, -5.28527168e-01, -2.41896771e-01,\n        -7.01545286e-02, -5.02123911e-01,  5.97982459e-01,\n         1.13700041e+00,  6.69380563e-01, -4.26089230e-01,\n         1.86946206e+00,  7.00636128e-01, -9.25754897e-01,\n        -8.77610164e-02, -8.75033621e-01, -6.81017124e-01],\n       [-4.02130860e-01, -6.32846263e-01,  7.37359123e-01,\n         2.54231023e-01, -2.46249610e+00, -9.15117077e-01,\n        -4.48842618e-01,  8.83811112e-01,  6.59458659e-01,\n        -5.16798891e-01, -2.85769571e-01,  4.98667729e-01,\n         1.06256389e+00, -6.30308616e-01,  1.11644492e+00,\n         3.93948540e-01, -1.54485365e-01, -2.16841738e-01,\n         1.94787428e-01, -5.68867090e-01, -1.54206362e+00,\n         6.81289798e-01, -1.34577315e-01, -4.79339581e-01,\n        -1.46010421e-02,  5.02479100e-01,  5.66413938e-02,\n        -2.05420775e+00, -6.72385004e-01,  4.44649364e-01],\n       [ 2.69358840e-01,  1.04310627e+00, -8.01541709e-01,\n         8.50081572e-01,  4.61046131e-01,  3.39995176e-01,\n         1.32972513e+00, -1.51415606e-01, -9.03872428e-01,\n         1.26912968e+00, -2.31750864e-01,  5.04377329e-01,\n        -9.30025962e-01, -8.28027888e-01, -9.80428584e-01,\n         3.98472308e-01,  4.01911868e-01,  2.84577998e-01,\n         7.20913111e-01,  1.37162096e-01, -3.23911622e-01,\n        -1.25450171e+00,  1.48208302e+00, -8.08195423e-01,\n        -1.34534964e+00, -4.64868721e-01,  5.32583804e-01,\n        -9.94695283e-01,  8.93042798e-01,  3.61389010e-01],\n       [ 1.42177009e+00,  1.69899435e-01, -1.31799851e+00,\n        -2.12218400e-01,  1.71725462e+00,  8.00371786e-02,\n        -4.36871970e-01,  7.96258388e-01,  7.80135788e-02,\n         7.88194076e-01, -2.06673725e-01,  9.24595848e-01,\n         4.85924023e-01, -1.79384025e+00,  1.33234650e+00,\n        -1.72992908e-01,  1.61421207e+00,  1.61553329e-01,\n         1.07476252e+00,  1.40166767e+00, -4.38076457e-01,\n        -7.94559631e-01, -7.35251842e-01, -2.03805757e+00,\n        -7.59406046e-01, -4.62067495e-01,  5.72618496e-01,\n         1.15709022e+00,  6.56734524e-01, -1.24365355e+00],\n       [ 9.62554710e-01,  2.58380598e-01, -1.30771130e+00,\n         1.14177914e+00,  7.83571967e-02, -6.72319537e-01,\n        -5.06219275e-01,  4.58326890e-02, -1.45573345e+00,\n         3.75160665e-01,  8.82424028e-02,  7.53959086e-01,\n         2.15052516e-01,  3.43830810e-01, -1.23712378e+00,\n         1.34378155e+00, -1.14787508e-01, -1.32201221e+00,\n        -1.36016567e+00,  1.38309802e+00, -5.43997323e-02,\n         7.68828884e-01,  1.92511152e-01, -6.48240907e-02,\n        -3.14348607e-02,  1.25599461e+00,  1.98040632e+00,\n        -4.40455469e-01, -9.61825430e-01,  6.03311573e-01],\n       [ 5.60539563e-01,  5.08637054e-01,  6.38917154e-01,\n         5.12452363e-01,  2.19440087e-02,  1.16190790e+00,\n        -1.63240787e+00,  7.17900449e-01,  1.45159617e+00,\n        -1.82424328e-01,  8.41327744e-01,  4.75462594e-01,\n         1.51243813e+00, -1.81776333e-02,  9.02219204e-01,\n        -4.57707119e-01,  2.22438648e-01, -8.96878401e-02,\n        -1.62019699e+00,  4.08438402e-01,  1.77310553e+00,\n         3.30530640e-01,  1.15016062e+00, -2.02311283e+00,\n         1.60999285e-01,  2.83220050e-01, -2.80509894e-01,\n        -4.01483719e-02, -3.61689723e-01, -1.67578020e+00],\n       [ 8.91299417e-01, -1.82398593e+00,  1.08905471e-01,\n         1.05121904e+00, -4.73636709e-01, -6.68665618e-01,\n        -2.19054051e-01, -1.29013707e+00,  9.02002086e-01,\n         2.54700743e-01,  2.36753603e-01, -5.01525881e-01,\n        -2.09821302e-01,  1.25884773e+00,  1.14061840e+00,\n         8.77751442e-01, -1.11037871e-01, -2.03030240e-01,\n        -1.40505255e+00, -3.28576474e-01,  4.61818165e-01,\n         3.04314047e-01, -1.27310424e+00, -8.95955096e-01,\n        -9.29161803e-01, -8.45012334e-01,  5.19004778e-02,\n        -1.40630124e+00, -9.55058179e-01,  1.64938374e-01],\n       [-1.63835359e-01, -9.74822922e-01,  1.47593117e-02,\n        -6.90775487e-01,  2.87825266e-01, -1.02670956e+00,\n        -1.63550410e-01, -1.36453639e+00, -4.53624842e-01,\n        -4.62930752e-01,  1.42247516e+00,  1.87695507e-01,\n         7.07424247e-01, -5.13156804e-01, -1.64511982e+00,\n         2.67440589e-01, -3.32247112e-02, -6.93129827e-01,\n        -1.59131453e+00, -3.70609488e-01, -1.23099631e+00,\n         7.13955128e-01,  4.03965740e-01,  1.15613683e+00,\n        -1.16117583e+00, -1.01700743e-01,  1.63473957e-01,\n        -2.28010088e+00,  6.83354024e-01, -1.53248986e+00],\n       [ 5.63311213e-01,  6.45374255e-01, -1.93180615e+00,\n        -3.41976101e-01,  9.53715421e-02,  7.22203209e-01,\n         3.68262914e-01,  6.63342430e-01, -2.33532197e-01,\n         2.89318652e-01, -3.47758110e-01, -1.04742606e+00,\n         1.68000901e+00,  8.73103575e-01,  1.52033630e+00,\n         8.91606374e-01, -3.59670189e-01, -3.16478745e-01,\n        -6.11857114e-01, -6.79113982e-01,  6.44240341e-01,\n        -4.93438781e-01,  1.46235084e+00,  2.10000558e+00,\n         1.41595446e+00,  1.12737243e+00, -2.53259082e+00,\n        -2.41129281e+00, -1.10408388e-01,  1.00385166e+00]])"
     },
     "execution_count": 39,
     "metadata": {},
     "output_type": "execute_result"
    }
   ],
   "source": [
    "image"
   ]
  },
  {
   "cell_type": "code",
   "execution_count": 41,
   "metadata": {
    "colab": {
     "base_uri": "https://localhost:8080/",
     "height": 283
    },
    "id": "56tKC5vG4cxa",
    "outputId": "9539d94a-9cd6-48ab-869b-842c02b8aaa4",
    "ExecuteTime": {
     "start_time": "2023-04-25T11:18:14.381829Z",
     "end_time": "2023-04-25T11:18:14.519226Z"
    }
   },
   "outputs": [
    {
     "data": {
      "text/plain": "<matplotlib.image.AxesImage at 0x7ff1a8822fb0>"
     },
     "execution_count": 41,
     "metadata": {},
     "output_type": "execute_result"
    },
    {
     "data": {
      "text/plain": "<matplotlib.colorbar.Colorbar at 0x7ff1a88378b0>"
     },
     "execution_count": 41,
     "metadata": {},
     "output_type": "execute_result"
    },
    {
     "data": {
      "text/plain": "<Figure size 640x480 with 2 Axes>",
      "image/png": "[encoded data removed]"
     },
     "metadata": {},
     "output_type": "display_data"
    }
   ],
   "source": [
    "# Let's create a Gaussian image of 30x30\n",
    "image = np.random.randn(30, 30)\n",
    "\n",
    "# Let's plot the image with imshow, and select a colormap\n",
    "plt.imshow(image, cmap=plt.cm.gray)    \n",
    "\n",
    "# Let's add a colorbar as an index\n",
    "plt.colorbar()"
   ]
  },
  {
   "cell_type": "markdown",
   "metadata": {
    "id": "cG2JtGYy7IbF"
   },
   "source": [
    "You can find a complete source of colormaps [here](https://matplotlib.org/3.1.1/gallery/color/colormap_reference.html)"
   ]
  },
  {
   "cell_type": "markdown",
   "metadata": {
    "id": "znj0f0e570Nh"
   },
   "source": [
    "Changing the colormap"
   ]
  },
  {
   "cell_type": "code",
   "execution_count": 43,
   "metadata": {
    "id": "UXpCQZf0yuLA",
    "ExecuteTime": {
     "start_time": "2023-04-25T11:19:24.755479Z",
     "end_time": "2023-04-25T11:19:24.891133Z"
    }
   },
   "outputs": [
    {
     "data": {
      "text/plain": "<matplotlib.image.AxesImage at 0x7ff198f283d0>"
     },
     "execution_count": 43,
     "metadata": {},
     "output_type": "execute_result"
    },
    {
     "data": {
      "text/plain": "<matplotlib.colorbar.Colorbar at 0x7ff198f1f2e0>"
     },
     "execution_count": 43,
     "metadata": {},
     "output_type": "execute_result"
    },
    {
     "data": {
      "text/plain": "<Figure size 640x480 with 2 Axes>",
      "image/png": "[encoded data removed]"
     },
     "metadata": {},
     "output_type": "display_data"
    }
   ],
   "source": [
    "# Let's create a Gaussian image of 30x30\n",
    "image = np.random.randn(30, 30)\n",
    "\n",
    "# Let's plot the image with imshow, and select a colormap\n",
    "plt.imshow(image, cmap=plt.cm.gist_rainbow)\n",
    "\n",
    "# Let's add a colorbar as an index\n",
    "plt.colorbar() "
   ]
  },
  {
   "cell_type": "markdown",
   "metadata": {
    "id": "UJmYaAuy_m0S"
   },
   "source": [
    "## NumPy indexing\n",
    "\n",
    "Remember that indices always in NumPy begin at 0. The first element of an array has index 0, the second has index 1, and so on. Negative indices are also allowed and are interpreted as counting from the end of the array. So, `a[-1]` refers to the last element, `a[-2]` is the second last element and so on. The first index is inclusive and the last one is exclusive. So, `a[1:3]` returns the second and third element.\n",
    "\n",
    "![alt text](https://scipy-lectures.org/_images/numpy_indexing.png)"
   ]
  },
  {
   "cell_type": "markdown",
   "metadata": {
    "id": "vn1Xi7DoGjAi"
   },
   "source": [
    "### Access items of array"
   ]
  },
  {
   "cell_type": "code",
   "execution_count": 44,
   "metadata": {
    "colab": {
     "base_uri": "https://localhost:8080/",
     "height": 35
    },
    "id": "bkkIIHO3yuH2",
    "outputId": "9b6da06d-d49f-474f-97f8-70fe501c26fd",
    "ExecuteTime": {
     "start_time": "2023-04-25T11:25:05.606927Z",
     "end_time": "2023-04-25T11:25:05.617906Z"
    }
   },
   "outputs": [
    {
     "data": {
      "text/plain": "array([ 0,  1,  2,  3,  4,  5,  6,  7,  8,  9, 10])"
     },
     "execution_count": 44,
     "metadata": {},
     "output_type": "execute_result"
    }
   ],
   "source": [
    "a = np.arange(11)\n",
    "a"
   ]
  },
  {
   "cell_type": "code",
   "execution_count": 45,
   "metadata": {
    "colab": {
     "base_uri": "https://localhost:8080/",
     "height": 35
    },
    "id": "7CXd2PoHyuEs",
    "outputId": "30c47a8c-8562-4f5f-cd94-043cbf0a570b",
    "ExecuteTime": {
     "start_time": "2023-04-25T11:25:10.767005Z",
     "end_time": "2023-04-25T11:25:10.792769Z"
    }
   },
   "outputs": [
    {
     "data": {
      "text/plain": "(0, 2, 10)"
     },
     "execution_count": 45,
     "metadata": {},
     "output_type": "execute_result"
    }
   ],
   "source": [
    "a[0], a[2], a[-1]"
   ]
  },
  {
   "cell_type": "markdown",
   "metadata": {
    "id": "TLVdiyLKG4vk"
   },
   "source": [
    "### Reverse a sequence"
   ]
  },
  {
   "cell_type": "code",
   "execution_count": 46,
   "metadata": {
    "colab": {
     "base_uri": "https://localhost:8080/",
     "height": 35
    },
    "id": "Atje-VRPyuCd",
    "outputId": "ad1ecd24-8ee4-4617-a3da-fae2271e7bc0",
    "ExecuteTime": {
     "start_time": "2023-04-25T11:25:14.329863Z",
     "end_time": "2023-04-25T11:25:14.355737Z"
    }
   },
   "outputs": [
    {
     "data": {
      "text/plain": "array([10,  9,  8,  7,  6,  5,  4,  3,  2,  1,  0])"
     },
     "execution_count": 46,
     "metadata": {},
     "output_type": "execute_result"
    }
   ],
   "source": [
    "a[::-1]"
   ]
  },
  {
   "cell_type": "markdown",
   "metadata": {
    "id": "hQ02eFb0HC5I"
   },
   "source": [
    "### Multidimensional arrays\n",
    "\n",
    "Indexes in multidimensional arrays are tuples of integers.\n",
    "\n",
    "In 2D, the first dimension corresponds to rows, the second to columns.\n",
    "For multidimensional `a` or `a[0]` is interpreted by taking all elements in the unspecified dimensions.\n",
    "\n",
    "\n",
    "![alt text](https://scipy-lectures.org/_images/numpy_indexing.png)"
   ]
  },
  {
   "cell_type": "markdown",
   "metadata": {
    "id": "0t6GSGcRJF3z"
   },
   "source": [
    "#### Indexing"
   ]
  },
  {
   "cell_type": "code",
   "execution_count": 50,
   "metadata": {
    "colab": {
     "base_uri": "https://localhost:8080/",
     "height": 72
    },
    "id": "fno7qXUNyuA1",
    "outputId": "2a3d307b-e6c5-4fdc-d9c3-aaa091088d64",
    "ExecuteTime": {
     "start_time": "2023-04-25T11:28:43.884886Z",
     "end_time": "2023-04-25T11:28:43.897883Z"
    }
   },
   "outputs": [
    {
     "data": {
      "text/plain": "array([[0, 0, 0],\n       [0, 1, 0],\n       [0, 0, 2]])"
     },
     "execution_count": 50,
     "metadata": {},
     "output_type": "execute_result"
    }
   ],
   "source": [
    "a = np.diag(np.arange(3))\n",
    "a"
   ]
  },
  {
   "cell_type": "code",
   "execution_count": 55,
   "metadata": {
    "colab": {
     "base_uri": "https://localhost:8080/",
     "height": 35
    },
    "id": "3sNpHgqsH9rj",
    "outputId": "e85ff05a-c5a4-41b6-c7c2-7d179d896e3c",
    "ExecuteTime": {
     "start_time": "2023-04-25T11:30:03.911005Z",
     "end_time": "2023-04-25T11:30:03.929973Z"
    }
   },
   "outputs": [
    {
     "data": {
      "text/plain": "0"
     },
     "execution_count": 55,
     "metadata": {},
     "output_type": "execute_result"
    }
   ],
   "source": [
    "# Third line, second column\n",
    "a[2, 1]"
   ]
  },
  {
   "cell_type": "code",
   "execution_count": 56,
   "metadata": {
    "colab": {
     "base_uri": "https://localhost:8080/",
     "height": 72
    },
    "id": "zHDywLQ6IGD7",
    "outputId": "cf3467a5-9a64-45b2-b4b2-1ab274d7b9e8",
    "ExecuteTime": {
     "start_time": "2023-04-25T11:30:08.437467Z",
     "end_time": "2023-04-25T11:30:08.456467Z"
    }
   },
   "outputs": [
    {
     "data": {
      "text/plain": "array([[ 0,  0,  0],\n       [ 0,  1,  0],\n       [ 0, 99,  2]])"
     },
     "execution_count": 56,
     "metadata": {},
     "output_type": "execute_result"
    }
   ],
   "source": [
    "# Change for number 99 in Third line, Second column\n",
    "a[2, 1] = 99 \n",
    "a"
   ]
  },
  {
   "cell_type": "code",
   "execution_count": 57,
   "metadata": {
    "colab": {
     "base_uri": "https://localhost:8080/",
     "height": 35
    },
    "id": "UF43IBNFIU8t",
    "outputId": "fe48048d-cecb-4ff6-d7ee-2685561f634a",
    "ExecuteTime": {
     "start_time": "2023-04-25T11:30:16.482120Z",
     "end_time": "2023-04-25T11:30:16.518783Z"
    }
   },
   "outputs": [
    {
     "data": {
      "text/plain": "array([0, 1, 0])"
     },
     "execution_count": 57,
     "metadata": {},
     "output_type": "execute_result"
    }
   ],
   "source": [
    "# Retrieve second line\n",
    "a[1]"
   ]
  },
  {
   "cell_type": "markdown",
   "metadata": {
    "id": "mK0iebYJJIgB"
   },
   "source": [
    "#### Slicing\n",
    "By default, the three slice components are not required: by default, start is 0, end is the last and step is 1"
   ]
  },
  {
   "cell_type": "code",
   "execution_count": 65,
   "metadata": {
    "colab": {
     "base_uri": "https://localhost:8080/",
     "height": 35
    },
    "id": "yFlbsrfpJBMY",
    "outputId": "e5eb81a8-8a01-4d4a-be4d-6678d036d262",
    "ExecuteTime": {
     "start_time": "2023-04-25T11:32:10.373934Z",
     "end_time": "2023-04-25T11:32:10.385705Z"
    }
   },
   "outputs": [
    {
     "data": {
      "text/plain": "array([ 0,  1,  2,  3,  4,  5,  6,  7,  8,  9, 10])"
     },
     "execution_count": 65,
     "metadata": {},
     "output_type": "execute_result"
    }
   ],
   "source": [
    "a = np.arange(11)\n",
    "a"
   ]
  },
  {
   "cell_type": "code",
   "execution_count": 66,
   "metadata": {
    "colab": {
     "base_uri": "https://localhost:8080/",
     "height": 35
    },
    "id": "J5nHuJBvJXgk",
    "outputId": "84227555-eaf3-4d0d-87a9-3dcf2945385b",
    "ExecuteTime": {
     "start_time": "2023-04-25T11:32:10.749926Z",
     "end_time": "2023-04-25T11:32:10.757860Z"
    }
   },
   "outputs": [
    {
     "data": {
      "text/plain": "array([ 0,  2,  4,  6,  8, 10])"
     },
     "execution_count": 66,
     "metadata": {},
     "output_type": "execute_result"
    }
   ],
   "source": [
    "# [start:end:step]\n",
    "a[0:11:2] "
   ]
  },
  {
   "cell_type": "code",
   "execution_count": 67,
   "metadata": {
    "colab": {
     "base_uri": "https://localhost:8080/",
     "height": 35
    },
    "id": "bk3T4W3aJiV7",
    "outputId": "0a245362-933c-456f-a5ec-46d9cc26e5ba",
    "ExecuteTime": {
     "start_time": "2023-04-25T11:32:11.136022Z",
     "end_time": "2023-04-25T11:32:11.145811Z"
    }
   },
   "outputs": [
    {
     "data": {
      "text/plain": "array([0, 1, 2, 3, 4, 5, 6, 7, 8, 9])"
     },
     "execution_count": 67,
     "metadata": {},
     "output_type": "execute_result"
    }
   ],
   "source": [
    "# The last index is never included!\n",
    "a[:10]"
   ]
  },
  {
   "cell_type": "code",
   "execution_count": 68,
   "metadata": {
    "colab": {
     "base_uri": "https://localhost:8080/",
     "height": 108
    },
    "id": "7q4OX6QYJxBM",
    "outputId": "d69ec486-bc0b-498a-8fe5-825413e9d020",
    "ExecuteTime": {
     "start_time": "2023-04-25T11:32:11.639158Z",
     "end_time": "2023-04-25T11:32:11.647110Z"
    }
   },
   "outputs": [
    {
     "data": {
      "text/plain": "array([1, 2])"
     },
     "execution_count": 68,
     "metadata": {},
     "output_type": "execute_result"
    },
    {
     "data": {
      "text/plain": "array([ 0,  2,  4,  6,  8, 10])"
     },
     "execution_count": 68,
     "metadata": {},
     "output_type": "execute_result"
    },
    {
     "data": {
      "text/plain": "array([ 3,  4,  5,  6,  7,  8,  9, 10])"
     },
     "execution_count": 68,
     "metadata": {},
     "output_type": "execute_result"
    }
   ],
   "source": [
    "# By default, start is 0, end is the last and step is 1.\n",
    "a[1:3]\n",
    "\n",
    "a[::2]\n",
    "\n",
    "a[3:]"
   ]
  },
  {
   "cell_type": "code",
   "execution_count": 72,
   "metadata": {
    "colab": {
     "base_uri": "https://localhost:8080/",
     "height": 72
    },
    "id": "85oFjNNeLddf",
    "outputId": "50f7f13e-7dca-45b1-9106-4f8f91657040",
    "ExecuteTime": {
     "start_time": "2023-04-25T11:32:36.409238Z",
     "end_time": "2023-04-25T11:32:36.421066Z"
    }
   },
   "outputs": [
    {
     "data": {
      "text/plain": "array([99, -4, -4, -4, 99,  5,  6,  7, 99,  9, 10])"
     },
     "execution_count": 72,
     "metadata": {},
     "output_type": "execute_result"
    },
    {
     "data": {
      "text/plain": "array([99, -4, -4, -4, 99,  5,  6,  7, 99,  9, 10])"
     },
     "execution_count": 72,
     "metadata": {},
     "output_type": "execute_result"
    }
   ],
   "source": [
    "# Combination of assignment and slicing\n",
    "a[1:4] = -4\n",
    "a\n",
    "\n",
    "a[::4] = 99\n",
    "a"
   ]
  },
  {
   "cell_type": "markdown",
   "metadata": {
    "id": "ftZ5TSvFMNbA"
   },
   "source": [
    "## Copies vs. views\n",
    "\n",
    "A slicing operation creates a view on the original array, which is just a way of accessing array data. Thus, the original array is not copied in memory. You can use\n",
    "\n",
    "`np.may_share_memory()` to check if two arrays share the same memory block. It returns True if the memory blocks pointed to by two arrays overlap, or if the two arrays are views of the same memory block, and False otherwise. Note however, that this uses heuristics and may give you false positives.\n",
    "\n",
    " The `np.may_share_memory()` function can be useful in preventing unintended side effects when working with NumPy arrays that share memory."
   ]
  },
  {
   "cell_type": "code",
   "execution_count": 73,
   "metadata": {
    "colab": {
     "base_uri": "https://localhost:8080/",
     "height": 35
    },
    "id": "8GzHgbAGOwpq",
    "outputId": "51cb159e-2f9f-4db4-f3b9-9a2f50876082",
    "ExecuteTime": {
     "start_time": "2023-04-25T11:38:00.858932Z",
     "end_time": "2023-04-25T11:38:00.866846Z"
    }
   },
   "outputs": [
    {
     "data": {
      "text/plain": "array([0, 1, 2, 3, 4, 5, 6, 7, 8, 9])"
     },
     "execution_count": 73,
     "metadata": {},
     "output_type": "execute_result"
    }
   ],
   "source": [
    "a = np.arange(10)\n",
    "a"
   ]
  },
  {
   "cell_type": "code",
   "execution_count": 74,
   "metadata": {
    "colab": {
     "base_uri": "https://localhost:8080/",
     "height": 35
    },
    "id": "5G4etoGlO3ri",
    "outputId": "e2f2091f-3bdb-4686-b982-89c4be425797",
    "ExecuteTime": {
     "start_time": "2023-04-25T11:38:01.470765Z",
     "end_time": "2023-04-25T11:38:01.481964Z"
    }
   },
   "outputs": [
    {
     "data": {
      "text/plain": "array([0, 2, 4, 6, 8])"
     },
     "execution_count": 74,
     "metadata": {},
     "output_type": "execute_result"
    }
   ],
   "source": [
    "b = a[::2]\n",
    "b"
   ]
  },
  {
   "cell_type": "code",
   "execution_count": 75,
   "metadata": {
    "colab": {
     "base_uri": "https://localhost:8080/",
     "height": 35
    },
    "id": "thqBGoNNO7QM",
    "outputId": "dd19b579-13f2-4933-a489-74e459bece7d",
    "ExecuteTime": {
     "start_time": "2023-04-25T11:38:02.809807Z",
     "end_time": "2023-04-25T11:38:02.821427Z"
    }
   },
   "outputs": [
    {
     "data": {
      "text/plain": "True"
     },
     "execution_count": 75,
     "metadata": {},
     "output_type": "execute_result"
    }
   ],
   "source": [
    "np.may_share_memory(a, b)"
   ]
  },
  {
   "cell_type": "code",
   "execution_count": 76,
   "metadata": {
    "colab": {
     "base_uri": "https://localhost:8080/",
     "height": 35
    },
    "id": "lcd0otSTPAPA",
    "outputId": "60b47877-ef21-4190-a569-3754ce2da6eb",
    "ExecuteTime": {
     "start_time": "2023-04-25T11:38:04.632444Z",
     "end_time": "2023-04-25T11:38:04.650745Z"
    }
   },
   "outputs": [
    {
     "data": {
      "text/plain": "array([12,  2,  4,  6,  8])"
     },
     "execution_count": 76,
     "metadata": {},
     "output_type": "execute_result"
    }
   ],
   "source": [
    "# When we change an index in the view\n",
    "b[0] = 12\n",
    "b"
   ]
  },
  {
   "cell_type": "code",
   "execution_count": 77,
   "metadata": {
    "colab": {
     "base_uri": "https://localhost:8080/",
     "height": 35
    },
    "id": "X0nrJBJePGKB",
    "outputId": "da6e368b-d5a6-4825-da62-25f74b30b3ec",
    "ExecuteTime": {
     "start_time": "2023-04-25T11:38:07.584748Z",
     "end_time": "2023-04-25T11:38:07.603587Z"
    }
   },
   "outputs": [
    {
     "data": {
      "text/plain": "array([12,  1,  2,  3,  4,  5,  6,  7,  8,  9])"
     },
     "execution_count": 77,
     "metadata": {},
     "output_type": "execute_result"
    }
   ],
   "source": [
    "# The original is modified as well\n",
    "a"
   ]
  },
  {
   "cell_type": "code",
   "execution_count": 78,
   "metadata": {
    "colab": {
     "base_uri": "https://localhost:8080/",
     "height": 35
    },
    "id": "1Mlj0HoGPMu_",
    "outputId": "38963681-e7e3-4beb-8562-c795da237f08",
    "ExecuteTime": {
     "start_time": "2023-04-25T11:38:12.467148Z",
     "end_time": "2023-04-25T11:38:12.485661Z"
    }
   },
   "outputs": [
    {
     "data": {
      "text/plain": "array([12,  1,  2,  3,  4,  5,  6,  7,  8,  9])"
     },
     "execution_count": 78,
     "metadata": {},
     "output_type": "execute_result"
    }
   ],
   "source": [
    "# We need to create a copy() to put changes that are not reflected in the original\n",
    "d = a.copy()\n",
    "d"
   ]
  },
  {
   "cell_type": "code",
   "execution_count": 79,
   "metadata": {
    "colab": {
     "base_uri": "https://localhost:8080/",
     "height": 35
    },
    "id": "pCNnkSjZPYAN",
    "outputId": "2a030a3f-7ec4-414a-f912-b6b89723fc42",
    "ExecuteTime": {
     "start_time": "2023-04-25T11:38:13.580199Z",
     "end_time": "2023-04-25T11:38:13.592903Z"
    }
   },
   "outputs": [
    {
     "data": {
      "text/plain": "array([0, 1, 2, 3, 4, 5, 6, 7, 8, 9])"
     },
     "execution_count": 79,
     "metadata": {},
     "output_type": "execute_result"
    }
   ],
   "source": [
    "d[0] = 0\n",
    "d"
   ]
  },
  {
   "cell_type": "code",
   "execution_count": 80,
   "metadata": {
    "ExecuteTime": {
     "start_time": "2023-04-25T11:38:14.719850Z",
     "end_time": "2023-04-25T11:38:14.740097Z"
    }
   },
   "outputs": [
    {
     "data": {
      "text/plain": "array([12,  1,  2,  3,  4,  5,  6,  7,  8,  9])"
     },
     "execution_count": 80,
     "metadata": {},
     "output_type": "execute_result"
    }
   ],
   "source": [
    "a"
   ]
  },
  {
   "cell_type": "code",
   "execution_count": 81,
   "metadata": {
    "colab": {
     "base_uri": "https://localhost:8080/",
     "height": 35
    },
    "id": "lF8RvgnbPbGY",
    "outputId": "f54fd43f-7867-4d94-a888-a9f50f52f661",
    "ExecuteTime": {
     "start_time": "2023-04-25T11:38:17.484487Z",
     "end_time": "2023-04-25T11:38:17.516351Z"
    }
   },
   "outputs": [
    {
     "data": {
      "text/plain": "False"
     },
     "execution_count": 81,
     "metadata": {},
     "output_type": "execute_result"
    }
   ],
   "source": [
    "# The copy is in a different memory allocation\n",
    "np.may_share_memory(a, d)"
   ]
  },
  {
   "cell_type": "markdown",
   "metadata": {
    "id": "Y9-A4vihPnYa"
   },
   "source": [
    "## Fancy array indexing\n",
    "NumPy arrays can be indexed with slices, but as well with boolean or integer arrays (masks). This method creates copies rather than views."
   ]
  },
  {
   "cell_type": "markdown",
   "metadata": {
    "id": "lZnesr5oP33v"
   },
   "source": [
    "### Mask with boolean array"
   ]
  },
  {
   "cell_type": "code",
   "execution_count": 84,
   "metadata": {
    "colab": {
     "base_uri": "https://localhost:8080/",
     "height": 35
    },
    "id": "4Gropd5mQdeN",
    "outputId": "dec6c208-aae9-4fa3-a1f3-7d9a5322db17",
    "ExecuteTime": {
     "start_time": "2023-04-25T11:53:20.167958Z",
     "end_time": "2023-04-25T11:53:20.178395Z"
    }
   },
   "outputs": [
    {
     "data": {
      "text/plain": "array([10,  3,  8,  0, 19, 10, 11,  9, 10,  6,  0, 20, 12,  7, 14])"
     },
     "execution_count": 84,
     "metadata": {},
     "output_type": "execute_result"
    }
   ],
   "source": [
    "# We start with getting a seed and a random integer array\n",
    "np.random.seed(3)\n",
    "a = np.random.randint(0, 21, 15)\n",
    "a"
   ]
  },
  {
   "cell_type": "code",
   "execution_count": 85,
   "metadata": {
    "colab": {
     "base_uri": "https://localhost:8080/",
     "height": 54
    },
    "id": "iif5rTnlRJq_",
    "outputId": "9acc60d8-f4d9-4d4f-cdc5-faf98d432cf6",
    "ExecuteTime": {
     "start_time": "2023-04-25T11:53:21.259473Z",
     "end_time": "2023-04-25T11:53:21.277763Z"
    }
   },
   "outputs": [
    {
     "data": {
      "text/plain": "array([False,  True, False,  True, False, False, False,  True, False,\n        True,  True, False,  True, False, False])"
     },
     "execution_count": 85,
     "metadata": {},
     "output_type": "execute_result"
    }
   ],
   "source": [
    "# Create a Boolean array when the residuals of a/3 are 0\n",
    "a % 3 == 0"
   ]
  },
  {
   "cell_type": "code",
   "execution_count": 86,
   "metadata": {
    "colab": {
     "base_uri": "https://localhost:8080/",
     "height": 35
    },
    "id": "FPqTfbBsRX0T",
    "outputId": "a9051c8b-f644-4bfd-a4d7-6b03a2e675bb",
    "ExecuteTime": {
     "start_time": "2023-04-25T11:53:24.661808Z",
     "end_time": "2023-04-25T11:53:24.691669Z"
    }
   },
   "outputs": [
    {
     "data": {
      "text/plain": "array([ 3,  0,  9,  6,  0, 12])"
     },
     "execution_count": 86,
     "metadata": {},
     "output_type": "execute_result"
    }
   ],
   "source": [
    "# Create a Boolean mask when the residuals of a/3 are 0\n",
    "mask = (a % 3 == 0)\n",
    "\n",
    "# Extract a sub-array with the mask\n",
    "extract_from_a = a[mask] # or,  a[a%3==0]\n",
    "extract_from_a           "
   ]
  },
  {
   "cell_type": "markdown",
   "metadata": {
    "id": "N69Cv2l7QT4q"
   },
   "source": [
    "### Mask with integer array"
   ]
  },
  {
   "cell_type": "code",
   "execution_count": 87,
   "metadata": {
    "colab": {
     "base_uri": "https://localhost:8080/",
     "height": 35
    },
    "id": "2zIBMf87R3B_",
    "outputId": "490d0c22-1d96-4f06-d547-a47d5f4d2b5e",
    "ExecuteTime": {
     "start_time": "2023-04-25T11:53:27.160404Z",
     "end_time": "2023-04-25T11:53:27.173088Z"
    }
   },
   "outputs": [
    {
     "data": {
      "text/plain": "array([ 0, 10, 20, 30, 40, 50, 60, 70, 80, 90])"
     },
     "execution_count": 87,
     "metadata": {},
     "output_type": "execute_result"
    }
   ],
   "source": [
    "a = np.arange(0, 100, 10)\n",
    "a"
   ]
  },
  {
   "cell_type": "code",
   "execution_count": 88,
   "metadata": {
    "colab": {
     "base_uri": "https://localhost:8080/",
     "height": 35
    },
    "id": "EvyXBT0-R6_z",
    "outputId": "06328cad-ebea-441c-b21a-1c61592c5555",
    "ExecuteTime": {
     "start_time": "2023-04-25T11:53:29.991574Z",
     "end_time": "2023-04-25T11:53:30.011747Z"
    }
   },
   "outputs": [
    {
     "data": {
      "text/plain": "array([20, 30, 20, 40, 20])"
     },
     "execution_count": 88,
     "metadata": {},
     "output_type": "execute_result"
    }
   ],
   "source": [
    "# Indexing by position\n",
    "# [2, 3, 2, 4, 2] is a Python list\n",
    "b = a[[2, 3, 2, 4, 2]]\n",
    "b"
   ]
  },
  {
   "cell_type": "markdown",
   "metadata": {
    "id": "5JSAWHgTSrgx"
   },
   "source": [
    "Some more fancy indexing:\n",
    "\n",
    "![alt text](https://scipy-lectures.org/_images/numpy_fancy_indexing.png)"
   ]
  },
  {
   "cell_type": "code",
   "execution_count": 89,
   "metadata": {
    "ExecuteTime": {
     "start_time": "2023-04-25T11:54:02.447806Z",
     "end_time": "2023-04-25T11:54:02.464911Z"
    }
   },
   "outputs": [],
   "source": [
    "# Create a Gaussian image of 30x30\n",
    "image = np.random.randn(10, 15)"
   ]
  },
  {
   "cell_type": "code",
   "execution_count": 90,
   "metadata": {
    "ExecuteTime": {
     "start_time": "2023-04-25T11:54:02.804882Z",
     "end_time": "2023-04-25T11:54:02.815202Z"
    }
   },
   "outputs": [
    {
     "data": {
      "text/plain": "array([[-1.31386475e+00,  8.84622380e-01,  8.81318042e-01,\n         1.70957306e+00,  5.00336422e-02, -4.04677415e-01,\n        -5.45359948e-01, -1.54647732e+00,  9.82367434e-01,\n        -1.10106763e+00, -1.18504653e+00, -2.05649899e-01,\n         1.48614836e+00,  2.36716267e-01, -1.02378514e+00],\n       [-7.12993200e-01,  6.25244966e-01, -1.60513363e-01,\n        -7.68836350e-01, -2.30030722e-01,  7.45056266e-01,\n         1.97611078e+00, -1.24412333e+00, -6.26416911e-01,\n        -8.03766095e-01, -2.41908317e+00, -9.23792022e-01,\n        -1.02387576e+00,  1.12397796e+00, -1.31914233e-01],\n       [-1.62328545e+00,  6.46675452e-01, -3.56270759e-01,\n        -1.74314104e+00, -5.96649642e-01, -5.88594380e-01,\n        -8.73882298e-01,  2.97138154e-02, -2.24825777e+00,\n        -2.67761865e-01,  1.01318344e+00,  8.52797841e-01,\n         1.10818750e+00,  1.11939066e+00,  1.48754313e+00],\n       [-1.11830068e+00,  8.45833407e-01, -1.86088953e+00,\n        -6.02885104e-01, -1.91447204e+00,  1.04814751e+00,\n         1.33373782e+00, -1.97414679e-01,  1.77464503e+00,\n        -6.74727510e-01,  1.50616865e-01,  1.52945703e-01,\n        -1.06419527e+00,  4.37946611e-01,  1.93897846e+00],\n       [-1.02493087e+00,  8.99338446e-01, -1.54506852e-01,\n         1.76962730e+00,  4.83788348e-01,  6.76216400e-01,\n         6.43163281e-01,  2.49086707e-01, -1.39576350e+00,\n         1.39166291e+00, -1.37066901e+00,  2.38563192e-01,\n         6.14077088e-01, -8.37912273e-01,  1.45063214e-01],\n       [ 1.16788229e+00, -2.41044701e-02, -8.88657418e-01,\n        -2.91573775e+00, -9.71840503e-01, -5.91078738e-01,\n        -5.16417368e-01, -9.59996180e-01,  3.77295234e-01,\n        -5.74708420e-01, -1.09454334e-01,  6.79071600e-01,\n        -8.55437169e-01, -3.00206075e-01,  2.15814934e+00],\n       [ 8.74285723e-01, -1.29353663e+00, -7.97409382e-02,\n         5.64485518e-01,  1.23347104e+00,  1.48986395e-01,\n        -5.30582144e-01, -7.30526644e-01,  6.45061985e-01,\n         3.13060374e-01, -5.16647925e-01, -1.89071666e-01,\n        -4.16198015e-01,  7.24657658e-01, -6.89960677e-01],\n       [ 4.86414475e-01,  8.51518950e-01,  4.86249326e-01,\n        -8.34239851e-01,  1.34499246e+00, -6.78212679e-01,\n         4.26435074e-01, -7.53334794e-01, -1.74411025e+00,\n         2.25750266e-01,  2.87035165e-01, -7.74409606e-02,\n         2.76068497e-01, -6.48410888e-01, -7.37464837e-01],\n       [-1.68090099e-01,  1.90927681e+00,  8.14814541e-01,\n        -5.19991754e-01,  5.58713205e-01, -4.78364660e-01,\n        -4.57260787e-01,  8.59284008e-01, -5.25264645e-01,\n        -1.67563463e+00, -9.06494701e-01,  8.84152062e-02,\n         1.28007821e-01,  1.24161652e+00, -7.16025798e-01],\n       [ 7.31465736e-01,  4.25966750e-01, -1.49013772e-01,\n         8.35843902e-01,  4.92118903e-01, -8.62308487e-01,\n         1.07168393e+00, -1.22090192e+00,  5.96154331e-02,\n         2.44416199e-03,  4.24635721e-01, -7.25433480e-01,\n        -3.49433856e-02, -1.40620027e-01,  9.97088367e-01]])"
     },
     "execution_count": 90,
     "metadata": {},
     "output_type": "execute_result"
    }
   ],
   "source": [
    "image"
   ]
  },
  {
   "cell_type": "code",
   "execution_count": 91,
   "metadata": {
    "ExecuteTime": {
     "start_time": "2023-04-25T11:54:05.383964Z",
     "end_time": "2023-04-25T11:54:05.398066Z"
    }
   },
   "outputs": [],
   "source": [
    "def print_elems(arr):\n",
    "    nrows = arr.shape[0]\n",
    "    ncols = arr.shape[1]\n",
    "    for i in range(nrows):\n",
    "        for j in range(ncols):\n",
    "            print(arr[i,j])"
   ]
  },
  {
   "cell_type": "code",
   "execution_count": 92,
   "metadata": {
    "ExecuteTime": {
     "start_time": "2023-04-25T11:56:05.459794Z",
     "end_time": "2023-04-25T11:56:05.471854Z"
    }
   },
   "outputs": [
    {
     "data": {
      "text/plain": "-1.3138647533626822"
     },
     "execution_count": 92,
     "metadata": {},
     "output_type": "execute_result"
    }
   ],
   "source": [
    "image[0][0]"
   ]
  },
  {
   "cell_type": "code",
   "execution_count": 93,
   "metadata": {
    "ExecuteTime": {
     "start_time": "2023-04-25T11:56:08.935574Z",
     "end_time": "2023-04-25T11:56:08.944794Z"
    }
   },
   "outputs": [
    {
     "name": "stdout",
     "output_type": "stream",
     "text": [
      "-1.3138647533626822\n",
      "0.8846223804995846\n",
      "0.8813180422075299\n",
      "1.7095730636529485\n",
      "0.05003364217686021\n",
      "-0.40467741460089085\n",
      "-0.5453599476195304\n",
      "-1.5464773155829683\n",
      "0.9823674342581601\n",
      "-1.1010676301114757\n",
      "-1.1850465270201729\n",
      "-0.20564989942254108\n",
      "1.4861483550745902\n",
      "0.23671626722691233\n",
      "-1.0237851399264681\n",
      "-0.7129932001120494\n",
      "0.6252449661628293\n",
      "-0.1605133631869239\n",
      "-0.76883635031923\n",
      "-0.23003072227793905\n",
      "0.7450562664053708\n",
      "1.9761107831263025\n",
      "-1.244123328955937\n",
      "-0.6264169111883692\n",
      "-0.8037660945765764\n",
      "-2.4190831731786697\n",
      "-0.9237920216957886\n",
      "-1.0238757608428377\n",
      "1.1239779589574683\n",
      "-0.1319142328009009\n",
      "-1.6232854458352473\n",
      "0.6466754522701722\n",
      "-0.35627075944674486\n",
      "-1.7431410369534588\n",
      "-0.5966496416841992\n",
      "-0.5885943796882429\n",
      "-0.8738822977622994\n",
      "0.02971381536101662\n",
      "-2.248257767576606\n",
      "-0.2677618648460562\n",
      "1.0131834418864945\n",
      "0.8527978409541495\n",
      "1.1081874999349925\n",
      "1.1193906553188915\n",
      "1.4875431319925396\n",
      "-1.118300684400365\n",
      "0.845833407057182\n",
      "-1.8608895289421137\n",
      "-0.6028851040072183\n",
      "-1.9144720434058142\n",
      "1.0481475122462551\n",
      "1.3337378194424867\n",
      "-0.1974146791582499\n",
      "1.7746450314059348\n",
      "-0.6747275103117134\n",
      "0.15061686536502228\n",
      "0.15294570276248168\n",
      "-1.0641952739365244\n",
      "0.43794661128008205\n",
      "1.9389784604004943\n",
      "-1.0249308746080865\n",
      "0.8993384458408142\n",
      "-0.15450685189928748\n",
      "1.7696273032937428\n",
      "0.48378834760053036\n",
      "0.6762163998630621\n",
      "0.6431632805957185\n",
      "0.2490867067258341\n",
      "-1.395763502640675\n",
      "1.3916629077448075\n",
      "-1.3706690125520165\n",
      "0.2385631924059012\n",
      "0.6140770877540938\n",
      "-0.8379122727022941\n",
      "0.14506321410352788\n",
      "1.1678822863016418\n",
      "-0.024104470071230052\n",
      "-0.8886574178529492\n",
      "-2.915737751792712\n",
      "-0.9718405025726093\n",
      "-0.5910787384858753\n",
      "-0.516417367788474\n",
      "-0.9599961802272166\n",
      "0.37729523411320043\n",
      "-0.5747084204927051\n",
      "-0.10945433388060835\n",
      "0.679071599825507\n",
      "-0.8554371686598813\n",
      "-0.30020607451955067\n",
      "2.1581493420569187\n",
      "0.8742857226105203\n",
      "-1.2935366319217843\n",
      "-0.0797409381855717\n",
      "0.564485518294597\n",
      "1.2334710444531563\n",
      "0.14898639468099084\n",
      "-0.5305821443551044\n",
      "-0.7305266436933302\n",
      "0.6450619849839091\n",
      "0.31306037402410647\n",
      "-0.5166479247981497\n",
      "-0.1890716664357128\n",
      "-0.416198015130148\n",
      "0.7246576582394498\n",
      "-0.6899606773138658\n",
      "0.48641447526861514\n",
      "0.8515189504847083\n",
      "0.48624932610831123\n",
      "-0.8342398506717849\n",
      "1.344992456622238\n",
      "-0.6782126793411518\n",
      "0.4264350744400753\n",
      "-0.7533347935974722\n",
      "-1.744110250641094\n",
      "0.2257502662458201\n",
      "0.28703516469482443\n",
      "-0.07744096055993933\n",
      "0.27606849724284316\n",
      "-0.6484108883064816\n",
      "-0.7374648374587585\n",
      "-0.16809009862191446\n",
      "1.909276809266566\n",
      "0.8148145412513252\n",
      "-0.5199917540975635\n",
      "0.5587132048474234\n",
      "-0.4783646604432103\n",
      "-0.45726078713830676\n",
      "0.8592840082646755\n",
      "-0.5252646451556335\n",
      "-1.6756346341845954\n",
      "-0.9064947005743282\n",
      "0.08841520620200595\n",
      "0.12800782111610085\n",
      "1.2416165181585397\n",
      "-0.7160257975174191\n",
      "0.7314657358201054\n",
      "0.42596674984978417\n",
      "-0.14901377221550174\n",
      "0.8358439021819729\n",
      "0.4921189029137968\n",
      "-0.8623084869368738\n",
      "1.071683929782794\n",
      "-1.2209019198961333\n",
      "0.059615433090329545\n",
      "0.0024441619892351415\n",
      "0.4246357208598569\n",
      "-0.7254334803985123\n",
      "-0.0349433855520906\n",
      "-0.14062002701591825\n",
      "0.9970883670936515\n"
     ]
    }
   ],
   "source": [
    "print_elems(image)"
   ]
  },
  {
   "cell_type": "code",
   "execution_count": 94,
   "metadata": {
    "ExecuteTime": {
     "start_time": "2023-04-25T11:56:10.281034Z",
     "end_time": "2023-04-25T11:56:10.293729Z"
    }
   },
   "outputs": [
    {
     "data": {
      "text/plain": "15"
     },
     "execution_count": 94,
     "metadata": {},
     "output_type": "execute_result"
    }
   ],
   "source": [
    "image.shape[1]"
   ]
  },
  {
   "cell_type": "code",
   "execution_count": 95,
   "metadata": {
    "ExecuteTime": {
     "start_time": "2023-04-25T11:56:11.440587Z",
     "end_time": "2023-04-25T11:56:11.462340Z"
    }
   },
   "outputs": [
    {
     "data": {
      "text/plain": "array([-1.31386475,  0.88462238,  0.88131804,  1.70957306,  0.05003364,\n       -0.40467741, -0.54535995, -1.54647732,  0.98236743, -1.10106763,\n       -1.18504653, -0.2056499 ,  1.48614836,  0.23671627, -1.02378514])"
     },
     "execution_count": 95,
     "metadata": {},
     "output_type": "execute_result"
    }
   ],
   "source": [
    "image[0]"
   ]
  },
  {
   "cell_type": "markdown",
   "metadata": {
    "id": "ahd5rpqz6rbX"
   },
   "source": [
    "## For what do we use all this??\n",
    "\n",
    "See this [amazing visual presentation](http://jalammar.github.io/visual-numpy/):\n",
    "\n",
    "* For matrix computation\n",
    "* Data representation\n",
    "* Audio\n",
    "* Image\n",
    "* Text\n",
    "\n",
    "\n",
    "# This notebook ends here, go to the Image basic manipulation notebook for more fun!\n"
   ]
  },
  {
   "cell_type": "code",
   "execution_count": null,
   "outputs": [],
   "source": [],
   "metadata": {
    "collapsed": false
   }
  }
 ],
 "metadata": {
  "accelerator": "GPU",
  "colab": {
   "collapsed_sections": [
    "hDV-_nrtqtO2",
    "g38RFzmI1Pq0"
   ],
   "name": "05_Array_image_manipulation.ipynb",
   "provenance": [],
   "toc_visible": true
  },
  "kernelspec": {
   "display_name": "Python 3 (ipykernel)",
   "language": "python",
   "name": "python3"
  },
  "language_info": {
   "codemirror_mode": {
    "name": "ipython",
    "version": 3
   },
   "file_extension": ".py",
   "mimetype": "text/x-python",
   "name": "python",
   "nbconvert_exporter": "python",
   "pygments_lexer": "ipython3",
   "version": "3.9.12"
  }
 },
 "nbformat": 4,
 "nbformat_minor": 4
}
