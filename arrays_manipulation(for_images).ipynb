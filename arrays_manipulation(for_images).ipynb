{
 "cells": [
  {
   "cell_type": "markdown",
   "metadata": {
    "id": "_a2hajcA99-K",
    "tags": []
   },
   "source": [
    "\n",
    "\n",
    "# Introduction to Numpy & Scikit Image\n",
    "\n",
    "\n",
    "**Resources:**\n",
    "\n",
    "* [SciPy](https://scipy.org)\n",
    "* [Scipy Lectures](https://scipy-lectures.org)\n",
    "* [NumPy](https://numpy.org)"
   ]
  },
  {
   "cell_type": "markdown",
   "metadata": {
    "id": "rxFVsb07k-1M"
   },
   "source": [
    "# SciPy ecosystem\n",
    "[SciPy.org](https://scipy.org)\n"
   ]
  },
  {
   "cell_type": "markdown",
   "metadata": {
    "id": "21DziKTsxMHl"
   },
   "source": [
    "# NumPy"
   ]
  },
  {
   "cell_type": "code",
   "execution_count": 1,
   "metadata": {
    "id": "LJnBBLmG132q",
    "ExecuteTime": {
     "start_time": "2023-04-19T14:26:01.585134Z",
     "end_time": "2023-04-19T14:26:01.590261Z"
    }
   },
   "outputs": [],
   "source": [
    "# Within IPython notebook, add multiple print capabilities\n",
    "from IPython.core.interactiveshell import InteractiveShell\n",
    "InteractiveShell.ast_node_interactivity = \"all\""
   ]
  },
  {
   "cell_type": "markdown",
   "metadata": {
    "id": "omaIgYI0xdrt"
   },
   "source": [
    "## NumPy arrays\n",
    "\n",
    "An array can contain:\n",
    "* Values of an experiment/simulation at discrete time steps\n",
    "* A signal recorded by a measurement device, e.g. sound wave\n",
    "* The pixels of an image, grey-level or colour\n",
    "* 3-D data measured at different X-Y-Z positions, e.g. MRI scan\n",
    "* …"
   ]
  },
  {
   "cell_type": "code",
   "execution_count": 2,
   "metadata": {
    "id": "Rxfd_QZkxYqh",
    "ExecuteTime": {
     "start_time": "2023-04-19T14:26:13.116925Z",
     "end_time": "2023-04-19T14:26:13.201949Z"
    }
   },
   "outputs": [],
   "source": [
    "import numpy as np\n",
    "a = np.array([0, 1, 2, 3])"
   ]
  },
  {
   "cell_type": "code",
   "execution_count": 3,
   "metadata": {
    "ExecuteTime": {
     "start_time": "2023-04-19T14:26:14.792325Z",
     "end_time": "2023-04-19T14:26:14.800003Z"
    }
   },
   "outputs": [
    {
     "data": {
      "text/plain": "(4,)"
     },
     "execution_count": 3,
     "metadata": {},
     "output_type": "execute_result"
    }
   ],
   "source": [
    "np.shape(a)"
   ]
  },
  {
   "cell_type": "markdown",
   "metadata": {
    "id": "mjM8bWObyyKJ"
   },
   "source": [
    "### NumPy is memory efficient container that provides fast numerical operations"
   ]
  },
  {
   "cell_type": "code",
   "execution_count": 4,
   "metadata": {
    "colab": {
     "base_uri": "https://localhost:8080/"
    },
    "id": "-isSwwYPy-LY",
    "outputId": "4380b1d0-6657-4d59-8ab0-6d5f33526d16",
    "ExecuteTime": {
     "start_time": "2023-04-19T14:26:39.720962Z",
     "end_time": "2023-04-19T14:27:02.379215Z"
    }
   },
   "outputs": [
    {
     "name": "stdout",
     "output_type": "stream",
     "text": [
      "188 µs ± 65.6 ns per loop (mean ± std. dev. of 7 runs, 10,000 loops each)\n",
      "911 ns ± 26.1 ns per loop (mean ± std. dev. of 7 runs, 1,000,000 loops each)\n"
     ]
    }
   ],
   "source": [
    "L = range(1000)\n",
    "%timeit [i**2 for i in L]\n",
    "\n",
    "a = np.arange(1000)\n",
    "%timeit a**2"
   ]
  },
  {
   "cell_type": "code",
   "execution_count": 5,
   "metadata": {
    "ExecuteTime": {
     "start_time": "2023-04-19T14:27:02.641581Z",
     "end_time": "2023-04-19T14:27:02.690760Z"
    }
   },
   "outputs": [
    {
     "data": {
      "text/plain": "range(0, 1000)"
     },
     "execution_count": 5,
     "metadata": {},
     "output_type": "execute_result"
    },
    {
     "data": {
      "text/plain": "array([  0,   1,   2,   3,   4,   5,   6,   7,   8,   9,  10,  11,  12,\n        13,  14,  15,  16,  17,  18,  19,  20,  21,  22,  23,  24,  25,\n        26,  27,  28,  29,  30,  31,  32,  33,  34,  35,  36,  37,  38,\n        39,  40,  41,  42,  43,  44,  45,  46,  47,  48,  49,  50,  51,\n        52,  53,  54,  55,  56,  57,  58,  59,  60,  61,  62,  63,  64,\n        65,  66,  67,  68,  69,  70,  71,  72,  73,  74,  75,  76,  77,\n        78,  79,  80,  81,  82,  83,  84,  85,  86,  87,  88,  89,  90,\n        91,  92,  93,  94,  95,  96,  97,  98,  99, 100, 101, 102, 103,\n       104, 105, 106, 107, 108, 109, 110, 111, 112, 113, 114, 115, 116,\n       117, 118, 119, 120, 121, 122, 123, 124, 125, 126, 127, 128, 129,\n       130, 131, 132, 133, 134, 135, 136, 137, 138, 139, 140, 141, 142,\n       143, 144, 145, 146, 147, 148, 149, 150, 151, 152, 153, 154, 155,\n       156, 157, 158, 159, 160, 161, 162, 163, 164, 165, 166, 167, 168,\n       169, 170, 171, 172, 173, 174, 175, 176, 177, 178, 179, 180, 181,\n       182, 183, 184, 185, 186, 187, 188, 189, 190, 191, 192, 193, 194,\n       195, 196, 197, 198, 199, 200, 201, 202, 203, 204, 205, 206, 207,\n       208, 209, 210, 211, 212, 213, 214, 215, 216, 217, 218, 219, 220,\n       221, 222, 223, 224, 225, 226, 227, 228, 229, 230, 231, 232, 233,\n       234, 235, 236, 237, 238, 239, 240, 241, 242, 243, 244, 245, 246,\n       247, 248, 249, 250, 251, 252, 253, 254, 255, 256, 257, 258, 259,\n       260, 261, 262, 263, 264, 265, 266, 267, 268, 269, 270, 271, 272,\n       273, 274, 275, 276, 277, 278, 279, 280, 281, 282, 283, 284, 285,\n       286, 287, 288, 289, 290, 291, 292, 293, 294, 295, 296, 297, 298,\n       299, 300, 301, 302, 303, 304, 305, 306, 307, 308, 309, 310, 311,\n       312, 313, 314, 315, 316, 317, 318, 319, 320, 321, 322, 323, 324,\n       325, 326, 327, 328, 329, 330, 331, 332, 333, 334, 335, 336, 337,\n       338, 339, 340, 341, 342, 343, 344, 345, 346, 347, 348, 349, 350,\n       351, 352, 353, 354, 355, 356, 357, 358, 359, 360, 361, 362, 363,\n       364, 365, 366, 367, 368, 369, 370, 371, 372, 373, 374, 375, 376,\n       377, 378, 379, 380, 381, 382, 383, 384, 385, 386, 387, 388, 389,\n       390, 391, 392, 393, 394, 395, 396, 397, 398, 399, 400, 401, 402,\n       403, 404, 405, 406, 407, 408, 409, 410, 411, 412, 413, 414, 415,\n       416, 417, 418, 419, 420, 421, 422, 423, 424, 425, 426, 427, 428,\n       429, 430, 431, 432, 433, 434, 435, 436, 437, 438, 439, 440, 441,\n       442, 443, 444, 445, 446, 447, 448, 449, 450, 451, 452, 453, 454,\n       455, 456, 457, 458, 459, 460, 461, 462, 463, 464, 465, 466, 467,\n       468, 469, 470, 471, 472, 473, 474, 475, 476, 477, 478, 479, 480,\n       481, 482, 483, 484, 485, 486, 487, 488, 489, 490, 491, 492, 493,\n       494, 495, 496, 497, 498, 499, 500, 501, 502, 503, 504, 505, 506,\n       507, 508, 509, 510, 511, 512, 513, 514, 515, 516, 517, 518, 519,\n       520, 521, 522, 523, 524, 525, 526, 527, 528, 529, 530, 531, 532,\n       533, 534, 535, 536, 537, 538, 539, 540, 541, 542, 543, 544, 545,\n       546, 547, 548, 549, 550, 551, 552, 553, 554, 555, 556, 557, 558,\n       559, 560, 561, 562, 563, 564, 565, 566, 567, 568, 569, 570, 571,\n       572, 573, 574, 575, 576, 577, 578, 579, 580, 581, 582, 583, 584,\n       585, 586, 587, 588, 589, 590, 591, 592, 593, 594, 595, 596, 597,\n       598, 599, 600, 601, 602, 603, 604, 605, 606, 607, 608, 609, 610,\n       611, 612, 613, 614, 615, 616, 617, 618, 619, 620, 621, 622, 623,\n       624, 625, 626, 627, 628, 629, 630, 631, 632, 633, 634, 635, 636,\n       637, 638, 639, 640, 641, 642, 643, 644, 645, 646, 647, 648, 649,\n       650, 651, 652, 653, 654, 655, 656, 657, 658, 659, 660, 661, 662,\n       663, 664, 665, 666, 667, 668, 669, 670, 671, 672, 673, 674, 675,\n       676, 677, 678, 679, 680, 681, 682, 683, 684, 685, 686, 687, 688,\n       689, 690, 691, 692, 693, 694, 695, 696, 697, 698, 699, 700, 701,\n       702, 703, 704, 705, 706, 707, 708, 709, 710, 711, 712, 713, 714,\n       715, 716, 717, 718, 719, 720, 721, 722, 723, 724, 725, 726, 727,\n       728, 729, 730, 731, 732, 733, 734, 735, 736, 737, 738, 739, 740,\n       741, 742, 743, 744, 745, 746, 747, 748, 749, 750, 751, 752, 753,\n       754, 755, 756, 757, 758, 759, 760, 761, 762, 763, 764, 765, 766,\n       767, 768, 769, 770, 771, 772, 773, 774, 775, 776, 777, 778, 779,\n       780, 781, 782, 783, 784, 785, 786, 787, 788, 789, 790, 791, 792,\n       793, 794, 795, 796, 797, 798, 799, 800, 801, 802, 803, 804, 805,\n       806, 807, 808, 809, 810, 811, 812, 813, 814, 815, 816, 817, 818,\n       819, 820, 821, 822, 823, 824, 825, 826, 827, 828, 829, 830, 831,\n       832, 833, 834, 835, 836, 837, 838, 839, 840, 841, 842, 843, 844,\n       845, 846, 847, 848, 849, 850, 851, 852, 853, 854, 855, 856, 857,\n       858, 859, 860, 861, 862, 863, 864, 865, 866, 867, 868, 869, 870,\n       871, 872, 873, 874, 875, 876, 877, 878, 879, 880, 881, 882, 883,\n       884, 885, 886, 887, 888, 889, 890, 891, 892, 893, 894, 895, 896,\n       897, 898, 899, 900, 901, 902, 903, 904, 905, 906, 907, 908, 909,\n       910, 911, 912, 913, 914, 915, 916, 917, 918, 919, 920, 921, 922,\n       923, 924, 925, 926, 927, 928, 929, 930, 931, 932, 933, 934, 935,\n       936, 937, 938, 939, 940, 941, 942, 943, 944, 945, 946, 947, 948,\n       949, 950, 951, 952, 953, 954, 955, 956, 957, 958, 959, 960, 961,\n       962, 963, 964, 965, 966, 967, 968, 969, 970, 971, 972, 973, 974,\n       975, 976, 977, 978, 979, 980, 981, 982, 983, 984, 985, 986, 987,\n       988, 989, 990, 991, 992, 993, 994, 995, 996, 997, 998, 999])"
     },
     "execution_count": 5,
     "metadata": {},
     "output_type": "execute_result"
    }
   ],
   "source": [
    "L\n",
    "a"
   ]
  },
  {
   "cell_type": "markdown",
   "metadata": {
    "id": "6z2ic525zjbM"
   },
   "source": [
    "### Reference documentation\n",
    "On the web: http://docs.scipy.org/"
   ]
  },
  {
   "cell_type": "code",
   "execution_count": 6,
   "metadata": {
    "collapsed": true,
    "id": "nPEYL-zEzrOh",
    "jupyter": {
     "outputs_hidden": true
    },
    "tags": [],
    "ExecuteTime": {
     "start_time": "2023-04-19T14:27:29.309418Z",
     "end_time": "2023-04-19T14:27:29.351478Z"
    }
   },
   "outputs": [],
   "source": [
    "# Interactive help\n",
    "np.array?"
   ]
  },
  {
   "cell_type": "code",
   "execution_count": 7,
   "metadata": {
    "collapsed": true,
    "id": "LGQzsRkTz6Jt",
    "jupyter": {
     "outputs_hidden": true
    },
    "tags": [],
    "ExecuteTime": {
     "start_time": "2023-04-19T14:27:38.088210Z",
     "end_time": "2023-04-19T14:27:39.157319Z"
    }
   },
   "outputs": [
    {
     "name": "stdout",
     "output_type": "stream",
     "text": [
      "Search results for 'create array'\n",
      "---------------------------------\n",
      "numpy.memmap\n",
      "    Create a memory-map to an array stored in a *binary* file on disk.\n",
      "numpy.char.array\n",
      "    Create a `chararray`.\n",
      "numpy.diagflat\n",
      "    Create a two-dimensional array with the flattened input as a diagonal.\n",
      "numpy.fromiter\n",
      "    Create a new 1-dimensional array from an iterable object.\n",
      "numpy.partition\n",
      "    Return a partitioned copy of an array.\n",
      "numpy.from_dlpack\n",
      "    Create a NumPy array from an object implementing the ``__dlpack__``\n",
      "numpy.rec.fromarrays\n",
      "    Create a record array from a (flat) list of arrays\n",
      "numpy.ctypeslib.as_array\n",
      "    Create a numpy array from a ctypes array or POINTER.\n",
      "numpy.ma.diagflat\n",
      "    Create a two-dimensional array with the flattened input as a diagonal.\n",
      "numpy.ma.make_mask\n",
      "    Create a boolean mask from an array.\n",
      "numpy.rec.fromfile\n",
      "    Create an array from binary file data\n",
      "numpy.rec.fromstring\n",
      "    Create a record array from binary data\n",
      "numpy.lib.Arrayterator\n",
      "    Buffered iterator for big arrays.\n",
      "numpy.rec.fromrecords\n",
      "    Create a recarray from a list of records in text form.\n",
      "numpy.ctypeslib.as_ctypes\n",
      "    Create and return a ctypes object from a numpy array.  Actually\n",
      "numpy.ma.mrecords.fromarrays\n",
      "    Creates a mrecarray from a (flat) list of masked arrays.\n",
      "numpy.ma.mvoid.__new__\n",
      "    Create a new masked array from scratch.\n",
      "numpy.ma.MaskedArray.__new__\n",
      "    Create a new masked array from scratch.\n",
      "numpy.ma.mrecords.fromtextfile\n",
      "    Creates a mrecarray from data stored in the file `filename`.\n",
      "numpy.array\n",
      "    array(object, dtype=None, *, copy=True, order='K', subok=False, ndmin=0,\n",
      "numpy.asarray\n",
      "    Convert the input to an array.\n",
      "numpy.ndarray\n",
      "    ndarray(shape, dtype=float, buffer=None, offset=0,\n",
      "numpy.recarray\n",
      "    Construct an ndarray that allows field access using attributes.\n",
      "numpy.chararray\n",
      "    chararray(shape, itemsize=1, unicode=False, buffer=None, offset=0,\n",
      "numpy.exp\n",
      "    Calculate the exponential of all elements in the input array.\n",
      "numpy.pad\n",
      "    Pad an array.\n",
      "numpy.asanyarray\n",
      "    Convert the input to an ndarray, but pass ndarray subclasses through.\n",
      "numpy.cbrt\n",
      "    Return the cube-root of an array, element-wise.\n",
      "numpy.copy\n",
      "    Return an array copy of the given object.\n",
      "numpy.diag\n",
      "    Extract a diagonal or construct a diagonal array.\n",
      "numpy.exp2\n",
      "    Calculate `2**p` for all `p` in the input array.\n",
      "numpy.fmax\n",
      "    Element-wise maximum of array elements.\n",
      "numpy.fmin\n",
      "    Element-wise minimum of array elements.\n",
      "numpy.load\n",
      "    Load arrays or pickled objects from ``.npy``, ``.npz`` or pickled files.\n",
      "numpy.modf\n",
      "    Return the fractional and integral parts of an array, element-wise.\n",
      "numpy.rint\n",
      "    Round elements of the array to the nearest integer.\n",
      "numpy.sort\n",
      "    Return a sorted copy of an array.\n",
      "numpy.sqrt\n",
      "    Return the non-negative square-root of an array, element-wise.\n",
      "numpy.void\n",
      "    Create a new structured or unstructured void scalar.\n",
      "numpy.array_equiv\n",
      "    Returns True if input arrays are shape consistent and all elements equal.\n",
      "numpy.dtype\n",
      "    Create a data type object.\n",
      "numpy.expm1\n",
      "    Calculate ``exp(x) - 1`` for all elements in the array.\n",
      "numpy.isnan\n",
      "    Test element-wise for NaN and return result as a boolean array.\n",
      "numpy.isnat\n",
      "    Test element-wise for NaT (not a time) and return result as a boolean array.\n",
      "numpy.log10\n",
      "    Return the base 10 logarithm of the input array, element-wise.\n",
      "numpy.log1p\n",
      "    Return the natural logarithm of one plus the input array, element-wise.\n",
      "numpy.power\n",
      "    First array elements raised to powers from second array, element-wise.\n",
      "numpy.ufunc\n",
      "    Functions that operate element by element on whole arrays.\n",
      "numpy.choose\n",
      "    Construct an array from an index array and a list of arrays to choose from.\n",
      "numpy.nditer\n",
      "    Efficient multi-dimensional iterator object to iterate over arrays.\n",
      "numpy.maximum\n",
      "    Element-wise maximum of array elements.\n",
      "numpy.minimum\n",
      "    Element-wise minimum of array elements.\n",
      "numpy.meshgrid\n",
      "    Return coordinate matrices from coordinate vectors.\n",
      "numpy.swapaxes\n",
      "    Interchange two axes of an array.\n",
      "numpy.full_like\n",
      "    Return a full array with the same shape and type as a given array.\n",
      "numpy.ones_like\n",
      "    Return an array of ones with the same shape and type as a given array.\n",
      "numpy.rec.array\n",
      "    Construct a record array from a wide-variety of objects.\n",
      "numpy.bitwise_or\n",
      "    Compute the bit-wise OR of two arrays element-wise.\n",
      "numpy.datetime64\n",
      "    If created from a 64-bit integer, it represents an offset from\n",
      "numpy.empty_like\n",
      "    Return a new array with the same shape and type as a given array.\n",
      "numpy.frombuffer\n",
      "    Interpret a buffer as a 1-dimensional array.\n",
      "numpy.zeros_like\n",
      "    Return an array of zeros with the same shape and type as a given array.\n",
      "numpy.asarray_chkfinite\n",
      "    Convert the input to an array, checking for NaNs or Infs.\n",
      "numpy.bitwise_and\n",
      "    Compute the bit-wise AND of two arrays element-wise.\n",
      "numpy.bitwise_xor\n",
      "    Compute the bit-wise XOR of two arrays element-wise.\n",
      "numpy.float_power\n",
      "    First array elements raised to powers from second array, element-wise.\n",
      "numpy.diag_indices\n",
      "    Return the indices to access the main diagonal of an array.\n",
      "numpy.ma.exp\n",
      "    Calculate the exponential of all elements in the input array.\n",
      "numpy.nested_iters\n",
      "    Create nditers for use in nested loops\n",
      "numpy.ma.mrecords.MaskedRecords.__new__\n",
      "    Create a new masked array from scratch.\n",
      "numpy.ma.sqrt\n",
      "    Return the non-negative square-root of an array, element-wise.\n",
      "numpy.ma.log10\n",
      "    Return the base 10 logarithm of the input array, element-wise.\n",
      "numpy.chararray.tolist\n",
      "    a.tolist()\n",
      "numpy.put_along_axis\n",
      "    Put values into the destination array by matching 1d index and data slices.\n",
      "numpy.ma.choose\n",
      "    Use an index array to construct a new array from a list of choices.\n",
      "numpy.ma.maximum\n",
      "    Element-wise maximum of array elements.\n",
      "numpy.ma.minimum\n",
      "    Element-wise minimum of array elements.\n",
      "numpy.savez_compressed\n",
      "    Save several arrays into a single file in compressed ``.npz`` format.\n",
      "numpy.matlib.rand\n",
      "    Return a matrix of random values with given shape.\n",
      "numpy.datetime_as_string\n",
      "    Convert an array of datetimes into an array of strings.\n",
      "numpy.ma.ones_like\n",
      "    Return an array of ones with the same shape and type as a given array.\n",
      "numpy.ma.bitwise_or\n",
      "    Compute the bit-wise OR of two arrays element-wise.\n",
      "numpy.ma.frombuffer\n",
      "    Interpret a buffer as a 1-dimensional array.\n",
      "numpy.ma.zeros_like\n",
      "    Return an array of zeros with the same shape and type as a given array.\n",
      "numpy.ma.bitwise_and\n",
      "    Compute the bit-wise AND of two arrays element-wise.\n",
      "numpy.ma.bitwise_xor\n",
      "    Compute the bit-wise XOR of two arrays element-wise.\n",
      "numpy.ma.make_mask_none\n",
      "    Return a boolean mask of the given shape, filled with False.\n",
      "numpy.ma.tests.test_subclassing.MSubArray.__new__\n",
      "    Create a new masked array from scratch.\n",
      "numpy.ma.tests.test_subclassing.SubMaskedArray.__new__\n",
      "    Create a new masked array from scratch.\n",
      "numpy.ma.mrecords.fromrecords\n",
      "    Creates a MaskedRecords from a list of records.\n",
      "numpy.abs\n",
      "    Calculate the absolute value element-wise.\n",
      "numpy.add\n",
      "    Add arguments element-wise.\n",
      "numpy.cos\n",
      "    Cosine element-wise.\n",
      "numpy.log\n",
      "    Natural logarithm, element-wise.\n",
      "numpy.lib.recfunctions.require_fields\n",
      "    Casts a structured array to a new dtype using assignment by field-name.\n",
      "numpy.mod\n",
      "    Returns the element-wise remainder of division.\n",
      "numpy.sin\n",
      "    Trigonometric sine, element-wise.\n",
      "numpy.tan\n",
      "    Compute tangent element-wise.\n",
      "numpy.ceil\n",
      "    Return the ceiling of the input, element-wise.\n",
      "numpy.conj\n",
      "    Return the complex conjugate, element-wise.\n",
      "numpy.cosh\n",
      "    Hyperbolic cosine, element-wise.\n",
      "numpy.fabs\n",
      "    Compute the absolute values element-wise.\n",
      "numpy.fmod\n",
      "    Returns the element-wise remainder of division.\n",
      "numpy.less\n",
      "    Return the truth value of (x1 < x2) element-wise.\n",
      "numpy.log2\n",
      "    Base-2 logarithm of `x`.\n",
      "numpy.sign\n",
      "    Returns an element-wise indication of the sign of a number.\n",
      "numpy.sinh\n",
      "    Hyperbolic sine, element-wise.\n",
      "numpy.tanh\n",
      "    Compute hyperbolic tangent element-wise.\n",
      "numpy.equal\n",
      "    Return (x1 == x2) element-wise.\n",
      "numpy.floor\n",
      "    Return the floor of the input, element-wise.\n",
      "numpy.frexp\n",
      "    Decompose the elements of x into mantissa and twos exponent.\n",
      "numpy.hypot\n",
      "    Given the \"legs\" of a right triangle, return its hypotenuse.\n",
      "numpy.isinf\n",
      "    Test element-wise for positive or negative infinity.\n",
      "numpy.ldexp\n",
      "    Returns x1 * 2**x2, element-wise.\n",
      "numpy.trunc\n",
      "    Return the truncated value of the input, element-wise.\n",
      "numpy.arccos\n",
      "    Trigonometric inverse cosine, element-wise.\n",
      "numpy.arcsin\n",
      "    Inverse sine, element-wise.\n",
      "numpy.arctan\n",
      "    Trigonometric inverse tangent, element-wise.\n",
      "numpy.around\n",
      "    Evenly round to the given number of decimals.\n",
      "numpy.divide\n",
      "    Divide arguments element-wise.\n",
      "numpy.divmod\n",
      "    Return element-wise quotient and remainder simultaneously.\n",
      "numpy.source\n",
      "    Print or write to a file the source code for a NumPy object.\n",
      "numpy.square\n",
      "    Return the element-wise square of the input.\n",
      "numpy.arccosh\n",
      "    Inverse hyperbolic cosine, element-wise.\n",
      "numpy.arcsinh\n",
      "    Inverse hyperbolic sine element-wise.\n",
      "numpy.arctan2\n",
      "    Element-wise arc tangent of ``x1/x2`` choosing the quadrant correctly.\n",
      "numpy.arctanh\n",
      "    Inverse hyperbolic tangent element-wise.\n",
      "numpy.deg2rad\n",
      "    Convert angles from degrees to radians.\n",
      "numpy.degrees\n",
      "    Convert angles from radians to degrees.\n",
      "numpy.greater\n",
      "    Return the truth value of (x1 > x2) element-wise.\n",
      "numpy.rad2deg\n",
      "    Convert angles from radians to degrees.\n",
      "numpy.radians\n",
      "    Convert angles from degrees to radians.\n",
      "numpy.signbit\n",
      "    Returns element-wise True where signbit is set (less than zero).\n",
      "numpy.spacing\n",
      "    Return the distance between x and the nearest adjacent number.\n",
      "numpy.copysign\n",
      "    Change the sign of x1 to that of x2, element-wise.\n",
      "numpy.diagonal\n",
      "    Return specified diagonals.\n",
      "numpy.isfinite\n",
      "    Test element-wise for finiteness (not infinity and not Not a Number).\n",
      "numpy.multiply\n",
      "    Multiply arguments element-wise.\n",
      "numpy.negative\n",
      "    Numerical negative, element-wise.\n",
      "numpy.subtract\n",
      "    Subtract arguments, element-wise.\n",
      "numpy.heaviside\n",
      "    Compute the Heaviside step function.\n",
      "numpy.logaddexp\n",
      "    Logarithm of the sum of exponentiations of the inputs.\n",
      "numpy.nextafter\n",
      "    Return the next floating-point value after x1 towards x2, element-wise.\n",
      "numpy.not_equal\n",
      "    Return (x1 != x2) element-wise.\n",
      "numpy.left_shift\n",
      "    Shift the bits of an integer to the left.\n",
      "numpy.less_equal\n",
      "    Return the truth value of (x1 <= x2) element-wise.\n",
      "numpy.logaddexp2\n",
      "    Logarithm of the sum of exponentiations of the inputs in base-2.\n",
      "numpy.logical_or\n",
      "    Compute the truth value of x1 OR x2 element-wise.\n",
      "numpy.nan_to_num\n",
      "    Replace NaN with zero and infinity with large finite numbers (default\n",
      "numpy.reciprocal\n",
      "    Return the reciprocal of the argument, element-wise.\n",
      "numpy.bitwise_not\n",
      "    Compute bit-wise inversion, or bit-wise NOT, element-wise.\n",
      "numpy.einsum_path\n",
      "    Evaluates the lowest cost contraction order for an einsum expression by\n",
      "numpy.histogram2d\n",
      "    Compute the bi-dimensional histogram of two data samples.\n",
      "numpy.logical_and\n",
      "    Compute the truth value of x1 AND x2 element-wise.\n",
      "numpy.logical_not\n",
      "    Compute the truth value of NOT x element-wise.\n",
      "numpy.logical_xor\n",
      "    Compute the truth value of x1 XOR x2, element-wise.\n",
      "numpy.right_shift\n",
      "    Shift the bits of an integer to the right.\n",
      "numpy.ma.abs\n",
      "    Calculate the absolute value element-wise.\n",
      "numpy.ma.add\n",
      "    Add arguments element-wise.\n",
      "numpy.ma.cos\n",
      "    Cosine element-wise.\n",
      "numpy.floor_divide\n",
      "    Return the largest integer smaller or equal to the division of the inputs.\n",
      "numpy.ma.log\n",
      "    Natural logarithm, element-wise.\n",
      "numpy.ma.mod\n",
      "    Returns the element-wise remainder of division.\n",
      "numpy.ma.sin\n",
      "    Trigonometric sine, element-wise.\n",
      "numpy.ma.tan\n",
      "    Compute tangent element-wise.\n",
      "numpy.ma.ceil\n",
      "    Return the ceiling of the input, element-wise.\n",
      "numpy.fft.ifft\n",
      "    Compute the one-dimensional inverse discrete Fourier Transform.\n",
      "numpy.ma.cosh\n",
      "    Hyperbolic cosine, element-wise.\n",
      "numpy.ma.fabs\n",
      "    Compute the absolute values element-wise.\n",
      "numpy.ma.fmod\n",
      "    Returns the element-wise remainder of division.\n",
      "numpy.greater_equal\n",
      "    Return the truth value of (x1 >= x2) element-wise.\n",
      "numpy.ma.less\n",
      "    Return the truth value of (x1 < x2) element-wise.\n",
      "numpy.ma.log2\n",
      "    Base-2 logarithm of `x`.\n",
      "numpy.ma.sinh\n",
      "    Hyperbolic sine, element-wise.\n",
      "numpy.ma.tanh\n",
      "    Compute hyperbolic tangent element-wise.\n",
      "numpy.ma.tests.test_subclassing.SubArray\n",
      "    ndarray(shape, dtype=float, buffer=None, offset=0,\n",
      "numpy.busdaycalendar\n",
      "    A business day calendar object that efficiently stores information\n",
      "numpy.fft.ifftn\n",
      "    Compute the N-dimensional inverse discrete Fourier Transform.\n",
      "numpy.ma.equal\n",
      "    Return (x1 == x2) element-wise.\n",
      "numpy.ma.floor\n",
      "    Return the floor of the input, element-wise.\n",
      "numpy.ma.hypot\n",
      "    Given the \"legs\" of a right triangle, return its hypotenuse.\n",
      "numpy.ma.arccos\n",
      "    Trigonometric inverse cosine, element-wise.\n",
      "numpy.ma.arcsin\n",
      "    Inverse sine, element-wise.\n",
      "numpy.ma.arctan\n",
      "    Trigonometric inverse tangent, element-wise.\n",
      "numpy.ma.divide\n",
      "    Divide arguments element-wise.\n",
      "numpy.lib.recfunctions.unstructured_to_structured\n",
      "    Converts an n-D unstructured array into an (n-1)-D structured array.\n",
      "numpy.ma.arccosh\n",
      "    Inverse hyperbolic cosine, element-wise.\n",
      "numpy.ma.arcsinh\n",
      "    Inverse hyperbolic sine element-wise.\n",
      "numpy.ma.arctan2\n",
      "    Element-wise arc tangent of ``x1/x2`` choosing the quadrant correctly.\n",
      "numpy.ma.arctanh\n",
      "    Inverse hyperbolic tangent element-wise.\n",
      "numpy.ma.greater\n",
      "    Return the truth value of (x1 > x2) element-wise.\n",
      "numpy.ma.multiply\n",
      "    Multiply arguments element-wise.\n",
      "numpy.ma.negative\n",
      "    Numerical negative, element-wise.\n",
      "numpy.ma.subtract\n",
      "    Subtract arguments, element-wise.\n",
      "numpy.ma.conjugate\n",
      "    Return the complex conjugate, element-wise.\n",
      "numpy.ma.not_equal\n",
      "    Return (x1 != x2) element-wise.\n",
      "numpy.ma.remainder\n",
      "    Returns the element-wise remainder of division.\n",
      "numpy.ma.empty_like\n",
      "    empty_like(prototype, dtype=None, order='K', subok=True, shape=None)\n",
      "numpy.ma.less_equal\n",
      "    Return the truth value of (x1 <= x2) element-wise.\n",
      "numpy.ma.logical_or\n",
      "    Compute the truth value of x1 OR x2 element-wise.\n",
      "numpy.ma.logical_and\n",
      "    Compute the truth value of x1 AND x2 element-wise.\n",
      "numpy.ma.logical_not\n",
      "    Compute the truth value of NOT x element-wise.\n",
      "numpy.ma.logical_xor\n",
      "    Compute the truth value of x1 XOR x2, element-wise.\n",
      "numpy.ma.true_divide\n",
      "    Divide arguments element-wise.\n",
      "numpy.ma.floor_divide\n",
      "    Return the largest integer smaller or equal to the division of the inputs.\n",
      "numpy.ma.greater_equal\n",
      "    Return the truth value of (x1 >= x2) element-wise.\n",
      "numpy.ma.tests.test_subclassing.ComplicatedSubArray\n",
      "    ndarray(shape, dtype=float, buffer=None, offset=0,\n",
      "numpy.random.RandomState.rand\n",
      "    Random values in a given shape.\n",
      "numpy.random.Generator.permuted\n",
      "    Randomly permute `x` along axis `axis`."
     ]
    }
   ],
   "source": [
    "# Looking for some stuff\n",
    "np.lookfor('create array') "
   ]
  },
  {
   "cell_type": "code",
   "execution_count": 8,
   "metadata": {
    "id": "KoaEdrtu0IZL",
    "ExecuteTime": {
     "start_time": "2023-04-19T14:27:56.397997Z",
     "end_time": "2023-04-19T14:27:56.441726Z"
    }
   },
   "outputs": [],
   "source": [
    "# Looking for something when some parts of the word are known\n",
    "np.con*?"
   ]
  },
  {
   "cell_type": "markdown",
   "metadata": {
    "id": "7df4nf3N01j4"
   },
   "source": [
    "### Manual creation of arrays"
   ]
  },
  {
   "cell_type": "markdown",
   "metadata": {
    "id": "g38RFzmI1Pq0"
   },
   "source": [
    "#### 1D"
   ]
  },
  {
   "cell_type": "code",
   "execution_count": 9,
   "metadata": {
    "colab": {
     "base_uri": "https://localhost:8080/"
    },
    "id": "UAKQlq2t1AUB",
    "outputId": "e03770aa-c08a-4239-8398-f2837a462f56",
    "ExecuteTime": {
     "start_time": "2023-04-19T14:28:12.440686Z",
     "end_time": "2023-04-19T14:28:12.487266Z"
    }
   },
   "outputs": [
    {
     "name": "stdout",
     "output_type": "stream",
     "text": [
      "Array  [0 1 2 3]\n",
      "\n",
      "Number of dimension  1\n",
      "\n",
      "Shape of the array  (4,)\n",
      "\n",
      "Lenght of array  4\n"
     ]
    }
   ],
   "source": [
    "# Create 1D array\n",
    "a = np.array([0, 1, 2, 3])\n",
    "print(\"Array \", a)\n",
    "\n",
    "# Print dimensions of array\n",
    "print(\"\\nNumber of dimension \", a.ndim)\n",
    "\n",
    "# Print shape of array\n",
    "print(\"\\nShape of the array \", a.shape)\n",
    "\n",
    "# Print the lenght of the array\n",
    "print(\"\\nLenght of array \", len(a))\n"
   ]
  },
  {
   "cell_type": "markdown",
   "metadata": {
    "id": "58MxBexc2igs"
   },
   "source": [
    "#### 2D, 3D..."
   ]
  },
  {
   "cell_type": "code",
   "execution_count": 10,
   "metadata": {
    "colab": {
     "base_uri": "https://localhost:8080/"
    },
    "id": "srqagUuu2lu1",
    "outputId": "b68bde63-2a69-4fa1-89f4-559f3dda404f",
    "ExecuteTime": {
     "start_time": "2023-04-19T14:28:24.041996Z",
     "end_time": "2023-04-19T14:28:24.063632Z"
    }
   },
   "outputs": [
    {
     "name": "stdout",
     "output_type": "stream",
     "text": [
      "2x3array \n",
      " [[0 1 2]\n",
      " [3 4 5]]\n",
      "\n",
      "2x3 array dimensions  2\n",
      "\n",
      "2x3 array shape  (2, 3)\n",
      "\n",
      "Lenght of 2x3 array  2\n",
      "\n",
      "Lenght (first dimension) of 2x3 array  3\n",
      "\n",
      "Lenght (second dimension) of 2x3 array  3\n"
     ]
    },
    {
     "data": {
      "text/plain": "array([0, 1, 2])"
     },
     "execution_count": 10,
     "metadata": {},
     "output_type": "execute_result"
    },
    {
     "data": {
      "text/plain": "array([3, 4, 5])"
     },
     "execution_count": 10,
     "metadata": {},
     "output_type": "execute_result"
    }
   ],
   "source": [
    "# Create 2x3 array\n",
    "b = np.array([[0, 1, 2], [3, 4, 5]]) \n",
    "print(\"2x3array \\n\", b)\n",
    "\n",
    "# Print array dimensions\n",
    "print(\"\\n2x3 array dimensions \", b.ndim)\n",
    "\n",
    "#Print array shape\n",
    "print(\"\\n2x3 array shape \", b.shape)\n",
    "\n",
    "# Print length of 2x3 array (the first dimension)\n",
    "print(\"\\nLenght of 2x3 array \", len(b))\n",
    "print(\"\\nLenght (first dimension) of 2x3 array \", len(b[0]))\n",
    "print(\"\\nLenght (second dimension) of 2x3 array \", len(b[1]))\n",
    "\n",
    "b[0]\n",
    "b[1]"
   ]
  },
  {
   "cell_type": "code",
   "execution_count": 11,
   "metadata": {
    "colab": {
     "base_uri": "https://localhost:8080/"
    },
    "id": "vF1xb1FW2wWS",
    "outputId": "95ebbbf6-4063-4220-862f-83d326705e90",
    "ExecuteTime": {
     "start_time": "2023-04-19T14:28:26.495783Z",
     "end_time": "2023-04-19T14:28:26.501249Z"
    }
   },
   "outputs": [
    {
     "name": "stdout",
     "output_type": "stream",
     "text": [
      "3x2x3 array \n",
      " [[[ 0  1  2]\n",
      "  [ 3  4  5]]\n",
      "\n",
      " [[ 6  7  8]\n",
      "  [ 9 10 11]]\n",
      "\n",
      " [[12 13 14]\n",
      "  [15 16 17]]]\n",
      "\n",
      "3x2x3 array dimensions  3\n",
      "\n",
      "3x2x3 array shape  (3, 2, 3)\n",
      "\n",
      "First dimension of 3x2x3 array  2\n",
      "\n",
      "Second dimension of 3x2x3 array  2\n",
      "\n",
      "Third dimension of 3x2x3 array  2\n",
      "\n",
      "First dimension \n",
      " [[0 1 2]\n",
      " [3 4 5]]\n",
      "\n",
      "First dimension \n",
      " [[ 6  7  8]\n",
      " [ 9 10 11]]\n",
      "\n",
      "First dimension \n",
      " [[12 13 14]\n",
      " [15 16 17]]\n"
     ]
    }
   ],
   "source": [
    "# Create 3x2x3 array\n",
    "b = np.array([[[0, 1, 2], [3, 4, 5]], \n",
    "              [[6, 7, 8], [9, 10, 11]], \n",
    "              [[12, 13, 14], [15, 16, 17]]]) \n",
    "print(\"3x2x3 array \\n\", b)\n",
    "\n",
    "# Print array dimensions\n",
    "print(\"\\n3x2x3 array dimensions \", b.ndim)\n",
    "\n",
    "#Print array shape\n",
    "print(\"\\n3x2x3 array shape \", b.shape)\n",
    "\n",
    "# Print length of 3x2x3 array (the first dimension)\n",
    "print(\"\\nFirst dimension of 3x2x3 array \", len(b[0]))\n",
    "print(\"\\nSecond dimension of 3x2x3 array \", len(b[1]))\n",
    "print(\"\\nThird dimension of 3x2x3 array \", len(b[2]))\n",
    "\n",
    "print(\"\\nFirst dimension \\n\", b[0])\n",
    "print(\"\\nFirst dimension \\n\", b[1])\n",
    "print(\"\\nFirst dimension \\n\", b[2])"
   ]
  },
  {
   "cell_type": "markdown",
   "metadata": {
    "id": "x0Svpviz-voT"
   },
   "source": [
    "### Creating arrays"
   ]
  },
  {
   "cell_type": "markdown",
   "metadata": {
    "id": "dcb4RLIw-zQc"
   },
   "source": [
    "#### np.arange: enter data evenly spaced\n",
    "Return evenly spaced values within a given interval.\n",
    "\n",
    "Values are generated within the half-open interval ``[start, stop)``\n",
    "(in other words, the interval including `start` but excluding `stop`).\n",
    "For integer arguments the function is equivalent to the Python built-in\n",
    "`range` function, but returns an ndarray rather than a list.\n",
    "\n",
    "When using a non-integer step, such as 0.1, the results will often not\n",
    "be consistent.  It is better to use `numpy.linspace` for these cases."
   ]
  },
  {
   "cell_type": "code",
   "execution_count": 13,
   "metadata": {
    "colab": {
     "base_uri": "https://localhost:8080/"
    },
    "id": "7jD1yQVz_HKf",
    "outputId": "07df97b7-b8f8-4e04-9d7e-ead81d2bba42",
    "ExecuteTime": {
     "start_time": "2023-04-19T14:29:05.213536Z",
     "end_time": "2023-04-19T14:29:05.237207Z"
    }
   },
   "outputs": [
    {
     "data": {
      "text/plain": "array([0, 1, 2, 3, 4, 5, 6, 7, 8, 9])"
     },
     "execution_count": 13,
     "metadata": {},
     "output_type": "execute_result"
    },
    {
     "name": "stdout",
     "output_type": "stream",
     "text": [
      "\n"
     ]
    },
    {
     "data": {
      "text/plain": "array([0, 2, 4, 6, 8])"
     },
     "execution_count": 13,
     "metadata": {},
     "output_type": "execute_result"
    }
   ],
   "source": [
    "a = np.arange(10) # 0 .. n-1 \n",
    "a\n",
    "\n",
    "print(\"\")\n",
    "\n",
    "b = np.arange(0, 10, 2) # start, end (exclusive), step\n",
    "b"
   ]
  },
  {
   "cell_type": "markdown",
   "metadata": {
    "id": "k8jX8tND_hE4"
   },
   "source": [
    "#### np.linspace: enter data by points\n",
    "Return evenly spaced numbers over a specified interval.\n",
    "\n",
    "Returns num evenly spaced samples, calculated over the interval `[start, stop]`.\n",
    "\n",
    "The endpoint of the interval can optionally be excluded."
   ]
  },
  {
   "cell_type": "code",
   "execution_count": 14,
   "metadata": {
    "colab": {
     "base_uri": "https://localhost:8080/"
    },
    "id": "K0JaDGQ__tZ3",
    "outputId": "ba4486c9-201f-45af-b26a-6ad0c570cc6d",
    "ExecuteTime": {
     "start_time": "2023-04-19T14:29:09.359607Z",
     "end_time": "2023-04-19T14:29:09.403741Z"
    }
   },
   "outputs": [
    {
     "data": {
      "text/plain": "array([0. , 0.2, 0.4, 0.6, 0.8, 1. ])"
     },
     "execution_count": 14,
     "metadata": {},
     "output_type": "execute_result"
    },
    {
     "name": "stdout",
     "output_type": "stream",
     "text": [
      "\n"
     ]
    },
    {
     "data": {
      "text/plain": "array([0. , 0.2, 0.4, 0.6, 0.8])"
     },
     "execution_count": 14,
     "metadata": {},
     "output_type": "execute_result"
    },
    {
     "name": "stdout",
     "output_type": "stream",
     "text": [
      "\n"
     ]
    },
    {
     "data": {
      "text/plain": "array([0.  , 0.25, 0.5 , 0.75, 1.  ])"
     },
     "execution_count": 14,
     "metadata": {},
     "output_type": "execute_result"
    }
   ],
   "source": [
    "c = np.linspace(0, 1, 6)   # start, end, num-points\n",
    "c\n",
    "\n",
    "print(\"\")\n",
    "\n",
    "d = np.linspace(0, 1, 5, endpoint=False)\n",
    "d\n",
    "\n",
    "print(\"\")\n",
    "\n",
    "e = np.linspace(0, 1, 5, endpoint=True)\n",
    "e"
   ]
  },
  {
   "cell_type": "markdown",
   "metadata": {
    "id": "Q5iV5pGDBScG"
   },
   "source": [
    "### Other common array creation functions"
   ]
  },
  {
   "cell_type": "markdown",
   "metadata": {
    "id": "De3i-v6gBezO"
   },
   "source": [
    "#### np.ones"
   ]
  },
  {
   "cell_type": "code",
   "execution_count": 15,
   "metadata": {
    "colab": {
     "base_uri": "https://localhost:8080/"
    },
    "id": "K-Vq7b2hnr2Z",
    "outputId": "c68967e4-bed9-441b-88c6-d9a7dd058706",
    "ExecuteTime": {
     "start_time": "2023-04-19T14:29:28.600156Z",
     "end_time": "2023-04-19T14:29:28.655142Z"
    }
   },
   "outputs": [
    {
     "name": "stdout",
     "output_type": "stream",
     "text": [
      "2D array filled with ones\n"
     ]
    },
    {
     "data": {
      "text/plain": "array([[1., 1., 1.],\n       [1., 1., 1.],\n       [1., 1., 1.]])"
     },
     "execution_count": 15,
     "metadata": {},
     "output_type": "execute_result"
    },
    {
     "name": "stdout",
     "output_type": "stream",
     "text": [
      "\n",
      "\n",
      "3D array filled with ones\n"
     ]
    },
    {
     "data": {
      "text/plain": "array([[[1., 1., 1.],\n        [1., 1., 1.],\n        [1., 1., 1.]],\n\n       [[1., 1., 1.],\n        [1., 1., 1.],\n        [1., 1., 1.]],\n\n       [[1., 1., 1.],\n        [1., 1., 1.],\n        [1., 1., 1.]]])"
     },
     "execution_count": 15,
     "metadata": {},
     "output_type": "execute_result"
    }
   ],
   "source": [
    "# Creates an array filled with ones, passing a tuple of the size\n",
    "print(\"2D array filled with ones\")\n",
    "a = np.ones((3, 3)) \n",
    "a\n",
    "\n",
    "print(\"\\n\\n3D array filled with ones\")\n",
    "\n",
    "b = np.ones((3, 3, 3))\n",
    "b"
   ]
  },
  {
   "cell_type": "markdown",
   "metadata": {
    "id": "TgXQ9Bd1Bph_"
   },
   "source": [
    "#### np.zeros"
   ]
  },
  {
   "cell_type": "code",
   "execution_count": 16,
   "metadata": {
    "colab": {
     "base_uri": "https://localhost:8080/"
    },
    "id": "XVxxMga46T-B",
    "outputId": "e0479bb2-4260-49f9-c8a1-3e51105b5438",
    "ExecuteTime": {
     "start_time": "2023-04-19T14:29:59.294467Z",
     "end_time": "2023-04-19T14:29:59.345123Z"
    }
   },
   "outputs": [
    {
     "data": {
      "text/plain": "array([[0., 0.],\n       [0., 0.]])"
     },
     "execution_count": 16,
     "metadata": {},
     "output_type": "execute_result"
    }
   ],
   "source": [
    "# Fill up an array with zeros\n",
    "b = np.zeros((2, 2))\n",
    "b"
   ]
  },
  {
   "cell_type": "markdown",
   "metadata": {
    "id": "XaZrdgwTBwZ5"
   },
   "source": [
    "#### np.eye"
   ]
  },
  {
   "cell_type": "code",
   "execution_count": 17,
   "metadata": {
    "colab": {
     "base_uri": "https://localhost:8080/"
    },
    "id": "oznCuhy68n4b",
    "outputId": "c839ab53-aa31-4bdd-c959-78f758c0eb33",
    "ExecuteTime": {
     "start_time": "2023-04-19T14:30:08.759998Z",
     "end_time": "2023-04-19T14:30:08.811904Z"
    }
   },
   "outputs": [
    {
     "data": {
      "text/plain": "array([[1., 0., 0., 0., 0.],\n       [0., 1., 0., 0., 0.],\n       [0., 0., 1., 0., 0.],\n       [0., 0., 0., 1., 0.],\n       [0., 0., 0., 0., 1.]])"
     },
     "execution_count": 17,
     "metadata": {},
     "output_type": "execute_result"
    }
   ],
   "source": [
    "# Returns a 2-D array with ones on the diagonal and zeros elsewhere\n",
    "c = np.eye(5)\n",
    "c"
   ]
  },
  {
   "cell_type": "markdown",
   "metadata": {
    "id": "j7kPI0FpB0MU"
   },
   "source": [
    "#### np.diag\n",
    "Extract a diagonal or construct a diagonal array."
   ]
  },
  {
   "cell_type": "code",
   "execution_count": 18,
   "metadata": {
    "colab": {
     "base_uri": "https://localhost:8080/"
    },
    "id": "bmSwAPWM8s2o",
    "outputId": "4f672ccc-82cb-4277-c9ee-49419884c444",
    "ExecuteTime": {
     "start_time": "2023-04-19T14:30:15.268850Z",
     "end_time": "2023-04-19T14:30:15.316037Z"
    }
   },
   "outputs": [
    {
     "data": {
      "text/plain": "array([[1, 0, 0, 0, 0],\n       [0, 1, 0, 0, 0],\n       [0, 0, 1, 0, 0],\n       [0, 0, 0, 1, 0],\n       [0, 0, 0, 0, 1]])"
     },
     "execution_count": 18,
     "metadata": {},
     "output_type": "execute_result"
    }
   ],
   "source": [
    "d = np.diag(np.array([1, 1, 1, 1, 1]))\n",
    "d"
   ]
  },
  {
   "cell_type": "markdown",
   "metadata": {
    "id": "KC_Ls8KqB3Ud"
   },
   "source": [
    "#### np.random"
   ]
  },
  {
   "cell_type": "code",
   "execution_count": 19,
   "metadata": {
    "colab": {
     "base_uri": "https://localhost:8080/"
    },
    "id": "S7jfAQeM8uKJ",
    "outputId": "fb3d7636-0626-471e-cbfb-771e03d0c437",
    "ExecuteTime": {
     "start_time": "2023-04-19T14:30:38.065408Z",
     "end_time": "2023-04-19T14:30:38.114890Z"
    }
   },
   "outputs": [
    {
     "data": {
      "text/plain": "array([0.7245321 , 0.08853205, 0.90377895, 0.11924332])"
     },
     "execution_count": 19,
     "metadata": {},
     "output_type": "execute_result"
    },
    {
     "name": "stdout",
     "output_type": "stream",
     "text": [
      "\n",
      " [ 1.38372724 -2.29460648  0.93541456 -0.29012217]\n"
     ]
    }
   ],
   "source": [
    "# Random set between 0-1\n",
    "a = np.random.rand(4)       \n",
    "a  \n",
    "\n",
    "# Random with Gaussian distribution\n",
    "b = np.random.randn(4)    \n",
    "print(\"\\n\", b)   "
   ]
  },
  {
   "cell_type": "markdown",
   "metadata": {
    "id": "CLL5f7Ov7QO9",
    "jp-MarkdownHeadingCollapsed": true,
    "tags": []
   },
   "source": [
    "## Understanding arrays: k3d\n",
    "\n",
    "We will install the **k3d** library, which allows to visualize arrays in 3D.\n",
    "\n",
    "The following visualisations can best be done in a jupiter notebook. In PyCharm, the visualisations are not shown.\n"
   ]
  },
  {
   "cell_type": "code",
   "execution_count": 20,
   "metadata": {
    "id": "fld2LbKO7Yds",
    "ExecuteTime": {
     "start_time": "2023-04-19T14:31:28.931059Z",
     "end_time": "2023-04-19T14:31:37.146294Z"
    }
   },
   "outputs": [
    {
     "name": "stdout",
     "output_type": "stream",
     "text": [
      "Collecting k3d\r\n",
      "  Downloading k3d-2.15.2-py3-none-any.whl (23.0 MB)\r\n",
      "\u001B[2K     \u001B[90m━━━━━━━━━━━━━━━━━━━━━━━━━━━━━━━━━━━━━━━━\u001B[0m \u001B[32m23.0/23.0 MB\u001B[0m \u001B[31m8.2 MB/s\u001B[0m eta \u001B[36m0:00:00\u001B[0m00:01\u001B[0m00:01\u001B[0m\r\n",
      "\u001B[?25hRequirement already satisfied: traitlets in /Users/erictak/miniconda3/lib/python3.10/site-packages (from k3d) (5.7.1)\r\n",
      "Requirement already satisfied: numpy in /Users/erictak/miniconda3/lib/python3.10/site-packages (from k3d) (1.24.2)\r\n",
      "Collecting msgpack\r\n",
      "  Downloading msgpack-1.0.5-cp310-cp310-macosx_10_9_x86_64.whl (74 kB)\r\n",
      "\u001B[2K     \u001B[90m━━━━━━━━━━━━━━━━━━━━━━━━━━━━━━━━━━━━━━━━\u001B[0m \u001B[32m74.7/74.7 kB\u001B[0m \u001B[31m4.8 MB/s\u001B[0m eta \u001B[36m0:00:00\u001B[0m\r\n",
      "\u001B[?25hCollecting traittypes\r\n",
      "  Using cached traittypes-0.2.1-py2.py3-none-any.whl (8.6 kB)\r\n",
      "Requirement already satisfied: ipywidgets<9.0.0,>=7.0.0 in /Users/erictak/miniconda3/lib/python3.10/site-packages (from k3d) (8.0.4)\r\n",
      "Requirement already satisfied: widgetsnbextension~=4.0 in /Users/erictak/miniconda3/lib/python3.10/site-packages (from ipywidgets<9.0.0,>=7.0.0->k3d) (4.0.5)\r\n",
      "Requirement already satisfied: ipykernel>=4.5.1 in /Users/erictak/miniconda3/lib/python3.10/site-packages (from ipywidgets<9.0.0,>=7.0.0->k3d) (6.19.2)\r\n",
      "Requirement already satisfied: ipython>=6.1.0 in /Users/erictak/miniconda3/lib/python3.10/site-packages (from ipywidgets<9.0.0,>=7.0.0->k3d) (8.12.0)\r\n",
      "Requirement already satisfied: jupyterlab-widgets~=3.0 in /Users/erictak/miniconda3/lib/python3.10/site-packages (from ipywidgets<9.0.0,>=7.0.0->k3d) (3.0.5)\r\n",
      "Requirement already satisfied: appnope in /Users/erictak/miniconda3/lib/python3.10/site-packages (from ipykernel>=4.5.1->ipywidgets<9.0.0,>=7.0.0->k3d) (0.1.2)\r\n",
      "Requirement already satisfied: psutil in /Users/erictak/miniconda3/lib/python3.10/site-packages (from ipykernel>=4.5.1->ipywidgets<9.0.0,>=7.0.0->k3d) (5.9.4)\r\n",
      "Requirement already satisfied: debugpy>=1.0 in /Users/erictak/miniconda3/lib/python3.10/site-packages (from ipykernel>=4.5.1->ipywidgets<9.0.0,>=7.0.0->k3d) (1.5.1)\r\n",
      "Requirement already satisfied: comm>=0.1.1 in /Users/erictak/miniconda3/lib/python3.10/site-packages (from ipykernel>=4.5.1->ipywidgets<9.0.0,>=7.0.0->k3d) (0.1.2)\r\n",
      "Requirement already satisfied: matplotlib-inline>=0.1 in /Users/erictak/miniconda3/lib/python3.10/site-packages (from ipykernel>=4.5.1->ipywidgets<9.0.0,>=7.0.0->k3d) (0.1.6)\r\n",
      "Requirement already satisfied: nest-asyncio in /Users/erictak/miniconda3/lib/python3.10/site-packages (from ipykernel>=4.5.1->ipywidgets<9.0.0,>=7.0.0->k3d) (1.5.6)\r\n",
      "Requirement already satisfied: packaging in /Users/erictak/miniconda3/lib/python3.10/site-packages (from ipykernel>=4.5.1->ipywidgets<9.0.0,>=7.0.0->k3d) (23.0)\r\n",
      "Requirement already satisfied: jupyter-client>=6.1.12 in /Users/erictak/miniconda3/lib/python3.10/site-packages (from ipykernel>=4.5.1->ipywidgets<9.0.0,>=7.0.0->k3d) (8.1.0)\r\n",
      "Requirement already satisfied: tornado>=6.1 in /Users/erictak/miniconda3/lib/python3.10/site-packages (from ipykernel>=4.5.1->ipywidgets<9.0.0,>=7.0.0->k3d) (6.2)\r\n",
      "Requirement already satisfied: pyzmq>=17 in /Users/erictak/miniconda3/lib/python3.10/site-packages (from ipykernel>=4.5.1->ipywidgets<9.0.0,>=7.0.0->k3d) (23.2.0)\r\n",
      "Requirement already satisfied: jedi>=0.16 in /Users/erictak/miniconda3/lib/python3.10/site-packages (from ipython>=6.1.0->ipywidgets<9.0.0,>=7.0.0->k3d) (0.18.1)\r\n",
      "Requirement already satisfied: stack-data in /Users/erictak/miniconda3/lib/python3.10/site-packages (from ipython>=6.1.0->ipywidgets<9.0.0,>=7.0.0->k3d) (0.2.0)\r\n",
      "Requirement already satisfied: prompt-toolkit!=3.0.37,<3.1.0,>=3.0.30 in /Users/erictak/miniconda3/lib/python3.10/site-packages (from ipython>=6.1.0->ipywidgets<9.0.0,>=7.0.0->k3d) (3.0.36)\r\n",
      "Requirement already satisfied: pexpect>4.3 in /Users/erictak/miniconda3/lib/python3.10/site-packages (from ipython>=6.1.0->ipywidgets<9.0.0,>=7.0.0->k3d) (4.8.0)\r\n",
      "Requirement already satisfied: decorator in /Users/erictak/miniconda3/lib/python3.10/site-packages (from ipython>=6.1.0->ipywidgets<9.0.0,>=7.0.0->k3d) (5.1.1)\r\n",
      "Requirement already satisfied: pickleshare in /Users/erictak/miniconda3/lib/python3.10/site-packages (from ipython>=6.1.0->ipywidgets<9.0.0,>=7.0.0->k3d) (0.7.5)\r\n",
      "Requirement already satisfied: pygments>=2.4.0 in /Users/erictak/miniconda3/lib/python3.10/site-packages (from ipython>=6.1.0->ipywidgets<9.0.0,>=7.0.0->k3d) (2.14.0)\r\n",
      "Requirement already satisfied: backcall in /Users/erictak/miniconda3/lib/python3.10/site-packages (from ipython>=6.1.0->ipywidgets<9.0.0,>=7.0.0->k3d) (0.2.0)\r\n",
      "Requirement already satisfied: parso<0.9.0,>=0.8.0 in /Users/erictak/miniconda3/lib/python3.10/site-packages (from jedi>=0.16->ipython>=6.1.0->ipywidgets<9.0.0,>=7.0.0->k3d) (0.8.3)\r\n",
      "Requirement already satisfied: python-dateutil>=2.8.2 in /Users/erictak/miniconda3/lib/python3.10/site-packages (from jupyter-client>=6.1.12->ipykernel>=4.5.1->ipywidgets<9.0.0,>=7.0.0->k3d) (2.8.2)\r\n",
      "Requirement already satisfied: jupyter-core!=5.0.*,>=4.12 in /Users/erictak/miniconda3/lib/python3.10/site-packages (from jupyter-client>=6.1.12->ipykernel>=4.5.1->ipywidgets<9.0.0,>=7.0.0->k3d) (5.3.0)\r\n",
      "Requirement already satisfied: ptyprocess>=0.5 in /Users/erictak/miniconda3/lib/python3.10/site-packages (from pexpect>4.3->ipython>=6.1.0->ipywidgets<9.0.0,>=7.0.0->k3d) (0.7.0)\r\n",
      "Requirement already satisfied: wcwidth in /Users/erictak/miniconda3/lib/python3.10/site-packages (from prompt-toolkit!=3.0.37,<3.1.0,>=3.0.30->ipython>=6.1.0->ipywidgets<9.0.0,>=7.0.0->k3d) (0.2.5)\r\n",
      "Requirement already satisfied: pure-eval in /Users/erictak/miniconda3/lib/python3.10/site-packages (from stack-data->ipython>=6.1.0->ipywidgets<9.0.0,>=7.0.0->k3d) (0.2.2)\r\n",
      "Requirement already satisfied: executing in /Users/erictak/miniconda3/lib/python3.10/site-packages (from stack-data->ipython>=6.1.0->ipywidgets<9.0.0,>=7.0.0->k3d) (0.8.3)\r\n",
      "Requirement already satisfied: asttokens in /Users/erictak/miniconda3/lib/python3.10/site-packages (from stack-data->ipython>=6.1.0->ipywidgets<9.0.0,>=7.0.0->k3d) (2.0.5)\r\n",
      "Requirement already satisfied: platformdirs>=2.5 in /Users/erictak/miniconda3/lib/python3.10/site-packages (from jupyter-core!=5.0.*,>=4.12->jupyter-client>=6.1.12->ipykernel>=4.5.1->ipywidgets<9.0.0,>=7.0.0->k3d) (2.5.2)\r\n",
      "Requirement already satisfied: six>=1.5 in /Users/erictak/miniconda3/lib/python3.10/site-packages (from python-dateutil>=2.8.2->jupyter-client>=6.1.12->ipykernel>=4.5.1->ipywidgets<9.0.0,>=7.0.0->k3d) (1.16.0)\r\n",
      "Installing collected packages: msgpack, traittypes, k3d\r\n",
      "Successfully installed k3d-2.15.2 msgpack-1.0.5 traittypes-0.2.1\r\n"
     ]
    }
   ],
   "source": [
    "# Install in your environment (venv or conda)\n",
    "!pip install k3d\n",
    "#!conda install -c conda-forge k3d"
   ]
  },
  {
   "cell_type": "code",
   "execution_count": 24,
   "metadata": {
    "id": "EatK6Y1E8MJ-",
    "ExecuteTime": {
     "start_time": "2023-04-19T14:32:50.318304Z",
     "end_time": "2023-04-19T14:32:50.334987Z"
    }
   },
   "outputs": [
    {
     "data": {
      "text/plain": "Output()",
      "application/vnd.jupyter.widget-view+json": {
       "version_major": 2,
       "version_minor": 0,
       "model_id": "e7be9466bfa243f58160f4898bcdb4cd"
      }
     },
     "metadata": {},
     "output_type": "display_data"
    }
   ],
   "source": [
    "%matplotlib inline\n",
    "import numpy as np\n",
    "import k3d\n",
    "\n",
    "plot = k3d.plot()\n",
    "\n",
    "b = np.ones((1, 1, 1))\n",
    "\n",
    "line = k3d.voxels(b, width=1, scaling = [1, 1, 1])\n",
    "\n",
    "# iadd method, iterates over voxel\n",
    "plot += line\n",
    "plot.display()"
   ]
  },
  {
   "cell_type": "code",
   "execution_count": 27,
   "metadata": {},
   "outputs": [
    {
     "ename": "AttributeError",
     "evalue": "'Line' object has no attribute 'display'",
     "output_type": "error",
     "traceback": [
      "\u001B[0;31m---------------------------------------------------------------------------\u001B[0m",
      "\u001B[0;31mAttributeError\u001B[0m                            Traceback (most recent call last)",
      "Cell \u001B[0;32mIn[27], line 6\u001B[0m\n\u001B[1;32m      1\u001B[0m \u001B[38;5;28;01mimport\u001B[39;00m \u001B[38;5;21;01mk3d\u001B[39;00m\n\u001B[1;32m      3\u001B[0m plot \u001B[38;5;241m=\u001B[39m k3d\u001B[38;5;241m.\u001B[39mline([[\u001B[38;5;241m0\u001B[39m, \u001B[38;5;241m0\u001B[39m, \u001B[38;5;241m0\u001B[39m],\n\u001B[1;32m      4\u001B[0m                  [\u001B[38;5;241m1\u001B[39m, \u001B[38;5;241m1\u001B[39m, \u001B[38;5;241m1\u001B[39m]])\n\u001B[0;32m----> 6\u001B[0m \u001B[43mplot\u001B[49m\u001B[38;5;241;43m.\u001B[39;49m\u001B[43mdisplay\u001B[49m()\n",
      "\u001B[0;31mAttributeError\u001B[0m: 'Line' object has no attribute 'display'"
     ]
    }
   ],
   "source": [
    "import k3d\n",
    "\n",
    "plot = k3d.line([[0, 0, 0],\n",
    "                 [1, 1, 1]])\n",
    "\n",
    "plot.display()"
   ]
  },
  {
   "cell_type": "code",
   "execution_count": 28,
   "metadata": {
    "id": "OaSxkxs7JvqZ",
    "ExecuteTime": {
     "start_time": "2023-04-19T14:35:03.215387Z",
     "end_time": "2023-04-19T14:35:03.269920Z"
    }
   },
   "outputs": [
    {
     "name": "stderr",
     "output_type": "stream",
     "text": [
      "/Users/erictak/miniconda3/lib/python3.10/site-packages/traittypes/traittypes.py:97: UserWarning: Given trait value dtype \"int64\" does not match required type \"uint8\". A coerced copy has been created.\n",
      "  warnings.warn(\n"
     ]
    },
    {
     "data": {
      "text/plain": "Output()",
      "application/vnd.jupyter.widget-view+json": {
       "version_major": 2,
       "version_minor": 0,
       "model_id": "c926383d3dcc41caa75364456c8a63d6"
      }
     },
     "metadata": {},
     "output_type": "display_data"
    }
   ],
   "source": [
    "%matplotlib inline\n",
    "import numpy as np\n",
    "import k3d\n",
    "\n",
    "plot = k3d.plot()\n",
    "\n",
    "b = np.array([[[18, 1, 2], [3, 4, 5]], \n",
    "              [[6, 7, 8], [9, 10, 11]], \n",
    "              [[12, 13, 14], [15, 16, 17]]])\n",
    "\n",
    "voxel = k3d.voxels(b, width=1, scaling = [1, 1, 1])\n",
    "\n",
    "# iadd method, iterates over voxel\n",
    "plot += voxel\n",
    "plot.display()"
   ]
  },
  {
   "cell_type": "markdown",
   "metadata": {
    "id": "FnySBjCGKN9d"
   },
   "source": [
    "### In class exercise: 3D representations\n",
    "\n",
    "Try to add and represent another dimension to make a 3x3x3 array using k3d"
   ]
  },
  {
   "cell_type": "code",
   "execution_count": 30,
   "metadata": {
    "id": "S0CrFZx-KsqU",
    "ExecuteTime": {
     "start_time": "2023-04-19T14:36:39.054059Z",
     "end_time": "2023-04-19T14:36:39.087897Z"
    }
   },
   "outputs": [
    {
     "data": {
      "text/plain": "Output()",
      "application/vnd.jupyter.widget-view+json": {
       "version_major": 2,
       "version_minor": 0,
       "model_id": "3cae61fb58d14407b6c50cfc2173207f"
      }
     },
     "metadata": {},
     "output_type": "display_data"
    }
   ],
   "source": [
    "%matplotlib inline\n",
    "import numpy as np\n",
    "import k3d\n",
    "\n",
    "plot = k3d.plot()\n",
    "\n",
    "b = np.array([[[18, 1, 2], [3, 4, 5], [3, 4, 5]], \n",
    "              [[6, 7, 8], [9, 10, 11], [3, 4, 5]], \n",
    "              [[12, 13, 14], [15, 16, 17], [3, 4, 5]]])\n",
    "\n",
    "voxel = k3d.voxels(b, width=1, scaling = [1, 1, 1])\n",
    "\n",
    "# iadd method, iterates over voxel\n",
    "plot += voxel\n",
    "plot.display()"
   ]
  },
  {
   "cell_type": "code",
   "execution_count": 33,
   "metadata": {
    "ExecuteTime": {
     "start_time": "2023-04-19T14:36:56.498908Z",
     "end_time": "2023-04-19T14:36:56.543771Z"
    }
   },
   "outputs": [
    {
     "data": {
      "text/plain": "(3, 3, 3)"
     },
     "execution_count": 33,
     "metadata": {},
     "output_type": "execute_result"
    }
   ],
   "source": [
    "b.shape"
   ]
  },
  {
   "cell_type": "markdown",
   "metadata": {
    "id": "hH9MRPGWOkjR"
   },
   "source": [
    "## NumPy data types\n",
    "\n",
    "NumPy has five main type of datatypes. But always the default data for any function (np.zeros, etc.) is floating point:\n",
    "\n",
    "* Integer\n",
    "* Float\n",
    "* Boolean\n",
    "* Complex\n",
    "* String\n"
   ]
  },
  {
   "cell_type": "code",
   "execution_count": 34,
   "metadata": {
    "colab": {
     "base_uri": "https://localhost:8080/"
    },
    "id": "m4Af9UXsxecQ",
    "outputId": "6aeb6aa0-281a-4a68-bf17-7fe8fe559fa0",
    "ExecuteTime": {
     "start_time": "2023-04-19T14:37:07.245620Z",
     "end_time": "2023-04-19T14:37:07.273637Z"
    }
   },
   "outputs": [
    {
     "data": {
      "text/plain": "dtype('int64')"
     },
     "execution_count": 34,
     "metadata": {},
     "output_type": "execute_result"
    }
   ],
   "source": [
    "# Integer\n",
    "a = np.array([1, 2, 3])\n",
    "a.dtype"
   ]
  },
  {
   "cell_type": "code",
   "execution_count": 35,
   "metadata": {
    "colab": {
     "base_uri": "https://localhost:8080/"
    },
    "id": "tXVGSpdKxeaF",
    "outputId": "9e4ae236-e3d8-4434-b4b0-43128ded921b",
    "ExecuteTime": {
     "start_time": "2023-04-19T14:37:09.041465Z",
     "end_time": "2023-04-19T14:37:09.069525Z"
    }
   },
   "outputs": [
    {
     "data": {
      "text/plain": "dtype('float64')"
     },
     "execution_count": 35,
     "metadata": {},
     "output_type": "execute_result"
    }
   ],
   "source": [
    "# Float\n",
    "b = np.array([1., 2., 3.])\n",
    "b.dtype"
   ]
  },
  {
   "cell_type": "code",
   "execution_count": 36,
   "metadata": {
    "colab": {
     "base_uri": "https://localhost:8080/"
    },
    "id": "_QT6MuKyxeW-",
    "outputId": "57e92e61-0d2c-4478-d47d-371425b210d9",
    "ExecuteTime": {
     "start_time": "2023-04-19T14:37:10.644747Z",
     "end_time": "2023-04-19T14:37:10.668262Z"
    }
   },
   "outputs": [
    {
     "data": {
      "text/plain": "dtype('float64')"
     },
     "execution_count": 36,
     "metadata": {},
     "output_type": "execute_result"
    }
   ],
   "source": [
    "# Changing data type\n",
    "c = np.array([1, 2, 3], dtype=float)\n",
    "c.dtype"
   ]
  },
  {
   "cell_type": "code",
   "execution_count": 37,
   "metadata": {
    "colab": {
     "base_uri": "https://localhost:8080/"
    },
    "id": "2ig4A8kqxyx9",
    "outputId": "ca7fe5ae-1dc9-4d47-c11d-c384e4dcd154",
    "ExecuteTime": {
     "start_time": "2023-04-19T14:37:11.613993Z",
     "end_time": "2023-04-19T14:37:11.637426Z"
    }
   },
   "outputs": [
    {
     "data": {
      "text/plain": "dtype('complex128')"
     },
     "execution_count": 37,
     "metadata": {},
     "output_type": "execute_result"
    }
   ],
   "source": [
    "# Complex\n",
    "d = np.array([1+2j, 3+4j, 5+6*1j])\n",
    "d.dtype"
   ]
  },
  {
   "cell_type": "code",
   "execution_count": 38,
   "metadata": {
    "colab": {
     "base_uri": "https://localhost:8080/"
    },
    "id": "NXSN6ImxyCKo",
    "outputId": "4a24e0f4-65f2-46e4-a80d-330bc352ea0f",
    "ExecuteTime": {
     "start_time": "2023-04-19T14:37:12.195223Z",
     "end_time": "2023-04-19T14:37:12.219327Z"
    }
   },
   "outputs": [
    {
     "data": {
      "text/plain": "dtype('bool')"
     },
     "execution_count": 38,
     "metadata": {},
     "output_type": "execute_result"
    }
   ],
   "source": [
    "# Bool\n",
    "e = np.array([True, False, False, True])\n",
    "e.dtype"
   ]
  },
  {
   "cell_type": "code",
   "execution_count": 39,
   "metadata": {
    "colab": {
     "base_uri": "https://localhost:8080/"
    },
    "id": "ileivbA4yEDN",
    "outputId": "17dbf4dd-7e7f-4be5-8174-5a2d50f63913",
    "ExecuteTime": {
     "start_time": "2023-04-19T14:37:13.307346Z",
     "end_time": "2023-04-19T14:37:13.350066Z"
    }
   },
   "outputs": [
    {
     "data": {
      "text/plain": "dtype('<U18')"
     },
     "execution_count": 39,
     "metadata": {},
     "output_type": "execute_result"
    }
   ],
   "source": [
    "# Strings (containing max the letters of the longest word)\n",
    "f = np.array(['Bonjoursdfsdfsdfds', 'Hello', 'Hallo'])\n",
    "f.dtype      \n"
   ]
  },
  {
   "cell_type": "markdown",
   "metadata": {
    "id": "uhJ6kdvfykOb"
   },
   "source": [
    "## Basic array visualization with Matplotlib\n",
    "\n"
   ]
  },
  {
   "cell_type": "code",
   "execution_count": 40,
   "metadata": {
    "id": "ZvE8uEHPz5PU",
    "ExecuteTime": {
     "start_time": "2023-04-19T14:37:20.698861Z",
     "end_time": "2023-04-19T14:37:20.728422Z"
    }
   },
   "outputs": [],
   "source": [
    "%matplotlib inline  "
   ]
  },
  {
   "cell_type": "code",
   "execution_count": 41,
   "metadata": {
    "id": "ClvxhBisz5MN",
    "ExecuteTime": {
     "start_time": "2023-04-19T14:37:23.392026Z",
     "end_time": "2023-04-19T14:37:23.430373Z"
    }
   },
   "outputs": [],
   "source": [
    "import matplotlib.pyplot as plt"
   ]
  },
  {
   "cell_type": "markdown",
   "metadata": {
    "id": "wYn9wtZs3wPI"
   },
   "source": [
    "### 1D array plotting"
   ]
  },
  {
   "cell_type": "code",
   "execution_count": 42,
   "metadata": {
    "colab": {
     "base_uri": "https://localhost:8080/",
     "height": 282
    },
    "id": "o6LPNZCTyt6v",
    "outputId": "9f9e0d7e-3d53-453f-fde7-748e614c3ab0",
    "ExecuteTime": {
     "start_time": "2023-04-19T14:37:30.919290Z",
     "end_time": "2023-04-19T14:37:31.039466Z"
    }
   },
   "outputs": [
    {
     "data": {
      "text/plain": "[<matplotlib.lines.Line2D at 0x7fbaf8c6f9d0>]"
     },
     "execution_count": 42,
     "metadata": {},
     "output_type": "execute_result"
    },
    {
     "data": {
      "text/plain": "[<matplotlib.lines.Line2D at 0x7fbaf8c6fd90>]"
     },
     "execution_count": 42,
     "metadata": {},
     "output_type": "execute_result"
    },
    {
     "data": {
      "text/plain": "<Figure size 640x480 with 1 Axes>",
      "image/png": "[encoded data removed]"
     },
     "metadata": {},
     "output_type": "display_data"
    }
   ],
   "source": [
    "# Create a linear array from 0 to 3, with 20 steps\n",
    "x = np.linspace(0, 3, 20)\n",
    "\n",
    "# Create a linear array from 0 to 9, with 20 steps\n",
    "y = np.linspace(0, 9, 20)\n",
    "\n",
    "# Plot the line x, y\n",
    "plt.plot(x,y)       \n",
    "\n",
    "# Plot the dots x, y\n",
    "plt.plot(x,y, 'o')    "
   ]
  },
  {
   "cell_type": "code",
   "execution_count": 43,
   "metadata": {
    "ExecuteTime": {
     "start_time": "2023-04-19T14:37:55.436812Z",
     "end_time": "2023-04-19T14:37:55.459796Z"
    }
   },
   "outputs": [
    {
     "data": {
      "text/plain": "array([0.        , 0.15789474, 0.31578947, 0.47368421, 0.63157895,\n       0.78947368, 0.94736842, 1.10526316, 1.26315789, 1.42105263,\n       1.57894737, 1.73684211, 1.89473684, 2.05263158, 2.21052632,\n       2.36842105, 2.52631579, 2.68421053, 2.84210526, 3.        ])"
     },
     "execution_count": 43,
     "metadata": {},
     "output_type": "execute_result"
    }
   ],
   "source": [
    "x"
   ]
  },
  {
   "cell_type": "code",
   "execution_count": 44,
   "metadata": {
    "ExecuteTime": {
     "start_time": "2023-04-19T14:37:56.646268Z",
     "end_time": "2023-04-19T14:37:56.692215Z"
    }
   },
   "outputs": [
    {
     "data": {
      "text/plain": "array([0.        , 0.47368421, 0.94736842, 1.42105263, 1.89473684,\n       2.36842105, 2.84210526, 3.31578947, 3.78947368, 4.26315789,\n       4.73684211, 5.21052632, 5.68421053, 6.15789474, 6.63157895,\n       7.10526316, 7.57894737, 8.05263158, 8.52631579, 9.        ])"
     },
     "execution_count": 44,
     "metadata": {},
     "output_type": "execute_result"
    }
   ],
   "source": [
    "y"
   ]
  },
  {
   "cell_type": "markdown",
   "metadata": {
    "id": "rBO0S7-Y4SyL"
   },
   "source": [
    "### 2D array plotting\n",
    "Due to their structure, 2D arrays needs to be plotted as images. There is no need to panic. Let's go step by step."
   ]
  },
  {
   "cell_type": "code",
   "execution_count": 45,
   "metadata": {
    "ExecuteTime": {
     "start_time": "2023-04-19T14:38:59.063660Z",
     "end_time": "2023-04-19T14:38:59.087295Z"
    }
   },
   "outputs": [],
   "source": [
    "# Let's create a Gaussian image of 30x30\n",
    "image = np.random.randn(30, 30)"
   ]
  },
  {
   "cell_type": "code",
   "execution_count": 46,
   "metadata": {
    "collapsed": true,
    "jupyter": {
     "outputs_hidden": true
    },
    "tags": [],
    "ExecuteTime": {
     "start_time": "2023-04-19T14:38:59.907719Z",
     "end_time": "2023-04-19T14:38:59.925587Z"
    }
   },
   "outputs": [
    {
     "data": {
      "text/plain": "array([[ 2.47208235e+00,  5.68680898e-02, -7.13128838e-01,\n        -1.06114978e-01, -2.07808575e+00, -8.47688607e-01,\n        -1.02042392e+00,  5.27092491e-01,  4.08085351e-01,\n        -3.46635164e-01, -2.24638948e-01,  1.74103891e-01,\n        -1.32829811e+00,  2.24979874e-01,  3.15133451e-01,\n         4.23902574e-01,  7.32584044e-02, -5.83772560e-02,\n         7.92468007e-01, -9.75190305e-01,  2.40894670e-01,\n        -5.85371650e-02,  6.93591036e-01,  3.99621870e-01,\n        -1.40745530e+00, -1.31815996e+00,  2.32568831e-01,\n        -1.24483143e+00, -1.77511807e+00, -1.42584194e+00],\n       [-5.81332307e-01, -1.54052427e-01, -3.13107976e-01,\n         5.62382259e-01, -1.59008093e+00, -5.37196918e-01,\n        -6.68610746e-01, -1.65337613e-01,  1.36129121e-01,\n        -1.08622647e+00,  2.38523747e+00,  6.86903382e-01,\n        -1.14190442e-02,  9.38550268e-01,  4.85020290e-01,\n        -2.15390187e-01,  1.58325486e+00, -1.48850540e-01,\n        -5.27309160e-01,  1.76247987e+00,  1.97839157e+00,\n        -4.90457541e-01, -1.33397533e-01,  4.39690401e-02,\n         2.00228686e+00, -2.04478320e+00,  1.25017370e+00,\n        -1.42165543e-01, -7.69644342e-01,  1.62345979e+00],\n       [ 3.68365806e-01, -9.08138830e-01,  6.89932616e-01,\n         6.10897529e-01,  2.82012540e+00,  2.21247480e+00,\n        -3.53573929e-01, -6.74765615e-01,  1.37242846e+00,\n        -7.80449060e-01,  1.04162256e-01, -5.27727714e-01,\n        -2.23273884e+00,  9.92661277e-02,  1.11250860e+00,\n        -1.71445493e-02, -3.00482303e-01,  2.78475913e-01,\n        -2.42176964e-01,  2.67920373e-01, -3.48487373e-01,\n        -6.53888172e-02,  2.65569978e-01, -1.00128667e+00,\n        -4.76394184e-02, -1.83290996e+00,  2.40889576e-01,\n        -8.32003484e-01, -1.61388084e+00,  7.94391664e-01],\n       [ 5.44084501e-01,  6.62491164e-01, -1.08270807e+00,\n        -3.38345607e-01, -1.13385121e-02, -2.02064543e-01,\n         2.57724397e-01,  4.26766466e-01, -1.20063498e+00,\n        -1.00016725e+00,  8.58449162e-01,  1.50483795e+00,\n         1.08890867e-01, -1.27987307e+00, -3.81859224e-01,\n        -2.14628359e-01,  3.77880314e-01,  1.74641770e+00,\n         1.90847118e-01, -8.10769042e-02,  1.25144432e+00,\n         3.65024314e-02, -3.50916612e-01,  1.56725277e+00,\n         4.93977510e-01,  1.32014978e+00,  1.01635802e-01,\n        -2.08467160e+00, -2.76828024e-02, -1.78723488e-01],\n       [-1.62851840e+00, -9.55451376e-01, -9.85541723e-01,\n        -1.76904313e+00,  1.42376240e+00, -5.04289396e-02,\n         6.22813123e-01, -5.37937267e-01,  1.49602198e+00,\n        -4.70797015e-01, -4.27435775e-01,  1.73932667e-01,\n        -1.59517488e+00, -2.26365788e-01,  8.54559604e-01,\n        -6.58599843e-01,  2.59824024e-01, -3.58082317e-01,\n         8.40815550e-01, -1.51993191e+00,  2.84255527e-02,\n         1.30675307e+00, -4.61902449e-01,  5.06355320e-01,\n        -1.26965390e-01,  6.89993056e-01, -7.68428769e-01,\n        -2.31780381e+00, -2.02194810e+00, -9.79513001e-01],\n       [ 1.64007586e+00, -4.20020205e-01,  1.46149617e+00,\n        -1.04130686e+00,  3.38291361e-02,  1.63838712e+00,\n         1.69833380e+00,  6.20424032e-01, -6.70223632e-01,\n         7.41513322e-01,  1.86100490e+00,  1.14584387e+00,\n         1.26767719e+00, -1.41490370e+00, -1.42821028e+00,\n         1.71793612e+00, -9.29278873e-01, -1.53406401e+00,\n        -3.41104730e-01, -3.00633222e-01, -4.89252057e-01,\n        -3.88866637e-01,  8.92163465e-01,  2.89863851e-01,\n        -8.71423902e-01,  9.60178738e-01,  1.29014473e+00,\n         2.86860890e-01,  1.00996193e+00, -1.06415370e+00],\n       [-4.33735912e-01, -3.02681065e-01,  1.32712681e+00,\n        -1.08416050e+00,  4.05023625e-01,  9.78534158e-01,\n        -1.33817539e+00, -3.60650955e-01,  4.12046188e-01,\n         7.20500990e-02, -8.14727517e-01, -4.25540770e-01,\n        -1.65854700e+00,  6.94347248e-01, -8.31536401e-01,\n         1.44511490e+00,  1.91932617e-01, -4.43392341e-01,\n         9.05409817e-01, -7.22238732e-01, -4.40041071e-01,\n         2.06971741e-01,  2.93296357e-01,  6.77734499e-01,\n         5.80079069e-01, -8.04289947e-01,  5.78826312e-01,\n        -1.47991814e+00, -8.88255503e-01,  8.77144899e-01],\n       [ 1.47506645e+00, -4.17727306e-02, -1.75787679e+00,\n        -9.54521924e-01, -9.18664930e-01, -4.59833722e-02,\n         2.27804483e+00, -3.39797709e-01, -2.14707395e-01,\n         2.22138644e-01,  1.94248005e+00,  4.23260633e-01,\n        -6.73916082e-01,  7.18979061e-01, -8.08888820e-01,\n         2.27986033e+00, -1.51372828e-01, -9.21034814e-01,\n         3.32627680e-03,  1.60691830e-01,  5.28609386e-01,\n        -4.86299859e-02,  1.39840427e+00, -1.25709731e+00,\n         2.06826258e-01,  4.67815545e-01, -9.08406744e-01,\n         6.88861505e-01, -1.07650335e-01,  1.16491561e+00],\n       [-1.10521585e+00, -6.45888473e-01,  9.76867475e-01,\n         7.08053994e-02, -3.56531896e-01, -1.71824350e+00,\n        -8.26613448e-01,  1.49526856e+00, -9.77982250e-01,\n         7.99388962e-01, -3.96493111e-01, -2.17258114e-01,\n         2.03999624e-01,  1.96564776e+00, -1.14141195e+00,\n        -7.89685065e-01, -1.78873865e+00, -7.65452063e-01,\n        -4.85505160e-01, -7.53407682e-01, -1.51291298e+00,\n         4.34898011e-01, -1.48949956e-01,  1.22442380e+00,\n         7.68749196e-01, -3.16920240e-01,  8.18012859e-01,\n        -8.45437356e-01, -1.06455967e-01,  6.75226464e-01],\n       [ 8.05740571e-01, -1.19861545e-01,  6.13806459e-01,\n        -1.70345962e-01,  1.87251644e+00,  2.31537882e+00,\n         6.67938327e-01,  4.31461660e-03, -7.01288471e-01,\n         3.91453002e-01, -6.08777623e-02,  6.25852962e-01,\n         4.53436420e-01, -4.22651656e-01, -8.96350142e-01,\n         3.36370408e+00, -1.50693013e+00, -5.91716321e-01,\n        -7.07371747e-02, -4.53972345e-01, -1.03644231e+00,\n         6.87401896e-01, -1.19552596e+00,  8.71919427e-01,\n        -5.01318190e-03, -1.99068239e-01, -7.64185536e-01,\n        -2.30590934e+00, -4.03869219e-01, -8.98420043e-01],\n       [-1.15961142e+00,  1.07773711e+00, -9.86984423e-01,\n         5.08209292e-01, -5.87806948e-01, -2.09808480e+00,\n        -1.04031970e+00,  1.71787720e+00, -4.18226390e-01,\n         6.69067949e-02, -9.83322904e-02,  1.69460578e-01,\n        -7.15729074e-01,  1.28179905e-01,  1.49383647e+00,\n        -1.44957245e+00,  6.22737266e-01,  1.33852188e+00,\n         4.55296266e-01, -6.77310237e-01, -6.69597083e-03,\n        -2.18152881e+00,  7.24403656e-01, -2.77047418e-01,\n        -8.97842349e-01, -5.62354927e-01,  8.01460158e-01,\n        -1.69738794e+00,  1.40504224e+00,  1.01671998e+00],\n       [-1.64018637e-01,  1.60694417e+00,  1.76203777e+00,\n        -1.31062785e+00,  3.57672864e-01,  6.55573921e-02,\n        -3.03610282e-01, -1.18015790e+00, -5.11861603e-01,\n         1.20703933e+00,  8.47560391e-01,  7.12456692e-01,\n        -1.07294030e+00, -1.49176773e+00, -4.76391279e-01,\n        -4.10773172e-01, -1.38460725e+00, -1.05878204e+00,\n         9.28556162e-02,  2.49715317e-01,  1.85660960e+00,\n        -3.06801715e-02, -2.03671931e+00, -8.64168115e-01,\n        -2.61739620e-01, -1.28131908e+00, -4.33282133e-01,\n         3.05041345e-01,  5.48296616e-01, -2.04479469e-01],\n       [ 4.73561370e-01, -4.35592480e-01, -1.89415119e+00,\n        -8.77466420e-01,  5.29254874e-01,  2.52484037e+00,\n        -2.50854949e-01, -1.57369401e-01,  3.42509003e-01,\n         5.98017680e-01,  1.73713349e+00, -6.25156737e-01,\n        -8.67078995e-01, -1.01996295e-01, -6.22539260e-01,\n        -1.03318363e+00, -1.00558683e-01,  9.57482890e-01,\n         6.83167211e-01, -6.59748693e-01,  2.80409969e-01,\n         1.04268545e-01,  2.39500503e+00, -1.22109071e+00,\n         4.14945574e-01, -1.97173366e+00,  1.90409098e-01,\n        -4.00741799e-01, -4.76186580e-01, -5.71207096e-01],\n       [ 1.11793706e+00,  2.97275055e-01,  1.23537857e+00,\n         1.17678059e+00, -4.52508182e-01,  1.51966711e-01,\n        -6.63944282e-01, -2.73486877e-01, -2.62513410e+00,\n        -9.57916486e-01, -6.19213644e-01,  1.77507693e+00,\n         2.41356979e-01,  2.06313132e-01,  4.73255875e-01,\n        -1.01477412e+00,  1.08982396e-01, -4.04681025e-01,\n         1.46175068e+00,  1.17876373e+00, -1.64256769e+00,\n        -7.44169724e-01,  7.06008751e-01,  1.15962748e+00,\n         2.15939412e-01,  1.57596721e+00,  1.92178231e-01,\n         1.76298701e-01, -4.16674911e-02, -1.30253215e+00],\n       [-1.69490611e+00,  7.69112869e-01,  7.31997223e-01,\n        -3.23976617e-01,  1.16017907e+00,  2.21398484e-02,\n         2.20164518e+00, -8.13514313e-02, -1.92142969e+00,\n        -5.16252869e-01,  2.48738436e+00, -1.34118508e+00,\n        -7.40213804e-01, -5.54011876e-01, -6.88724639e-01,\n         5.20072086e-01,  1.26567408e+00,  2.39328912e-01,\n         3.28313873e-01,  1.73847091e+00, -4.89717137e-01,\n        -1.35591231e+00,  1.63652572e-01, -4.03069219e-01,\n        -9.52635907e-01, -1.41625678e+00,  2.55815586e+00,\n         7.48761452e-01, -3.92015705e-01, -2.21994503e+00],\n       [-2.60860809e-01,  1.10660524e+00,  1.45174129e+00,\n        -6.29891813e-02,  2.25795468e-01,  2.31099925e-01,\n         8.21911149e-01,  2.35874000e+00, -1.95056425e-01,\n        -4.96755114e-01,  1.42735825e+00,  2.22600020e+00,\n        -3.69372154e-01, -6.29944695e-01,  8.77240915e-01,\n        -1.08918055e+00,  1.30910081e+00,  4.16537573e-01,\n         9.76949606e-01,  9.10384105e-01,  9.51196119e-02,\n        -1.76259614e+00, -5.16870013e-01, -1.21897471e+00,\n        -4.53318806e-01,  1.90715814e+00, -9.47562126e-02,\n        -8.47732587e-01,  2.92082438e-01, -1.36031921e+00],\n       [-1.21075632e-01,  5.63338682e-01, -1.25273969e+00,\n        -4.16447405e-01,  1.31930744e+00, -2.22795488e+00,\n         8.03930003e-01, -2.02224436e-01, -7.41925248e-02,\n        -7.32248928e-02,  2.51753884e+00,  4.87676786e-01,\n        -1.09000347e+00,  1.00060025e+00,  1.33875128e-01,\n         7.45367938e-02,  1.16090979e+00, -5.63891867e-01,\n         1.97579839e-01,  8.04361296e-01, -9.98708591e-01,\n        -1.49426858e+00,  6.94441369e-01,  3.44878442e-01,\n        -3.38516225e-01, -1.44307074e+00, -2.09975145e+00,\n         9.37937713e-02,  2.38888358e-01,  1.18173770e-01],\n       [ 3.72485193e-01, -5.95199962e-01,  1.30310356e-01,\n         1.83158537e+00,  1.29311654e-01,  1.43986291e+00,\n         2.00148350e-01, -1.37734853e+00,  4.20137982e-02,\n        -4.72337955e-03, -4.19735343e-01,  8.03910094e-01,\n        -1.74295326e+00,  1.22213405e+00, -5.97047226e-01,\n         2.78300818e-01, -5.98530008e-01, -1.75165250e-01,\n         4.87826434e-01, -1.34543611e-01, -1.39639453e-02,\n        -6.54321489e-01,  9.14675879e-01,  2.09037804e-01,\n         9.15831640e-01, -2.36187470e+00,  2.77465811e-01,\n        -3.79667237e-01,  2.76286051e-01,  7.63124686e-01],\n       [ 2.93799713e-01,  5.89825483e-01, -1.25597625e+00,\n        -1.15041923e+00, -7.11981965e-01,  7.35607270e-01,\n         8.09476031e-01, -9.48629804e-01,  2.31851855e+00,\n         7.01523477e-02,  8.78950231e-01, -3.10805285e-01,\n         9.76103928e-01,  2.06356590e+00, -1.66517065e+00,\n        -2.20615453e+00,  4.86395646e-01,  9.67422696e-01,\n         4.90052441e-01,  3.22832087e-02, -1.36251458e+00,\n        -3.05946682e-02,  4.25562846e-02, -4.53760055e-01,\n        -1.35598067e+00, -1.12463311e+00, -1.58504016e+00,\n        -6.47765184e-01,  3.85802564e-01,  1.03786335e+00],\n       [-9.66101940e-02,  7.75076672e-01, -6.35289194e-01,\n         1.25612863e+00,  7.08024879e-01, -1.96389147e-01,\n         1.32623370e+00,  2.14799877e-01, -3.90735531e-01,\n        -1.92390114e-01,  8.19149874e-01,  1.06718373e+00,\n         1.50042122e+00,  1.10673465e-01, -1.27637567e-01,\n         4.00732961e-01, -8.64722049e-01, -2.14594107e-01,\n        -9.57964990e-01,  5.45372442e-01, -2.41235584e-01,\n        -4.06527296e-01, -1.13560718e+00,  4.02281842e-01,\n         9.39098125e-01,  5.25427076e-01,  7.59931228e-02,\n         1.17585902e+00,  1.12299474e+00,  4.72740977e-01],\n       [-1.68187438e+00,  5.04975678e-02,  1.53187310e+00,\n         1.02487416e+00, -6.59710900e-01, -5.28027324e-01,\n         6.65590472e-01, -1.05706412e-01,  4.49248838e-01,\n        -3.97531484e-01, -1.97190593e-02, -7.04964004e-01,\n        -2.19641961e+00,  1.45800064e-01, -8.83786631e-01,\n        -3.92515293e-02, -2.00813264e-01, -1.41521045e+00,\n        -3.30351208e-01,  1.15745424e-01,  4.02640830e-01,\n         4.51379447e-01, -1.98333487e-01,  7.97871351e-01,\n        -1.48485566e-01,  3.88893717e-01,  2.75633560e-01,\n         1.16675594e+00,  7.52418882e-01, -1.18845825e+00],\n       [-1.04096103e+00,  2.81942115e+00,  1.59926913e-01,\n        -9.59985266e-02, -5.53227549e-01,  6.69739816e-01,\n        -1.11761212e+00, -1.36672960e-01,  1.14955782e+00,\n         1.21906719e+00, -4.05855724e-01,  1.93548535e+00,\n         2.28048218e+00,  1.99334430e-01, -2.16614331e-01,\n        -5.27053199e-01,  5.49854359e-01, -1.04541374e-01,\n        -8.59641521e-01, -2.28881158e-01, -6.36808573e-01,\n        -1.55750201e+00,  9.28758784e-01,  1.35718693e+00,\n        -4.46926700e-02,  2.52591259e-01,  7.74699261e-01,\n        -1.55826243e+00, -1.23591628e+00,  2.71932746e-01],\n       [ 3.08362554e-01, -2.28343827e-01, -1.60976340e+00,\n        -1.56901655e+00,  1.67193773e-01,  5.84043211e-01,\n         1.94688420e+00, -3.82159662e-01, -7.33721520e-01,\n        -1.31788976e+00, -1.14293530e+00,  1.59648998e-01,\n        -5.25576893e-01, -1.71139231e-01, -1.42039809e+00,\n        -9.27380383e-01,  1.26707308e-01,  1.14582150e+00,\n        -2.26648454e-01, -1.52045145e+00, -1.49714120e+00,\n         1.08200060e+00, -1.10474034e+00,  5.80007983e-01,\n         5.55680005e-01, -2.85961917e+00, -2.96062398e-01,\n         1.38655931e+00,  3.34357651e-01, -6.27089340e-02],\n       [-1.22057536e+00, -1.00854732e-01, -2.09151801e+00,\n        -5.89921437e-01, -5.05737496e-01,  6.75132628e-01,\n        -1.35451792e+00, -3.52766762e-01, -2.50167034e-01,\n         6.47825418e-01, -1.88160901e-01, -5.93143753e-01,\n         2.56079951e+00,  1.31099888e+00,  2.18355438e-01,\n         5.59959931e-01,  5.58836869e-01,  9.50185100e-01,\n         2.55202395e-01,  1.00747948e-01,  3.49494705e-01,\n        -1.85724916e+00, -2.24347798e+00,  2.84153173e+00,\n        -2.85109297e-01,  3.21333798e-01, -2.95772015e-01,\n         6.11039638e-01, -3.33660738e-01,  1.75571687e+00],\n       [-1.53945617e+00,  1.16330390e+00,  1.79418876e+00,\n         6.88658487e-01, -1.37571941e+00, -2.56975254e-01,\n        -7.21202798e-01,  7.50072256e-01, -4.95351465e-01,\n         2.98931337e-01, -6.58921350e-01,  2.40776896e+00,\n        -1.73013062e+00, -1.00246324e+00,  6.77851350e-01,\n        -1.08929736e-01,  1.15061544e+00,  1.72013767e-01,\n        -1.67216561e+00,  2.14199471e+00, -1.31442222e+00,\n         1.22916931e+00,  8.29330455e-01, -4.70473230e-02,\n        -5.34382486e-01, -2.73912270e-02, -8.44031943e-01,\n        -1.89877304e+00, -1.64667679e+00, -1.90756872e+00],\n       [-3.12509590e-02,  2.89795743e-01, -9.92263580e-01,\n        -3.01677527e-02,  1.81015339e+00, -4.97493924e-01,\n        -1.52604747e+00, -6.21253611e-01,  1.83359754e+00,\n         2.09820737e+00, -8.53816999e-01,  2.30040604e-01,\n         3.83033523e-01, -1.15546245e+00, -1.19832534e+00,\n         8.20736796e-01,  9.71950428e-01,  1.29580909e+00,\n        -1.17969287e-01,  1.11604840e+00,  2.41383812e-01,\n         1.72362860e+00,  2.46111094e+00,  1.17940886e-01,\n         2.35534527e+00,  8.60576583e-01,  1.90218716e+00,\n        -9.65061474e-01,  8.74081091e-01, -2.74172196e-01],\n       [ 7.30879954e-01,  1.55598750e+00,  2.24274477e+00,\n        -4.27714771e-01, -9.89907232e-01,  2.60062778e-01,\n        -9.07217041e-01, -9.97454678e-01,  2.76347515e-01,\n        -7.25026260e-01, -1.51105152e+00, -5.46917364e-01,\n         4.95048376e-01,  3.91346013e-01,  5.19509782e-01,\n         5.24035835e-01,  1.36477686e+00,  5.86042162e-01,\n        -5.36506764e-01, -3.01772228e+00, -4.49429382e-02,\n        -6.39072364e-01,  2.14107859e-01,  1.19468088e+00,\n         6.91098484e-01,  4.38662615e-01, -8.95227138e-01,\n         1.25443246e-01,  1.31709814e+00,  1.57785825e+00],\n       [-1.46724329e+00,  1.96266663e+00,  7.42109554e-01,\n        -4.64712404e-01,  4.85779931e-01,  5.18755738e-01,\n         7.24520712e-03,  3.34433656e-01,  1.37366881e+00,\n         8.20594279e-01, -3.54880026e-01,  6.93293180e-03,\n        -1.41889236e+00, -1.05591389e+00, -8.88199358e-02,\n         1.47785645e+00, -4.19553589e-01, -9.54763885e-01,\n         2.89824063e-01,  4.95509117e-01, -6.15830952e-01,\n         7.41554813e-01,  5.40286064e-01, -2.00209973e+00,\n         1.69073220e+00,  1.15659411e+00, -3.19082276e-01,\n         2.29900151e-01,  1.11615794e+00,  1.17524614e+00],\n       [ 1.24742844e-01, -6.99544598e-01,  1.46248949e+00,\n         1.38239196e-01, -1.66249404e-01, -1.11024394e-02,\n         2.24627986e-01,  9.95667535e-01, -3.36121491e-01,\n        -1.44063858e+00, -5.97729231e-01,  1.74227252e-01,\n         3.49149698e-01, -2.55084425e-01, -9.03748086e-02,\n         1.50771885e+00,  5.40581911e-01, -2.48192570e-01,\n         2.38190987e-01, -1.23029007e+00, -3.22301135e-01,\n        -3.20476749e-01, -1.01354854e-01, -9.79847218e-01,\n        -1.25762810e+00,  7.08574491e-01, -4.98432243e-01,\n         7.04283046e-01,  7.57495988e-02,  1.31853231e+00],\n       [ 8.55719183e-02, -6.03486244e-01, -5.98401336e-01,\n        -2.07729625e+00,  1.22523393e+00, -3.91809970e-01,\n        -1.68820847e+00,  3.19264754e-01,  3.99113823e-01,\n        -4.64305007e-01,  7.32244965e-01, -5.64680853e-01,\n        -1.26113955e+00,  1.06488727e+00, -1.49496727e+00,\n        -1.95047177e+00, -8.30462695e-01, -6.62270756e-01,\n        -1.11449645e+00, -1.13852696e-01,  3.71284260e-01,\n        -8.12148196e-01,  1.82645456e-01,  7.44949310e-01,\n        -3.68791406e-01,  1.23339701e+00, -1.14908412e+00,\n        -2.71856938e-01, -2.02259459e+00, -2.46095496e-01]])"
     },
     "execution_count": 46,
     "metadata": {},
     "output_type": "execute_result"
    }
   ],
   "source": [
    "image"
   ]
  },
  {
   "cell_type": "code",
   "execution_count": 47,
   "metadata": {
    "colab": {
     "base_uri": "https://localhost:8080/",
     "height": 283
    },
    "id": "56tKC5vG4cxa",
    "outputId": "9539d94a-9cd6-48ab-869b-842c02b8aaa4",
    "ExecuteTime": {
     "start_time": "2023-04-19T14:39:00.926732Z",
     "end_time": "2023-04-19T14:39:01.086279Z"
    }
   },
   "outputs": [
    {
     "data": {
      "text/plain": "<matplotlib.image.AxesImage at 0x7fbaf8cd7ac0>"
     },
     "execution_count": 47,
     "metadata": {},
     "output_type": "execute_result"
    },
    {
     "data": {
      "text/plain": "<matplotlib.colorbar.Colorbar at 0x7fbaf8dc2cb0>"
     },
     "execution_count": 47,
     "metadata": {},
     "output_type": "execute_result"
    },
    {
     "data": {
      "text/plain": "<Figure size 640x480 with 2 Axes>",
      "image/png": "[encoded data removed]"
     },
     "metadata": {},
     "output_type": "display_data"
    }
   ],
   "source": [
    "# Let's create a Gaussian image of 30x30\n",
    "image = np.random.randn(30, 30)\n",
    "\n",
    "# Let's plot the image with imshow, and select a colormap\n",
    "plt.imshow(image, cmap=plt.cm.gray)    \n",
    "\n",
    "# Let's add a colorbar as an index\n",
    "plt.colorbar()"
   ]
  },
  {
   "cell_type": "markdown",
   "metadata": {
    "id": "cG2JtGYy7IbF"
   },
   "source": [
    "You can find a complete source of colormaps [here](https://matplotlib.org/3.1.1/gallery/color/colormap_reference.html)"
   ]
  },
  {
   "cell_type": "markdown",
   "metadata": {
    "id": "znj0f0e570Nh"
   },
   "source": [
    "Changing the colormap"
   ]
  },
  {
   "cell_type": "code",
   "execution_count": 52,
   "metadata": {
    "id": "UXpCQZf0yuLA",
    "ExecuteTime": {
     "start_time": "2023-04-19T14:41:30.591534Z",
     "end_time": "2023-04-19T14:41:30.745012Z"
    }
   },
   "outputs": [
    {
     "data": {
      "text/plain": "<matplotlib.image.AxesImage at 0x7fbb08bf98a0>"
     },
     "execution_count": 52,
     "metadata": {},
     "output_type": "execute_result"
    },
    {
     "data": {
      "text/plain": "<matplotlib.colorbar.Colorbar at 0x7fbab852bd00>"
     },
     "execution_count": 52,
     "metadata": {},
     "output_type": "execute_result"
    },
    {
     "data": {
      "text/plain": "<Figure size 640x480 with 2 Axes>",
      "image/png": "[encoded data removed]"
     },
     "metadata": {},
     "output_type": "display_data"
    }
   ],
   "source": [
    "# Let's create a Gaussian image of 30x30\n",
    "image = np.random.randn(30, 30)\n",
    "\n",
    "# Let's plot the image with imshow, and select a colormap\n",
    "plt.imshow(image, cmap=plt.cm.gist_rainbow)\n",
    "\n",
    "# Let's add a colorbar as an index\n",
    "plt.colorbar() "
   ]
  },
  {
   "cell_type": "markdown",
   "metadata": {
    "id": "UJmYaAuy_m0S"
   },
   "source": [
    "## NumPy indexing\n",
    "\n",
    "Another recap from the previous sessions. Remember that indices always in NumPy begin at O.\n",
    "\n",
    "![alt text](https://scipy-lectures.org/_images/numpy_indexing.png)"
   ]
  },
  {
   "cell_type": "markdown",
   "metadata": {
    "id": "vn1Xi7DoGjAi"
   },
   "source": [
    "### Access items of array"
   ]
  },
  {
   "cell_type": "code",
   "execution_count": 53,
   "metadata": {
    "colab": {
     "base_uri": "https://localhost:8080/",
     "height": 35
    },
    "id": "bkkIIHO3yuH2",
    "outputId": "9b6da06d-d49f-474f-97f8-70fe501c26fd",
    "ExecuteTime": {
     "start_time": "2023-04-19T14:42:06.772339Z",
     "end_time": "2023-04-19T14:42:06.799468Z"
    }
   },
   "outputs": [
    {
     "data": {
      "text/plain": "array([ 0,  1,  2,  3,  4,  5,  6,  7,  8,  9, 10])"
     },
     "execution_count": 53,
     "metadata": {},
     "output_type": "execute_result"
    }
   ],
   "source": [
    "a = np.arange(11)\n",
    "a"
   ]
  },
  {
   "cell_type": "code",
   "execution_count": 54,
   "metadata": {
    "colab": {
     "base_uri": "https://localhost:8080/",
     "height": 35
    },
    "id": "7CXd2PoHyuEs",
    "outputId": "30c47a8c-8562-4f5f-cd94-043cbf0a570b",
    "ExecuteTime": {
     "start_time": "2023-04-19T14:42:07.535583Z",
     "end_time": "2023-04-19T14:42:07.574194Z"
    }
   },
   "outputs": [
    {
     "data": {
      "text/plain": "(0, 2, 10)"
     },
     "execution_count": 54,
     "metadata": {},
     "output_type": "execute_result"
    }
   ],
   "source": [
    "a[0], a[2], a[-1]"
   ]
  },
  {
   "cell_type": "markdown",
   "metadata": {
    "id": "TLVdiyLKG4vk"
   },
   "source": [
    "### Reverse a sequence"
   ]
  },
  {
   "cell_type": "code",
   "execution_count": 55,
   "metadata": {
    "colab": {
     "base_uri": "https://localhost:8080/",
     "height": 35
    },
    "id": "Atje-VRPyuCd",
    "outputId": "ad1ecd24-8ee4-4617-a3da-fae2271e7bc0",
    "ExecuteTime": {
     "start_time": "2023-04-19T14:42:11.247525Z",
     "end_time": "2023-04-19T14:42:11.290954Z"
    }
   },
   "outputs": [
    {
     "data": {
      "text/plain": "array([10,  9,  8,  7,  6,  5,  4,  3,  2,  1,  0])"
     },
     "execution_count": 55,
     "metadata": {},
     "output_type": "execute_result"
    }
   ],
   "source": [
    "a[::-1]"
   ]
  },
  {
   "cell_type": "markdown",
   "metadata": {
    "id": "hQ02eFb0HC5I"
   },
   "source": [
    "### Multidimensional arrays\n",
    "\n",
    "Indexes in multidimensional arrays are tupes of integers.\n",
    "\n",
    "In 2D, the first dimension corresponds to rows, the second to columns.\n",
    "F\n",
    "or multidimensional `a` or `a[0]` is interpreted by taking all elements in the unspecified dimensions."
   ]
  },
  {
   "cell_type": "markdown",
   "metadata": {
    "id": "0t6GSGcRJF3z"
   },
   "source": [
    "#### Indexing"
   ]
  },
  {
   "cell_type": "code",
   "execution_count": 56,
   "metadata": {
    "colab": {
     "base_uri": "https://localhost:8080/",
     "height": 72
    },
    "id": "fno7qXUNyuA1",
    "outputId": "2a3d307b-e6c5-4fdc-d9c3-aaa091088d64",
    "ExecuteTime": {
     "start_time": "2023-04-19T14:42:26.449333Z",
     "end_time": "2023-04-19T14:42:26.482633Z"
    }
   },
   "outputs": [
    {
     "data": {
      "text/plain": "array([[0, 0, 0],\n       [0, 1, 0],\n       [0, 0, 2]])"
     },
     "execution_count": 56,
     "metadata": {},
     "output_type": "execute_result"
    }
   ],
   "source": [
    "a = np.diag(np.arange(3))\n",
    "a"
   ]
  },
  {
   "cell_type": "code",
   "execution_count": 57,
   "metadata": {
    "colab": {
     "base_uri": "https://localhost:8080/",
     "height": 35
    },
    "id": "3sNpHgqsH9rj",
    "outputId": "e85ff05a-c5a4-41b6-c7c2-7d179d896e3c",
    "ExecuteTime": {
     "start_time": "2023-04-19T14:42:28.118842Z",
     "end_time": "2023-04-19T14:42:28.143263Z"
    }
   },
   "outputs": [
    {
     "data": {
      "text/plain": "0"
     },
     "execution_count": 57,
     "metadata": {},
     "output_type": "execute_result"
    }
   ],
   "source": [
    "# Second line, second column\n",
    "a[2, 1]"
   ]
  },
  {
   "cell_type": "code",
   "execution_count": 58,
   "metadata": {
    "colab": {
     "base_uri": "https://localhost:8080/",
     "height": 72
    },
    "id": "zHDywLQ6IGD7",
    "outputId": "cf3467a5-9a64-45b2-b4b2-1ab274d7b9e8",
    "ExecuteTime": {
     "start_time": "2023-04-19T14:42:33.256372Z",
     "end_time": "2023-04-19T14:42:33.279011Z"
    }
   },
   "outputs": [
    {
     "data": {
      "text/plain": "array([[ 0,  0,  0],\n       [ 0,  1,  0],\n       [ 0, 99,  2]])"
     },
     "execution_count": 58,
     "metadata": {},
     "output_type": "execute_result"
    }
   ],
   "source": [
    "# Change for number 99 in Third line, Second column\n",
    "a[2, 1] = 99 \n",
    "a"
   ]
  },
  {
   "cell_type": "code",
   "execution_count": 59,
   "metadata": {
    "colab": {
     "base_uri": "https://localhost:8080/",
     "height": 35
    },
    "id": "UF43IBNFIU8t",
    "outputId": "fe48048d-cecb-4ff6-d7ee-2685561f634a",
    "ExecuteTime": {
     "start_time": "2023-04-19T14:42:37.170562Z",
     "end_time": "2023-04-19T14:42:37.213239Z"
    }
   },
   "outputs": [
    {
     "data": {
      "text/plain": "array([0, 1, 0])"
     },
     "execution_count": 59,
     "metadata": {},
     "output_type": "execute_result"
    }
   ],
   "source": [
    "# Retrieve second line\n",
    "a[1]"
   ]
  },
  {
   "cell_type": "markdown",
   "metadata": {
    "id": "mK0iebYJJIgB"
   },
   "source": [
    "#### Slicing\n",
    "By default, the three slice components are not required: by default, start is 0, end is the last and step is 1"
   ]
  },
  {
   "cell_type": "code",
   "execution_count": 60,
   "metadata": {
    "colab": {
     "base_uri": "https://localhost:8080/",
     "height": 35
    },
    "id": "yFlbsrfpJBMY",
    "outputId": "e5eb81a8-8a01-4d4a-be4d-6678d036d262",
    "ExecuteTime": {
     "start_time": "2023-04-19T14:43:23.216135Z",
     "end_time": "2023-04-19T14:43:23.239551Z"
    }
   },
   "outputs": [
    {
     "data": {
      "text/plain": "array([ 0,  1,  2,  3,  4,  5,  6,  7,  8,  9, 10])"
     },
     "execution_count": 60,
     "metadata": {},
     "output_type": "execute_result"
    }
   ],
   "source": [
    "a = np.arange(11)\n",
    "a"
   ]
  },
  {
   "cell_type": "code",
   "execution_count": 61,
   "metadata": {
    "colab": {
     "base_uri": "https://localhost:8080/",
     "height": 35
    },
    "id": "J5nHuJBvJXgk",
    "outputId": "84227555-eaf3-4d0d-87a9-3dcf2945385b",
    "ExecuteTime": {
     "start_time": "2023-04-19T14:43:27.877764Z",
     "end_time": "2023-04-19T14:43:27.903647Z"
    }
   },
   "outputs": [
    {
     "data": {
      "text/plain": "array([ 0,  2,  4,  6,  8, 10])"
     },
     "execution_count": 61,
     "metadata": {},
     "output_type": "execute_result"
    }
   ],
   "source": [
    "# [start:end:step]\n",
    "a[0:11:2] "
   ]
  },
  {
   "cell_type": "code",
   "execution_count": 62,
   "metadata": {
    "colab": {
     "base_uri": "https://localhost:8080/",
     "height": 35
    },
    "id": "bk3T4W3aJiV7",
    "outputId": "0a245362-933c-456f-a5ec-46d9cc26e5ba",
    "ExecuteTime": {
     "start_time": "2023-04-19T14:43:43.084078Z",
     "end_time": "2023-04-19T14:43:43.108629Z"
    }
   },
   "outputs": [
    {
     "data": {
      "text/plain": "array([0, 1, 2, 3, 4, 5, 6, 7, 8, 9])"
     },
     "execution_count": 62,
     "metadata": {},
     "output_type": "execute_result"
    }
   ],
   "source": [
    "# The last index is never included!!!!!\n",
    "a[:10]"
   ]
  },
  {
   "cell_type": "code",
   "execution_count": 63,
   "metadata": {
    "colab": {
     "base_uri": "https://localhost:8080/",
     "height": 108
    },
    "id": "7q4OX6QYJxBM",
    "outputId": "d69ec486-bc0b-498a-8fe5-825413e9d020",
    "ExecuteTime": {
     "start_time": "2023-04-19T14:44:11.110813Z",
     "end_time": "2023-04-19T14:44:11.135059Z"
    }
   },
   "outputs": [
    {
     "data": {
      "text/plain": "array([1, 2])"
     },
     "execution_count": 63,
     "metadata": {},
     "output_type": "execute_result"
    },
    {
     "name": "stdout",
     "output_type": "stream",
     "text": [
      "\n",
      "\n"
     ]
    },
    {
     "data": {
      "text/plain": "array([ 0,  2,  4,  6,  8, 10])"
     },
     "execution_count": 63,
     "metadata": {},
     "output_type": "execute_result"
    },
    {
     "name": "stdout",
     "output_type": "stream",
     "text": [
      "\n",
      "\n"
     ]
    },
    {
     "data": {
      "text/plain": "array([ 3,  4,  5,  6,  7,  8,  9, 10])"
     },
     "execution_count": 63,
     "metadata": {},
     "output_type": "execute_result"
    }
   ],
   "source": [
    "# By default, start is 0, end is the last and step is 1.\n",
    "a[1:3]\n",
    "print(\"\\n\")\n",
    "a[::2]\n",
    "print(\"\\n\")\n",
    "a[3:]"
   ]
  },
  {
   "cell_type": "code",
   "execution_count": 64,
   "metadata": {
    "colab": {
     "base_uri": "https://localhost:8080/",
     "height": 72
    },
    "id": "85oFjNNeLddf",
    "outputId": "50f7f13e-7dca-45b1-9106-4f8f91657040",
    "ExecuteTime": {
     "start_time": "2023-04-19T14:44:16.110495Z",
     "end_time": "2023-04-19T14:44:16.149038Z"
    }
   },
   "outputs": [
    {
     "data": {
      "text/plain": "array([ 0, -4, -4, -4,  4,  5,  6,  7,  8,  9, 10])"
     },
     "execution_count": 64,
     "metadata": {},
     "output_type": "execute_result"
    },
    {
     "name": "stdout",
     "output_type": "stream",
     "text": [
      "\n",
      "\n"
     ]
    },
    {
     "data": {
      "text/plain": "array([99, -4, -4, -4, 99,  5,  6,  7, 99,  9, 10])"
     },
     "execution_count": 64,
     "metadata": {},
     "output_type": "execute_result"
    }
   ],
   "source": [
    "# Combination of assignment and slicing\n",
    "a[1:4] = -4\n",
    "a\n",
    "print(\"\\n\")\n",
    "a[::4] = 99\n",
    "a"
   ]
  },
  {
   "cell_type": "markdown",
   "metadata": {
    "id": "ftZ5TSvFMNbA"
   },
   "source": [
    "## Copies vs. views\n",
    "\n",
    "A slicing operation creates a view on the original array, which is just a way of accessing array data. Thus the original array is not copied in memory. You can use \n",
    "\n",
    "`np.may_share_memory()` to check if two arrays share the same memory block. Note however, that this uses heuristics and may give you false positives."
   ]
  },
  {
   "cell_type": "code",
   "execution_count": 65,
   "metadata": {
    "colab": {
     "base_uri": "https://localhost:8080/",
     "height": 35
    },
    "id": "8GzHgbAGOwpq",
    "outputId": "51cb159e-2f9f-4db4-f3b9-9a2f50876082",
    "ExecuteTime": {
     "start_time": "2023-04-19T14:44:20.143996Z",
     "end_time": "2023-04-19T14:44:20.171745Z"
    }
   },
   "outputs": [
    {
     "data": {
      "text/plain": "array([0, 1, 2, 3, 4, 5, 6, 7, 8, 9])"
     },
     "execution_count": 65,
     "metadata": {},
     "output_type": "execute_result"
    }
   ],
   "source": [
    "a = np.arange(10)\n",
    "a"
   ]
  },
  {
   "cell_type": "code",
   "execution_count": 66,
   "metadata": {
    "colab": {
     "base_uri": "https://localhost:8080/",
     "height": 35
    },
    "id": "5G4etoGlO3ri",
    "outputId": "e2f2091f-3bdb-4686-b982-89c4be425797",
    "ExecuteTime": {
     "start_time": "2023-04-19T14:44:22.323299Z",
     "end_time": "2023-04-19T14:44:22.348970Z"
    }
   },
   "outputs": [
    {
     "data": {
      "text/plain": "array([0, 2, 4, 6, 8])"
     },
     "execution_count": 66,
     "metadata": {},
     "output_type": "execute_result"
    }
   ],
   "source": [
    "b = a[::2]\n",
    "b"
   ]
  },
  {
   "cell_type": "code",
   "execution_count": 67,
   "metadata": {
    "colab": {
     "base_uri": "https://localhost:8080/",
     "height": 35
    },
    "id": "thqBGoNNO7QM",
    "outputId": "dd19b579-13f2-4933-a489-74e459bece7d",
    "ExecuteTime": {
     "start_time": "2023-04-19T14:44:29.116718Z",
     "end_time": "2023-04-19T14:44:29.141810Z"
    }
   },
   "outputs": [
    {
     "data": {
      "text/plain": "True"
     },
     "execution_count": 67,
     "metadata": {},
     "output_type": "execute_result"
    }
   ],
   "source": [
    "np.may_share_memory(a, b)"
   ]
  },
  {
   "cell_type": "code",
   "execution_count": 68,
   "metadata": {
    "colab": {
     "base_uri": "https://localhost:8080/",
     "height": 35
    },
    "id": "lcd0otSTPAPA",
    "outputId": "60b47877-ef21-4190-a569-3754ce2da6eb",
    "ExecuteTime": {
     "start_time": "2023-04-19T14:44:34.481814Z",
     "end_time": "2023-04-19T14:44:34.512324Z"
    }
   },
   "outputs": [
    {
     "data": {
      "text/plain": "array([12,  2,  4,  6,  8])"
     },
     "execution_count": 68,
     "metadata": {},
     "output_type": "execute_result"
    }
   ],
   "source": [
    "# When we change an index in the view\n",
    "b[0] = 12\n",
    "b"
   ]
  },
  {
   "cell_type": "code",
   "execution_count": 69,
   "metadata": {
    "colab": {
     "base_uri": "https://localhost:8080/",
     "height": 35
    },
    "id": "X0nrJBJePGKB",
    "outputId": "da6e368b-d5a6-4825-da62-25f74b30b3ec",
    "ExecuteTime": {
     "start_time": "2023-04-19T14:44:38.079115Z",
     "end_time": "2023-04-19T14:44:38.102642Z"
    }
   },
   "outputs": [
    {
     "data": {
      "text/plain": "array([12,  1,  2,  3,  4,  5,  6,  7,  8,  9])"
     },
     "execution_count": 69,
     "metadata": {},
     "output_type": "execute_result"
    }
   ],
   "source": [
    "# The original is modified as well\n",
    "a"
   ]
  },
  {
   "cell_type": "code",
   "execution_count": 70,
   "metadata": {
    "colab": {
     "base_uri": "https://localhost:8080/",
     "height": 35
    },
    "id": "1Mlj0HoGPMu_",
    "outputId": "38963681-e7e3-4beb-8562-c795da237f08",
    "ExecuteTime": {
     "start_time": "2023-04-19T14:44:41.442878Z",
     "end_time": "2023-04-19T14:44:41.467356Z"
    }
   },
   "outputs": [
    {
     "data": {
      "text/plain": "array([12,  1,  2,  3,  4,  5,  6,  7,  8,  9])"
     },
     "execution_count": 70,
     "metadata": {},
     "output_type": "execute_result"
    }
   ],
   "source": [
    "# We need to create a copy() to put changes that are not reflected in the original\n",
    "d = a.copy()\n",
    "d"
   ]
  },
  {
   "cell_type": "code",
   "execution_count": 71,
   "metadata": {
    "colab": {
     "base_uri": "https://localhost:8080/",
     "height": 35
    },
    "id": "pCNnkSjZPYAN",
    "outputId": "2a030a3f-7ec4-414a-f912-b6b89723fc42",
    "ExecuteTime": {
     "start_time": "2023-04-19T14:44:42.435753Z",
     "end_time": "2023-04-19T14:44:42.460601Z"
    }
   },
   "outputs": [
    {
     "data": {
      "text/plain": "array([0, 1, 2, 3, 4, 5, 6, 7, 8, 9])"
     },
     "execution_count": 71,
     "metadata": {},
     "output_type": "execute_result"
    }
   ],
   "source": [
    "d[0] = 0\n",
    "d"
   ]
  },
  {
   "cell_type": "code",
   "execution_count": 72,
   "metadata": {
    "ExecuteTime": {
     "start_time": "2023-04-19T14:44:44.048366Z",
     "end_time": "2023-04-19T14:44:44.071759Z"
    }
   },
   "outputs": [
    {
     "data": {
      "text/plain": "array([12,  1,  2,  3,  4,  5,  6,  7,  8,  9])"
     },
     "execution_count": 72,
     "metadata": {},
     "output_type": "execute_result"
    }
   ],
   "source": [
    "a"
   ]
  },
  {
   "cell_type": "code",
   "execution_count": 73,
   "metadata": {
    "colab": {
     "base_uri": "https://localhost:8080/",
     "height": 35
    },
    "id": "lF8RvgnbPbGY",
    "outputId": "f54fd43f-7867-4d94-a888-a9f50f52f661",
    "ExecuteTime": {
     "start_time": "2023-04-19T14:44:46.508482Z",
     "end_time": "2023-04-19T14:44:46.558972Z"
    }
   },
   "outputs": [
    {
     "data": {
      "text/plain": "False"
     },
     "execution_count": 73,
     "metadata": {},
     "output_type": "execute_result"
    }
   ],
   "source": [
    "# The copy is in a different memory allocation\n",
    "np.may_share_memory(a, d)"
   ]
  },
  {
   "cell_type": "markdown",
   "metadata": {
    "id": "Y9-A4vihPnYa"
   },
   "source": [
    "## Fancy or Advanced array indexing\n",
    "NumPy arrays can be indexed with slices, but as well with boolean or integer arrays (masks). This method creates copies rather than views."
   ]
  },
  {
   "cell_type": "markdown",
   "metadata": {
    "id": "lZnesr5oP33v"
   },
   "source": [
    "### Mask with boolean array"
   ]
  },
  {
   "cell_type": "code",
   "execution_count": 74,
   "metadata": {
    "colab": {
     "base_uri": "https://localhost:8080/",
     "height": 35
    },
    "id": "4Gropd5mQdeN",
    "outputId": "dec6c208-aae9-4fa3-a1f3-7d9a5322db17",
    "ExecuteTime": {
     "start_time": "2023-04-19T14:45:13.997423Z",
     "end_time": "2023-04-19T14:45:14.021810Z"
    }
   },
   "outputs": [
    {
     "data": {
      "text/plain": "array([10,  3,  8,  0, 19, 10, 11,  9, 10,  6,  0, 20, 12,  7, 14])"
     },
     "execution_count": 74,
     "metadata": {},
     "output_type": "execute_result"
    }
   ],
   "source": [
    "# We start with getting a seed and a random integer array\n",
    "np.random.seed(3)\n",
    "a = np.random.randint(0, 21, 15)\n",
    "a"
   ]
  },
  {
   "cell_type": "code",
   "execution_count": 75,
   "metadata": {
    "colab": {
     "base_uri": "https://localhost:8080/",
     "height": 54
    },
    "id": "iif5rTnlRJq_",
    "outputId": "9acc60d8-f4d9-4d4f-cdc5-faf98d432cf6",
    "ExecuteTime": {
     "start_time": "2023-04-19T14:45:14.695828Z",
     "end_time": "2023-04-19T14:45:14.720177Z"
    }
   },
   "outputs": [
    {
     "data": {
      "text/plain": "array([False,  True, False,  True, False, False, False,  True, False,\n        True,  True, False,  True, False, False])"
     },
     "execution_count": 75,
     "metadata": {},
     "output_type": "execute_result"
    }
   ],
   "source": [
    "# Create a Boolean array when the residuals of a/3 are 0\n",
    "a % 3 == 0"
   ]
  },
  {
   "cell_type": "code",
   "execution_count": 76,
   "metadata": {
    "colab": {
     "base_uri": "https://localhost:8080/",
     "height": 35
    },
    "id": "FPqTfbBsRX0T",
    "outputId": "a9051c8b-f644-4bfd-a4d7-6b03a2e675bb",
    "ExecuteTime": {
     "start_time": "2023-04-19T14:45:15.589084Z",
     "end_time": "2023-04-19T14:45:15.625096Z"
    }
   },
   "outputs": [
    {
     "data": {
      "text/plain": "array([ 3,  0,  9,  6,  0, 12])"
     },
     "execution_count": 76,
     "metadata": {},
     "output_type": "execute_result"
    }
   ],
   "source": [
    "# Create a Boolean mask when the residuals of a/3 are 0\n",
    "mask = (a % 3 == 0)\n",
    "\n",
    "# Extract a sub-array with the mask\n",
    "extract_from_a = a[mask] # or,  a[a%3==0]\n",
    "extract_from_a           "
   ]
  },
  {
   "cell_type": "markdown",
   "metadata": {
    "id": "N69Cv2l7QT4q"
   },
   "source": [
    "### Mask with integer array"
   ]
  },
  {
   "cell_type": "code",
   "execution_count": 77,
   "metadata": {
    "colab": {
     "base_uri": "https://localhost:8080/",
     "height": 35
    },
    "id": "2zIBMf87R3B_",
    "outputId": "490d0c22-1d96-4f06-d547-a47d5f4d2b5e",
    "ExecuteTime": {
     "start_time": "2023-04-19T14:45:47.942117Z",
     "end_time": "2023-04-19T14:45:47.970491Z"
    }
   },
   "outputs": [
    {
     "data": {
      "text/plain": "array([ 0, 10, 20, 30, 40, 50, 60, 70, 80, 90])"
     },
     "execution_count": 77,
     "metadata": {},
     "output_type": "execute_result"
    }
   ],
   "source": [
    "a = np.arange(0, 100, 10)\n",
    "a"
   ]
  },
  {
   "cell_type": "code",
   "execution_count": 78,
   "metadata": {
    "colab": {
     "base_uri": "https://localhost:8080/",
     "height": 35
    },
    "id": "EvyXBT0-R6_z",
    "outputId": "06328cad-ebea-441c-b21a-1c61592c5555",
    "ExecuteTime": {
     "start_time": "2023-04-19T14:45:52.339119Z",
     "end_time": "2023-04-19T14:45:52.371256Z"
    }
   },
   "outputs": [
    {
     "data": {
      "text/plain": "array([20, 30, 20, 40, 20])"
     },
     "execution_count": 78,
     "metadata": {},
     "output_type": "execute_result"
    }
   ],
   "source": [
    "# Indexing by position\n",
    "# [2, 3, 2, 4, 2] is a Python list\n",
    "b = a[[2, 3, 2, 4, 2]]\n",
    "b"
   ]
  },
  {
   "cell_type": "markdown",
   "metadata": {
    "id": "5JSAWHgTSrgx"
   },
   "source": [
    "Some more fancy indexing:\n",
    "\n",
    "![alt text](https://scipy-lectures.org/_images/numpy_fancy_indexing.png)"
   ]
  },
  {
   "cell_type": "code",
   "execution_count": 80,
   "metadata": {
    "ExecuteTime": {
     "start_time": "2023-04-19T14:46:30.890365Z",
     "end_time": "2023-04-19T14:46:30.915791Z"
    }
   },
   "outputs": [],
   "source": [
    "# Let's create a Gaussian image of 30x30\n",
    "image = np.random.randn(10, 15)"
   ]
  },
  {
   "cell_type": "code",
   "execution_count": 81,
   "metadata": {
    "ExecuteTime": {
     "start_time": "2023-04-19T14:46:37.577353Z",
     "end_time": "2023-04-19T14:46:37.603291Z"
    }
   },
   "outputs": [
    {
     "data": {
      "text/plain": "array([[-1.31386475e+00,  8.84622380e-01,  8.81318042e-01,\n         1.70957306e+00,  5.00336422e-02, -4.04677415e-01,\n        -5.45359948e-01, -1.54647732e+00,  9.82367434e-01,\n        -1.10106763e+00, -1.18504653e+00, -2.05649899e-01,\n         1.48614836e+00,  2.36716267e-01, -1.02378514e+00],\n       [-7.12993200e-01,  6.25244966e-01, -1.60513363e-01,\n        -7.68836350e-01, -2.30030722e-01,  7.45056266e-01,\n         1.97611078e+00, -1.24412333e+00, -6.26416911e-01,\n        -8.03766095e-01, -2.41908317e+00, -9.23792022e-01,\n        -1.02387576e+00,  1.12397796e+00, -1.31914233e-01],\n       [-1.62328545e+00,  6.46675452e-01, -3.56270759e-01,\n        -1.74314104e+00, -5.96649642e-01, -5.88594380e-01,\n        -8.73882298e-01,  2.97138154e-02, -2.24825777e+00,\n        -2.67761865e-01,  1.01318344e+00,  8.52797841e-01,\n         1.10818750e+00,  1.11939066e+00,  1.48754313e+00],\n       [-1.11830068e+00,  8.45833407e-01, -1.86088953e+00,\n        -6.02885104e-01, -1.91447204e+00,  1.04814751e+00,\n         1.33373782e+00, -1.97414679e-01,  1.77464503e+00,\n        -6.74727510e-01,  1.50616865e-01,  1.52945703e-01,\n        -1.06419527e+00,  4.37946611e-01,  1.93897846e+00],\n       [-1.02493087e+00,  8.99338446e-01, -1.54506852e-01,\n         1.76962730e+00,  4.83788348e-01,  6.76216400e-01,\n         6.43163281e-01,  2.49086707e-01, -1.39576350e+00,\n         1.39166291e+00, -1.37066901e+00,  2.38563192e-01,\n         6.14077088e-01, -8.37912273e-01,  1.45063214e-01],\n       [ 1.16788229e+00, -2.41044701e-02, -8.88657418e-01,\n        -2.91573775e+00, -9.71840503e-01, -5.91078738e-01,\n        -5.16417368e-01, -9.59996180e-01,  3.77295234e-01,\n        -5.74708420e-01, -1.09454334e-01,  6.79071600e-01,\n        -8.55437169e-01, -3.00206075e-01,  2.15814934e+00],\n       [ 8.74285723e-01, -1.29353663e+00, -7.97409382e-02,\n         5.64485518e-01,  1.23347104e+00,  1.48986395e-01,\n        -5.30582144e-01, -7.30526644e-01,  6.45061985e-01,\n         3.13060374e-01, -5.16647925e-01, -1.89071666e-01,\n        -4.16198015e-01,  7.24657658e-01, -6.89960677e-01],\n       [ 4.86414475e-01,  8.51518950e-01,  4.86249326e-01,\n        -8.34239851e-01,  1.34499246e+00, -6.78212679e-01,\n         4.26435074e-01, -7.53334794e-01, -1.74411025e+00,\n         2.25750266e-01,  2.87035165e-01, -7.74409606e-02,\n         2.76068497e-01, -6.48410888e-01, -7.37464837e-01],\n       [-1.68090099e-01,  1.90927681e+00,  8.14814541e-01,\n        -5.19991754e-01,  5.58713205e-01, -4.78364660e-01,\n        -4.57260787e-01,  8.59284008e-01, -5.25264645e-01,\n        -1.67563463e+00, -9.06494701e-01,  8.84152062e-02,\n         1.28007821e-01,  1.24161652e+00, -7.16025798e-01],\n       [ 7.31465736e-01,  4.25966750e-01, -1.49013772e-01,\n         8.35843902e-01,  4.92118903e-01, -8.62308487e-01,\n         1.07168393e+00, -1.22090192e+00,  5.96154331e-02,\n         2.44416199e-03,  4.24635721e-01, -7.25433480e-01,\n        -3.49433856e-02, -1.40620027e-01,  9.97088367e-01]])"
     },
     "execution_count": 81,
     "metadata": {},
     "output_type": "execute_result"
    }
   ],
   "source": [
    "image"
   ]
  },
  {
   "cell_type": "code",
   "execution_count": 82,
   "metadata": {
    "ExecuteTime": {
     "start_time": "2023-04-19T14:46:47.183505Z",
     "end_time": "2023-04-19T14:46:47.206838Z"
    }
   },
   "outputs": [],
   "source": [
    "def print_elems(arr):\n",
    "    nrows = arr.shape[0]\n",
    "    ncols = arr.shape[1]\n",
    "    for i in range(nrows):\n",
    "        for j in range(ncols):\n",
    "            print(arr[i,j])"
   ]
  },
  {
   "cell_type": "code",
   "execution_count": 83,
   "metadata": {
    "ExecuteTime": {
     "start_time": "2023-04-19T14:46:47.933822Z",
     "end_time": "2023-04-19T14:46:47.957897Z"
    }
   },
   "outputs": [
    {
     "data": {
      "text/plain": "-1.3138647533626822"
     },
     "execution_count": 83,
     "metadata": {},
     "output_type": "execute_result"
    }
   ],
   "source": [
    "image[0][0]"
   ]
  },
  {
   "cell_type": "code",
   "execution_count": 84,
   "metadata": {
    "ExecuteTime": {
     "start_time": "2023-04-19T14:46:49.031548Z",
     "end_time": "2023-04-19T14:46:49.064353Z"
    }
   },
   "outputs": [
    {
     "name": "stdout",
     "output_type": "stream",
     "text": [
      "-1.3138647533626822\n",
      "0.8846223804995846\n",
      "0.8813180422075299\n",
      "1.7095730636529485\n",
      "0.05003364217686021\n",
      "-0.40467741460089085\n",
      "-0.5453599476195304\n",
      "-1.5464773155829683\n",
      "0.9823674342581601\n",
      "-1.1010676301114757\n",
      "-1.1850465270201729\n",
      "-0.20564989942254108\n",
      "1.4861483550745902\n",
      "0.23671626722691233\n",
      "-1.0237851399264681\n",
      "-0.7129932001120494\n",
      "0.6252449661628293\n",
      "-0.1605133631869239\n",
      "-0.76883635031923\n",
      "-0.23003072227793905\n",
      "0.7450562664053708\n",
      "1.9761107831263025\n",
      "-1.244123328955937\n",
      "-0.6264169111883692\n",
      "-0.8037660945765764\n",
      "-2.4190831731786697\n",
      "-0.9237920216957886\n",
      "-1.0238757608428377\n",
      "1.1239779589574683\n",
      "-0.1319142328009009\n",
      "-1.6232854458352473\n",
      "0.6466754522701722\n",
      "-0.35627075944674486\n",
      "-1.7431410369534588\n",
      "-0.5966496416841992\n",
      "-0.5885943796882429\n",
      "-0.8738822977622994\n",
      "0.02971381536101662\n",
      "-2.248257767576606\n",
      "-0.2677618648460562\n",
      "1.0131834418864945\n",
      "0.8527978409541495\n",
      "1.1081874999349925\n",
      "1.1193906553188915\n",
      "1.4875431319925396\n",
      "-1.118300684400365\n",
      "0.845833407057182\n",
      "-1.8608895289421137\n",
      "-0.6028851040072183\n",
      "-1.9144720434058142\n",
      "1.0481475122462551\n",
      "1.3337378194424867\n",
      "-0.1974146791582499\n",
      "1.7746450314059348\n",
      "-0.6747275103117134\n",
      "0.15061686536502228\n",
      "0.15294570276248168\n",
      "-1.0641952739365244\n",
      "0.43794661128008205\n",
      "1.9389784604004943\n",
      "-1.0249308746080865\n",
      "0.8993384458408142\n",
      "-0.15450685189928748\n",
      "1.7696273032937428\n",
      "0.48378834760053036\n",
      "0.6762163998630621\n",
      "0.6431632805957185\n",
      "0.2490867067258341\n",
      "-1.395763502640675\n",
      "1.3916629077448075\n",
      "-1.3706690125520165\n",
      "0.2385631924059012\n",
      "0.6140770877540938\n",
      "-0.8379122727022941\n",
      "0.14506321410352788\n",
      "1.1678822863016418\n",
      "-0.024104470071230052\n",
      "-0.8886574178529492\n",
      "-2.915737751792712\n",
      "-0.9718405025726093\n",
      "-0.5910787384858753\n",
      "-0.516417367788474\n",
      "-0.9599961802272166\n",
      "0.37729523411320043\n",
      "-0.5747084204927051\n",
      "-0.10945433388060835\n",
      "0.679071599825507\n",
      "-0.8554371686598813\n",
      "-0.30020607451955067\n",
      "2.1581493420569187\n",
      "0.8742857226105203\n",
      "-1.2935366319217843\n",
      "-0.0797409381855717\n",
      "0.564485518294597\n",
      "1.2334710444531563\n",
      "0.14898639468099084\n",
      "-0.5305821443551044\n",
      "-0.7305266436933302\n",
      "0.6450619849839091\n",
      "0.31306037402410647\n",
      "-0.5166479247981497\n",
      "-0.1890716664357128\n",
      "-0.416198015130148\n",
      "0.7246576582394498\n",
      "-0.6899606773138658\n",
      "0.48641447526861514\n",
      "0.8515189504847083\n",
      "0.48624932610831123\n",
      "-0.8342398506717849\n",
      "1.344992456622238\n",
      "-0.6782126793411518\n",
      "0.4264350744400753\n",
      "-0.7533347935974722\n",
      "-1.744110250641094\n",
      "0.2257502662458201\n",
      "0.28703516469482443\n",
      "-0.07744096055993933\n",
      "0.27606849724284316\n",
      "-0.6484108883064816\n",
      "-0.7374648374587585\n",
      "-0.16809009862191446\n",
      "1.909276809266566\n",
      "0.8148145412513252\n",
      "-0.5199917540975635\n",
      "0.5587132048474234\n",
      "-0.4783646604432103\n",
      "-0.45726078713830676\n",
      "0.8592840082646755\n",
      "-0.5252646451556335\n",
      "-1.6756346341845954\n",
      "-0.9064947005743282\n",
      "0.08841520620200595\n",
      "0.12800782111610085\n",
      "1.2416165181585397\n",
      "-0.7160257975174191\n",
      "0.7314657358201054\n",
      "0.42596674984978417\n",
      "-0.14901377221550174\n",
      "0.8358439021819729\n",
      "0.4921189029137968\n",
      "-0.8623084869368738\n",
      "1.071683929782794\n",
      "-1.2209019198961333\n",
      "0.059615433090329545\n",
      "0.0024441619892351415\n",
      "0.4246357208598569\n",
      "-0.7254334803985123\n",
      "-0.0349433855520906\n",
      "-0.14062002701591825\n",
      "0.9970883670936515\n"
     ]
    }
   ],
   "source": [
    "print_elems(image)"
   ]
  },
  {
   "cell_type": "code",
   "execution_count": 85,
   "metadata": {
    "ExecuteTime": {
     "start_time": "2023-04-19T14:46:49.764835Z",
     "end_time": "2023-04-19T14:46:49.788245Z"
    }
   },
   "outputs": [
    {
     "data": {
      "text/plain": "15"
     },
     "execution_count": 85,
     "metadata": {},
     "output_type": "execute_result"
    }
   ],
   "source": [
    "image.shape[1]"
   ]
  },
  {
   "cell_type": "code",
   "execution_count": 86,
   "metadata": {
    "ExecuteTime": {
     "start_time": "2023-04-19T14:46:50.733138Z",
     "end_time": "2023-04-19T14:46:50.758402Z"
    }
   },
   "outputs": [
    {
     "data": {
      "text/plain": "array([-1.31386475,  0.88462238,  0.88131804,  1.70957306,  0.05003364,\n       -0.40467741, -0.54535995, -1.54647732,  0.98236743, -1.10106763,\n       -1.18504653, -0.2056499 ,  1.48614836,  0.23671627, -1.02378514])"
     },
     "execution_count": 86,
     "metadata": {},
     "output_type": "execute_result"
    }
   ],
   "source": [
    "image[0]"
   ]
  },
  {
   "cell_type": "markdown",
   "metadata": {
    "id": "ahd5rpqz6rbX"
   },
   "source": [
    "## For what do we use all this??\n",
    "\n",
    "See this [amazing visual presentation](http://jalammar.github.io/visual-numpy/):\n",
    "\n",
    "* For matrix computation\n",
    "* Data representation\n",
    "* Audio\n",
    "* Image\n",
    "* Text\n",
    "\n",
    "\n",
    "# This notebook ends here, go to the Image basic manipulation notebook for more fun!\n"
   ]
  }
 ],
 "metadata": {
  "accelerator": "GPU",
  "colab": {
   "collapsed_sections": [
    "hDV-_nrtqtO2",
    "g38RFzmI1Pq0"
   ],
   "name": "05_Array_image_manipulation.ipynb",
   "provenance": [],
   "toc_visible": true
  },
  "kernelspec": {
   "display_name": "Python 3 (ipykernel)",
   "language": "python",
   "name": "python3"
  },
  "language_info": {
   "codemirror_mode": {
    "name": "ipython",
    "version": 3
   },
   "file_extension": ".py",
   "mimetype": "text/x-python",
   "name": "python",
   "nbconvert_exporter": "python",
   "pygments_lexer": "ipython3",
   "version": "3.9.12"
  }
 },
 "nbformat": 4,
 "nbformat_minor": 4
}
